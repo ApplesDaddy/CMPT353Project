{
 "cells": [
  {
   "cell_type": "code",
   "execution_count": 61,
   "metadata": {},
   "outputs": [
    {
     "name": "stderr",
     "output_type": "stream",
     "text": [
      "C:\\Users\\17788\\AppData\\Local\\Temp\\ipykernel_18128\\3215715801.py:17: FutureWarning: The argument 'infer_datetime_format' is deprecated and will be removed in a future version. A strict version of it is now the default, see https://pandas.pydata.org/pdeps/0004-consistent-to-datetime-parsing.html. You can safely remove this argument.\n",
      "  songs_df = pd.read_csv(\"datasets/full_data.csv\", usecols=KEEP_COLS_MODEL, parse_dates=True, infer_datetime_format=True)\n"
     ]
    },
    {
     "data": {
      "text/html": [
       "<div>\n",
       "<style scoped>\n",
       "    .dataframe tbody tr th:only-of-type {\n",
       "        vertical-align: middle;\n",
       "    }\n",
       "\n",
       "    .dataframe tbody tr th {\n",
       "        vertical-align: top;\n",
       "    }\n",
       "\n",
       "    .dataframe thead th {\n",
       "        text-align: right;\n",
       "    }\n",
       "</style>\n",
       "<table border=\"1\" class=\"dataframe\">\n",
       "  <thead>\n",
       "    <tr style=\"text-align: right;\">\n",
       "      <th></th>\n",
       "      <th>artist</th>\n",
       "      <th>seeds</th>\n",
       "      <th>key</th>\n",
       "      <th>tempo</th>\n",
       "      <th>duration_ms</th>\n",
       "      <th>time_signature</th>\n",
       "    </tr>\n",
       "    <tr>\n",
       "      <th>track</th>\n",
       "      <th></th>\n",
       "      <th></th>\n",
       "      <th></th>\n",
       "      <th></th>\n",
       "      <th></th>\n",
       "      <th></th>\n",
       "    </tr>\n",
       "  </thead>\n",
       "  <tbody>\n",
       "    <tr>\n",
       "      <th>'Till I Collapse</th>\n",
       "      <td>Eminem</td>\n",
       "      <td>['aggressive']</td>\n",
       "      <td>1</td>\n",
       "      <td>171.447</td>\n",
       "      <td>297787</td>\n",
       "      <td>4</td>\n",
       "    </tr>\n",
       "    <tr>\n",
       "      <th>St. Anger</th>\n",
       "      <td>Metallica</td>\n",
       "      <td>['aggressive']</td>\n",
       "      <td>2</td>\n",
       "      <td>185.252</td>\n",
       "      <td>441133</td>\n",
       "      <td>4</td>\n",
       "    </tr>\n",
       "    <tr>\n",
       "      <th>Speedin'</th>\n",
       "      <td>Rick Ross</td>\n",
       "      <td>['aggressive']</td>\n",
       "      <td>1</td>\n",
       "      <td>100.059</td>\n",
       "      <td>204960</td>\n",
       "      <td>4</td>\n",
       "    </tr>\n",
       "    <tr>\n",
       "      <th>Bamboo Banga</th>\n",
       "      <td>M.I.A.</td>\n",
       "      <td>['aggressive', 'fun', 'sexy', 'energetic']</td>\n",
       "      <td>9</td>\n",
       "      <td>125.984</td>\n",
       "      <td>298360</td>\n",
       "      <td>4</td>\n",
       "    </tr>\n",
       "    <tr>\n",
       "      <th>Die MF Die</th>\n",
       "      <td>Dope</td>\n",
       "      <td>['aggressive']</td>\n",
       "      <td>5</td>\n",
       "      <td>126.020</td>\n",
       "      <td>186067</td>\n",
       "      <td>4</td>\n",
       "    </tr>\n",
       "    <tr>\n",
       "      <th>...</th>\n",
       "      <td>...</td>\n",
       "      <td>...</td>\n",
       "      <td>...</td>\n",
       "      <td>...</td>\n",
       "      <td>...</td>\n",
       "      <td>...</td>\n",
       "    </tr>\n",
       "    <tr>\n",
       "      <th>Secret</th>\n",
       "      <td>Quietdrive</td>\n",
       "      <td>['transparent']</td>\n",
       "      <td>0</td>\n",
       "      <td>167.996</td>\n",
       "      <td>258373</td>\n",
       "      <td>4</td>\n",
       "    </tr>\n",
       "    <tr>\n",
       "      <th>The Last of the Rest Was the End</th>\n",
       "      <td>Medications</td>\n",
       "      <td>['transparent']</td>\n",
       "      <td>2</td>\n",
       "      <td>144.844</td>\n",
       "      <td>324000</td>\n",
       "      <td>3</td>\n",
       "    </tr>\n",
       "    <tr>\n",
       "      <th>Lovechild</th>\n",
       "      <td>Daniel Lanois</td>\n",
       "      <td>['transparent']</td>\n",
       "      <td>10</td>\n",
       "      <td>79.476</td>\n",
       "      <td>516280</td>\n",
       "      <td>4</td>\n",
       "    </tr>\n",
       "    <tr>\n",
       "      <th>Last Inhale</th>\n",
       "      <td>Tapage</td>\n",
       "      <td>['transparent']</td>\n",
       "      <td>2</td>\n",
       "      <td>160.011</td>\n",
       "      <td>324258</td>\n",
       "      <td>4</td>\n",
       "    </tr>\n",
       "    <tr>\n",
       "      <th>Unfold</th>\n",
       "      <td>Message To Bears</td>\n",
       "      <td>['translucent']</td>\n",
       "      <td>0</td>\n",
       "      <td>96.970</td>\n",
       "      <td>268440</td>\n",
       "      <td>4</td>\n",
       "    </tr>\n",
       "  </tbody>\n",
       "</table>\n",
       "<p>61627 rows × 6 columns</p>\n",
       "</div>"
      ],
      "text/plain": [
       "                                            artist  \\\n",
       "track                                                \n",
       "'Till I Collapse                            Eminem   \n",
       "St. Anger                                Metallica   \n",
       "Speedin'                                 Rick Ross   \n",
       "Bamboo Banga                                M.I.A.   \n",
       "Die MF Die                                    Dope   \n",
       "...                                            ...   \n",
       "Secret                                  Quietdrive   \n",
       "The Last of the Rest Was the End       Medications   \n",
       "Lovechild                            Daniel Lanois   \n",
       "Last Inhale                                 Tapage   \n",
       "Unfold                            Message To Bears   \n",
       "\n",
       "                                                                       seeds  \\\n",
       "track                                                                          \n",
       "'Till I Collapse                                              ['aggressive']   \n",
       "St. Anger                                                     ['aggressive']   \n",
       "Speedin'                                                      ['aggressive']   \n",
       "Bamboo Banga                      ['aggressive', 'fun', 'sexy', 'energetic']   \n",
       "Die MF Die                                                    ['aggressive']   \n",
       "...                                                                      ...   \n",
       "Secret                                                       ['transparent']   \n",
       "The Last of the Rest Was the End                             ['transparent']   \n",
       "Lovechild                                                    ['transparent']   \n",
       "Last Inhale                                                  ['transparent']   \n",
       "Unfold                                                       ['translucent']   \n",
       "\n",
       "                                  key    tempo  duration_ms  time_signature  \n",
       "track                                                                        \n",
       "'Till I Collapse                    1  171.447       297787               4  \n",
       "St. Anger                           2  185.252       441133               4  \n",
       "Speedin'                            1  100.059       204960               4  \n",
       "Bamboo Banga                        9  125.984       298360               4  \n",
       "Die MF Die                          5  126.020       186067               4  \n",
       "...                               ...      ...          ...             ...  \n",
       "Secret                              0  167.996       258373               4  \n",
       "The Last of the Rest Was the End    2  144.844       324000               3  \n",
       "Lovechild                          10   79.476       516280               4  \n",
       "Last Inhale                         2  160.011       324258               4  \n",
       "Unfold                              0   96.970       268440               4  \n",
       "\n",
       "[61627 rows x 6 columns]"
      ]
     },
     "execution_count": 61,
     "metadata": {},
     "output_type": "execute_result"
    }
   ],
   "source": [
    "import pandas as pd\n",
    "import numpy as np\n",
    "from sklearn.model_selection import train_test_split\n",
    "from sklearn.ensemble import RandomForestClassifier\n",
    "from sklearn.datasets import make_multilabel_classification\n",
    "\n",
    "# adapted from Tom's work\n",
    "# the following imports a local dataset named \"full_data.csv\" from the datasets folder\n",
    "KEEP_COLS_MASTER = [\"track\", \"artist\", \"seeds\", \"key\", \"length\",\n",
    "             \"tempo\", \"time_signature\", \"duration_ms\"]\n",
    "\n",
    "KEEP_COLS_MODEL = [\"track\", \"artist\", \"duration_ms\", \"tempo\",\n",
    "                   \"key\", \"time_signature\", \"seeds\"]\n",
    "\n",
    "# songs_df = pd.read_csv(\"data_moods.csv\", usecols=KEEP_COLS_MASTER)\n",
    "# make names the indices\n",
    "songs_df = pd.read_csv(\"datasets/full_data.csv\", usecols=KEEP_COLS_MODEL, parse_dates=True, infer_datetime_format=True)\n",
    "songs_df.set_index(\"track\", inplace=True)\n",
    "songs_df\n"
   ]
  },
  {
   "cell_type": "code",
   "execution_count": 88,
   "metadata": {},
   "outputs": [
    {
     "name": "stderr",
     "output_type": "stream",
     "text": [
      "C:\\Users\\17788\\AppData\\Local\\Temp\\ipykernel_18128\\575948357.py:5: FutureWarning: Series.__getitem__ treating keys as positions is deprecated. In a future version, integer keys will always be treated as labels (consistent with DataFrame behavior). To access a value by position, use `ser.iloc[pos]`\n",
      "  num_classes = len(eval(songs_df['seeds'][index]))\n"
     ]
    },
    {
     "data": {
      "text/plain": [
       "44"
      ]
     },
     "execution_count": 88,
     "metadata": {},
     "output_type": "execute_result"
    }
   ],
   "source": [
    "# This cell is me\n",
    "# credit: https://stackoverflow.com/questions/40710858/find-index-of-longest-sub-list-in-2d-list\n",
    "num_rows = songs_df[songs_df.columns[0]].count()\n",
    "index = max((len(l), i) for i, l in enumerate((songs_df['seeds']).apply(eval)))[1]\n",
    "num_classes = len(eval(songs_df['seeds'][index]))\n",
    "num_classes"
   ]
  },
  {
   "cell_type": "code",
   "execution_count": 83,
   "metadata": {},
   "outputs": [],
   "source": [
    "# This cell is me\n",
    "X_pre = songs_df.drop(columns=[\"seeds\"])\n",
    "y_pre = songs_df[\"seeds\"]\n",
    "\n",
    "X, y = make_multilabel_classification(n_samples=num_rows, n_features=len(KEEP_COLS_MODEL), n_classes=num_classes)"
   ]
  },
  {
   "cell_type": "code",
   "execution_count": 84,
   "metadata": {},
   "outputs": [],
   "source": [
    "# use a constant random state for reproducibility\n",
    "X_train, X_test, y_train, y_test = train_test_split(X, y,\n",
    "                                                    test_size=0.33, random_state=42)"
   ]
  },
  {
   "cell_type": "code",
   "execution_count": 90,
   "metadata": {},
   "outputs": [],
   "source": [
    "rfc = RandomForestClassifier()\n",
    "classification = rfc.fit(X_train, y_train)"
   ]
  },
  {
   "cell_type": "code",
   "execution_count": 91,
   "metadata": {},
   "outputs": [
    {
     "data": {
      "text/plain": [
       "0.2712297782367114"
      ]
     },
     "execution_count": 91,
     "metadata": {},
     "output_type": "execute_result"
    }
   ],
   "source": [
    "classification.score(X_test, y_test) \n"
   ]
  },
  {
   "cell_type": "code",
   "execution_count": null,
   "metadata": {},
   "outputs": [],
   "source": []
  }
 ],
 "metadata": {
  "kernelspec": {
   "display_name": "Python 3",
   "language": "python",
   "name": "python3"
  },
  "language_info": {
   "codemirror_mode": {
    "name": "ipython",
    "version": 3
   },
   "file_extension": ".py",
   "mimetype": "text/x-python",
   "name": "python",
   "nbconvert_exporter": "python",
   "pygments_lexer": "ipython3",
   "version": "3.11.4"
  }
 },
 "nbformat": 4,
 "nbformat_minor": 2
}
