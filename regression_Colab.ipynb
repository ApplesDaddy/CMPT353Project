{
  "cells": [
    {
      "cell_type": "markdown",
      "metadata": {
        "colab_type": "text",
        "id": "view-in-github"
      },
      "source": [
        "<a href=\"https://colab.research.google.com/github/ApplesDaddy/CMPT353Project/blob/rf_regress/regression_Colab.ipynb\" target=\"_parent\"><img src=\"https://colab.research.google.com/assets/colab-badge.svg\" alt=\"Open In Colab\"/></a>"
      ]
    },
    {
      "cell_type": "code",
      "execution_count": null,
      "metadata": {
        "id": "bzcUpUE0AXlq"
      },
      "outputs": [],
      "source": [
        "!conda --version\n",
        "!which python\n",
        "!python --version\n",
        "!echo $PYTHONPATH"
      ]
    },
    {
      "cell_type": "code",
      "execution_count": null,
      "metadata": {
        "id": "QIv0kXQnAezZ"
      },
      "outputs": [],
      "source": [
        "%env PYTHONPATH=\n",
        "!echo $PYTHONPATH"
      ]
    },
    {
      "cell_type": "code",
      "execution_count": null,
      "metadata": {
        "id": "TTsbGKwlAhxg"
      },
      "outputs": [],
      "source": [
        "# most recent install link from https://docs.anaconda.com/free/miniconda/miniconda-other-installer-links/\n",
        "!wget https://repo.anaconda.com/miniconda/Miniconda3-py310_24.1.2-0-Linux-x86_64.sh\n",
        "!chmod +x Miniconda3-py310_24.1.2-0-Linux-x86_64.sh\n",
        "!bash ./Miniconda3-py310_24.1.2-0-Linux-x86_64.sh -b -f -p /usr/local/"
      ]
    },
    {
      "cell_type": "code",
      "execution_count": null,
      "metadata": {
        "id": "40iV0gF0Al-o"
      },
      "outputs": [],
      "source": [
        "!which conda\n",
        "!conda --version\n",
        "!conda install --channel defaults conda python=3.10 --yes\n",
        "!conda update --channel defaults --all --yes"
      ]
    },
    {
      "cell_type": "code",
      "execution_count": null,
      "metadata": {
        "id": "Ne1dBaTMAqsW"
      },
      "outputs": [],
      "source": [
        "import sys\n",
        "sys.path"
      ]
    },
    {
      "cell_type": "code",
      "execution_count": null,
      "metadata": {
        "id": "zaZIJrlwAy7i"
      },
      "outputs": [],
      "source": [
        "!ls /usr/local/lib/python3.10/dist-packages"
      ]
    },
    {
      "cell_type": "code",
      "execution_count": null,
      "metadata": {
        "id": "jyuXRyuBA2UT"
      },
      "outputs": [],
      "source": [
        "sys.path.append(\"/usr/local/lib/python3.10/site-packages\")\n",
        "!conda config --add channels conda-forge"
      ]
    },
    {
      "cell_type": "code",
      "execution_count": null,
      "metadata": {
        "id": "pOjhPejhA8iJ"
      },
      "outputs": [],
      "source": [
        "!conda create --name musemotion_meta -c conda-forge numpy pandas matplotlib scikit-learn wandb pytorch torchvision torchaudio pytorch-cuda=12.1 -c pytorch -c nvidia"
      ]
    },
    {
      "cell_type": "code",
      "execution_count": null,
      "metadata": {
        "id": "YM_HmfVOB722"
      },
      "outputs": [],
      "source": [
        "# !conda init\n",
        "# !conda activate musemotion_meta\n",
        "# credit https://stackoverflow.com/a/62668276\n",
        "%%shell\n",
        "eval \"$(conda shell.bash hook)\"\n",
        "conda activate musemotion_meta"
      ]
    },
    {
      "cell_type": "code",
      "execution_count": 1,
      "metadata": {
        "id": "2-X7wsr0joNk"
      },
      "outputs": [],
      "source": [
        "pip install wandb -qU"
      ]
    },
    {
      "cell_type": "markdown",
      "metadata": {
        "id": "FvutftOdALuH"
      },
      "source": [
        "# Load data\n",
        "_Note_: tempo = bpm"
      ]
    },
    {
      "cell_type": "code",
      "execution_count": 2,
      "metadata": {
        "colab": {
          "base_uri": "https://localhost:8080/",
          "height": 344
        },
        "id": "8aCwHWW6DruL",
        "outputId": "b6504fce-d58f-4bb5-8187-d08f0f5b9c34"
      },
      "outputs": [
        {
          "name": "stdout",
          "output_type": "stream",
          "text": [
            "mkdir: cannot create directory ‘datasets’: File exists\n"
          ]
        },
        {
          "ename": "KeyboardInterrupt",
          "evalue": "",
          "output_type": "error",
          "traceback": [
            "\u001b[0;31m---------------------------------------------------------------------------\u001b[0m",
            "\u001b[0;31mKeyboardInterrupt\u001b[0m                         Traceback (most recent call last)",
            "\u001b[0;32m<ipython-input-2-01bb9eb65035>\u001b[0m in \u001b[0;36m<cell line: 4>\u001b[0;34m()\u001b[0m\n\u001b[1;32m      2\u001b[0m \u001b[0;32mimport\u001b[0m \u001b[0murllib\u001b[0m\u001b[0;34m.\u001b[0m\u001b[0mrequest\u001b[0m\u001b[0;34m\u001b[0m\u001b[0;34m\u001b[0m\u001b[0m\n\u001b[1;32m      3\u001b[0m \u001b[0murllib\u001b[0m\u001b[0;34m.\u001b[0m\u001b[0mrequest\u001b[0m\u001b[0;34m.\u001b[0m\u001b[0murlretrieve\u001b[0m\u001b[0;34m(\u001b[0m\u001b[0;34m\"https://github.com/zhandrew4/music-mood-classification/raw/main/muse_v3.csv\"\u001b[0m\u001b[0;34m,\u001b[0m \u001b[0;34m\"datasets/muse_v3.csv\"\u001b[0m\u001b[0;34m)\u001b[0m\u001b[0;34m\u001b[0m\u001b[0;34m\u001b[0m\u001b[0m\n\u001b[0;32m----> 4\u001b[0;31m \u001b[0murllib\u001b[0m\u001b[0;34m.\u001b[0m\u001b[0mrequest\u001b[0m\u001b[0;34m.\u001b[0m\u001b[0murlretrieve\u001b[0m\u001b[0;34m(\u001b[0m\u001b[0;34m\"https://github.com/zhandrew4/music-mood-classification/raw/main/full_data.csv\"\u001b[0m\u001b[0;34m,\u001b[0m \u001b[0;34m\"datasets/full_data.csv\"\u001b[0m\u001b[0;34m)\u001b[0m\u001b[0;34m\u001b[0m\u001b[0;34m\u001b[0m\u001b[0m\n\u001b[0m",
            "\u001b[0;32m/usr/lib/python3.10/urllib/request.py\u001b[0m in \u001b[0;36murlretrieve\u001b[0;34m(url, filename, reporthook, data)\u001b[0m\n\u001b[1;32m    239\u001b[0m     \u001b[0murl_type\u001b[0m\u001b[0;34m,\u001b[0m \u001b[0mpath\u001b[0m \u001b[0;34m=\u001b[0m \u001b[0m_splittype\u001b[0m\u001b[0;34m(\u001b[0m\u001b[0murl\u001b[0m\u001b[0;34m)\u001b[0m\u001b[0;34m\u001b[0m\u001b[0;34m\u001b[0m\u001b[0m\n\u001b[1;32m    240\u001b[0m \u001b[0;34m\u001b[0m\u001b[0m\n\u001b[0;32m--> 241\u001b[0;31m     \u001b[0;32mwith\u001b[0m \u001b[0mcontextlib\u001b[0m\u001b[0;34m.\u001b[0m\u001b[0mclosing\u001b[0m\u001b[0;34m(\u001b[0m\u001b[0murlopen\u001b[0m\u001b[0;34m(\u001b[0m\u001b[0murl\u001b[0m\u001b[0;34m,\u001b[0m \u001b[0mdata\u001b[0m\u001b[0;34m)\u001b[0m\u001b[0;34m)\u001b[0m \u001b[0;32mas\u001b[0m \u001b[0mfp\u001b[0m\u001b[0;34m:\u001b[0m\u001b[0;34m\u001b[0m\u001b[0;34m\u001b[0m\u001b[0m\n\u001b[0m\u001b[1;32m    242\u001b[0m         \u001b[0mheaders\u001b[0m \u001b[0;34m=\u001b[0m \u001b[0mfp\u001b[0m\u001b[0;34m.\u001b[0m\u001b[0minfo\u001b[0m\u001b[0;34m(\u001b[0m\u001b[0;34m)\u001b[0m\u001b[0;34m\u001b[0m\u001b[0;34m\u001b[0m\u001b[0m\n\u001b[1;32m    243\u001b[0m \u001b[0;34m\u001b[0m\u001b[0m\n",
            "\u001b[0;32m/usr/lib/python3.10/urllib/request.py\u001b[0m in \u001b[0;36murlopen\u001b[0;34m(url, data, timeout, cafile, capath, cadefault, context)\u001b[0m\n\u001b[1;32m    214\u001b[0m     \u001b[0;32melse\u001b[0m\u001b[0;34m:\u001b[0m\u001b[0;34m\u001b[0m\u001b[0;34m\u001b[0m\u001b[0m\n\u001b[1;32m    215\u001b[0m         \u001b[0mopener\u001b[0m \u001b[0;34m=\u001b[0m \u001b[0m_opener\u001b[0m\u001b[0;34m\u001b[0m\u001b[0;34m\u001b[0m\u001b[0m\n\u001b[0;32m--> 216\u001b[0;31m     \u001b[0;32mreturn\u001b[0m \u001b[0mopener\u001b[0m\u001b[0;34m.\u001b[0m\u001b[0mopen\u001b[0m\u001b[0;34m(\u001b[0m\u001b[0murl\u001b[0m\u001b[0;34m,\u001b[0m \u001b[0mdata\u001b[0m\u001b[0;34m,\u001b[0m \u001b[0mtimeout\u001b[0m\u001b[0;34m)\u001b[0m\u001b[0;34m\u001b[0m\u001b[0;34m\u001b[0m\u001b[0m\n\u001b[0m\u001b[1;32m    217\u001b[0m \u001b[0;34m\u001b[0m\u001b[0m\n\u001b[1;32m    218\u001b[0m \u001b[0;32mdef\u001b[0m \u001b[0minstall_opener\u001b[0m\u001b[0;34m(\u001b[0m\u001b[0mopener\u001b[0m\u001b[0;34m)\u001b[0m\u001b[0;34m:\u001b[0m\u001b[0;34m\u001b[0m\u001b[0;34m\u001b[0m\u001b[0m\n",
            "\u001b[0;32m/usr/lib/python3.10/urllib/request.py\u001b[0m in \u001b[0;36mopen\u001b[0;34m(self, fullurl, data, timeout)\u001b[0m\n\u001b[1;32m    517\u001b[0m \u001b[0;34m\u001b[0m\u001b[0m\n\u001b[1;32m    518\u001b[0m         \u001b[0msys\u001b[0m\u001b[0;34m.\u001b[0m\u001b[0maudit\u001b[0m\u001b[0;34m(\u001b[0m\u001b[0;34m'urllib.Request'\u001b[0m\u001b[0;34m,\u001b[0m \u001b[0mreq\u001b[0m\u001b[0;34m.\u001b[0m\u001b[0mfull_url\u001b[0m\u001b[0;34m,\u001b[0m \u001b[0mreq\u001b[0m\u001b[0;34m.\u001b[0m\u001b[0mdata\u001b[0m\u001b[0;34m,\u001b[0m \u001b[0mreq\u001b[0m\u001b[0;34m.\u001b[0m\u001b[0mheaders\u001b[0m\u001b[0;34m,\u001b[0m \u001b[0mreq\u001b[0m\u001b[0;34m.\u001b[0m\u001b[0mget_method\u001b[0m\u001b[0;34m(\u001b[0m\u001b[0;34m)\u001b[0m\u001b[0;34m)\u001b[0m\u001b[0;34m\u001b[0m\u001b[0;34m\u001b[0m\u001b[0m\n\u001b[0;32m--> 519\u001b[0;31m         \u001b[0mresponse\u001b[0m \u001b[0;34m=\u001b[0m \u001b[0mself\u001b[0m\u001b[0;34m.\u001b[0m\u001b[0m_open\u001b[0m\u001b[0;34m(\u001b[0m\u001b[0mreq\u001b[0m\u001b[0;34m,\u001b[0m \u001b[0mdata\u001b[0m\u001b[0;34m)\u001b[0m\u001b[0;34m\u001b[0m\u001b[0;34m\u001b[0m\u001b[0m\n\u001b[0m\u001b[1;32m    520\u001b[0m \u001b[0;34m\u001b[0m\u001b[0m\n\u001b[1;32m    521\u001b[0m         \u001b[0;31m# post-process response\u001b[0m\u001b[0;34m\u001b[0m\u001b[0;34m\u001b[0m\u001b[0m\n",
            "\u001b[0;32m/usr/lib/python3.10/urllib/request.py\u001b[0m in \u001b[0;36m_open\u001b[0;34m(self, req, data)\u001b[0m\n\u001b[1;32m    534\u001b[0m \u001b[0;34m\u001b[0m\u001b[0m\n\u001b[1;32m    535\u001b[0m         \u001b[0mprotocol\u001b[0m \u001b[0;34m=\u001b[0m \u001b[0mreq\u001b[0m\u001b[0;34m.\u001b[0m\u001b[0mtype\u001b[0m\u001b[0;34m\u001b[0m\u001b[0;34m\u001b[0m\u001b[0m\n\u001b[0;32m--> 536\u001b[0;31m         result = self._call_chain(self.handle_open, protocol, protocol +\n\u001b[0m\u001b[1;32m    537\u001b[0m                                   '_open', req)\n\u001b[1;32m    538\u001b[0m         \u001b[0;32mif\u001b[0m \u001b[0mresult\u001b[0m\u001b[0;34m:\u001b[0m\u001b[0;34m\u001b[0m\u001b[0;34m\u001b[0m\u001b[0m\n",
            "\u001b[0;32m/usr/lib/python3.10/urllib/request.py\u001b[0m in \u001b[0;36m_call_chain\u001b[0;34m(self, chain, kind, meth_name, *args)\u001b[0m\n\u001b[1;32m    494\u001b[0m         \u001b[0;32mfor\u001b[0m \u001b[0mhandler\u001b[0m \u001b[0;32min\u001b[0m \u001b[0mhandlers\u001b[0m\u001b[0;34m:\u001b[0m\u001b[0;34m\u001b[0m\u001b[0;34m\u001b[0m\u001b[0m\n\u001b[1;32m    495\u001b[0m             \u001b[0mfunc\u001b[0m \u001b[0;34m=\u001b[0m \u001b[0mgetattr\u001b[0m\u001b[0;34m(\u001b[0m\u001b[0mhandler\u001b[0m\u001b[0;34m,\u001b[0m \u001b[0mmeth_name\u001b[0m\u001b[0;34m)\u001b[0m\u001b[0;34m\u001b[0m\u001b[0;34m\u001b[0m\u001b[0m\n\u001b[0;32m--> 496\u001b[0;31m             \u001b[0mresult\u001b[0m \u001b[0;34m=\u001b[0m \u001b[0mfunc\u001b[0m\u001b[0;34m(\u001b[0m\u001b[0;34m*\u001b[0m\u001b[0margs\u001b[0m\u001b[0;34m)\u001b[0m\u001b[0;34m\u001b[0m\u001b[0;34m\u001b[0m\u001b[0m\n\u001b[0m\u001b[1;32m    497\u001b[0m             \u001b[0;32mif\u001b[0m \u001b[0mresult\u001b[0m \u001b[0;32mis\u001b[0m \u001b[0;32mnot\u001b[0m \u001b[0;32mNone\u001b[0m\u001b[0;34m:\u001b[0m\u001b[0;34m\u001b[0m\u001b[0;34m\u001b[0m\u001b[0m\n\u001b[1;32m    498\u001b[0m                 \u001b[0;32mreturn\u001b[0m \u001b[0mresult\u001b[0m\u001b[0;34m\u001b[0m\u001b[0;34m\u001b[0m\u001b[0m\n",
            "\u001b[0;32m/usr/lib/python3.10/urllib/request.py\u001b[0m in \u001b[0;36mhttps_open\u001b[0;34m(self, req)\u001b[0m\n\u001b[1;32m   1389\u001b[0m \u001b[0;34m\u001b[0m\u001b[0m\n\u001b[1;32m   1390\u001b[0m         \u001b[0;32mdef\u001b[0m \u001b[0mhttps_open\u001b[0m\u001b[0;34m(\u001b[0m\u001b[0mself\u001b[0m\u001b[0;34m,\u001b[0m \u001b[0mreq\u001b[0m\u001b[0;34m)\u001b[0m\u001b[0;34m:\u001b[0m\u001b[0;34m\u001b[0m\u001b[0;34m\u001b[0m\u001b[0m\n\u001b[0;32m-> 1391\u001b[0;31m             return self.do_open(http.client.HTTPSConnection, req,\n\u001b[0m\u001b[1;32m   1392\u001b[0m                 context=self._context, check_hostname=self._check_hostname)\n\u001b[1;32m   1393\u001b[0m \u001b[0;34m\u001b[0m\u001b[0m\n",
            "\u001b[0;32m/usr/lib/python3.10/urllib/request.py\u001b[0m in \u001b[0;36mdo_open\u001b[0;34m(self, http_class, req, **http_conn_args)\u001b[0m\n\u001b[1;32m   1350\u001b[0m             \u001b[0;32mexcept\u001b[0m \u001b[0mOSError\u001b[0m \u001b[0;32mas\u001b[0m \u001b[0merr\u001b[0m\u001b[0;34m:\u001b[0m \u001b[0;31m# timeout error\u001b[0m\u001b[0;34m\u001b[0m\u001b[0;34m\u001b[0m\u001b[0m\n\u001b[1;32m   1351\u001b[0m                 \u001b[0;32mraise\u001b[0m \u001b[0mURLError\u001b[0m\u001b[0;34m(\u001b[0m\u001b[0merr\u001b[0m\u001b[0;34m)\u001b[0m\u001b[0;34m\u001b[0m\u001b[0;34m\u001b[0m\u001b[0m\n\u001b[0;32m-> 1352\u001b[0;31m             \u001b[0mr\u001b[0m \u001b[0;34m=\u001b[0m \u001b[0mh\u001b[0m\u001b[0;34m.\u001b[0m\u001b[0mgetresponse\u001b[0m\u001b[0;34m(\u001b[0m\u001b[0;34m)\u001b[0m\u001b[0;34m\u001b[0m\u001b[0;34m\u001b[0m\u001b[0m\n\u001b[0m\u001b[1;32m   1353\u001b[0m         \u001b[0;32mexcept\u001b[0m\u001b[0;34m:\u001b[0m\u001b[0;34m\u001b[0m\u001b[0;34m\u001b[0m\u001b[0m\n\u001b[1;32m   1354\u001b[0m             \u001b[0mh\u001b[0m\u001b[0;34m.\u001b[0m\u001b[0mclose\u001b[0m\u001b[0;34m(\u001b[0m\u001b[0;34m)\u001b[0m\u001b[0;34m\u001b[0m\u001b[0;34m\u001b[0m\u001b[0m\n",
            "\u001b[0;32m/usr/lib/python3.10/http/client.py\u001b[0m in \u001b[0;36mgetresponse\u001b[0;34m(self)\u001b[0m\n\u001b[1;32m   1373\u001b[0m         \u001b[0;32mtry\u001b[0m\u001b[0;34m:\u001b[0m\u001b[0;34m\u001b[0m\u001b[0;34m\u001b[0m\u001b[0m\n\u001b[1;32m   1374\u001b[0m             \u001b[0;32mtry\u001b[0m\u001b[0;34m:\u001b[0m\u001b[0;34m\u001b[0m\u001b[0;34m\u001b[0m\u001b[0m\n\u001b[0;32m-> 1375\u001b[0;31m                 \u001b[0mresponse\u001b[0m\u001b[0;34m.\u001b[0m\u001b[0mbegin\u001b[0m\u001b[0;34m(\u001b[0m\u001b[0;34m)\u001b[0m\u001b[0;34m\u001b[0m\u001b[0;34m\u001b[0m\u001b[0m\n\u001b[0m\u001b[1;32m   1376\u001b[0m             \u001b[0;32mexcept\u001b[0m \u001b[0mConnectionError\u001b[0m\u001b[0;34m:\u001b[0m\u001b[0;34m\u001b[0m\u001b[0;34m\u001b[0m\u001b[0m\n\u001b[1;32m   1377\u001b[0m                 \u001b[0mself\u001b[0m\u001b[0;34m.\u001b[0m\u001b[0mclose\u001b[0m\u001b[0;34m(\u001b[0m\u001b[0;34m)\u001b[0m\u001b[0;34m\u001b[0m\u001b[0;34m\u001b[0m\u001b[0m\n",
            "\u001b[0;32m/usr/lib/python3.10/http/client.py\u001b[0m in \u001b[0;36mbegin\u001b[0;34m(self)\u001b[0m\n\u001b[1;32m    316\u001b[0m         \u001b[0;31m# read until we get a non-100 response\u001b[0m\u001b[0;34m\u001b[0m\u001b[0;34m\u001b[0m\u001b[0m\n\u001b[1;32m    317\u001b[0m         \u001b[0;32mwhile\u001b[0m \u001b[0;32mTrue\u001b[0m\u001b[0;34m:\u001b[0m\u001b[0;34m\u001b[0m\u001b[0;34m\u001b[0m\u001b[0m\n\u001b[0;32m--> 318\u001b[0;31m             \u001b[0mversion\u001b[0m\u001b[0;34m,\u001b[0m \u001b[0mstatus\u001b[0m\u001b[0;34m,\u001b[0m \u001b[0mreason\u001b[0m \u001b[0;34m=\u001b[0m \u001b[0mself\u001b[0m\u001b[0;34m.\u001b[0m\u001b[0m_read_status\u001b[0m\u001b[0;34m(\u001b[0m\u001b[0;34m)\u001b[0m\u001b[0;34m\u001b[0m\u001b[0;34m\u001b[0m\u001b[0m\n\u001b[0m\u001b[1;32m    319\u001b[0m             \u001b[0;32mif\u001b[0m \u001b[0mstatus\u001b[0m \u001b[0;34m!=\u001b[0m \u001b[0mCONTINUE\u001b[0m\u001b[0;34m:\u001b[0m\u001b[0;34m\u001b[0m\u001b[0;34m\u001b[0m\u001b[0m\n\u001b[1;32m    320\u001b[0m                 \u001b[0;32mbreak\u001b[0m\u001b[0;34m\u001b[0m\u001b[0;34m\u001b[0m\u001b[0m\n",
            "\u001b[0;32m/usr/lib/python3.10/http/client.py\u001b[0m in \u001b[0;36m_read_status\u001b[0;34m(self)\u001b[0m\n\u001b[1;32m    277\u001b[0m \u001b[0;34m\u001b[0m\u001b[0m\n\u001b[1;32m    278\u001b[0m     \u001b[0;32mdef\u001b[0m \u001b[0m_read_status\u001b[0m\u001b[0;34m(\u001b[0m\u001b[0mself\u001b[0m\u001b[0;34m)\u001b[0m\u001b[0;34m:\u001b[0m\u001b[0;34m\u001b[0m\u001b[0;34m\u001b[0m\u001b[0m\n\u001b[0;32m--> 279\u001b[0;31m         \u001b[0mline\u001b[0m \u001b[0;34m=\u001b[0m \u001b[0mstr\u001b[0m\u001b[0;34m(\u001b[0m\u001b[0mself\u001b[0m\u001b[0;34m.\u001b[0m\u001b[0mfp\u001b[0m\u001b[0;34m.\u001b[0m\u001b[0mreadline\u001b[0m\u001b[0;34m(\u001b[0m\u001b[0m_MAXLINE\u001b[0m \u001b[0;34m+\u001b[0m \u001b[0;36m1\u001b[0m\u001b[0;34m)\u001b[0m\u001b[0;34m,\u001b[0m \u001b[0;34m\"iso-8859-1\"\u001b[0m\u001b[0;34m)\u001b[0m\u001b[0;34m\u001b[0m\u001b[0;34m\u001b[0m\u001b[0m\n\u001b[0m\u001b[1;32m    280\u001b[0m         \u001b[0;32mif\u001b[0m \u001b[0mlen\u001b[0m\u001b[0;34m(\u001b[0m\u001b[0mline\u001b[0m\u001b[0;34m)\u001b[0m \u001b[0;34m>\u001b[0m \u001b[0m_MAXLINE\u001b[0m\u001b[0;34m:\u001b[0m\u001b[0;34m\u001b[0m\u001b[0;34m\u001b[0m\u001b[0m\n\u001b[1;32m    281\u001b[0m             \u001b[0;32mraise\u001b[0m \u001b[0mLineTooLong\u001b[0m\u001b[0;34m(\u001b[0m\u001b[0;34m\"status line\"\u001b[0m\u001b[0;34m)\u001b[0m\u001b[0;34m\u001b[0m\u001b[0;34m\u001b[0m\u001b[0m\n",
            "\u001b[0;32m/usr/lib/python3.10/socket.py\u001b[0m in \u001b[0;36mreadinto\u001b[0;34m(self, b)\u001b[0m\n\u001b[1;32m    703\u001b[0m         \u001b[0;32mwhile\u001b[0m \u001b[0;32mTrue\u001b[0m\u001b[0;34m:\u001b[0m\u001b[0;34m\u001b[0m\u001b[0;34m\u001b[0m\u001b[0m\n\u001b[1;32m    704\u001b[0m             \u001b[0;32mtry\u001b[0m\u001b[0;34m:\u001b[0m\u001b[0;34m\u001b[0m\u001b[0;34m\u001b[0m\u001b[0m\n\u001b[0;32m--> 705\u001b[0;31m                 \u001b[0;32mreturn\u001b[0m \u001b[0mself\u001b[0m\u001b[0;34m.\u001b[0m\u001b[0m_sock\u001b[0m\u001b[0;34m.\u001b[0m\u001b[0mrecv_into\u001b[0m\u001b[0;34m(\u001b[0m\u001b[0mb\u001b[0m\u001b[0;34m)\u001b[0m\u001b[0;34m\u001b[0m\u001b[0;34m\u001b[0m\u001b[0m\n\u001b[0m\u001b[1;32m    706\u001b[0m             \u001b[0;32mexcept\u001b[0m \u001b[0mtimeout\u001b[0m\u001b[0;34m:\u001b[0m\u001b[0;34m\u001b[0m\u001b[0;34m\u001b[0m\u001b[0m\n\u001b[1;32m    707\u001b[0m                 \u001b[0mself\u001b[0m\u001b[0;34m.\u001b[0m\u001b[0m_timeout_occurred\u001b[0m \u001b[0;34m=\u001b[0m \u001b[0;32mTrue\u001b[0m\u001b[0;34m\u001b[0m\u001b[0;34m\u001b[0m\u001b[0m\n",
            "\u001b[0;32m/usr/lib/python3.10/ssl.py\u001b[0m in \u001b[0;36mrecv_into\u001b[0;34m(self, buffer, nbytes, flags)\u001b[0m\n\u001b[1;32m   1301\u001b[0m                   \u001b[0;34m\"non-zero flags not allowed in calls to recv_into() on %s\"\u001b[0m \u001b[0;34m%\u001b[0m\u001b[0;34m\u001b[0m\u001b[0;34m\u001b[0m\u001b[0m\n\u001b[1;32m   1302\u001b[0m                   self.__class__)\n\u001b[0;32m-> 1303\u001b[0;31m             \u001b[0;32mreturn\u001b[0m \u001b[0mself\u001b[0m\u001b[0;34m.\u001b[0m\u001b[0mread\u001b[0m\u001b[0;34m(\u001b[0m\u001b[0mnbytes\u001b[0m\u001b[0;34m,\u001b[0m \u001b[0mbuffer\u001b[0m\u001b[0;34m)\u001b[0m\u001b[0;34m\u001b[0m\u001b[0;34m\u001b[0m\u001b[0m\n\u001b[0m\u001b[1;32m   1304\u001b[0m         \u001b[0;32melse\u001b[0m\u001b[0;34m:\u001b[0m\u001b[0;34m\u001b[0m\u001b[0;34m\u001b[0m\u001b[0m\n\u001b[1;32m   1305\u001b[0m             \u001b[0;32mreturn\u001b[0m \u001b[0msuper\u001b[0m\u001b[0;34m(\u001b[0m\u001b[0;34m)\u001b[0m\u001b[0;34m.\u001b[0m\u001b[0mrecv_into\u001b[0m\u001b[0;34m(\u001b[0m\u001b[0mbuffer\u001b[0m\u001b[0;34m,\u001b[0m \u001b[0mnbytes\u001b[0m\u001b[0;34m,\u001b[0m \u001b[0mflags\u001b[0m\u001b[0;34m)\u001b[0m\u001b[0;34m\u001b[0m\u001b[0;34m\u001b[0m\u001b[0m\n",
            "\u001b[0;32m/usr/lib/python3.10/ssl.py\u001b[0m in \u001b[0;36mread\u001b[0;34m(self, len, buffer)\u001b[0m\n\u001b[1;32m   1157\u001b[0m         \u001b[0;32mtry\u001b[0m\u001b[0;34m:\u001b[0m\u001b[0;34m\u001b[0m\u001b[0;34m\u001b[0m\u001b[0m\n\u001b[1;32m   1158\u001b[0m             \u001b[0;32mif\u001b[0m \u001b[0mbuffer\u001b[0m \u001b[0;32mis\u001b[0m \u001b[0;32mnot\u001b[0m \u001b[0;32mNone\u001b[0m\u001b[0;34m:\u001b[0m\u001b[0;34m\u001b[0m\u001b[0;34m\u001b[0m\u001b[0m\n\u001b[0;32m-> 1159\u001b[0;31m                 \u001b[0;32mreturn\u001b[0m \u001b[0mself\u001b[0m\u001b[0;34m.\u001b[0m\u001b[0m_sslobj\u001b[0m\u001b[0;34m.\u001b[0m\u001b[0mread\u001b[0m\u001b[0;34m(\u001b[0m\u001b[0mlen\u001b[0m\u001b[0;34m,\u001b[0m \u001b[0mbuffer\u001b[0m\u001b[0;34m)\u001b[0m\u001b[0;34m\u001b[0m\u001b[0;34m\u001b[0m\u001b[0m\n\u001b[0m\u001b[1;32m   1160\u001b[0m             \u001b[0;32melse\u001b[0m\u001b[0;34m:\u001b[0m\u001b[0;34m\u001b[0m\u001b[0;34m\u001b[0m\u001b[0m\n\u001b[1;32m   1161\u001b[0m                 \u001b[0;32mreturn\u001b[0m \u001b[0mself\u001b[0m\u001b[0;34m.\u001b[0m\u001b[0m_sslobj\u001b[0m\u001b[0;34m.\u001b[0m\u001b[0mread\u001b[0m\u001b[0;34m(\u001b[0m\u001b[0mlen\u001b[0m\u001b[0;34m)\u001b[0m\u001b[0;34m\u001b[0m\u001b[0;34m\u001b[0m\u001b[0m\n",
            "\u001b[0;31mKeyboardInterrupt\u001b[0m: "
          ]
        }
      ],
      "source": [
        "!mkdir datasets\n",
        "import urllib.request\n",
        "urllib.request.urlretrieve(\"https://github.com/zhandrew4/music-mood-classification/raw/main/muse_v3.csv\", \"datasets/muse_v3.csv\")\n",
        "urllib.request.urlretrieve(\"https://github.com/zhandrew4/music-mood-classification/raw/main/full_data.csv\", \"datasets/full_data.csv\")"
      ]
    },
    {
      "cell_type": "code",
      "execution_count": 1,
      "metadata": {
        "colab": {
          "base_uri": "https://localhost:8080/"
        },
        "id": "iqZpfbtQHYL1",
        "outputId": "4e11a3a8-d516-4830-9cf9-42b961942c53"
      },
      "outputs": [
        {
          "data": {
            "text/plain": [
              "Index(['Unnamed: 0', 'track', 'artist', 'seeds', 'spotify_id', 'danceability',\n",
              "       'energy', 'key', 'loudness', 'mode', 'speechiness', 'acousticness',\n",
              "       'instrumentalness', 'liveness', 'valence', 'tempo', 'type', 'id', 'uri',\n",
              "       'track_href', 'analysis_url', 'duration_ms', 'time_signature'],\n",
              "      dtype='object')"
            ]
          },
          "execution_count": 1,
          "metadata": {},
          "output_type": "execute_result"
        }
      ],
      "source": [
        "import pandas as pd\n",
        "sample = pd.read_csv(\"datasets/full_data.csv\", nrows=3)\n",
        "sample.columns"
      ]
    },
    {
      "cell_type": "code",
      "execution_count": 2,
      "metadata": {
        "colab": {
          "base_uri": "https://localhost:8080/",
          "height": 510
        },
        "id": "4LbDwYR7ALuK",
        "outputId": "c17885f6-57bf-477b-d1de-bf612e676700"
      },
      "outputs": [
        {
          "name": "stderr",
          "output_type": "stream",
          "text": [
            "/tmp/ipykernel_51915/2145830631.py:9: FutureWarning: The argument 'infer_datetime_format' is deprecated and will be removed in a future version. A strict version of it is now the default, see https://pandas.pydata.org/pdeps/0004-consistent-to-datetime-parsing.html. You can safely remove this argument.\n",
            "  songs_df = pd.read_csv(\"datasets/full_data.csv\", usecols=[\"track\", \"artist\"]+KEEP_COLS_MODEL, parse_dates=True, infer_datetime_format=True)\n"
          ]
        },
        {
          "data": {
            "text/html": [
              "<div>\n",
              "<style scoped>\n",
              "    .dataframe tbody tr th:only-of-type {\n",
              "        vertical-align: middle;\n",
              "    }\n",
              "\n",
              "    .dataframe tbody tr th {\n",
              "        vertical-align: top;\n",
              "    }\n",
              "\n",
              "    .dataframe thead th {\n",
              "        text-align: right;\n",
              "    }\n",
              "</style>\n",
              "<table border=\"1\" class=\"dataframe\">\n",
              "  <thead>\n",
              "    <tr style=\"text-align: right;\">\n",
              "      <th></th>\n",
              "      <th></th>\n",
              "      <th>key</th>\n",
              "      <th>loudness</th>\n",
              "      <th>tempo</th>\n",
              "      <th>duration_ms</th>\n",
              "      <th>time_signature</th>\n",
              "    </tr>\n",
              "    <tr>\n",
              "      <th>track</th>\n",
              "      <th>artist</th>\n",
              "      <th></th>\n",
              "      <th></th>\n",
              "      <th></th>\n",
              "      <th></th>\n",
              "      <th></th>\n",
              "    </tr>\n",
              "  </thead>\n",
              "  <tbody>\n",
              "    <tr>\n",
              "      <th>'Till I Collapse</th>\n",
              "      <th>Eminem</th>\n",
              "      <td>1</td>\n",
              "      <td>-3.237</td>\n",
              "      <td>171.447</td>\n",
              "      <td>297787</td>\n",
              "      <td>4</td>\n",
              "    </tr>\n",
              "    <tr>\n",
              "      <th>St. Anger</th>\n",
              "      <th>Metallica</th>\n",
              "      <td>2</td>\n",
              "      <td>-2.642</td>\n",
              "      <td>185.252</td>\n",
              "      <td>441133</td>\n",
              "      <td>4</td>\n",
              "    </tr>\n",
              "    <tr>\n",
              "      <th>Speedin'</th>\n",
              "      <th>Rick Ross</th>\n",
              "      <td>1</td>\n",
              "      <td>-4.226</td>\n",
              "      <td>100.059</td>\n",
              "      <td>204960</td>\n",
              "      <td>4</td>\n",
              "    </tr>\n",
              "    <tr>\n",
              "      <th>Bamboo Banga</th>\n",
              "      <th>M.I.A.</th>\n",
              "      <td>9</td>\n",
              "      <td>-4.554</td>\n",
              "      <td>125.984</td>\n",
              "      <td>298360</td>\n",
              "      <td>4</td>\n",
              "    </tr>\n",
              "    <tr>\n",
              "      <th>Die MF Die</th>\n",
              "      <th>Dope</th>\n",
              "      <td>5</td>\n",
              "      <td>-3.524</td>\n",
              "      <td>126.020</td>\n",
              "      <td>186067</td>\n",
              "      <td>4</td>\n",
              "    </tr>\n",
              "    <tr>\n",
              "      <th>...</th>\n",
              "      <th>...</th>\n",
              "      <td>...</td>\n",
              "      <td>...</td>\n",
              "      <td>...</td>\n",
              "      <td>...</td>\n",
              "      <td>...</td>\n",
              "    </tr>\n",
              "    <tr>\n",
              "      <th>Secret</th>\n",
              "      <th>Quietdrive</th>\n",
              "      <td>0</td>\n",
              "      <td>-5.126</td>\n",
              "      <td>167.996</td>\n",
              "      <td>258373</td>\n",
              "      <td>4</td>\n",
              "    </tr>\n",
              "    <tr>\n",
              "      <th>The Last of the Rest Was the End</th>\n",
              "      <th>Medications</th>\n",
              "      <td>2</td>\n",
              "      <td>-5.774</td>\n",
              "      <td>144.844</td>\n",
              "      <td>324000</td>\n",
              "      <td>3</td>\n",
              "    </tr>\n",
              "    <tr>\n",
              "      <th>Lovechild</th>\n",
              "      <th>Daniel Lanois</th>\n",
              "      <td>10</td>\n",
              "      <td>-20.091</td>\n",
              "      <td>79.476</td>\n",
              "      <td>516280</td>\n",
              "      <td>4</td>\n",
              "    </tr>\n",
              "    <tr>\n",
              "      <th>Last Inhale</th>\n",
              "      <th>Tapage</th>\n",
              "      <td>2</td>\n",
              "      <td>-8.977</td>\n",
              "      <td>160.011</td>\n",
              "      <td>324258</td>\n",
              "      <td>4</td>\n",
              "    </tr>\n",
              "    <tr>\n",
              "      <th>Unfold</th>\n",
              "      <th>Message To Bears</th>\n",
              "      <td>0</td>\n",
              "      <td>-11.355</td>\n",
              "      <td>96.970</td>\n",
              "      <td>268440</td>\n",
              "      <td>4</td>\n",
              "    </tr>\n",
              "  </tbody>\n",
              "</table>\n",
              "<p>61627 rows × 5 columns</p>\n",
              "</div>"
            ],
            "text/plain": [
              "                                                   key  loudness    tempo  \\\n",
              "track                            artist                                     \n",
              "'Till I Collapse                 Eminem              1    -3.237  171.447   \n",
              "St. Anger                        Metallica           2    -2.642  185.252   \n",
              "Speedin'                         Rick Ross           1    -4.226  100.059   \n",
              "Bamboo Banga                     M.I.A.              9    -4.554  125.984   \n",
              "Die MF Die                       Dope                5    -3.524  126.020   \n",
              "...                                                ...       ...      ...   \n",
              "Secret                           Quietdrive          0    -5.126  167.996   \n",
              "The Last of the Rest Was the End Medications         2    -5.774  144.844   \n",
              "Lovechild                        Daniel Lanois      10   -20.091   79.476   \n",
              "Last Inhale                      Tapage              2    -8.977  160.011   \n",
              "Unfold                           Message To Bears    0   -11.355   96.970   \n",
              "\n",
              "                                                   duration_ms  time_signature  \n",
              "track                            artist                                         \n",
              "'Till I Collapse                 Eminem                 297787               4  \n",
              "St. Anger                        Metallica              441133               4  \n",
              "Speedin'                         Rick Ross              204960               4  \n",
              "Bamboo Banga                     M.I.A.                 298360               4  \n",
              "Die MF Die                       Dope                   186067               4  \n",
              "...                                                        ...             ...  \n",
              "Secret                           Quietdrive             258373               4  \n",
              "The Last of the Rest Was the End Medications            324000               3  \n",
              "Lovechild                        Daniel Lanois          516280               4  \n",
              "Last Inhale                      Tapage                 324258               4  \n",
              "Unfold                           Message To Bears       268440               4  \n",
              "\n",
              "[61627 rows x 5 columns]"
            ]
          },
          "execution_count": 2,
          "metadata": {},
          "output_type": "execute_result"
        }
      ],
      "source": [
        "KEEP_COLS_MASTER = [\"track\", \"album\", \"artist\", \"release_date\", \"length\",\n",
        "             \"tempo\", \"key\", \"time_signature\",\n",
        "             \"mood\"]\n",
        "\n",
        "KEEP_COLS_MODEL = [\"tempo\", \"key\", \"loudness\", \"time_signature\", \"duration_ms\"]\n",
        "\n",
        "# songs_df = pd.read_csv(\"data_moods.csv\", usecols=KEEP_COLS_MASTER)\n",
        "# make names the indices\n",
        "songs_df = pd.read_csv(\"datasets/full_data.csv\", usecols=[\"track\", \"artist\"]+KEEP_COLS_MODEL, parse_dates=True, infer_datetime_format=True)\n",
        "songs_df.set_index([\"track\", \"artist\"], inplace=True)\n",
        "songs_df"
      ]
    },
    {
      "cell_type": "markdown",
      "metadata": {
        "id": "aEDIeUa4ALuL"
      },
      "source": [
        "Convert dates to numbers, specfically seconds.\n",
        "\n",
        "_Note_: This goddamn dataset only gives the year for some songs."
      ]
    },
    {
      "cell_type": "code",
      "execution_count": 3,
      "metadata": {
        "id": "ApctZb1QALuL"
      },
      "outputs": [],
      "source": [
        "# print(songs_df[songs_df[\"release_date\"]==\"1993\"])\n",
        "# # credit https://stackoverflow.com/a/54312941\n",
        "# songs_df[\"release_date\"] = pd.to_datetime(songs_df[\"release_date\"], format=\"mixed\").astype(int)/ 10**9\n",
        "# songs_df[\"release_date\"]"
      ]
    },
    {
      "cell_type": "markdown",
      "metadata": {
        "id": "ZlaliWxLALuJ"
      },
      "source": [
        "Load the V, A, D dimension values from the original MuSe dataset and add them to the rest of the data.\n",
        "^ Join V, A, D columns by key columns title and author."
      ]
    },
    {
      "cell_type": "code",
      "execution_count": 4,
      "metadata": {
        "colab": {
          "base_uri": "https://localhost:8080/",
          "height": 455
        },
        "id": "eSAE8pJSALuK",
        "outputId": "dc613f3b-0128-40cc-f102-822543e27482"
      },
      "outputs": [
        {
          "data": {
            "text/html": [
              "<div>\n",
              "<style scoped>\n",
              "    .dataframe tbody tr th:only-of-type {\n",
              "        vertical-align: middle;\n",
              "    }\n",
              "\n",
              "    .dataframe tbody tr th {\n",
              "        vertical-align: top;\n",
              "    }\n",
              "\n",
              "    .dataframe thead th {\n",
              "        text-align: right;\n",
              "    }\n",
              "</style>\n",
              "<table border=\"1\" class=\"dataframe\">\n",
              "  <thead>\n",
              "    <tr style=\"text-align: right;\">\n",
              "      <th></th>\n",
              "      <th></th>\n",
              "      <th>valence_tags</th>\n",
              "      <th>arousal_tags</th>\n",
              "      <th>dominance_tags</th>\n",
              "    </tr>\n",
              "    <tr>\n",
              "      <th>track</th>\n",
              "      <th>artist</th>\n",
              "      <th></th>\n",
              "      <th></th>\n",
              "      <th></th>\n",
              "    </tr>\n",
              "  </thead>\n",
              "  <tbody>\n",
              "    <tr>\n",
              "      <th>'Till I Collapse</th>\n",
              "      <th>Eminem</th>\n",
              "      <td>4.550000</td>\n",
              "      <td>5.273125</td>\n",
              "      <td>5.690625</td>\n",
              "    </tr>\n",
              "    <tr>\n",
              "      <th>St. Anger</th>\n",
              "      <th>Metallica</th>\n",
              "      <td>3.710000</td>\n",
              "      <td>5.833000</td>\n",
              "      <td>5.427250</td>\n",
              "    </tr>\n",
              "    <tr>\n",
              "      <th>Speedin'</th>\n",
              "      <th>Rick Ross</th>\n",
              "      <td>3.080000</td>\n",
              "      <td>5.870000</td>\n",
              "      <td>5.490000</td>\n",
              "    </tr>\n",
              "    <tr>\n",
              "      <th>Bamboo Banga</th>\n",
              "      <th>M.I.A.</th>\n",
              "      <td>6.555071</td>\n",
              "      <td>5.537214</td>\n",
              "      <td>5.691357</td>\n",
              "    </tr>\n",
              "    <tr>\n",
              "      <th>Die MF Die</th>\n",
              "      <th>Dope</th>\n",
              "      <td>3.771176</td>\n",
              "      <td>5.348235</td>\n",
              "      <td>5.441765</td>\n",
              "    </tr>\n",
              "    <tr>\n",
              "      <th>...</th>\n",
              "      <th>...</th>\n",
              "      <td>...</td>\n",
              "      <td>...</td>\n",
              "      <td>...</td>\n",
              "    </tr>\n",
              "    <tr>\n",
              "      <th>Battle</th>\n",
              "      <th>Gaby Hoffmann &amp; Jay Duplass</th>\n",
              "      <td>5.370000</td>\n",
              "      <td>3.450000</td>\n",
              "      <td>5.330000</td>\n",
              "    </tr>\n",
              "    <tr>\n",
              "      <th>Hands Tied to the Roots of a Hemorrhage</th>\n",
              "      <th>Omar Rodriguez-Lopez</th>\n",
              "      <td>5.797887</td>\n",
              "      <td>4.132254</td>\n",
              "      <td>5.570563</td>\n",
              "    </tr>\n",
              "    <tr>\n",
              "      <th>Crookfield Zoo</th>\n",
              "      <th>Ace White</th>\n",
              "      <td>5.370000</td>\n",
              "      <td>3.450000</td>\n",
              "      <td>5.330000</td>\n",
              "    </tr>\n",
              "    <tr>\n",
              "      <th>Transparent (Full Version)</th>\n",
              "      <th>Second Chyld</th>\n",
              "      <td>5.370000</td>\n",
              "      <td>3.450000</td>\n",
              "      <td>5.330000</td>\n",
              "    </tr>\n",
              "    <tr>\n",
              "      <th>Unfold</th>\n",
              "      <th>Message To Bears</th>\n",
              "      <td>3.340000</td>\n",
              "      <td>1.405000</td>\n",
              "      <td>3.500000</td>\n",
              "    </tr>\n",
              "  </tbody>\n",
              "</table>\n",
              "<p>90001 rows × 3 columns</p>\n",
              "</div>"
            ],
            "text/plain": [
              "                                                                     valence_tags  \\\n",
              "track                                   artist                                      \n",
              "'Till I Collapse                        Eminem                           4.550000   \n",
              "St. Anger                               Metallica                        3.710000   \n",
              "Speedin'                                Rick Ross                        3.080000   \n",
              "Bamboo Banga                            M.I.A.                           6.555071   \n",
              "Die MF Die                              Dope                             3.771176   \n",
              "...                                                                           ...   \n",
              "Battle                                  Gaby Hoffmann & Jay Duplass      5.370000   \n",
              "Hands Tied to the Roots of a Hemorrhage Omar Rodriguez-Lopez             5.797887   \n",
              "Crookfield Zoo                          Ace White                        5.370000   \n",
              "Transparent (Full Version)              Second Chyld                     5.370000   \n",
              "Unfold                                  Message To Bears                 3.340000   \n",
              "\n",
              "                                                                     arousal_tags  \\\n",
              "track                                   artist                                      \n",
              "'Till I Collapse                        Eminem                           5.273125   \n",
              "St. Anger                               Metallica                        5.833000   \n",
              "Speedin'                                Rick Ross                        5.870000   \n",
              "Bamboo Banga                            M.I.A.                           5.537214   \n",
              "Die MF Die                              Dope                             5.348235   \n",
              "...                                                                           ...   \n",
              "Battle                                  Gaby Hoffmann & Jay Duplass      3.450000   \n",
              "Hands Tied to the Roots of a Hemorrhage Omar Rodriguez-Lopez             4.132254   \n",
              "Crookfield Zoo                          Ace White                        3.450000   \n",
              "Transparent (Full Version)              Second Chyld                     3.450000   \n",
              "Unfold                                  Message To Bears                 1.405000   \n",
              "\n",
              "                                                                     dominance_tags  \n",
              "track                                   artist                                       \n",
              "'Till I Collapse                        Eminem                             5.690625  \n",
              "St. Anger                               Metallica                          5.427250  \n",
              "Speedin'                                Rick Ross                          5.490000  \n",
              "Bamboo Banga                            M.I.A.                             5.691357  \n",
              "Die MF Die                              Dope                               5.441765  \n",
              "...                                                                             ...  \n",
              "Battle                                  Gaby Hoffmann & Jay Duplass        5.330000  \n",
              "Hands Tied to the Roots of a Hemorrhage Omar Rodriguez-Lopez               5.570563  \n",
              "Crookfield Zoo                          Ace White                          5.330000  \n",
              "Transparent (Full Version)              Second Chyld                       5.330000  \n",
              "Unfold                                  Message To Bears                   3.500000  \n",
              "\n",
              "[90001 rows x 3 columns]"
            ]
          },
          "execution_count": 4,
          "metadata": {},
          "output_type": "execute_result"
        }
      ],
      "source": [
        "import pandas as pd\n",
        "\n",
        "LABELS_COLS = ['valence_tags', 'arousal_tags', 'dominance_tags']\n",
        "\n",
        "orig_dataset = pd.read_csv(\"datasets/muse_v3.csv\")\n",
        "orig_dataset = pd.read_csv(\"datasets/muse_v3.csv\", usecols=[\"track\", \"artist\"]+LABELS_COLS)\n",
        "orig_dataset.set_index([\"track\", \"artist\"], inplace=True)\n",
        "orig_dataset"
      ]
    },
    {
      "cell_type": "code",
      "execution_count": 5,
      "metadata": {
        "id": "9jlVYFr-JHwl"
      },
      "outputs": [],
      "source": [
        "VAL_COLS = [\"valence_tags\",\"arousal_tags\",\"dominance_tags\"]\n",
        "songs_df = songs_df.join(orig_dataset, how=\"inner\")"
      ]
    },
    {
      "cell_type": "code",
      "execution_count": 6,
      "metadata": {
        "colab": {
          "base_uri": "https://localhost:8080/",
          "height": 455
        },
        "id": "wmnq9vGEoPEg",
        "outputId": "d027a995-1605-4db7-97e7-3fe70144e299"
      },
      "outputs": [
        {
          "data": {
            "text/html": [
              "<div>\n",
              "<style scoped>\n",
              "    .dataframe tbody tr th:only-of-type {\n",
              "        vertical-align: middle;\n",
              "    }\n",
              "\n",
              "    .dataframe tbody tr th {\n",
              "        vertical-align: top;\n",
              "    }\n",
              "\n",
              "    .dataframe thead th {\n",
              "        text-align: right;\n",
              "    }\n",
              "</style>\n",
              "<table border=\"1\" class=\"dataframe\">\n",
              "  <thead>\n",
              "    <tr style=\"text-align: right;\">\n",
              "      <th></th>\n",
              "      <th></th>\n",
              "      <th>key</th>\n",
              "      <th>loudness</th>\n",
              "      <th>tempo</th>\n",
              "      <th>duration_ms</th>\n",
              "      <th>time_signature</th>\n",
              "      <th>valence_tags</th>\n",
              "      <th>arousal_tags</th>\n",
              "      <th>dominance_tags</th>\n",
              "    </tr>\n",
              "    <tr>\n",
              "      <th>track</th>\n",
              "      <th>artist</th>\n",
              "      <th></th>\n",
              "      <th></th>\n",
              "      <th></th>\n",
              "      <th></th>\n",
              "      <th></th>\n",
              "      <th></th>\n",
              "      <th></th>\n",
              "      <th></th>\n",
              "    </tr>\n",
              "  </thead>\n",
              "  <tbody>\n",
              "    <tr>\n",
              "      <th>'Till I Collapse</th>\n",
              "      <th>Eminem</th>\n",
              "      <td>1</td>\n",
              "      <td>-3.237</td>\n",
              "      <td>171.447</td>\n",
              "      <td>297787</td>\n",
              "      <td>4</td>\n",
              "      <td>4.550000</td>\n",
              "      <td>5.273125</td>\n",
              "      <td>5.690625</td>\n",
              "    </tr>\n",
              "    <tr>\n",
              "      <th>St. Anger</th>\n",
              "      <th>Metallica</th>\n",
              "      <td>2</td>\n",
              "      <td>-2.642</td>\n",
              "      <td>185.252</td>\n",
              "      <td>441133</td>\n",
              "      <td>4</td>\n",
              "      <td>3.710000</td>\n",
              "      <td>5.833000</td>\n",
              "      <td>5.427250</td>\n",
              "    </tr>\n",
              "    <tr>\n",
              "      <th>Speedin'</th>\n",
              "      <th>Rick Ross</th>\n",
              "      <td>1</td>\n",
              "      <td>-4.226</td>\n",
              "      <td>100.059</td>\n",
              "      <td>204960</td>\n",
              "      <td>4</td>\n",
              "      <td>3.080000</td>\n",
              "      <td>5.870000</td>\n",
              "      <td>5.490000</td>\n",
              "    </tr>\n",
              "    <tr>\n",
              "      <th>Bamboo Banga</th>\n",
              "      <th>M.I.A.</th>\n",
              "      <td>9</td>\n",
              "      <td>-4.554</td>\n",
              "      <td>125.984</td>\n",
              "      <td>298360</td>\n",
              "      <td>4</td>\n",
              "      <td>6.555071</td>\n",
              "      <td>5.537214</td>\n",
              "      <td>5.691357</td>\n",
              "    </tr>\n",
              "    <tr>\n",
              "      <th>Die MF Die</th>\n",
              "      <th>Dope</th>\n",
              "      <td>5</td>\n",
              "      <td>-3.524</td>\n",
              "      <td>126.020</td>\n",
              "      <td>186067</td>\n",
              "      <td>4</td>\n",
              "      <td>3.771176</td>\n",
              "      <td>5.348235</td>\n",
              "      <td>5.441765</td>\n",
              "    </tr>\n",
              "    <tr>\n",
              "      <th>...</th>\n",
              "      <th>...</th>\n",
              "      <td>...</td>\n",
              "      <td>...</td>\n",
              "      <td>...</td>\n",
              "      <td>...</td>\n",
              "      <td>...</td>\n",
              "      <td>...</td>\n",
              "      <td>...</td>\n",
              "      <td>...</td>\n",
              "    </tr>\n",
              "    <tr>\n",
              "      <th>Secret</th>\n",
              "      <th>Quietdrive</th>\n",
              "      <td>0</td>\n",
              "      <td>-5.126</td>\n",
              "      <td>167.996</td>\n",
              "      <td>258373</td>\n",
              "      <td>4</td>\n",
              "      <td>5.370000</td>\n",
              "      <td>3.450000</td>\n",
              "      <td>5.330000</td>\n",
              "    </tr>\n",
              "    <tr>\n",
              "      <th>The Last of the Rest Was the End</th>\n",
              "      <th>Medications</th>\n",
              "      <td>2</td>\n",
              "      <td>-5.774</td>\n",
              "      <td>144.844</td>\n",
              "      <td>324000</td>\n",
              "      <td>3</td>\n",
              "      <td>5.370000</td>\n",
              "      <td>3.450000</td>\n",
              "      <td>5.330000</td>\n",
              "    </tr>\n",
              "    <tr>\n",
              "      <th>Lovechild</th>\n",
              "      <th>Daniel Lanois</th>\n",
              "      <td>10</td>\n",
              "      <td>-20.091</td>\n",
              "      <td>79.476</td>\n",
              "      <td>516280</td>\n",
              "      <td>4</td>\n",
              "      <td>6.685000</td>\n",
              "      <td>4.405000</td>\n",
              "      <td>5.625000</td>\n",
              "    </tr>\n",
              "    <tr>\n",
              "      <th>Last Inhale</th>\n",
              "      <th>Tapage</th>\n",
              "      <td>2</td>\n",
              "      <td>-8.977</td>\n",
              "      <td>160.011</td>\n",
              "      <td>324258</td>\n",
              "      <td>4</td>\n",
              "      <td>4.301667</td>\n",
              "      <td>3.341667</td>\n",
              "      <td>4.466667</td>\n",
              "    </tr>\n",
              "    <tr>\n",
              "      <th>Unfold</th>\n",
              "      <th>Message To Bears</th>\n",
              "      <td>0</td>\n",
              "      <td>-11.355</td>\n",
              "      <td>96.970</td>\n",
              "      <td>268440</td>\n",
              "      <td>4</td>\n",
              "      <td>3.340000</td>\n",
              "      <td>1.405000</td>\n",
              "      <td>3.500000</td>\n",
              "    </tr>\n",
              "  </tbody>\n",
              "</table>\n",
              "<p>61627 rows × 8 columns</p>\n",
              "</div>"
            ],
            "text/plain": [
              "                                                   key  loudness    tempo  \\\n",
              "track                            artist                                     \n",
              "'Till I Collapse                 Eminem              1    -3.237  171.447   \n",
              "St. Anger                        Metallica           2    -2.642  185.252   \n",
              "Speedin'                         Rick Ross           1    -4.226  100.059   \n",
              "Bamboo Banga                     M.I.A.              9    -4.554  125.984   \n",
              "Die MF Die                       Dope                5    -3.524  126.020   \n",
              "...                                                ...       ...      ...   \n",
              "Secret                           Quietdrive          0    -5.126  167.996   \n",
              "The Last of the Rest Was the End Medications         2    -5.774  144.844   \n",
              "Lovechild                        Daniel Lanois      10   -20.091   79.476   \n",
              "Last Inhale                      Tapage              2    -8.977  160.011   \n",
              "Unfold                           Message To Bears    0   -11.355   96.970   \n",
              "\n",
              "                                                   duration_ms  \\\n",
              "track                            artist                          \n",
              "'Till I Collapse                 Eminem                 297787   \n",
              "St. Anger                        Metallica              441133   \n",
              "Speedin'                         Rick Ross              204960   \n",
              "Bamboo Banga                     M.I.A.                 298360   \n",
              "Die MF Die                       Dope                   186067   \n",
              "...                                                        ...   \n",
              "Secret                           Quietdrive             258373   \n",
              "The Last of the Rest Was the End Medications            324000   \n",
              "Lovechild                        Daniel Lanois          516280   \n",
              "Last Inhale                      Tapage                 324258   \n",
              "Unfold                           Message To Bears       268440   \n",
              "\n",
              "                                                   time_signature  \\\n",
              "track                            artist                             \n",
              "'Till I Collapse                 Eminem                         4   \n",
              "St. Anger                        Metallica                      4   \n",
              "Speedin'                         Rick Ross                      4   \n",
              "Bamboo Banga                     M.I.A.                         4   \n",
              "Die MF Die                       Dope                           4   \n",
              "...                                                           ...   \n",
              "Secret                           Quietdrive                     4   \n",
              "The Last of the Rest Was the End Medications                    3   \n",
              "Lovechild                        Daniel Lanois                  4   \n",
              "Last Inhale                      Tapage                         4   \n",
              "Unfold                           Message To Bears               4   \n",
              "\n",
              "                                                   valence_tags  arousal_tags  \\\n",
              "track                            artist                                         \n",
              "'Till I Collapse                 Eminem                4.550000      5.273125   \n",
              "St. Anger                        Metallica             3.710000      5.833000   \n",
              "Speedin'                         Rick Ross             3.080000      5.870000   \n",
              "Bamboo Banga                     M.I.A.                6.555071      5.537214   \n",
              "Die MF Die                       Dope                  3.771176      5.348235   \n",
              "...                                                         ...           ...   \n",
              "Secret                           Quietdrive            5.370000      3.450000   \n",
              "The Last of the Rest Was the End Medications           5.370000      3.450000   \n",
              "Lovechild                        Daniel Lanois         6.685000      4.405000   \n",
              "Last Inhale                      Tapage                4.301667      3.341667   \n",
              "Unfold                           Message To Bears      3.340000      1.405000   \n",
              "\n",
              "                                                   dominance_tags  \n",
              "track                            artist                            \n",
              "'Till I Collapse                 Eminem                  5.690625  \n",
              "St. Anger                        Metallica               5.427250  \n",
              "Speedin'                         Rick Ross               5.490000  \n",
              "Bamboo Banga                     M.I.A.                  5.691357  \n",
              "Die MF Die                       Dope                    5.441765  \n",
              "...                                                           ...  \n",
              "Secret                           Quietdrive              5.330000  \n",
              "The Last of the Rest Was the End Medications             5.330000  \n",
              "Lovechild                        Daniel Lanois           5.625000  \n",
              "Last Inhale                      Tapage                  4.466667  \n",
              "Unfold                           Message To Bears        3.500000  \n",
              "\n",
              "[61627 rows x 8 columns]"
            ]
          },
          "execution_count": 6,
          "metadata": {},
          "output_type": "execute_result"
        }
      ],
      "source": [
        "songs_df"
      ]
    },
    {
      "cell_type": "code",
      "execution_count": 7,
      "metadata": {
        "colab": {
          "base_uri": "https://localhost:8080/"
        },
        "id": "C6wyCx4MqM79",
        "outputId": "b73205e3-aee6-4726-e66c-91d2df4c1ee5"
      },
      "outputs": [
        {
          "data": {
            "text/plain": [
              "True"
            ]
          },
          "execution_count": 7,
          "metadata": {},
          "output_type": "execute_result"
        }
      ],
      "source": [
        "# Check for duplicates\n",
        "songs_df.index.is_unique"
      ]
    },
    {
      "cell_type": "markdown",
      "metadata": {
        "id": "caik4_-rALuL"
      },
      "source": [
        "Model will take data as (`X_train`,`y_train`)\n",
        "- `X_train` is a 2D NumPy array of shape `n_samples` x `n_features`, i.e. one song per row, one metadata feature per column\n",
        "- `y_train` is just convert the \"mood\" column into a 1D NumPy array"
      ]
    },
    {
      "cell_type": "code",
      "execution_count": 8,
      "metadata": {
        "colab": {
          "base_uri": "https://localhost:8080/"
        },
        "id": "iHXhqrfrALuL",
        "outputId": "16e59172-aa63-4fb5-a49c-cf559ed4bec1"
      },
      "outputs": [
        {
          "data": {
            "text/plain": [
              "49301.600000000006"
            ]
          },
          "execution_count": 8,
          "metadata": {},
          "output_type": "execute_result"
        }
      ],
      "source": [
        "# How much should we take for training, testing?\n",
        "songs_df.index.size\n",
        "\n",
        "0.8 * songs_df.index.size"
      ]
    },
    {
      "cell_type": "code",
      "execution_count": 49,
      "metadata": {
        "id": "dgq7cI7qALuN"
      },
      "outputs": [],
      "source": [
        "import numpy as np\n",
        "from sklearn.model_selection import train_test_split\n",
        "\n",
        "DROP_COLS = VAL_COLS#+[\"artist\"]\n",
        "# use a constant random state for reproducibility\n",
        "# X = songs_df.drop(columns=DROP_COLS)\n",
        "# y = songs_df[VAL_COLS]\n",
        "X_train, X_test, y_train, y_test = train_test_split(songs_df.drop(columns=DROP_COLS), songs_df[VAL_COLS],\n",
        "                                                    test_size=0.2, random_state=42)"
      ]
    },
    {
      "cell_type": "markdown",
      "metadata": {
        "id": "H37XP3lkjmRk"
      },
      "source": [
        "# Model"
      ]
    },
    {
      "cell_type": "markdown",
      "metadata": {
        "id": "xUEpBWJMjmRk"
      },
      "source": [
        "## Set up Weights & Biases"
      ]
    },
    {
      "cell_type": "code",
      "execution_count": 10,
      "metadata": {
        "colab": {
          "base_uri": "https://localhost:8080/"
        },
        "id": "pbvQy8nkjmRk",
        "outputId": "5a2acff7-c866-4809-d1a2-6d8a60f61501"
      },
      "outputs": [
        {
          "name": "stderr",
          "output_type": "stream",
          "text": [
            "Failed to detect the name of this notebook, you can set it manually with the WANDB_NOTEBOOK_NAME environment variable to enable code saving.\n",
            "\u001b[34m\u001b[1mwandb\u001b[0m: Currently logged in as: \u001b[33mt0m_x\u001b[0m. Use \u001b[1m`wandb login --relogin`\u001b[0m to force relogin\n"
          ]
        },
        {
          "data": {
            "text/plain": [
              "True"
            ]
          },
          "execution_count": 10,
          "metadata": {},
          "output_type": "execute_result"
        }
      ],
      "source": [
        "import wandb\n",
        "wandb.login()"
      ]
    },
    {
      "cell_type": "markdown",
      "metadata": {
        "id": "mOdYtnvzALuN"
      },
      "source": [
        "## Multi-Layer Perceptron\n",
        "[PyTorch tutorial](https://pytorch.org/tutorials/beginner/basics/buildmodel_tutorial.html)\n",
        "\n",
        "[Building a Regression Model in PyTorch](https://machinelearningmastery.com/building-a-regression-model-in-pytorch/)\n",
        "\n",
        "[ChatGPT PyTorch Regression Model](https://chat.openai.com/share/8e1237ca-a45f-4abc-8740-25ca00d72bbf)"
      ]
    },
    {
      "cell_type": "code",
      "execution_count": 11,
      "metadata": {
        "id": "wvDGUdrDjmRl"
      },
      "outputs": [],
      "source": [
        "# from sklearn.neural_network import MLPRegressor\n",
        "\n",
        "# mlp = MLPRegressor(solver='lbfgs', hidden_layer_sizes=())\n",
        "\n",
        "# # terrible score lol\n",
        "# mlp_regression = mlp.fit(X_train, y_test)\n",
        "# print(mlp_regression.score(X_test, y_test))"
      ]
    },
    {
      "cell_type": "code",
      "execution_count": 12,
      "metadata": {
        "id": "DGH3cC9ujmRl"
      },
      "outputs": [],
      "source": [
        "import os\n",
        "import torch\n",
        "from torch import nn\n",
        "from torch.utils.data import DataLoader\n",
        "from torchvision import datasets, transforms"
      ]
    },
    {
      "cell_type": "code",
      "execution_count": 13,
      "metadata": {
        "colab": {
          "base_uri": "https://localhost:8080/"
        },
        "id": "Xa-3c8w1jmRl",
        "outputId": "33ce1e6d-87ac-48ba-ab73-50482fd5c423"
      },
      "outputs": [
        {
          "name": "stdout",
          "output_type": "stream",
          "text": [
            "Using cuda device\n"
          ]
        }
      ],
      "source": [
        "if torch.cuda.is_available():\n",
        "    device = torch.device(\"cuda\")\n",
        "elif torch.backends.mps.is_available():\n",
        "    device = torch.device(\"mps\")\n",
        "else:\n",
        "    device = torch.device(\"cpu\")\n",
        "print(f\"Using {device} device\")"
      ]
    },
    {
      "cell_type": "code",
      "execution_count": 14,
      "metadata": {
        "colab": {
          "base_uri": "https://localhost:8080/"
        },
        "id": "dSdLAJtLjmRl",
        "outputId": "222a578f-870f-4149-9320-0d234b2e187d"
      },
      "outputs": [
        {
          "name": "stdout",
          "output_type": "stream",
          "text": [
            "<class 'pandas.core.frame.DataFrame'>                                                                     key  \\\n",
            "track                                       artist                        \n",
            "Newst Flurries                              Brad Barr                11   \n",
            "Detting Te Deum                             Georg Friedrich Händel    2   \n",
            "Look What You've Done                       Tree63                    3   \n",
            "Alpha Incipient                             Fallujah                  6   \n",
            "Actors                                      Still Parade              6   \n",
            "...                                                                 ...   \n",
            "People Of The World                         Chris de Burgh            5   \n",
            "Electric                                    Davy Vain                 1   \n",
            "Born Like This                              Three Days Grace          7   \n",
            "Stay One                                    Tom Burbank               0   \n",
            "Within You Without You/Tomorrow Never Knows The Beatles               5   \n",
            "\n",
            "                                                                    loudness  \\\n",
            "track                                       artist                             \n",
            "Newst Flurries                              Brad Barr                -13.380   \n",
            "Detting Te Deum                             Georg Friedrich Händel   -13.997   \n",
            "Look What You've Done                       Tree63                    -6.068   \n",
            "Alpha Incipient                             Fallujah                  -2.551   \n",
            "Actors                                      Still Parade             -12.838   \n",
            "...                                                                      ...   \n",
            "People Of The World                         Chris de Burgh            -6.777   \n",
            "Electric                                    Davy Vain                 -4.368   \n",
            "Born Like This                              Three Days Grace          -5.847   \n",
            "Stay One                                    Tom Burbank              -12.185   \n",
            "Within You Without You/Tomorrow Never Knows The Beatles              -10.146   \n",
            "\n",
            "                                                                      tempo  \\\n",
            "track                                       artist                            \n",
            "Newst Flurries                              Brad Barr                79.744   \n",
            "Detting Te Deum                             Georg Friedrich Händel   92.181   \n",
            "Look What You've Done                       Tree63                  125.002   \n",
            "Alpha Incipient                             Fallujah                113.355   \n",
            "Actors                                      Still Parade             90.967   \n",
            "...                                                                     ...   \n",
            "People Of The World                         Chris de Burgh          105.421   \n",
            "Electric                                    Davy Vain               134.028   \n",
            "Born Like This                              Three Days Grace        159.989   \n",
            "Stay One                                    Tom Burbank             121.570   \n",
            "Within You Without You/Tomorrow Never Knows The Beatles             127.116   \n",
            "\n",
            "                                                                    duration_ms  \\\n",
            "track                                       artist                                \n",
            "Newst Flurries                              Brad Barr                    267227   \n",
            "Detting Te Deum                             Georg Friedrich Händel       245333   \n",
            "Look What You've Done                       Tree63                       273800   \n",
            "Alpha Incipient                             Fallujah                     214813   \n",
            "Actors                                      Still Parade                 241922   \n",
            "...                                                                         ...   \n",
            "People Of The World                         Chris de Burgh               229600   \n",
            "Electric                                    Davy Vain                    294360   \n",
            "Born Like This                              Three Days Grace             212387   \n",
            "Stay One                                    Tom Burbank                  236480   \n",
            "Within You Without You/Tomorrow Never Knows The Beatles                  187634   \n",
            "\n",
            "                                                                    time_signature  \n",
            "track                                       artist                                  \n",
            "Newst Flurries                              Brad Barr                            4  \n",
            "Detting Te Deum                             Georg Friedrich Händel               4  \n",
            "Look What You've Done                       Tree63                               4  \n",
            "Alpha Incipient                             Fallujah                             4  \n",
            "Actors                                      Still Parade                         4  \n",
            "...                                                                            ...  \n",
            "People Of The World                         Chris de Burgh                       4  \n",
            "Electric                                    Davy Vain                            4  \n",
            "Born Like This                              Three Days Grace                     4  \n",
            "Stay One                                    Tom Burbank                          4  \n",
            "Within You Without You/Tomorrow Never Knows The Beatles                          4  \n",
            "\n",
            "[49301 rows x 5 columns]\n"
          ]
        }
      ],
      "source": [
        "print(type(X_train), X_train)"
      ]
    },
    {
      "cell_type": "code",
      "execution_count": 15,
      "metadata": {
        "colab": {
          "base_uri": "https://localhost:8080/"
        },
        "id": "DhjXGGhrjmRm",
        "outputId": "aa441fa1-3ba7-4640-8c04-a372253e104f"
      },
      "outputs": [
        {
          "name": "stdout",
          "output_type": "stream",
          "text": [
            "                                              key  loudness    tempo  \\\n",
            "track                artist                                            \n",
            "Les OS               The Unicorns               7    -7.705  171.996   \n",
            "The Millennium       The Flood Plain           11    -7.086   88.444   \n",
            "Spring               The Innocence Mission     11   -11.309  141.594   \n",
            "Heavenly Day         Patty Griffin             11    -7.385  184.241   \n",
            "Finger Twist & Split Cute Is What We Aim For    9    -4.698  174.279   \n",
            "...                                           ...       ...      ...   \n",
            "In A Needle          The Used                   2    -4.565  119.978   \n",
            "Gnome Dosed          Androcell                  4    -6.931  185.947   \n",
            "My Apology           Floetry                   10    -7.808   98.680   \n",
            "Preamble             Kalliope                   4    -8.669   82.461   \n",
            "All Cats Are Grey    The Cure                   9   -13.913  110.114   \n",
            "\n",
            "                                              duration_ms  time_signature  \n",
            "track                artist                                                \n",
            "Les OS               The Unicorns                  212060               4  \n",
            "The Millennium       The Flood Plain               385653               4  \n",
            "Spring               The Innocence Mission         237213               5  \n",
            "Heavenly Day         Patty Griffin                 225400               3  \n",
            "Finger Twist & Split Cute Is What We Aim For       201227               4  \n",
            "...                                                   ...             ...  \n",
            "In A Needle          The Used                      236253               4  \n",
            "Gnome Dosed          Androcell                     441133               4  \n",
            "My Apology           Floetry                       246453               4  \n",
            "Preamble             Kalliope                      377760               4  \n",
            "All Cats Are Grey    The Cure                      327640               4  \n",
            "\n",
            "[12326 rows x 5 columns]\n"
          ]
        }
      ],
      "source": [
        "print(X_test)"
      ]
    },
    {
      "cell_type": "code",
      "execution_count": 16,
      "metadata": {
        "colab": {
          "base_uri": "https://localhost:8080/"
        },
        "id": "PEhDlGPgjmRm",
        "outputId": "661549ba-ff72-4cc5-ee3b-7b983fdec5d9"
      },
      "outputs": [
        {
          "name": "stdout",
          "output_type": "stream",
          "text": [
            "                                              valence_tags  arousal_tags  \\\n",
            "track                artist                                                \n",
            "Les OS               The Unicorns                 5.634675      4.371169   \n",
            "The Millennium       The Flood Plain              2.393333      2.526667   \n",
            "Spring               The Innocence Mission        6.905000      2.925000   \n",
            "Heavenly Day         Patty Griffin                6.561579      3.868421   \n",
            "Finger Twist & Split Cute Is What We Aim For      7.637500      4.900000   \n",
            "...                                                    ...           ...   \n",
            "In A Needle          The Used                     6.840000      3.810000   \n",
            "Gnome Dosed          Androcell                    5.581277      3.390426   \n",
            "My Apology           Floetry                      6.677647      3.392206   \n",
            "Preamble             Kalliope                     6.001905      4.455714   \n",
            "All Cats Are Grey    The Cure                     4.162949      3.578590   \n",
            "\n",
            "                                              dominance_tags  \n",
            "track                artist                                   \n",
            "Les OS               The Unicorns                   4.913247  \n",
            "The Millennium       The Flood Plain                2.816667  \n",
            "Spring               The Innocence Mission          6.550000  \n",
            "Heavenly Day         Patty Griffin                  6.178947  \n",
            "Finger Twist & Split Cute Is What We Aim For        5.912500  \n",
            "...                                                      ...  \n",
            "In A Needle          The Used                       5.760000  \n",
            "Gnome Dosed          Androcell                      5.889574  \n",
            "My Apology           Floetry                        6.266176  \n",
            "Preamble             Kalliope                       5.610000  \n",
            "All Cats Are Grey    The Cure                       4.250769  \n",
            "\n",
            "[12326 rows x 3 columns]\n"
          ]
        }
      ],
      "source": [
        "print(y_test)"
      ]
    },
    {
      "cell_type": "code",
      "execution_count": 17,
      "metadata": {
        "colab": {
          "base_uri": "https://localhost:8080/"
        },
        "id": "4xrkG4R3jmRm",
        "outputId": "e11d021a-cd13-43c1-e124-e94d28f5a215"
      },
      "outputs": [
        {
          "name": "stdout",
          "output_type": "stream",
          "text": [
            "                                                                    valence_tags  \\\n",
            "track                                       artist                                 \n",
            "Newst Flurries                              Brad Barr                   7.212500   \n",
            "Detting Te Deum                             Georg Friedrich Händel      6.950000   \n",
            "Look What You've Done                       Tree63                      6.844667   \n",
            "Alpha Incipient                             Fallujah                    5.753333   \n",
            "Actors                                      Still Parade                2.860539   \n",
            "...                                                                          ...   \n",
            "People Of The World                         Chris de Burgh              7.105000   \n",
            "Electric                                    Davy Vain                   3.850000   \n",
            "Born Like This                              Three Days Grace            4.439500   \n",
            "Stay One                                    Tom Burbank                 3.050000   \n",
            "Within You Without You/Tomorrow Never Knows The Beatles                 3.867922   \n",
            "\n",
            "                                                                    arousal_tags  \\\n",
            "track                                       artist                                 \n",
            "Newst Flurries                              Brad Barr                   4.197500   \n",
            "Detting Te Deum                             Georg Friedrich Händel      5.000000   \n",
            "Look What You've Done                       Tree63                      4.564667   \n",
            "Alpha Incipient                             Fallujah                    4.333333   \n",
            "Actors                                      Still Parade                1.219641   \n",
            "...                                                                          ...   \n",
            "People Of The World                         Chris de Burgh              3.625000   \n",
            "Electric                                    Davy Vain                   5.640000   \n",
            "Born Like This                              Three Days Grace            5.094500   \n",
            "Stay One                                    Tom Burbank                 3.050000   \n",
            "Within You Without You/Tomorrow Never Knows The Beatles                 2.736753   \n",
            "\n",
            "                                                                    dominance_tags  \n",
            "track                                       artist                                  \n",
            "Newst Flurries                              Brad Barr                     6.475000  \n",
            "Detting Te Deum                             Georg Friedrich Händel        5.120000  \n",
            "Look What You've Done                       Tree63                        6.344000  \n",
            "Alpha Incipient                             Fallujah                      5.506667  \n",
            "Actors                                      Still Parade                  2.447305  \n",
            "...                                                                            ...  \n",
            "People Of The World                         Chris de Burgh                6.685000  \n",
            "Electric                                    Davy Vain                     4.600000  \n",
            "Born Like This                              Three Days Grace              4.950000  \n",
            "Stay One                                    Tom Burbank                   5.790000  \n",
            "Within You Without You/Tomorrow Never Knows The Beatles                   3.050779  \n",
            "\n",
            "[49301 rows x 3 columns]\n"
          ]
        }
      ],
      "source": [
        "print(y_train)"
      ]
    },
    {
      "cell_type": "code",
      "execution_count": 18,
      "metadata": {
        "colab": {
          "base_uri": "https://localhost:8080/"
        },
        "id": "UL8V7_gcjmRm",
        "outputId": "0253cbbf-0738-4ca3-ab23-3cfc249f34df"
      },
      "outputs": [
        {
          "name": "stdout",
          "output_type": "stream",
          "text": [
            "Shape of X_test: (12326, 5)\n",
            "Shape of y_test: (12326, 3)\n"
          ]
        }
      ],
      "source": [
        "print(\"Shape of X_test:\", X_test.shape)\n",
        "print(\"Shape of y_test:\", y_test.shape)"
      ]
    },
    {
      "cell_type": "code",
      "execution_count": 19,
      "metadata": {
        "id": "AmBLVg08jmRm"
      },
      "outputs": [],
      "source": [
        "# credit: https://stackoverflow.com/questions/71198218/the-simple-mlp-nn-for-regression-in-pytorch-very-slow-learning-rev2\n",
        "\n",
        "class NeuralNetwork(nn.Module):\n",
        "    def __init__(self, input_size, hidden_size1, hidden_size2, output_size, dropout_p=0.5):\n",
        "        super(NeuralNetwork, self).__init__()\n",
        "        self.fc1 = nn.Linear(input_size, hidden_size1).double()\n",
        "        self.fc2 = nn.Linear(hidden_size1, hidden_size2).double()\n",
        "        self.fc3 = nn.Linear(hidden_size2, output_size).double()\n",
        "        self.dropout = nn.Dropout(dropout_p).double()\n",
        "\n",
        "    def forward(self, x):\n",
        "        x = torch.relu(self.fc1(x))\n",
        "        x = self.dropout(x)\n",
        "        x = torch.relu(self.fc2(x))\n",
        "        x = self.dropout(x)\n",
        "        x = self.fc3(x)\n",
        "        return x"
      ]
    },
    {
      "cell_type": "code",
      "execution_count": 20,
      "metadata": {
        "id": "w9aPHaCxjmRn"
      },
      "outputs": [],
      "source": [
        "from torch.utils.data import DataLoader, TensorDataset\n",
        "# # convert dataframe to PyTorch Tensor\n",
        "# X_train_tensor = torch.tensor(X_train.values, dtype=torch.float32).to(device)\n",
        "# X_test_tensor = torch.tensor(X_test.values, dtype=torch.float32).to(device)\n",
        "# y_train_tensor = torch.tensor(y_train.values, dtype=torch.float32).to(device)\n",
        "# y_test_tensor = torch.tensor(y_test.values, dtype=torch.float32).to(device)\n",
        "# train_dataset = TensorDataset(X_train_tensor, y_train_tensor)\n",
        "# test_dataset = TensorDataset(X_test_tensor, y_test_tensor)\n",
        "batch_size = 64"
      ]
    },
    {
      "cell_type": "markdown",
      "metadata": {
        "id": "DYyW36A1jmRn"
      },
      "source": [
        "Clean up data retrieving and storage with a [custom PyTorch DataSet class](https://pytorch.org/tutorials/beginner/basics/data_tutorial.html)."
      ]
    },
    {
      "cell_type": "code",
      "execution_count": 50,
      "metadata": {
        "id": "t5bgH3X8uSXI"
      },
      "outputs": [],
      "source": [
        "from torch.utils.data import DataLoader, TensorDataset\n",
        "batch_size = 64\n",
        "\n",
        "class SongMetaDataSet(torch.utils.data.Dataset):\n",
        "    def __init__(self, X: pd.DataFrame, y: pd.DataFrame):\n",
        "        \"\"\"\n",
        "        X is a tensor or DataFrame of the input features (i.e. song metadata), one row per song.\n",
        "        y is a tensor or DataFrame of the target values (i.e. valence, arousal, dominance), one row per song.\n",
        "        __All must have the (song name, artist) as the multi-index.__\n",
        "        \"\"\"\n",
        "        # sort all by index to ensure they match\n",
        "        for inp in (X, y):\n",
        "            if not isinstance(inp, pd.DataFrame):\n",
        "                raise ValueError(f\"{inp} must be a pandas DataFrame\")\n",
        "            if len(inp.index.names) < 2:\n",
        "                raise ValueError(f\"{inp} must have song names and artists in its index\")\n",
        "        if len(X.index) != len(y.index):\n",
        "            raise ValueError(\"X and y must be the same length\")\n",
        "\n",
        "        self.X = X\n",
        "        # self.X.sort_index(inplace=True)\n",
        "        self.y = y\n",
        "        # self.y.sort_index(inplace=True)\n",
        "\n",
        "    def __len__(self):\n",
        "        return len(self.X.index)\n",
        "\n",
        "    def __getitem__(self, idx) -> tuple[tuple[str,str], torch.Tensor, torch.Tensor]:\n",
        "        \"\"\"\n",
        "        The returned tuple contains:\n",
        "            1. a tuple of the song's (name, artist)\n",
        "            2. the input features vector for this song\n",
        "            3. the target vector (V, A, D values) for this song\n",
        "        \"\"\"\n",
        "        # keep intermediate for y to extract index = (name, artist)\n",
        "        labels_df = self.y.iloc[[idx]]\n",
        "        if len(labels_df.index) > 1:\n",
        "            print(\"Warning: indexing DataSet gave more than one song, only keeping the first\")\n",
        "        # > PyTorch's DataLoader will automatically stack the arrays along the first dimension (axis 0) when creating a batch\n",
        "        #       ^ credit: Google Colab AI\n",
        "        # but don't care, don't need to batch during testing\n",
        "        IDs_pair = labels_df.index.values[0]\n",
        "        return IDs_pair, torch.from_numpy(self.X.values[idx]), torch.from_numpy(labels_df.values)\n",
        "\n",
        "def make_song_dataset(songs_df: pd.DataFrame, input_cols: list[str], label_cols: list[str]) -> SongMetaDataSet:\n",
        "    \"\"\"\n",
        "    songs_df is a DataFrame of song metadata, with the song names as the index.\n",
        "    input_cols is a list of columns to use as the input features (i.e. tempo, key, loudness).\n",
        "    id_cols is a list of columns to include in the identifying information for each song.\n",
        "    label_cols is a list of columns to use as the target values (i.e. valence, arousal, dominance).\n",
        "    \"\"\"\n",
        "    X = songs_df[input_cols]\n",
        "    y = songs_df[label_cols]\n",
        "    return SongMetaDataSet(X, y)"
      ]
    },
    {
      "cell_type": "code",
      "execution_count": 51,
      "metadata": {
        "id": "fSIraUINzQca"
      },
      "outputs": [],
      "source": [
        "# songs_df.loc[X_test.index]"
      ]
    },
    {
      "cell_type": "code",
      "execution_count": 52,
      "metadata": {
        "id": "RzKcTfFojmRn"
      },
      "outputs": [],
      "source": [
        "# train_idx = X_train.index.values\n",
        "# test_idx = X_test.index.values\n",
        "# print(songs_df.loc[train_idx, KEEP_COLS_MODEL], songs_df.loc[train_idx, VAL_COLS], songs_df.loc[train_idx, \"artist\"])\n",
        "\n",
        "train_dataset = make_song_dataset(songs_df.loc[X_train.index], KEEP_COLS_MODEL, VAL_COLS)\n",
        "test_dataset = make_song_dataset(songs_df.loc[X_test.index], KEEP_COLS_MODEL, VAL_COLS)\n",
        "train_loader = DataLoader(train_dataset, batch_size=batch_size, shuffle=True, pin_memory=True)\n",
        "test_loader = DataLoader(test_dataset, batch_size=1, shuffle=False, pin_memory=True)"
      ]
    },
    {
      "cell_type": "code",
      "execution_count": 53,
      "metadata": {
        "colab": {
          "base_uri": "https://localhost:8080/"
        },
        "id": "1cMz3BVSjmRn",
        "outputId": "9e8a6c02-7ded-4b8b-9356-1ed57383bd8c"
      },
      "outputs": [
        {
          "data": {
            "text/plain": [
              "(('Newst Flurries', 'Brad Barr'),\n",
              " tensor([ 7.9744e+01,  1.1000e+01, -1.3380e+01,  4.0000e+00,  2.6723e+05],\n",
              "        dtype=torch.float64),\n",
              " tensor([[7.2125, 4.1975, 6.4750]], dtype=torch.float64))"
            ]
          },
          "execution_count": 53,
          "metadata": {},
          "output_type": "execute_result"
        }
      ],
      "source": [
        "train_dataset[0]"
      ]
    },
    {
      "cell_type": "code",
      "execution_count": 54,
      "metadata": {
        "colab": {
          "base_uri": "https://localhost:8080/"
        },
        "id": "mUeBXtH3kYgX",
        "outputId": "49d3b84b-8630-4ceb-b96b-092579de53cb"
      },
      "outputs": [
        {
          "name": "stdout",
          "output_type": "stream",
          "text": [
            "Loader  <torch.utils.data.dataloader.DataLoader object at 0x7fa3a1dbb650>\n",
            "The Plain of Ida by Blut aus Nord\n",
            "\tInputs: torch.Size([64, 5]) torch.float64\n",
            "\tLabel: torch.Size([64, 1, 3]) torch.float64\n",
            "Loader  <torch.utils.data.dataloader.DataLoader object at 0x7fa3a1cd4b30>\n",
            "Les OS by The Unicorns\n",
            "\tInputs: torch.Size([1, 5]) torch.float64\n",
            "\tLabel: torch.Size([1, 1, 3]) torch.float64\n"
          ]
        }
      ],
      "source": [
        "for loader in [train_loader, test_loader]:\n",
        "    print(\"Loader \", loader)\n",
        "    for name_artist_pair, inputs, targets in loader:\n",
        "        name, artist = name_artist_pair[0][0], name_artist_pair[1][0]\n",
        "        print(f\"{name} by {artist}\")\n",
        "        # print(f\"{name_artist_pair[0]} by {name_artist_pair[1]}:\")\n",
        "        print(\"\\tInputs:\", inputs.shape, inputs.dtype)\n",
        "        print(\"\\tLabel:\", targets.shape, inputs.dtype)\n",
        "        break"
      ]
    },
    {
      "cell_type": "code",
      "execution_count": null,
      "metadata": {
        "colab": {
          "base_uri": "https://localhost:8080/"
        },
        "id": "eRP_oqWUjmRn",
        "outputId": "5a3a0117-624c-491c-f462-94ed3d4220f0"
      },
      "outputs": [
        {
          "data": {
            "text/plain": [
              "5"
            ]
          },
          "execution_count": 27,
          "metadata": {},
          "output_type": "execute_result"
        }
      ],
      "source": [
        "# input_size = X_train.shape[1]\n",
        "# hidden_size1 = 6\n",
        "# hidden_size2 = 4\n",
        "# output_size = y_train.shape[1]  # Assuming y_train has multiple output columns\n",
        "# model = NeuralNetwork(input_size, hidden_size1, hidden_size2, output_size).to(device)\n",
        "\n",
        "sweep_config = {\n",
        "    \"name\": \"MLP Sweep\",\n",
        "    \"method\": \"grid\",\n",
        "    \"metric\": {\"goal\": \"minimize\", \"name\": \"test loss\"},\n",
        "    \"parameters\": {\n",
        "        \"input_size\": {\"values\": [X_train.shape[1]]},\n",
        "        \"hidden_size1\": {\"values\": list(range(3,9))},\n",
        "        \"hidden_size2\": {\"values\": list(range(3,9))},\n",
        "        \"output_size\": {\"values\": [y_train.shape[1]]},\n",
        "        \"epochs\": {\"values\": [5, 10, 15]},\n",
        "        \"dropout_p\": {\"values\": [0.3, 0.5, 0.7]},\n",
        "        \"learning_rate\": {\"values\": [0.001, 0.01, 0.1]}\n",
        "    }\n",
        "}\n",
        "X_train.shape[1]"
      ]
    },
    {
      "cell_type": "code",
      "execution_count": null,
      "metadata": {
        "colab": {
          "base_uri": "https://localhost:8080/"
        },
        "id": "2sJJ7XTDjmRo",
        "outputId": "eac69603-928b-4ec9-d6de-e7af3c1f4036"
      },
      "outputs": [
        {
          "name": "stdout",
          "output_type": "stream",
          "text": [
            "Create sweep with ID: lohmygvl\n",
            "Sweep URL: https://wandb.ai/t0m_x/Music%20Mood%20Prediction/sweeps/lohmygvl\n"
          ]
        }
      ],
      "source": [
        "sweep_id = wandb.sweep(sweep_config, project=\"Music Mood Prediction\")"
      ]
    },
    {
      "cell_type": "code",
      "execution_count": null,
      "metadata": {
        "colab": {
          "base_uri": "https://localhost:8080/",
          "height": 354
        },
        "id": "iDlNhkuajmRo",
        "outputId": "4f8616bd-a8a6-425d-c2ae-eb6829693fbe"
      },
      "outputs": [
        {
          "name": "stderr",
          "output_type": "stream",
          "text": [
            "\u001b[34m\u001b[1mwandb\u001b[0m: Agent Starting Run: rz2lkaow with config:\n",
            "\u001b[34m\u001b[1mwandb\u001b[0m: \tdropout_p: 0.3\n",
            "\u001b[34m\u001b[1mwandb\u001b[0m: \tepochs: 5\n",
            "\u001b[34m\u001b[1mwandb\u001b[0m: \thidden_size1: 3\n",
            "\u001b[34m\u001b[1mwandb\u001b[0m: \thidden_size2: 3\n",
            "\u001b[34m\u001b[1mwandb\u001b[0m: \tinput_size: 5\n",
            "\u001b[34m\u001b[1mwandb\u001b[0m: \tlearning_rate: 0.001\n",
            "\u001b[34m\u001b[1mwandb\u001b[0m: \toutput_size: 3\n",
            "Failed to detect the name of this notebook, you can set it manually with the WANDB_NOTEBOOK_NAME environment variable to enable code saving.\n",
            "\u001b[34m\u001b[1mwandb\u001b[0m: \u001b[33mWARNING\u001b[0m Ignored wandb.init() arg project when running a sweep.\n"
          ]
        },
        {
          "data": {
            "text/html": [
              "wandb version 0.16.6 is available!  To upgrade, please run:\n",
              " $ pip install wandb --upgrade"
            ],
            "text/plain": [
              "<IPython.core.display.HTML object>"
            ]
          },
          "metadata": {},
          "output_type": "display_data"
        },
        {
          "data": {
            "text/html": [
              "Tracking run with wandb version 0.16.5"
            ],
            "text/plain": [
              "<IPython.core.display.HTML object>"
            ]
          },
          "metadata": {},
          "output_type": "display_data"
        },
        {
          "data": {
            "text/html": [
              "Run data is saved locally in <code>/usr/shared/CMPT/scratch/wxa38/CMPT353Project/wandb/run-20240410_153802-rz2lkaow</code>"
            ],
            "text/plain": [
              "<IPython.core.display.HTML object>"
            ]
          },
          "metadata": {},
          "output_type": "display_data"
        },
        {
          "data": {
            "text/html": [
              "Syncing run <strong><a href='https://wandb.ai/t0m_x/Music%20Mood%20Prediction/runs/rz2lkaow/workspace' target=\"_blank\">MLP Regressor</a></strong> to <a href='https://wandb.ai/t0m_x/Music%20Mood%20Prediction' target=\"_blank\">Weights & Biases</a> (<a href='https://wandb.me/run' target=\"_blank\">docs</a>)<br/>Sweep page: <a href='https://wandb.ai/t0m_x/Music%20Mood%20Prediction/sweeps/lohmygvl' target=\"_blank\">https://wandb.ai/t0m_x/Music%20Mood%20Prediction/sweeps/lohmygvl</a>"
            ],
            "text/plain": [
              "<IPython.core.display.HTML object>"
            ]
          },
          "metadata": {},
          "output_type": "display_data"
        },
        {
          "data": {
            "text/html": [
              " View project at <a href='https://wandb.ai/t0m_x/Music%20Mood%20Prediction' target=\"_blank\">https://wandb.ai/t0m_x/Music%20Mood%20Prediction</a>"
            ],
            "text/plain": [
              "<IPython.core.display.HTML object>"
            ]
          },
          "metadata": {},
          "output_type": "display_data"
        },
        {
          "data": {
            "text/html": [
              " View sweep at <a href='https://wandb.ai/t0m_x/Music%20Mood%20Prediction/sweeps/lohmygvl' target=\"_blank\">https://wandb.ai/t0m_x/Music%20Mood%20Prediction/sweeps/lohmygvl</a>"
            ],
            "text/plain": [
              "<IPython.core.display.HTML object>"
            ]
          },
          "metadata": {},
          "output_type": "display_data"
        },
        {
          "data": {
            "text/html": [
              " View run at <a href='https://wandb.ai/t0m_x/Music%20Mood%20Prediction/runs/rz2lkaow/workspace' target=\"_blank\">https://wandb.ai/t0m_x/Music%20Mood%20Prediction/runs/rz2lkaow/workspace</a>"
            ],
            "text/plain": [
              "<IPython.core.display.HTML object>"
            ]
          },
          "metadata": {},
          "output_type": "display_data"
        },
        {
          "name": "stderr",
          "output_type": "stream",
          "text": [
            "/usr/shared/CMPT/scratch/wxa38/miniforge3/envs/musemotion_meta/lib/python3.12/site-packages/torch/nn/modules/loss.py:535: UserWarning: Using a target size (torch.Size([64, 1, 3])) that is different to the input size (torch.Size([64, 3])). This will likely lead to incorrect results due to broadcasting. Please ensure they have the same size.\n",
            "  return F.mse_loss(input, target, reduction=self.reduction)\n",
            "/usr/shared/CMPT/scratch/wxa38/miniforge3/envs/musemotion_meta/lib/python3.12/site-packages/torch/nn/modules/loss.py:535: UserWarning: Using a target size (torch.Size([21, 1, 3])) that is different to the input size (torch.Size([21, 3])). This will likely lead to incorrect results due to broadcasting. Please ensure they have the same size.\n",
            "  return F.mse_loss(input, target, reduction=self.reduction)\n",
            "Traceback (most recent call last):\n",
            "  File \"/tmp/ipykernel_51915/2379712853.py\", line 86, in pipeline\n",
            "    test_loss = test(test_loader, model, criterion)\n",
            "                ^^^^^^^^^^^^^^^^^^^^^^^^^^^^^^^^^^^\n",
            "  File \"/tmp/ipykernel_51915/2379712853.py\", line 45, in test\n",
            "    outputs = model(inputs)\n",
            "              ^^^^^^^^^^^^^\n",
            "  File \"/usr/shared/CMPT/scratch/wxa38/miniforge3/envs/musemotion_meta/lib/python3.12/site-packages/torch/nn/modules/module.py\", line 1511, in _wrapped_call_impl\n",
            "    return self._call_impl(*args, **kwargs)\n",
            "           ^^^^^^^^^^^^^^^^^^^^^^^^^^^^^^^^\n",
            "  File \"/usr/shared/CMPT/scratch/wxa38/miniforge3/envs/musemotion_meta/lib/python3.12/site-packages/torch/nn/modules/module.py\", line 1561, in _call_impl\n",
            "    result = forward_call(*args, **kwargs)\n",
            "             ^^^^^^^^^^^^^^^^^^^^^^^^^^^^^\n",
            "  File \"/tmp/ipykernel_51915/790155187.py\", line 12, in forward\n",
            "    x = torch.relu(self.fc1(x))\n",
            "                   ^^^^^^^^^^^\n",
            "  File \"/usr/shared/CMPT/scratch/wxa38/miniforge3/envs/musemotion_meta/lib/python3.12/site-packages/torch/nn/modules/module.py\", line 1511, in _wrapped_call_impl\n",
            "    return self._call_impl(*args, **kwargs)\n",
            "           ^^^^^^^^^^^^^^^^^^^^^^^^^^^^^^^^\n",
            "  File \"/usr/shared/CMPT/scratch/wxa38/miniforge3/envs/musemotion_meta/lib/python3.12/site-packages/torch/nn/modules/module.py\", line 1520, in _call_impl\n",
            "    return forward_call(*args, **kwargs)\n",
            "           ^^^^^^^^^^^^^^^^^^^^^^^^^^^^^\n",
            "  File \"/usr/shared/CMPT/scratch/wxa38/miniforge3/envs/musemotion_meta/lib/python3.12/site-packages/torch/nn/modules/linear.py\", line 116, in forward\n",
            "    return F.linear(input, self.weight, self.bias)\n",
            "           ^^^^^^^^^^^^^^^^^^^^^^^^^^^^^^^^^^^^^^^\n",
            "RuntimeError: Expected all tensors to be on the same device, but found at least two devices, cuda:0 and cpu! (when checking argument for argument mat1 in method wrapper_CUDA_addmm)\n"
          ]
        },
        {
          "data": {
            "application/vnd.jupyter.widget-view+json": {
              "model_id": "22a9033d93b84c9eab5860b3f54bcb37",
              "version_major": 2,
              "version_minor": 0
            },
            "text/plain": [
              "VBox(children=(Label(value='0.004 MB of 0.004 MB uploaded\\r'), FloatProgress(value=1.0, max=1.0)))"
            ]
          },
          "metadata": {},
          "output_type": "display_data"
        },
        {
          "data": {
            "text/html": [
              "<style>\n",
              "    table.wandb td:nth-child(1) { padding: 0 10px; text-align: left ; width: auto;} td:nth-child(2) {text-align: left ; width: 100%}\n",
              "    .wandb-row { display: flex; flex-direction: row; flex-wrap: wrap; justify-content: flex-start; width: 100% }\n",
              "    .wandb-col { display: flex; flex-direction: column; flex-basis: 100%; flex: 1; padding: 10px; }\n",
              "    </style>\n",
              "<div class=\"wandb-row\"><div class=\"wandb-col\"><h3>Run history:</h3><br/><table class=\"wandb\"><tr><td>epoch</td><td>▁▃▅▆█</td></tr><tr><td>train loss</td><td>█▁▁▁▁</td></tr></table><br/></div><div class=\"wandb-col\"><h3>Run summary:</h3><br/><table class=\"wandb\"><tr><td>epoch</td><td>4</td></tr><tr><td>train loss</td><td>25.95429</td></tr></table><br/></div></div>"
            ],
            "text/plain": [
              "<IPython.core.display.HTML object>"
            ]
          },
          "metadata": {},
          "output_type": "display_data"
        },
        {
          "data": {
            "text/html": [
              " View run <strong style=\"color:#cdcd00\">MLP Regressor</strong> at: <a href='https://wandb.ai/t0m_x/Music%20Mood%20Prediction/runs/rz2lkaow/workspace' target=\"_blank\">https://wandb.ai/t0m_x/Music%20Mood%20Prediction/runs/rz2lkaow/workspace</a><br/>Synced 5 W&B file(s), 0 media file(s), 0 artifact file(s) and 0 other file(s)"
            ],
            "text/plain": [
              "<IPython.core.display.HTML object>"
            ]
          },
          "metadata": {},
          "output_type": "display_data"
        },
        {
          "data": {
            "text/html": [
              "Find logs at: <code>./wandb/run-20240410_153802-rz2lkaow/logs</code>"
            ],
            "text/plain": [
              "<IPython.core.display.HTML object>"
            ]
          },
          "metadata": {},
          "output_type": "display_data"
        },
        {
          "name": "stderr",
          "output_type": "stream",
          "text": [
            "Run rz2lkaow errored:\n",
            "Traceback (most recent call last):\n",
            "  File \"/usr/shared/CMPT/scratch/wxa38/miniforge3/envs/musemotion_meta/lib/python3.12/site-packages/wandb/agents/pyagent.py\", line 308, in _run_job\n",
            "    self._function()\n",
            "  File \"/tmp/ipykernel_51915/2379712853.py\", line 86, in pipeline\n",
            "    test_loss = test(test_loader, model, criterion)\n",
            "                ^^^^^^^^^^^^^^^^^^^^^^^^^^^^^^^^^^^\n",
            "  File \"/tmp/ipykernel_51915/2379712853.py\", line 45, in test\n",
            "    outputs = model(inputs)\n",
            "              ^^^^^^^^^^^^^\n",
            "  File \"/usr/shared/CMPT/scratch/wxa38/miniforge3/envs/musemotion_meta/lib/python3.12/site-packages/torch/nn/modules/module.py\", line 1511, in _wrapped_call_impl\n",
            "    return self._call_impl(*args, **kwargs)\n",
            "           ^^^^^^^^^^^^^^^^^^^^^^^^^^^^^^^^\n",
            "  File \"/usr/shared/CMPT/scratch/wxa38/miniforge3/envs/musemotion_meta/lib/python3.12/site-packages/torch/nn/modules/module.py\", line 1561, in _call_impl\n",
            "    result = forward_call(*args, **kwargs)\n",
            "             ^^^^^^^^^^^^^^^^^^^^^^^^^^^^^\n",
            "  File \"/tmp/ipykernel_51915/790155187.py\", line 12, in forward\n",
            "    x = torch.relu(self.fc1(x))\n",
            "                   ^^^^^^^^^^^\n",
            "  File \"/usr/shared/CMPT/scratch/wxa38/miniforge3/envs/musemotion_meta/lib/python3.12/site-packages/torch/nn/modules/module.py\", line 1511, in _wrapped_call_impl\n",
            "    return self._call_impl(*args, **kwargs)\n",
            "           ^^^^^^^^^^^^^^^^^^^^^^^^^^^^^^^^\n",
            "  File \"/usr/shared/CMPT/scratch/wxa38/miniforge3/envs/musemotion_meta/lib/python3.12/site-packages/torch/nn/modules/module.py\", line 1520, in _call_impl\n",
            "    return forward_call(*args, **kwargs)\n",
            "           ^^^^^^^^^^^^^^^^^^^^^^^^^^^^^\n",
            "  File \"/usr/shared/CMPT/scratch/wxa38/miniforge3/envs/musemotion_meta/lib/python3.12/site-packages/torch/nn/modules/linear.py\", line 116, in forward\n",
            "    return F.linear(input, self.weight, self.bias)\n",
            "           ^^^^^^^^^^^^^^^^^^^^^^^^^^^^^^^^^^^^^^^\n",
            "RuntimeError: Expected all tensors to be on the same device, but found at least two devices, cuda:0 and cpu! (when checking argument for argument mat1 in method wrapper_CUDA_addmm)\n",
            "\n",
            "\u001b[34m\u001b[1mwandb\u001b[0m: \u001b[32m\u001b[41mERROR\u001b[0m Run rz2lkaow errored:\n",
            "\u001b[34m\u001b[1mwandb\u001b[0m: \u001b[32m\u001b[41mERROR\u001b[0m Traceback (most recent call last):\n",
            "\u001b[34m\u001b[1mwandb\u001b[0m: \u001b[32m\u001b[41mERROR\u001b[0m   File \"/usr/shared/CMPT/scratch/wxa38/miniforge3/envs/musemotion_meta/lib/python3.12/site-packages/wandb/agents/pyagent.py\", line 308, in _run_job\n",
            "\u001b[34m\u001b[1mwandb\u001b[0m: \u001b[32m\u001b[41mERROR\u001b[0m     self._function()\n",
            "\u001b[34m\u001b[1mwandb\u001b[0m: \u001b[32m\u001b[41mERROR\u001b[0m   File \"/tmp/ipykernel_51915/2379712853.py\", line 86, in pipeline\n",
            "\u001b[34m\u001b[1mwandb\u001b[0m: \u001b[32m\u001b[41mERROR\u001b[0m     test_loss = test(test_loader, model, criterion)\n",
            "\u001b[34m\u001b[1mwandb\u001b[0m: \u001b[32m\u001b[41mERROR\u001b[0m                 ^^^^^^^^^^^^^^^^^^^^^^^^^^^^^^^^^^^\n",
            "\u001b[34m\u001b[1mwandb\u001b[0m: \u001b[32m\u001b[41mERROR\u001b[0m   File \"/tmp/ipykernel_51915/2379712853.py\", line 45, in test\n",
            "\u001b[34m\u001b[1mwandb\u001b[0m: \u001b[32m\u001b[41mERROR\u001b[0m     outputs = model(inputs)\n",
            "\u001b[34m\u001b[1mwandb\u001b[0m: \u001b[32m\u001b[41mERROR\u001b[0m               ^^^^^^^^^^^^^\n",
            "\u001b[34m\u001b[1mwandb\u001b[0m: \u001b[32m\u001b[41mERROR\u001b[0m   File \"/usr/shared/CMPT/scratch/wxa38/miniforge3/envs/musemotion_meta/lib/python3.12/site-packages/torch/nn/modules/module.py\", line 1511, in _wrapped_call_impl\n",
            "\u001b[34m\u001b[1mwandb\u001b[0m: \u001b[32m\u001b[41mERROR\u001b[0m     return self._call_impl(*args, **kwargs)\n",
            "\u001b[34m\u001b[1mwandb\u001b[0m: \u001b[32m\u001b[41mERROR\u001b[0m            ^^^^^^^^^^^^^^^^^^^^^^^^^^^^^^^^\n",
            "\u001b[34m\u001b[1mwandb\u001b[0m: \u001b[32m\u001b[41mERROR\u001b[0m   File \"/usr/shared/CMPT/scratch/wxa38/miniforge3/envs/musemotion_meta/lib/python3.12/site-packages/torch/nn/modules/module.py\", line 1561, in _call_impl\n",
            "\u001b[34m\u001b[1mwandb\u001b[0m: \u001b[32m\u001b[41mERROR\u001b[0m     result = forward_call(*args, **kwargs)\n",
            "\u001b[34m\u001b[1mwandb\u001b[0m: \u001b[32m\u001b[41mERROR\u001b[0m              ^^^^^^^^^^^^^^^^^^^^^^^^^^^^^\n",
            "\u001b[34m\u001b[1mwandb\u001b[0m: \u001b[32m\u001b[41mERROR\u001b[0m   File \"/tmp/ipykernel_51915/790155187.py\", line 12, in forward\n",
            "\u001b[34m\u001b[1mwandb\u001b[0m: \u001b[32m\u001b[41mERROR\u001b[0m     x = torch.relu(self.fc1(x))\n",
            "\u001b[34m\u001b[1mwandb\u001b[0m: \u001b[32m\u001b[41mERROR\u001b[0m                    ^^^^^^^^^^^\n",
            "\u001b[34m\u001b[1mwandb\u001b[0m: \u001b[32m\u001b[41mERROR\u001b[0m   File \"/usr/shared/CMPT/scratch/wxa38/miniforge3/envs/musemotion_meta/lib/python3.12/site-packages/torch/nn/modules/module.py\", line 1511, in _wrapped_call_impl\n",
            "\u001b[34m\u001b[1mwandb\u001b[0m: \u001b[32m\u001b[41mERROR\u001b[0m     return self._call_impl(*args, **kwargs)\n",
            "\u001b[34m\u001b[1mwandb\u001b[0m: \u001b[32m\u001b[41mERROR\u001b[0m            ^^^^^^^^^^^^^^^^^^^^^^^^^^^^^^^^\n",
            "\u001b[34m\u001b[1mwandb\u001b[0m: \u001b[32m\u001b[41mERROR\u001b[0m   File \"/usr/shared/CMPT/scratch/wxa38/miniforge3/envs/musemotion_meta/lib/python3.12/site-packages/torch/nn/modules/module.py\", line 1520, in _call_impl\n",
            "\u001b[34m\u001b[1mwandb\u001b[0m: \u001b[32m\u001b[41mERROR\u001b[0m     return forward_call(*args, **kwargs)\n",
            "\u001b[34m\u001b[1mwandb\u001b[0m: \u001b[32m\u001b[41mERROR\u001b[0m            ^^^^^^^^^^^^^^^^^^^^^^^^^^^^^\n",
            "\u001b[34m\u001b[1mwandb\u001b[0m: \u001b[32m\u001b[41mERROR\u001b[0m   File \"/usr/shared/CMPT/scratch/wxa38/miniforge3/envs/musemotion_meta/lib/python3.12/site-packages/torch/nn/modules/linear.py\", line 116, in forward\n",
            "\u001b[34m\u001b[1mwandb\u001b[0m: \u001b[32m\u001b[41mERROR\u001b[0m     return F.linear(input, self.weight, self.bias)\n",
            "\u001b[34m\u001b[1mwandb\u001b[0m: \u001b[32m\u001b[41mERROR\u001b[0m            ^^^^^^^^^^^^^^^^^^^^^^^^^^^^^^^^^^^^^^^\n",
            "\u001b[34m\u001b[1mwandb\u001b[0m: \u001b[32m\u001b[41mERROR\u001b[0m RuntimeError: Expected all tensors to be on the same device, but found at least two devices, cuda:0 and cpu! (when checking argument for argument mat1 in method wrapper_CUDA_addmm)\n",
            "\u001b[34m\u001b[1mwandb\u001b[0m: \u001b[32m\u001b[41mERROR\u001b[0m \n",
            "\u001b[34m\u001b[1mwandb\u001b[0m: Agent Starting Run: r35a5hyg with config:\n",
            "\u001b[34m\u001b[1mwandb\u001b[0m: \tdropout_p: 0.3\n",
            "\u001b[34m\u001b[1mwandb\u001b[0m: \tepochs: 5\n",
            "\u001b[34m\u001b[1mwandb\u001b[0m: \thidden_size1: 3\n",
            "\u001b[34m\u001b[1mwandb\u001b[0m: \thidden_size2: 3\n",
            "\u001b[34m\u001b[1mwandb\u001b[0m: \tinput_size: 5\n",
            "\u001b[34m\u001b[1mwandb\u001b[0m: \tlearning_rate: 0.01\n",
            "\u001b[34m\u001b[1mwandb\u001b[0m: \toutput_size: 3\n",
            "Failed to detect the name of this notebook, you can set it manually with the WANDB_NOTEBOOK_NAME environment variable to enable code saving.\n",
            "\u001b[34m\u001b[1mwandb\u001b[0m: \u001b[33mWARNING\u001b[0m Ignored wandb.init() arg project when running a sweep.\n"
          ]
        },
        {
          "data": {
            "text/html": [
              "wandb version 0.16.6 is available!  To upgrade, please run:\n",
              " $ pip install wandb --upgrade"
            ],
            "text/plain": [
              "<IPython.core.display.HTML object>"
            ]
          },
          "metadata": {},
          "output_type": "display_data"
        },
        {
          "data": {
            "text/html": [
              "Tracking run with wandb version 0.16.5"
            ],
            "text/plain": [
              "<IPython.core.display.HTML object>"
            ]
          },
          "metadata": {},
          "output_type": "display_data"
        },
        {
          "data": {
            "text/html": [
              "Run data is saved locally in <code>/usr/shared/CMPT/scratch/wxa38/CMPT353Project/wandb/run-20240410_153909-r35a5hyg</code>"
            ],
            "text/plain": [
              "<IPython.core.display.HTML object>"
            ]
          },
          "metadata": {},
          "output_type": "display_data"
        },
        {
          "data": {
            "text/html": [
              "Syncing run <strong><a href='https://wandb.ai/t0m_x/Music%20Mood%20Prediction/runs/r35a5hyg/workspace' target=\"_blank\">MLP Regressor</a></strong> to <a href='https://wandb.ai/t0m_x/Music%20Mood%20Prediction' target=\"_blank\">Weights & Biases</a> (<a href='https://wandb.me/run' target=\"_blank\">docs</a>)<br/>Sweep page: <a href='https://wandb.ai/t0m_x/Music%20Mood%20Prediction/sweeps/lohmygvl' target=\"_blank\">https://wandb.ai/t0m_x/Music%20Mood%20Prediction/sweeps/lohmygvl</a>"
            ],
            "text/plain": [
              "<IPython.core.display.HTML object>"
            ]
          },
          "metadata": {},
          "output_type": "display_data"
        },
        {
          "data": {
            "text/html": [
              " View project at <a href='https://wandb.ai/t0m_x/Music%20Mood%20Prediction' target=\"_blank\">https://wandb.ai/t0m_x/Music%20Mood%20Prediction</a>"
            ],
            "text/plain": [
              "<IPython.core.display.HTML object>"
            ]
          },
          "metadata": {},
          "output_type": "display_data"
        },
        {
          "data": {
            "text/html": [
              " View sweep at <a href='https://wandb.ai/t0m_x/Music%20Mood%20Prediction/sweeps/lohmygvl' target=\"_blank\">https://wandb.ai/t0m_x/Music%20Mood%20Prediction/sweeps/lohmygvl</a>"
            ],
            "text/plain": [
              "<IPython.core.display.HTML object>"
            ]
          },
          "metadata": {},
          "output_type": "display_data"
        },
        {
          "data": {
            "text/html": [
              " View run at <a href='https://wandb.ai/t0m_x/Music%20Mood%20Prediction/runs/r35a5hyg/workspace' target=\"_blank\">https://wandb.ai/t0m_x/Music%20Mood%20Prediction/runs/r35a5hyg/workspace</a>"
            ],
            "text/plain": [
              "<IPython.core.display.HTML object>"
            ]
          },
          "metadata": {},
          "output_type": "display_data"
        },
        {
          "name": "stderr",
          "output_type": "stream",
          "text": [
            "/usr/shared/CMPT/scratch/wxa38/miniforge3/envs/musemotion_meta/lib/python3.12/site-packages/torch/nn/modules/loss.py:535: UserWarning: Using a target size (torch.Size([64, 1, 3])) that is different to the input size (torch.Size([64, 3])). This will likely lead to incorrect results due to broadcasting. Please ensure they have the same size.\n",
            "  return F.mse_loss(input, target, reduction=self.reduction)\n",
            "/usr/shared/CMPT/scratch/wxa38/miniforge3/envs/musemotion_meta/lib/python3.12/site-packages/torch/nn/modules/loss.py:535: UserWarning: Using a target size (torch.Size([21, 1, 3])) that is different to the input size (torch.Size([21, 3])). This will likely lead to incorrect results due to broadcasting. Please ensure they have the same size.\n",
            "  return F.mse_loss(input, target, reduction=self.reduction)\n",
            "Traceback (most recent call last):\n",
            "  File \"/tmp/ipykernel_51915/2379712853.py\", line 86, in pipeline\n",
            "    test_loss = test(test_loader, model, criterion)\n",
            "                ^^^^^^^^^^^^^^^^^^^^^^^^^^^^^^^^^^^\n",
            "  File \"/tmp/ipykernel_51915/2379712853.py\", line 45, in test\n",
            "    outputs = model(inputs)\n",
            "              ^^^^^^^^^^^^^\n",
            "  File \"/usr/shared/CMPT/scratch/wxa38/miniforge3/envs/musemotion_meta/lib/python3.12/site-packages/torch/nn/modules/module.py\", line 1511, in _wrapped_call_impl\n",
            "    return self._call_impl(*args, **kwargs)\n",
            "           ^^^^^^^^^^^^^^^^^^^^^^^^^^^^^^^^\n",
            "  File \"/usr/shared/CMPT/scratch/wxa38/miniforge3/envs/musemotion_meta/lib/python3.12/site-packages/torch/nn/modules/module.py\", line 1561, in _call_impl\n",
            "    result = forward_call(*args, **kwargs)\n",
            "             ^^^^^^^^^^^^^^^^^^^^^^^^^^^^^\n",
            "  File \"/tmp/ipykernel_51915/790155187.py\", line 12, in forward\n",
            "    x = torch.relu(self.fc1(x))\n",
            "                   ^^^^^^^^^^^\n",
            "  File \"/usr/shared/CMPT/scratch/wxa38/miniforge3/envs/musemotion_meta/lib/python3.12/site-packages/torch/nn/modules/module.py\", line 1511, in _wrapped_call_impl\n",
            "    return self._call_impl(*args, **kwargs)\n",
            "           ^^^^^^^^^^^^^^^^^^^^^^^^^^^^^^^^\n",
            "  File \"/usr/shared/CMPT/scratch/wxa38/miniforge3/envs/musemotion_meta/lib/python3.12/site-packages/torch/nn/modules/module.py\", line 1520, in _call_impl\n",
            "    return forward_call(*args, **kwargs)\n",
            "           ^^^^^^^^^^^^^^^^^^^^^^^^^^^^^\n",
            "  File \"/usr/shared/CMPT/scratch/wxa38/miniforge3/envs/musemotion_meta/lib/python3.12/site-packages/torch/nn/modules/linear.py\", line 116, in forward\n",
            "    return F.linear(input, self.weight, self.bias)\n",
            "           ^^^^^^^^^^^^^^^^^^^^^^^^^^^^^^^^^^^^^^^\n",
            "RuntimeError: Expected all tensors to be on the same device, but found at least two devices, cuda:0 and cpu! (when checking argument for argument mat1 in method wrapper_CUDA_addmm)\n"
          ]
        },
        {
          "data": {
            "application/vnd.jupyter.widget-view+json": {
              "model_id": "1a6e362522f04eb39e581c629f6e176a",
              "version_major": 2,
              "version_minor": 0
            },
            "text/plain": [
              "VBox(children=(Label(value='0.004 MB of 0.004 MB uploaded\\r'), FloatProgress(value=1.0, max=1.0)))"
            ]
          },
          "metadata": {},
          "output_type": "display_data"
        },
        {
          "data": {
            "text/html": [
              "<style>\n",
              "    table.wandb td:nth-child(1) { padding: 0 10px; text-align: left ; width: auto;} td:nth-child(2) {text-align: left ; width: 100%}\n",
              "    .wandb-row { display: flex; flex-direction: row; flex-wrap: wrap; justify-content: flex-start; width: 100% }\n",
              "    .wandb-col { display: flex; flex-direction: column; flex-basis: 100%; flex: 1; padding: 10px; }\n",
              "    </style>\n",
              "<div class=\"wandb-row\"><div class=\"wandb-col\"><h3>Run history:</h3><br/><table class=\"wandb\"><tr><td>epoch</td><td>▁▃▅▆█</td></tr><tr><td>train loss</td><td>█▁▁▁▁</td></tr></table><br/></div><div class=\"wandb-col\"><h3>Run summary:</h3><br/><table class=\"wandb\"><tr><td>epoch</td><td>4</td></tr><tr><td>train loss</td><td>22.42456</td></tr></table><br/></div></div>"
            ],
            "text/plain": [
              "<IPython.core.display.HTML object>"
            ]
          },
          "metadata": {},
          "output_type": "display_data"
        },
        {
          "data": {
            "text/html": [
              " View run <strong style=\"color:#cdcd00\">MLP Regressor</strong> at: <a href='https://wandb.ai/t0m_x/Music%20Mood%20Prediction/runs/r35a5hyg/workspace' target=\"_blank\">https://wandb.ai/t0m_x/Music%20Mood%20Prediction/runs/r35a5hyg/workspace</a><br/>Synced 5 W&B file(s), 0 media file(s), 0 artifact file(s) and 0 other file(s)"
            ],
            "text/plain": [
              "<IPython.core.display.HTML object>"
            ]
          },
          "metadata": {},
          "output_type": "display_data"
        },
        {
          "data": {
            "text/html": [
              "Find logs at: <code>./wandb/run-20240410_153909-r35a5hyg/logs</code>"
            ],
            "text/plain": [
              "<IPython.core.display.HTML object>"
            ]
          },
          "metadata": {},
          "output_type": "display_data"
        },
        {
          "name": "stderr",
          "output_type": "stream",
          "text": [
            "Run r35a5hyg errored:\n",
            "Traceback (most recent call last):\n",
            "  File \"/usr/shared/CMPT/scratch/wxa38/miniforge3/envs/musemotion_meta/lib/python3.12/site-packages/wandb/agents/pyagent.py\", line 308, in _run_job\n",
            "    self._function()\n",
            "  File \"/tmp/ipykernel_51915/2379712853.py\", line 86, in pipeline\n",
            "    test_loss = test(test_loader, model, criterion)\n",
            "                ^^^^^^^^^^^^^^^^^^^^^^^^^^^^^^^^^^^\n",
            "  File \"/tmp/ipykernel_51915/2379712853.py\", line 45, in test\n",
            "    outputs = model(inputs)\n",
            "              ^^^^^^^^^^^^^\n",
            "  File \"/usr/shared/CMPT/scratch/wxa38/miniforge3/envs/musemotion_meta/lib/python3.12/site-packages/torch/nn/modules/module.py\", line 1511, in _wrapped_call_impl\n",
            "    return self._call_impl(*args, **kwargs)\n",
            "           ^^^^^^^^^^^^^^^^^^^^^^^^^^^^^^^^\n",
            "  File \"/usr/shared/CMPT/scratch/wxa38/miniforge3/envs/musemotion_meta/lib/python3.12/site-packages/torch/nn/modules/module.py\", line 1561, in _call_impl\n",
            "    result = forward_call(*args, **kwargs)\n",
            "             ^^^^^^^^^^^^^^^^^^^^^^^^^^^^^\n",
            "  File \"/tmp/ipykernel_51915/790155187.py\", line 12, in forward\n",
            "    x = torch.relu(self.fc1(x))\n",
            "                   ^^^^^^^^^^^\n",
            "  File \"/usr/shared/CMPT/scratch/wxa38/miniforge3/envs/musemotion_meta/lib/python3.12/site-packages/torch/nn/modules/module.py\", line 1511, in _wrapped_call_impl\n",
            "    return self._call_impl(*args, **kwargs)\n",
            "           ^^^^^^^^^^^^^^^^^^^^^^^^^^^^^^^^\n",
            "  File \"/usr/shared/CMPT/scratch/wxa38/miniforge3/envs/musemotion_meta/lib/python3.12/site-packages/torch/nn/modules/module.py\", line 1520, in _call_impl\n",
            "    return forward_call(*args, **kwargs)\n",
            "           ^^^^^^^^^^^^^^^^^^^^^^^^^^^^^\n",
            "  File \"/usr/shared/CMPT/scratch/wxa38/miniforge3/envs/musemotion_meta/lib/python3.12/site-packages/torch/nn/modules/linear.py\", line 116, in forward\n",
            "    return F.linear(input, self.weight, self.bias)\n",
            "           ^^^^^^^^^^^^^^^^^^^^^^^^^^^^^^^^^^^^^^^\n",
            "RuntimeError: Expected all tensors to be on the same device, but found at least two devices, cuda:0 and cpu! (when checking argument for argument mat1 in method wrapper_CUDA_addmm)\n",
            "\n",
            "\u001b[34m\u001b[1mwandb\u001b[0m: \u001b[32m\u001b[41mERROR\u001b[0m Run r35a5hyg errored:\n",
            "\u001b[34m\u001b[1mwandb\u001b[0m: \u001b[32m\u001b[41mERROR\u001b[0m Traceback (most recent call last):\n",
            "\u001b[34m\u001b[1mwandb\u001b[0m: \u001b[32m\u001b[41mERROR\u001b[0m   File \"/usr/shared/CMPT/scratch/wxa38/miniforge3/envs/musemotion_meta/lib/python3.12/site-packages/wandb/agents/pyagent.py\", line 308, in _run_job\n",
            "\u001b[34m\u001b[1mwandb\u001b[0m: \u001b[32m\u001b[41mERROR\u001b[0m     self._function()\n",
            "\u001b[34m\u001b[1mwandb\u001b[0m: \u001b[32m\u001b[41mERROR\u001b[0m   File \"/tmp/ipykernel_51915/2379712853.py\", line 86, in pipeline\n",
            "\u001b[34m\u001b[1mwandb\u001b[0m: \u001b[32m\u001b[41mERROR\u001b[0m     test_loss = test(test_loader, model, criterion)\n",
            "\u001b[34m\u001b[1mwandb\u001b[0m: \u001b[32m\u001b[41mERROR\u001b[0m                 ^^^^^^^^^^^^^^^^^^^^^^^^^^^^^^^^^^^\n",
            "\u001b[34m\u001b[1mwandb\u001b[0m: \u001b[32m\u001b[41mERROR\u001b[0m   File \"/tmp/ipykernel_51915/2379712853.py\", line 45, in test\n",
            "\u001b[34m\u001b[1mwandb\u001b[0m: \u001b[32m\u001b[41mERROR\u001b[0m     outputs = model(inputs)\n",
            "\u001b[34m\u001b[1mwandb\u001b[0m: \u001b[32m\u001b[41mERROR\u001b[0m               ^^^^^^^^^^^^^\n",
            "\u001b[34m\u001b[1mwandb\u001b[0m: \u001b[32m\u001b[41mERROR\u001b[0m   File \"/usr/shared/CMPT/scratch/wxa38/miniforge3/envs/musemotion_meta/lib/python3.12/site-packages/torch/nn/modules/module.py\", line 1511, in _wrapped_call_impl\n",
            "\u001b[34m\u001b[1mwandb\u001b[0m: \u001b[32m\u001b[41mERROR\u001b[0m     return self._call_impl(*args, **kwargs)\n",
            "\u001b[34m\u001b[1mwandb\u001b[0m: \u001b[32m\u001b[41mERROR\u001b[0m            ^^^^^^^^^^^^^^^^^^^^^^^^^^^^^^^^\n",
            "\u001b[34m\u001b[1mwandb\u001b[0m: \u001b[32m\u001b[41mERROR\u001b[0m   File \"/usr/shared/CMPT/scratch/wxa38/miniforge3/envs/musemotion_meta/lib/python3.12/site-packages/torch/nn/modules/module.py\", line 1561, in _call_impl\n",
            "\u001b[34m\u001b[1mwandb\u001b[0m: \u001b[32m\u001b[41mERROR\u001b[0m     result = forward_call(*args, **kwargs)\n",
            "\u001b[34m\u001b[1mwandb\u001b[0m: \u001b[32m\u001b[41mERROR\u001b[0m              ^^^^^^^^^^^^^^^^^^^^^^^^^^^^^\n",
            "\u001b[34m\u001b[1mwandb\u001b[0m: \u001b[32m\u001b[41mERROR\u001b[0m   File \"/tmp/ipykernel_51915/790155187.py\", line 12, in forward\n",
            "\u001b[34m\u001b[1mwandb\u001b[0m: \u001b[32m\u001b[41mERROR\u001b[0m     x = torch.relu(self.fc1(x))\n",
            "\u001b[34m\u001b[1mwandb\u001b[0m: \u001b[32m\u001b[41mERROR\u001b[0m                    ^^^^^^^^^^^\n",
            "\u001b[34m\u001b[1mwandb\u001b[0m: \u001b[32m\u001b[41mERROR\u001b[0m   File \"/usr/shared/CMPT/scratch/wxa38/miniforge3/envs/musemotion_meta/lib/python3.12/site-packages/torch/nn/modules/module.py\", line 1511, in _wrapped_call_impl\n",
            "\u001b[34m\u001b[1mwandb\u001b[0m: \u001b[32m\u001b[41mERROR\u001b[0m     return self._call_impl(*args, **kwargs)\n",
            "\u001b[34m\u001b[1mwandb\u001b[0m: \u001b[32m\u001b[41mERROR\u001b[0m            ^^^^^^^^^^^^^^^^^^^^^^^^^^^^^^^^\n",
            "\u001b[34m\u001b[1mwandb\u001b[0m: \u001b[32m\u001b[41mERROR\u001b[0m   File \"/usr/shared/CMPT/scratch/wxa38/miniforge3/envs/musemotion_meta/lib/python3.12/site-packages/torch/nn/modules/module.py\", line 1520, in _call_impl\n",
            "\u001b[34m\u001b[1mwandb\u001b[0m: \u001b[32m\u001b[41mERROR\u001b[0m     return forward_call(*args, **kwargs)\n",
            "\u001b[34m\u001b[1mwandb\u001b[0m: \u001b[32m\u001b[41mERROR\u001b[0m            ^^^^^^^^^^^^^^^^^^^^^^^^^^^^^\n",
            "\u001b[34m\u001b[1mwandb\u001b[0m: \u001b[32m\u001b[41mERROR\u001b[0m   File \"/usr/shared/CMPT/scratch/wxa38/miniforge3/envs/musemotion_meta/lib/python3.12/site-packages/torch/nn/modules/linear.py\", line 116, in forward\n",
            "\u001b[34m\u001b[1mwandb\u001b[0m: \u001b[32m\u001b[41mERROR\u001b[0m     return F.linear(input, self.weight, self.bias)\n",
            "\u001b[34m\u001b[1mwandb\u001b[0m: \u001b[32m\u001b[41mERROR\u001b[0m            ^^^^^^^^^^^^^^^^^^^^^^^^^^^^^^^^^^^^^^^\n",
            "\u001b[34m\u001b[1mwandb\u001b[0m: \u001b[32m\u001b[41mERROR\u001b[0m RuntimeError: Expected all tensors to be on the same device, but found at least two devices, cuda:0 and cpu! (when checking argument for argument mat1 in method wrapper_CUDA_addmm)\n",
            "\u001b[34m\u001b[1mwandb\u001b[0m: \u001b[32m\u001b[41mERROR\u001b[0m \n",
            "\u001b[34m\u001b[1mwandb\u001b[0m: Agent Starting Run: cl0i69ee with config:\n",
            "\u001b[34m\u001b[1mwandb\u001b[0m: \tdropout_p: 0.3\n",
            "\u001b[34m\u001b[1mwandb\u001b[0m: \tepochs: 5\n",
            "\u001b[34m\u001b[1mwandb\u001b[0m: \thidden_size1: 3\n",
            "\u001b[34m\u001b[1mwandb\u001b[0m: \thidden_size2: 3\n",
            "\u001b[34m\u001b[1mwandb\u001b[0m: \tinput_size: 5\n",
            "\u001b[34m\u001b[1mwandb\u001b[0m: \tlearning_rate: 0.1\n",
            "\u001b[34m\u001b[1mwandb\u001b[0m: \toutput_size: 3\n",
            "Failed to detect the name of this notebook, you can set it manually with the WANDB_NOTEBOOK_NAME environment variable to enable code saving.\n",
            "\u001b[34m\u001b[1mwandb\u001b[0m: \u001b[33mWARNING\u001b[0m Ignored wandb.init() arg project when running a sweep.\n"
          ]
        },
        {
          "data": {
            "text/html": [
              "wandb version 0.16.6 is available!  To upgrade, please run:\n",
              " $ pip install wandb --upgrade"
            ],
            "text/plain": [
              "<IPython.core.display.HTML object>"
            ]
          },
          "metadata": {},
          "output_type": "display_data"
        },
        {
          "data": {
            "text/html": [
              "Tracking run with wandb version 0.16.5"
            ],
            "text/plain": [
              "<IPython.core.display.HTML object>"
            ]
          },
          "metadata": {},
          "output_type": "display_data"
        },
        {
          "data": {
            "text/html": [
              "Run data is saved locally in <code>/usr/shared/CMPT/scratch/wxa38/CMPT353Project/wandb/run-20240410_154010-cl0i69ee</code>"
            ],
            "text/plain": [
              "<IPython.core.display.HTML object>"
            ]
          },
          "metadata": {},
          "output_type": "display_data"
        },
        {
          "data": {
            "text/html": [
              "Syncing run <strong><a href='https://wandb.ai/t0m_x/Music%20Mood%20Prediction/runs/cl0i69ee/workspace' target=\"_blank\">MLP Regressor</a></strong> to <a href='https://wandb.ai/t0m_x/Music%20Mood%20Prediction' target=\"_blank\">Weights & Biases</a> (<a href='https://wandb.me/run' target=\"_blank\">docs</a>)<br/>Sweep page: <a href='https://wandb.ai/t0m_x/Music%20Mood%20Prediction/sweeps/lohmygvl' target=\"_blank\">https://wandb.ai/t0m_x/Music%20Mood%20Prediction/sweeps/lohmygvl</a>"
            ],
            "text/plain": [
              "<IPython.core.display.HTML object>"
            ]
          },
          "metadata": {},
          "output_type": "display_data"
        },
        {
          "data": {
            "text/html": [
              " View project at <a href='https://wandb.ai/t0m_x/Music%20Mood%20Prediction' target=\"_blank\">https://wandb.ai/t0m_x/Music%20Mood%20Prediction</a>"
            ],
            "text/plain": [
              "<IPython.core.display.HTML object>"
            ]
          },
          "metadata": {},
          "output_type": "display_data"
        },
        {
          "data": {
            "text/html": [
              " View sweep at <a href='https://wandb.ai/t0m_x/Music%20Mood%20Prediction/sweeps/lohmygvl' target=\"_blank\">https://wandb.ai/t0m_x/Music%20Mood%20Prediction/sweeps/lohmygvl</a>"
            ],
            "text/plain": [
              "<IPython.core.display.HTML object>"
            ]
          },
          "metadata": {},
          "output_type": "display_data"
        },
        {
          "data": {
            "text/html": [
              " View run at <a href='https://wandb.ai/t0m_x/Music%20Mood%20Prediction/runs/cl0i69ee/workspace' target=\"_blank\">https://wandb.ai/t0m_x/Music%20Mood%20Prediction/runs/cl0i69ee/workspace</a>"
            ],
            "text/plain": [
              "<IPython.core.display.HTML object>"
            ]
          },
          "metadata": {},
          "output_type": "display_data"
        },
        {
          "name": "stderr",
          "output_type": "stream",
          "text": [
            "/usr/shared/CMPT/scratch/wxa38/miniforge3/envs/musemotion_meta/lib/python3.12/site-packages/torch/nn/modules/loss.py:535: UserWarning: Using a target size (torch.Size([64, 1, 3])) that is different to the input size (torch.Size([64, 3])). This will likely lead to incorrect results due to broadcasting. Please ensure they have the same size.\n",
            "  return F.mse_loss(input, target, reduction=self.reduction)\n",
            "/usr/shared/CMPT/scratch/wxa38/miniforge3/envs/musemotion_meta/lib/python3.12/site-packages/torch/nn/modules/loss.py:535: UserWarning: Using a target size (torch.Size([21, 1, 3])) that is different to the input size (torch.Size([21, 3])). This will likely lead to incorrect results due to broadcasting. Please ensure they have the same size.\n",
            "  return F.mse_loss(input, target, reduction=self.reduction)\n",
            "Traceback (most recent call last):\n",
            "  File \"/tmp/ipykernel_51915/2379712853.py\", line 86, in pipeline\n",
            "    test_loss = test(test_loader, model, criterion)\n",
            "                ^^^^^^^^^^^^^^^^^^^^^^^^^^^^^^^^^^^\n",
            "  File \"/tmp/ipykernel_51915/2379712853.py\", line 45, in test\n",
            "    outputs = model(inputs)\n",
            "              ^^^^^^^^^^^^^\n",
            "  File \"/usr/shared/CMPT/scratch/wxa38/miniforge3/envs/musemotion_meta/lib/python3.12/site-packages/torch/nn/modules/module.py\", line 1511, in _wrapped_call_impl\n",
            "    return self._call_impl(*args, **kwargs)\n",
            "           ^^^^^^^^^^^^^^^^^^^^^^^^^^^^^^^^\n",
            "  File \"/usr/shared/CMPT/scratch/wxa38/miniforge3/envs/musemotion_meta/lib/python3.12/site-packages/torch/nn/modules/module.py\", line 1561, in _call_impl\n",
            "    result = forward_call(*args, **kwargs)\n",
            "             ^^^^^^^^^^^^^^^^^^^^^^^^^^^^^\n",
            "  File \"/tmp/ipykernel_51915/790155187.py\", line 12, in forward\n",
            "    x = torch.relu(self.fc1(x))\n",
            "                   ^^^^^^^^^^^\n",
            "  File \"/usr/shared/CMPT/scratch/wxa38/miniforge3/envs/musemotion_meta/lib/python3.12/site-packages/torch/nn/modules/module.py\", line 1511, in _wrapped_call_impl\n",
            "    return self._call_impl(*args, **kwargs)\n",
            "           ^^^^^^^^^^^^^^^^^^^^^^^^^^^^^^^^\n",
            "  File \"/usr/shared/CMPT/scratch/wxa38/miniforge3/envs/musemotion_meta/lib/python3.12/site-packages/torch/nn/modules/module.py\", line 1520, in _call_impl\n",
            "    return forward_call(*args, **kwargs)\n",
            "           ^^^^^^^^^^^^^^^^^^^^^^^^^^^^^\n",
            "  File \"/usr/shared/CMPT/scratch/wxa38/miniforge3/envs/musemotion_meta/lib/python3.12/site-packages/torch/nn/modules/linear.py\", line 116, in forward\n",
            "    return F.linear(input, self.weight, self.bias)\n",
            "           ^^^^^^^^^^^^^^^^^^^^^^^^^^^^^^^^^^^^^^^\n",
            "RuntimeError: Expected all tensors to be on the same device, but found at least two devices, cuda:0 and cpu! (when checking argument for argument mat1 in method wrapper_CUDA_addmm)\n"
          ]
        },
        {
          "data": {
            "application/vnd.jupyter.widget-view+json": {
              "model_id": "dda059523fa14ad4a4eb4103e61cea82",
              "version_major": 2,
              "version_minor": 0
            },
            "text/plain": [
              "VBox(children=(Label(value='0.004 MB of 0.004 MB uploaded\\r'), FloatProgress(value=1.0, max=1.0)))"
            ]
          },
          "metadata": {},
          "output_type": "display_data"
        },
        {
          "data": {
            "text/html": [
              "<style>\n",
              "    table.wandb td:nth-child(1) { padding: 0 10px; text-align: left ; width: auto;} td:nth-child(2) {text-align: left ; width: 100%}\n",
              "    .wandb-row { display: flex; flex-direction: row; flex-wrap: wrap; justify-content: flex-start; width: 100% }\n",
              "    .wandb-col { display: flex; flex-direction: column; flex-basis: 100%; flex: 1; padding: 10px; }\n",
              "    </style>\n",
              "<div class=\"wandb-row\"><div class=\"wandb-col\"><h3>Run history:</h3><br/><table class=\"wandb\"><tr><td>epoch</td><td>▁▃▅▆█</td></tr><tr><td>train loss</td><td>█▁▁▁▁</td></tr></table><br/></div><div class=\"wandb-col\"><h3>Run summary:</h3><br/><table class=\"wandb\"><tr><td>epoch</td><td>4</td></tr><tr><td>train loss</td><td>1.84474</td></tr></table><br/></div></div>"
            ],
            "text/plain": [
              "<IPython.core.display.HTML object>"
            ]
          },
          "metadata": {},
          "output_type": "display_data"
        },
        {
          "data": {
            "text/html": [
              " View run <strong style=\"color:#cdcd00\">MLP Regressor</strong> at: <a href='https://wandb.ai/t0m_x/Music%20Mood%20Prediction/runs/cl0i69ee/workspace' target=\"_blank\">https://wandb.ai/t0m_x/Music%20Mood%20Prediction/runs/cl0i69ee/workspace</a><br/>Synced 5 W&B file(s), 0 media file(s), 0 artifact file(s) and 0 other file(s)"
            ],
            "text/plain": [
              "<IPython.core.display.HTML object>"
            ]
          },
          "metadata": {},
          "output_type": "display_data"
        },
        {
          "data": {
            "text/html": [
              "Find logs at: <code>./wandb/run-20240410_154010-cl0i69ee/logs</code>"
            ],
            "text/plain": [
              "<IPython.core.display.HTML object>"
            ]
          },
          "metadata": {},
          "output_type": "display_data"
        },
        {
          "name": "stderr",
          "output_type": "stream",
          "text": [
            "Run cl0i69ee errored:\n",
            "Traceback (most recent call last):\n",
            "  File \"/usr/shared/CMPT/scratch/wxa38/miniforge3/envs/musemotion_meta/lib/python3.12/site-packages/wandb/agents/pyagent.py\", line 308, in _run_job\n",
            "    self._function()\n",
            "  File \"/tmp/ipykernel_51915/2379712853.py\", line 86, in pipeline\n",
            "    test_loss = test(test_loader, model, criterion)\n",
            "                ^^^^^^^^^^^^^^^^^^^^^^^^^^^^^^^^^^^\n",
            "  File \"/tmp/ipykernel_51915/2379712853.py\", line 45, in test\n",
            "    outputs = model(inputs)\n",
            "              ^^^^^^^^^^^^^\n",
            "  File \"/usr/shared/CMPT/scratch/wxa38/miniforge3/envs/musemotion_meta/lib/python3.12/site-packages/torch/nn/modules/module.py\", line 1511, in _wrapped_call_impl\n",
            "    return self._call_impl(*args, **kwargs)\n",
            "           ^^^^^^^^^^^^^^^^^^^^^^^^^^^^^^^^\n",
            "  File \"/usr/shared/CMPT/scratch/wxa38/miniforge3/envs/musemotion_meta/lib/python3.12/site-packages/torch/nn/modules/module.py\", line 1561, in _call_impl\n",
            "    result = forward_call(*args, **kwargs)\n",
            "             ^^^^^^^^^^^^^^^^^^^^^^^^^^^^^\n",
            "  File \"/tmp/ipykernel_51915/790155187.py\", line 12, in forward\n",
            "    x = torch.relu(self.fc1(x))\n",
            "                   ^^^^^^^^^^^\n",
            "  File \"/usr/shared/CMPT/scratch/wxa38/miniforge3/envs/musemotion_meta/lib/python3.12/site-packages/torch/nn/modules/module.py\", line 1511, in _wrapped_call_impl\n",
            "    return self._call_impl(*args, **kwargs)\n",
            "           ^^^^^^^^^^^^^^^^^^^^^^^^^^^^^^^^\n",
            "  File \"/usr/shared/CMPT/scratch/wxa38/miniforge3/envs/musemotion_meta/lib/python3.12/site-packages/torch/nn/modules/module.py\", line 1520, in _call_impl\n",
            "    return forward_call(*args, **kwargs)\n",
            "           ^^^^^^^^^^^^^^^^^^^^^^^^^^^^^\n",
            "  File \"/usr/shared/CMPT/scratch/wxa38/miniforge3/envs/musemotion_meta/lib/python3.12/site-packages/torch/nn/modules/linear.py\", line 116, in forward\n",
            "    return F.linear(input, self.weight, self.bias)\n",
            "           ^^^^^^^^^^^^^^^^^^^^^^^^^^^^^^^^^^^^^^^\n",
            "RuntimeError: Expected all tensors to be on the same device, but found at least two devices, cuda:0 and cpu! (when checking argument for argument mat1 in method wrapper_CUDA_addmm)\n",
            "\n",
            "\u001b[34m\u001b[1mwandb\u001b[0m: \u001b[32m\u001b[41mERROR\u001b[0m Run cl0i69ee errored:\n",
            "\u001b[34m\u001b[1mwandb\u001b[0m: \u001b[32m\u001b[41mERROR\u001b[0m Traceback (most recent call last):\n",
            "\u001b[34m\u001b[1mwandb\u001b[0m: \u001b[32m\u001b[41mERROR\u001b[0m   File \"/usr/shared/CMPT/scratch/wxa38/miniforge3/envs/musemotion_meta/lib/python3.12/site-packages/wandb/agents/pyagent.py\", line 308, in _run_job\n",
            "\u001b[34m\u001b[1mwandb\u001b[0m: \u001b[32m\u001b[41mERROR\u001b[0m     self._function()\n",
            "\u001b[34m\u001b[1mwandb\u001b[0m: \u001b[32m\u001b[41mERROR\u001b[0m   File \"/tmp/ipykernel_51915/2379712853.py\", line 86, in pipeline\n",
            "\u001b[34m\u001b[1mwandb\u001b[0m: \u001b[32m\u001b[41mERROR\u001b[0m     test_loss = test(test_loader, model, criterion)\n",
            "\u001b[34m\u001b[1mwandb\u001b[0m: \u001b[32m\u001b[41mERROR\u001b[0m                 ^^^^^^^^^^^^^^^^^^^^^^^^^^^^^^^^^^^\n",
            "\u001b[34m\u001b[1mwandb\u001b[0m: \u001b[32m\u001b[41mERROR\u001b[0m   File \"/tmp/ipykernel_51915/2379712853.py\", line 45, in test\n",
            "\u001b[34m\u001b[1mwandb\u001b[0m: \u001b[32m\u001b[41mERROR\u001b[0m     outputs = model(inputs)\n",
            "\u001b[34m\u001b[1mwandb\u001b[0m: \u001b[32m\u001b[41mERROR\u001b[0m               ^^^^^^^^^^^^^\n",
            "\u001b[34m\u001b[1mwandb\u001b[0m: \u001b[32m\u001b[41mERROR\u001b[0m   File \"/usr/shared/CMPT/scratch/wxa38/miniforge3/envs/musemotion_meta/lib/python3.12/site-packages/torch/nn/modules/module.py\", line 1511, in _wrapped_call_impl\n",
            "\u001b[34m\u001b[1mwandb\u001b[0m: \u001b[32m\u001b[41mERROR\u001b[0m     return self._call_impl(*args, **kwargs)\n",
            "\u001b[34m\u001b[1mwandb\u001b[0m: \u001b[32m\u001b[41mERROR\u001b[0m            ^^^^^^^^^^^^^^^^^^^^^^^^^^^^^^^^\n",
            "\u001b[34m\u001b[1mwandb\u001b[0m: \u001b[32m\u001b[41mERROR\u001b[0m   File \"/usr/shared/CMPT/scratch/wxa38/miniforge3/envs/musemotion_meta/lib/python3.12/site-packages/torch/nn/modules/module.py\", line 1561, in _call_impl\n",
            "\u001b[34m\u001b[1mwandb\u001b[0m: \u001b[32m\u001b[41mERROR\u001b[0m     result = forward_call(*args, **kwargs)\n",
            "\u001b[34m\u001b[1mwandb\u001b[0m: \u001b[32m\u001b[41mERROR\u001b[0m              ^^^^^^^^^^^^^^^^^^^^^^^^^^^^^\n",
            "\u001b[34m\u001b[1mwandb\u001b[0m: \u001b[32m\u001b[41mERROR\u001b[0m   File \"/tmp/ipykernel_51915/790155187.py\", line 12, in forward\n",
            "\u001b[34m\u001b[1mwandb\u001b[0m: \u001b[32m\u001b[41mERROR\u001b[0m     x = torch.relu(self.fc1(x))\n",
            "\u001b[34m\u001b[1mwandb\u001b[0m: \u001b[32m\u001b[41mERROR\u001b[0m                    ^^^^^^^^^^^\n",
            "\u001b[34m\u001b[1mwandb\u001b[0m: \u001b[32m\u001b[41mERROR\u001b[0m   File \"/usr/shared/CMPT/scratch/wxa38/miniforge3/envs/musemotion_meta/lib/python3.12/site-packages/torch/nn/modules/module.py\", line 1511, in _wrapped_call_impl\n",
            "\u001b[34m\u001b[1mwandb\u001b[0m: \u001b[32m\u001b[41mERROR\u001b[0m     return self._call_impl(*args, **kwargs)\n",
            "\u001b[34m\u001b[1mwandb\u001b[0m: \u001b[32m\u001b[41mERROR\u001b[0m            ^^^^^^^^^^^^^^^^^^^^^^^^^^^^^^^^\n",
            "\u001b[34m\u001b[1mwandb\u001b[0m: \u001b[32m\u001b[41mERROR\u001b[0m   File \"/usr/shared/CMPT/scratch/wxa38/miniforge3/envs/musemotion_meta/lib/python3.12/site-packages/torch/nn/modules/module.py\", line 1520, in _call_impl\n",
            "\u001b[34m\u001b[1mwandb\u001b[0m: \u001b[32m\u001b[41mERROR\u001b[0m     return forward_call(*args, **kwargs)\n",
            "\u001b[34m\u001b[1mwandb\u001b[0m: \u001b[32m\u001b[41mERROR\u001b[0m            ^^^^^^^^^^^^^^^^^^^^^^^^^^^^^\n",
            "\u001b[34m\u001b[1mwandb\u001b[0m: \u001b[32m\u001b[41mERROR\u001b[0m   File \"/usr/shared/CMPT/scratch/wxa38/miniforge3/envs/musemotion_meta/lib/python3.12/site-packages/torch/nn/modules/linear.py\", line 116, in forward\n",
            "\u001b[34m\u001b[1mwandb\u001b[0m: \u001b[32m\u001b[41mERROR\u001b[0m     return F.linear(input, self.weight, self.bias)\n",
            "\u001b[34m\u001b[1mwandb\u001b[0m: \u001b[32m\u001b[41mERROR\u001b[0m            ^^^^^^^^^^^^^^^^^^^^^^^^^^^^^^^^^^^^^^^\n",
            "\u001b[34m\u001b[1mwandb\u001b[0m: \u001b[32m\u001b[41mERROR\u001b[0m RuntimeError: Expected all tensors to be on the same device, but found at least two devices, cuda:0 and cpu! (when checking argument for argument mat1 in method wrapper_CUDA_addmm)\n",
            "\u001b[34m\u001b[1mwandb\u001b[0m: \u001b[32m\u001b[41mERROR\u001b[0m \n",
            "\u001b[34m\u001b[1mwandb\u001b[0m: Agent Starting Run: 9nk8zfkz with config:\n",
            "\u001b[34m\u001b[1mwandb\u001b[0m: \tdropout_p: 0.3\n",
            "\u001b[34m\u001b[1mwandb\u001b[0m: \tepochs: 5\n",
            "\u001b[34m\u001b[1mwandb\u001b[0m: \thidden_size1: 3\n",
            "\u001b[34m\u001b[1mwandb\u001b[0m: \thidden_size2: 4\n",
            "\u001b[34m\u001b[1mwandb\u001b[0m: \tinput_size: 5\n",
            "\u001b[34m\u001b[1mwandb\u001b[0m: \tlearning_rate: 0.001\n",
            "\u001b[34m\u001b[1mwandb\u001b[0m: \toutput_size: 3\n",
            "Failed to detect the name of this notebook, you can set it manually with the WANDB_NOTEBOOK_NAME environment variable to enable code saving.\n",
            "\u001b[34m\u001b[1mwandb\u001b[0m: \u001b[33mWARNING\u001b[0m Ignored wandb.init() arg project when running a sweep.\n"
          ]
        },
        {
          "data": {
            "text/html": [
              "wandb version 0.16.6 is available!  To upgrade, please run:\n",
              " $ pip install wandb --upgrade"
            ],
            "text/plain": [
              "<IPython.core.display.HTML object>"
            ]
          },
          "metadata": {},
          "output_type": "display_data"
        },
        {
          "data": {
            "text/html": [
              "Tracking run with wandb version 0.16.5"
            ],
            "text/plain": [
              "<IPython.core.display.HTML object>"
            ]
          },
          "metadata": {},
          "output_type": "display_data"
        },
        {
          "data": {
            "text/html": [
              "Run data is saved locally in <code>/usr/shared/CMPT/scratch/wxa38/CMPT353Project/wandb/run-20240410_154111-9nk8zfkz</code>"
            ],
            "text/plain": [
              "<IPython.core.display.HTML object>"
            ]
          },
          "metadata": {},
          "output_type": "display_data"
        },
        {
          "data": {
            "text/html": [
              "Syncing run <strong><a href='https://wandb.ai/t0m_x/Music%20Mood%20Prediction/runs/9nk8zfkz/workspace' target=\"_blank\">MLP Regressor</a></strong> to <a href='https://wandb.ai/t0m_x/Music%20Mood%20Prediction' target=\"_blank\">Weights & Biases</a> (<a href='https://wandb.me/run' target=\"_blank\">docs</a>)<br/>Sweep page: <a href='https://wandb.ai/t0m_x/Music%20Mood%20Prediction/sweeps/lohmygvl' target=\"_blank\">https://wandb.ai/t0m_x/Music%20Mood%20Prediction/sweeps/lohmygvl</a>"
            ],
            "text/plain": [
              "<IPython.core.display.HTML object>"
            ]
          },
          "metadata": {},
          "output_type": "display_data"
        },
        {
          "data": {
            "text/html": [
              " View project at <a href='https://wandb.ai/t0m_x/Music%20Mood%20Prediction' target=\"_blank\">https://wandb.ai/t0m_x/Music%20Mood%20Prediction</a>"
            ],
            "text/plain": [
              "<IPython.core.display.HTML object>"
            ]
          },
          "metadata": {},
          "output_type": "display_data"
        },
        {
          "data": {
            "text/html": [
              " View sweep at <a href='https://wandb.ai/t0m_x/Music%20Mood%20Prediction/sweeps/lohmygvl' target=\"_blank\">https://wandb.ai/t0m_x/Music%20Mood%20Prediction/sweeps/lohmygvl</a>"
            ],
            "text/plain": [
              "<IPython.core.display.HTML object>"
            ]
          },
          "metadata": {},
          "output_type": "display_data"
        },
        {
          "data": {
            "text/html": [
              " View run at <a href='https://wandb.ai/t0m_x/Music%20Mood%20Prediction/runs/9nk8zfkz/workspace' target=\"_blank\">https://wandb.ai/t0m_x/Music%20Mood%20Prediction/runs/9nk8zfkz/workspace</a>"
            ],
            "text/plain": [
              "<IPython.core.display.HTML object>"
            ]
          },
          "metadata": {},
          "output_type": "display_data"
        },
        {
          "name": "stderr",
          "output_type": "stream",
          "text": [
            "/usr/shared/CMPT/scratch/wxa38/miniforge3/envs/musemotion_meta/lib/python3.12/site-packages/torch/nn/modules/loss.py:535: UserWarning: Using a target size (torch.Size([64, 1, 3])) that is different to the input size (torch.Size([64, 3])). This will likely lead to incorrect results due to broadcasting. Please ensure they have the same size.\n",
            "  return F.mse_loss(input, target, reduction=self.reduction)\n",
            "/usr/shared/CMPT/scratch/wxa38/miniforge3/envs/musemotion_meta/lib/python3.12/site-packages/torch/nn/modules/loss.py:535: UserWarning: Using a target size (torch.Size([21, 1, 3])) that is different to the input size (torch.Size([21, 3])). This will likely lead to incorrect results due to broadcasting. Please ensure they have the same size.\n",
            "  return F.mse_loss(input, target, reduction=self.reduction)\n",
            "Traceback (most recent call last):\n",
            "  File \"/tmp/ipykernel_51915/2379712853.py\", line 86, in pipeline\n",
            "    test_loss = test(test_loader, model, criterion)\n",
            "                ^^^^^^^^^^^^^^^^^^^^^^^^^^^^^^^^^^^\n",
            "  File \"/tmp/ipykernel_51915/2379712853.py\", line 45, in test\n",
            "    outputs = model(inputs)\n",
            "              ^^^^^^^^^^^^^\n",
            "  File \"/usr/shared/CMPT/scratch/wxa38/miniforge3/envs/musemotion_meta/lib/python3.12/site-packages/torch/nn/modules/module.py\", line 1511, in _wrapped_call_impl\n",
            "    return self._call_impl(*args, **kwargs)\n",
            "           ^^^^^^^^^^^^^^^^^^^^^^^^^^^^^^^^\n",
            "  File \"/usr/shared/CMPT/scratch/wxa38/miniforge3/envs/musemotion_meta/lib/python3.12/site-packages/torch/nn/modules/module.py\", line 1561, in _call_impl\n",
            "    result = forward_call(*args, **kwargs)\n",
            "             ^^^^^^^^^^^^^^^^^^^^^^^^^^^^^\n",
            "  File \"/tmp/ipykernel_51915/790155187.py\", line 12, in forward\n",
            "    x = torch.relu(self.fc1(x))\n",
            "                   ^^^^^^^^^^^\n",
            "  File \"/usr/shared/CMPT/scratch/wxa38/miniforge3/envs/musemotion_meta/lib/python3.12/site-packages/torch/nn/modules/module.py\", line 1511, in _wrapped_call_impl\n",
            "    return self._call_impl(*args, **kwargs)\n",
            "           ^^^^^^^^^^^^^^^^^^^^^^^^^^^^^^^^\n",
            "  File \"/usr/shared/CMPT/scratch/wxa38/miniforge3/envs/musemotion_meta/lib/python3.12/site-packages/torch/nn/modules/module.py\", line 1520, in _call_impl\n",
            "    return forward_call(*args, **kwargs)\n",
            "           ^^^^^^^^^^^^^^^^^^^^^^^^^^^^^\n",
            "  File \"/usr/shared/CMPT/scratch/wxa38/miniforge3/envs/musemotion_meta/lib/python3.12/site-packages/torch/nn/modules/linear.py\", line 116, in forward\n",
            "    return F.linear(input, self.weight, self.bias)\n",
            "           ^^^^^^^^^^^^^^^^^^^^^^^^^^^^^^^^^^^^^^^\n",
            "RuntimeError: Expected all tensors to be on the same device, but found at least two devices, cuda:0 and cpu! (when checking argument for argument mat1 in method wrapper_CUDA_addmm)\n"
          ]
        },
        {
          "data": {
            "application/vnd.jupyter.widget-view+json": {
              "model_id": "d5d4de53b3e147b48f2b33c0f8a04234",
              "version_major": 2,
              "version_minor": 0
            },
            "text/plain": [
              "VBox(children=(Label(value='0.004 MB of 0.004 MB uploaded\\r'), FloatProgress(value=1.0, max=1.0)))"
            ]
          },
          "metadata": {},
          "output_type": "display_data"
        },
        {
          "data": {
            "text/html": [
              "<style>\n",
              "    table.wandb td:nth-child(1) { padding: 0 10px; text-align: left ; width: auto;} td:nth-child(2) {text-align: left ; width: 100%}\n",
              "    .wandb-row { display: flex; flex-direction: row; flex-wrap: wrap; justify-content: flex-start; width: 100% }\n",
              "    .wandb-col { display: flex; flex-direction: column; flex-basis: 100%; flex: 1; padding: 10px; }\n",
              "    </style>\n",
              "<div class=\"wandb-row\"><div class=\"wandb-col\"><h3>Run history:</h3><br/><table class=\"wandb\"><tr><td>epoch</td><td>▁▃▅▆█</td></tr><tr><td>train loss</td><td>█▃▂▁▁</td></tr></table><br/></div><div class=\"wandb-col\"><h3>Run summary:</h3><br/><table class=\"wandb\"><tr><td>epoch</td><td>4</td></tr><tr><td>train loss</td><td>4.5794</td></tr></table><br/></div></div>"
            ],
            "text/plain": [
              "<IPython.core.display.HTML object>"
            ]
          },
          "metadata": {},
          "output_type": "display_data"
        },
        {
          "data": {
            "text/html": [
              " View run <strong style=\"color:#cdcd00\">MLP Regressor</strong> at: <a href='https://wandb.ai/t0m_x/Music%20Mood%20Prediction/runs/9nk8zfkz/workspace' target=\"_blank\">https://wandb.ai/t0m_x/Music%20Mood%20Prediction/runs/9nk8zfkz/workspace</a><br/>Synced 5 W&B file(s), 0 media file(s), 0 artifact file(s) and 0 other file(s)"
            ],
            "text/plain": [
              "<IPython.core.display.HTML object>"
            ]
          },
          "metadata": {},
          "output_type": "display_data"
        },
        {
          "data": {
            "text/html": [
              "Find logs at: <code>./wandb/run-20240410_154111-9nk8zfkz/logs</code>"
            ],
            "text/plain": [
              "<IPython.core.display.HTML object>"
            ]
          },
          "metadata": {},
          "output_type": "display_data"
        },
        {
          "name": "stderr",
          "output_type": "stream",
          "text": [
            "Run 9nk8zfkz errored:\n",
            "Traceback (most recent call last):\n",
            "  File \"/usr/shared/CMPT/scratch/wxa38/miniforge3/envs/musemotion_meta/lib/python3.12/site-packages/wandb/agents/pyagent.py\", line 308, in _run_job\n",
            "    self._function()\n",
            "  File \"/tmp/ipykernel_51915/2379712853.py\", line 86, in pipeline\n",
            "    test_loss = test(test_loader, model, criterion)\n",
            "                ^^^^^^^^^^^^^^^^^^^^^^^^^^^^^^^^^^^\n",
            "  File \"/tmp/ipykernel_51915/2379712853.py\", line 45, in test\n",
            "    outputs = model(inputs)\n",
            "              ^^^^^^^^^^^^^\n",
            "  File \"/usr/shared/CMPT/scratch/wxa38/miniforge3/envs/musemotion_meta/lib/python3.12/site-packages/torch/nn/modules/module.py\", line 1511, in _wrapped_call_impl\n",
            "    return self._call_impl(*args, **kwargs)\n",
            "           ^^^^^^^^^^^^^^^^^^^^^^^^^^^^^^^^\n",
            "  File \"/usr/shared/CMPT/scratch/wxa38/miniforge3/envs/musemotion_meta/lib/python3.12/site-packages/torch/nn/modules/module.py\", line 1561, in _call_impl\n",
            "    result = forward_call(*args, **kwargs)\n",
            "             ^^^^^^^^^^^^^^^^^^^^^^^^^^^^^\n",
            "  File \"/tmp/ipykernel_51915/790155187.py\", line 12, in forward\n",
            "    x = torch.relu(self.fc1(x))\n",
            "                   ^^^^^^^^^^^\n",
            "  File \"/usr/shared/CMPT/scratch/wxa38/miniforge3/envs/musemotion_meta/lib/python3.12/site-packages/torch/nn/modules/module.py\", line 1511, in _wrapped_call_impl\n",
            "    return self._call_impl(*args, **kwargs)\n",
            "           ^^^^^^^^^^^^^^^^^^^^^^^^^^^^^^^^\n",
            "  File \"/usr/shared/CMPT/scratch/wxa38/miniforge3/envs/musemotion_meta/lib/python3.12/site-packages/torch/nn/modules/module.py\", line 1520, in _call_impl\n",
            "    return forward_call(*args, **kwargs)\n",
            "           ^^^^^^^^^^^^^^^^^^^^^^^^^^^^^\n",
            "  File \"/usr/shared/CMPT/scratch/wxa38/miniforge3/envs/musemotion_meta/lib/python3.12/site-packages/torch/nn/modules/linear.py\", line 116, in forward\n",
            "    return F.linear(input, self.weight, self.bias)\n",
            "           ^^^^^^^^^^^^^^^^^^^^^^^^^^^^^^^^^^^^^^^\n",
            "RuntimeError: Expected all tensors to be on the same device, but found at least two devices, cuda:0 and cpu! (when checking argument for argument mat1 in method wrapper_CUDA_addmm)\n",
            "\n",
            "\u001b[34m\u001b[1mwandb\u001b[0m: \u001b[32m\u001b[41mERROR\u001b[0m Run 9nk8zfkz errored:\n",
            "\u001b[34m\u001b[1mwandb\u001b[0m: \u001b[32m\u001b[41mERROR\u001b[0m Traceback (most recent call last):\n",
            "\u001b[34m\u001b[1mwandb\u001b[0m: \u001b[32m\u001b[41mERROR\u001b[0m   File \"/usr/shared/CMPT/scratch/wxa38/miniforge3/envs/musemotion_meta/lib/python3.12/site-packages/wandb/agents/pyagent.py\", line 308, in _run_job\n",
            "\u001b[34m\u001b[1mwandb\u001b[0m: \u001b[32m\u001b[41mERROR\u001b[0m     self._function()\n",
            "\u001b[34m\u001b[1mwandb\u001b[0m: \u001b[32m\u001b[41mERROR\u001b[0m   File \"/tmp/ipykernel_51915/2379712853.py\", line 86, in pipeline\n",
            "\u001b[34m\u001b[1mwandb\u001b[0m: \u001b[32m\u001b[41mERROR\u001b[0m     test_loss = test(test_loader, model, criterion)\n",
            "\u001b[34m\u001b[1mwandb\u001b[0m: \u001b[32m\u001b[41mERROR\u001b[0m                 ^^^^^^^^^^^^^^^^^^^^^^^^^^^^^^^^^^^\n",
            "\u001b[34m\u001b[1mwandb\u001b[0m: \u001b[32m\u001b[41mERROR\u001b[0m   File \"/tmp/ipykernel_51915/2379712853.py\", line 45, in test\n",
            "\u001b[34m\u001b[1mwandb\u001b[0m: \u001b[32m\u001b[41mERROR\u001b[0m     outputs = model(inputs)\n",
            "\u001b[34m\u001b[1mwandb\u001b[0m: \u001b[32m\u001b[41mERROR\u001b[0m               ^^^^^^^^^^^^^\n",
            "\u001b[34m\u001b[1mwandb\u001b[0m: \u001b[32m\u001b[41mERROR\u001b[0m   File \"/usr/shared/CMPT/scratch/wxa38/miniforge3/envs/musemotion_meta/lib/python3.12/site-packages/torch/nn/modules/module.py\", line 1511, in _wrapped_call_impl\n",
            "\u001b[34m\u001b[1mwandb\u001b[0m: \u001b[32m\u001b[41mERROR\u001b[0m     return self._call_impl(*args, **kwargs)\n",
            "\u001b[34m\u001b[1mwandb\u001b[0m: \u001b[32m\u001b[41mERROR\u001b[0m            ^^^^^^^^^^^^^^^^^^^^^^^^^^^^^^^^\n",
            "\u001b[34m\u001b[1mwandb\u001b[0m: \u001b[32m\u001b[41mERROR\u001b[0m   File \"/usr/shared/CMPT/scratch/wxa38/miniforge3/envs/musemotion_meta/lib/python3.12/site-packages/torch/nn/modules/module.py\", line 1561, in _call_impl\n",
            "\u001b[34m\u001b[1mwandb\u001b[0m: \u001b[32m\u001b[41mERROR\u001b[0m     result = forward_call(*args, **kwargs)\n",
            "\u001b[34m\u001b[1mwandb\u001b[0m: \u001b[32m\u001b[41mERROR\u001b[0m              ^^^^^^^^^^^^^^^^^^^^^^^^^^^^^\n",
            "\u001b[34m\u001b[1mwandb\u001b[0m: \u001b[32m\u001b[41mERROR\u001b[0m   File \"/tmp/ipykernel_51915/790155187.py\", line 12, in forward\n",
            "\u001b[34m\u001b[1mwandb\u001b[0m: \u001b[32m\u001b[41mERROR\u001b[0m     x = torch.relu(self.fc1(x))\n",
            "\u001b[34m\u001b[1mwandb\u001b[0m: \u001b[32m\u001b[41mERROR\u001b[0m                    ^^^^^^^^^^^\n",
            "\u001b[34m\u001b[1mwandb\u001b[0m: \u001b[32m\u001b[41mERROR\u001b[0m   File \"/usr/shared/CMPT/scratch/wxa38/miniforge3/envs/musemotion_meta/lib/python3.12/site-packages/torch/nn/modules/module.py\", line 1511, in _wrapped_call_impl\n",
            "\u001b[34m\u001b[1mwandb\u001b[0m: \u001b[32m\u001b[41mERROR\u001b[0m     return self._call_impl(*args, **kwargs)\n",
            "\u001b[34m\u001b[1mwandb\u001b[0m: \u001b[32m\u001b[41mERROR\u001b[0m            ^^^^^^^^^^^^^^^^^^^^^^^^^^^^^^^^\n",
            "\u001b[34m\u001b[1mwandb\u001b[0m: \u001b[32m\u001b[41mERROR\u001b[0m   File \"/usr/shared/CMPT/scratch/wxa38/miniforge3/envs/musemotion_meta/lib/python3.12/site-packages/torch/nn/modules/module.py\", line 1520, in _call_impl\n",
            "\u001b[34m\u001b[1mwandb\u001b[0m: \u001b[32m\u001b[41mERROR\u001b[0m     return forward_call(*args, **kwargs)\n",
            "\u001b[34m\u001b[1mwandb\u001b[0m: \u001b[32m\u001b[41mERROR\u001b[0m            ^^^^^^^^^^^^^^^^^^^^^^^^^^^^^\n",
            "\u001b[34m\u001b[1mwandb\u001b[0m: \u001b[32m\u001b[41mERROR\u001b[0m   File \"/usr/shared/CMPT/scratch/wxa38/miniforge3/envs/musemotion_meta/lib/python3.12/site-packages/torch/nn/modules/linear.py\", line 116, in forward\n",
            "\u001b[34m\u001b[1mwandb\u001b[0m: \u001b[32m\u001b[41mERROR\u001b[0m     return F.linear(input, self.weight, self.bias)\n",
            "\u001b[34m\u001b[1mwandb\u001b[0m: \u001b[32m\u001b[41mERROR\u001b[0m            ^^^^^^^^^^^^^^^^^^^^^^^^^^^^^^^^^^^^^^^\n",
            "\u001b[34m\u001b[1mwandb\u001b[0m: \u001b[32m\u001b[41mERROR\u001b[0m RuntimeError: Expected all tensors to be on the same device, but found at least two devices, cuda:0 and cpu! (when checking argument for argument mat1 in method wrapper_CUDA_addmm)\n",
            "\u001b[34m\u001b[1mwandb\u001b[0m: \u001b[32m\u001b[41mERROR\u001b[0m \n",
            "\u001b[34m\u001b[1mwandb\u001b[0m: Agent Starting Run: daxmikmc with config:\n",
            "\u001b[34m\u001b[1mwandb\u001b[0m: \tdropout_p: 0.3\n",
            "\u001b[34m\u001b[1mwandb\u001b[0m: \tepochs: 5\n",
            "\u001b[34m\u001b[1mwandb\u001b[0m: \thidden_size1: 3\n",
            "\u001b[34m\u001b[1mwandb\u001b[0m: \thidden_size2: 4\n",
            "\u001b[34m\u001b[1mwandb\u001b[0m: \tinput_size: 5\n",
            "\u001b[34m\u001b[1mwandb\u001b[0m: \tlearning_rate: 0.01\n",
            "\u001b[34m\u001b[1mwandb\u001b[0m: \toutput_size: 3\n",
            "Failed to detect the name of this notebook, you can set it manually with the WANDB_NOTEBOOK_NAME environment variable to enable code saving.\n",
            "\u001b[34m\u001b[1mwandb\u001b[0m: \u001b[33mWARNING\u001b[0m Ignored wandb.init() arg project when running a sweep.\n"
          ]
        },
        {
          "data": {
            "text/html": [
              "wandb version 0.16.6 is available!  To upgrade, please run:\n",
              " $ pip install wandb --upgrade"
            ],
            "text/plain": [
              "<IPython.core.display.HTML object>"
            ]
          },
          "metadata": {},
          "output_type": "display_data"
        },
        {
          "data": {
            "text/html": [
              "Tracking run with wandb version 0.16.5"
            ],
            "text/plain": [
              "<IPython.core.display.HTML object>"
            ]
          },
          "metadata": {},
          "output_type": "display_data"
        },
        {
          "data": {
            "text/html": [
              "Run data is saved locally in <code>/usr/shared/CMPT/scratch/wxa38/CMPT353Project/wandb/run-20240410_154212-daxmikmc</code>"
            ],
            "text/plain": [
              "<IPython.core.display.HTML object>"
            ]
          },
          "metadata": {},
          "output_type": "display_data"
        },
        {
          "data": {
            "text/html": [
              "Syncing run <strong><a href='https://wandb.ai/t0m_x/Music%20Mood%20Prediction/runs/daxmikmc/workspace' target=\"_blank\">MLP Regressor</a></strong> to <a href='https://wandb.ai/t0m_x/Music%20Mood%20Prediction' target=\"_blank\">Weights & Biases</a> (<a href='https://wandb.me/run' target=\"_blank\">docs</a>)<br/>Sweep page: <a href='https://wandb.ai/t0m_x/Music%20Mood%20Prediction/sweeps/lohmygvl' target=\"_blank\">https://wandb.ai/t0m_x/Music%20Mood%20Prediction/sweeps/lohmygvl</a>"
            ],
            "text/plain": [
              "<IPython.core.display.HTML object>"
            ]
          },
          "metadata": {},
          "output_type": "display_data"
        },
        {
          "data": {
            "text/html": [
              " View project at <a href='https://wandb.ai/t0m_x/Music%20Mood%20Prediction' target=\"_blank\">https://wandb.ai/t0m_x/Music%20Mood%20Prediction</a>"
            ],
            "text/plain": [
              "<IPython.core.display.HTML object>"
            ]
          },
          "metadata": {},
          "output_type": "display_data"
        },
        {
          "data": {
            "text/html": [
              " View sweep at <a href='https://wandb.ai/t0m_x/Music%20Mood%20Prediction/sweeps/lohmygvl' target=\"_blank\">https://wandb.ai/t0m_x/Music%20Mood%20Prediction/sweeps/lohmygvl</a>"
            ],
            "text/plain": [
              "<IPython.core.display.HTML object>"
            ]
          },
          "metadata": {},
          "output_type": "display_data"
        },
        {
          "data": {
            "text/html": [
              " View run at <a href='https://wandb.ai/t0m_x/Music%20Mood%20Prediction/runs/daxmikmc/workspace' target=\"_blank\">https://wandb.ai/t0m_x/Music%20Mood%20Prediction/runs/daxmikmc/workspace</a>"
            ],
            "text/plain": [
              "<IPython.core.display.HTML object>"
            ]
          },
          "metadata": {},
          "output_type": "display_data"
        },
        {
          "name": "stderr",
          "output_type": "stream",
          "text": [
            "/usr/shared/CMPT/scratch/wxa38/miniforge3/envs/musemotion_meta/lib/python3.12/site-packages/torch/nn/modules/loss.py:535: UserWarning: Using a target size (torch.Size([64, 1, 3])) that is different to the input size (torch.Size([64, 3])). This will likely lead to incorrect results due to broadcasting. Please ensure they have the same size.\n",
            "  return F.mse_loss(input, target, reduction=self.reduction)\n",
            "/usr/shared/CMPT/scratch/wxa38/miniforge3/envs/musemotion_meta/lib/python3.12/site-packages/torch/nn/modules/loss.py:535: UserWarning: Using a target size (torch.Size([21, 1, 3])) that is different to the input size (torch.Size([21, 3])). This will likely lead to incorrect results due to broadcasting. Please ensure they have the same size.\n",
            "  return F.mse_loss(input, target, reduction=self.reduction)\n",
            "Traceback (most recent call last):\n",
            "  File \"/tmp/ipykernel_51915/2379712853.py\", line 86, in pipeline\n",
            "    test_loss = test(test_loader, model, criterion)\n",
            "                ^^^^^^^^^^^^^^^^^^^^^^^^^^^^^^^^^^^\n",
            "  File \"/tmp/ipykernel_51915/2379712853.py\", line 45, in test\n",
            "    outputs = model(inputs)\n",
            "              ^^^^^^^^^^^^^\n",
            "  File \"/usr/shared/CMPT/scratch/wxa38/miniforge3/envs/musemotion_meta/lib/python3.12/site-packages/torch/nn/modules/module.py\", line 1511, in _wrapped_call_impl\n",
            "    return self._call_impl(*args, **kwargs)\n",
            "           ^^^^^^^^^^^^^^^^^^^^^^^^^^^^^^^^\n",
            "  File \"/usr/shared/CMPT/scratch/wxa38/miniforge3/envs/musemotion_meta/lib/python3.12/site-packages/torch/nn/modules/module.py\", line 1561, in _call_impl\n",
            "    result = forward_call(*args, **kwargs)\n",
            "             ^^^^^^^^^^^^^^^^^^^^^^^^^^^^^\n",
            "  File \"/tmp/ipykernel_51915/790155187.py\", line 12, in forward\n",
            "    x = torch.relu(self.fc1(x))\n",
            "                   ^^^^^^^^^^^\n",
            "  File \"/usr/shared/CMPT/scratch/wxa38/miniforge3/envs/musemotion_meta/lib/python3.12/site-packages/torch/nn/modules/module.py\", line 1511, in _wrapped_call_impl\n",
            "    return self._call_impl(*args, **kwargs)\n",
            "           ^^^^^^^^^^^^^^^^^^^^^^^^^^^^^^^^\n",
            "  File \"/usr/shared/CMPT/scratch/wxa38/miniforge3/envs/musemotion_meta/lib/python3.12/site-packages/torch/nn/modules/module.py\", line 1520, in _call_impl\n",
            "    return forward_call(*args, **kwargs)\n",
            "           ^^^^^^^^^^^^^^^^^^^^^^^^^^^^^\n",
            "  File \"/usr/shared/CMPT/scratch/wxa38/miniforge3/envs/musemotion_meta/lib/python3.12/site-packages/torch/nn/modules/linear.py\", line 116, in forward\n",
            "    return F.linear(input, self.weight, self.bias)\n",
            "           ^^^^^^^^^^^^^^^^^^^^^^^^^^^^^^^^^^^^^^^\n",
            "RuntimeError: Expected all tensors to be on the same device, but found at least two devices, cuda:0 and cpu! (when checking argument for argument mat1 in method wrapper_CUDA_addmm)\n"
          ]
        },
        {
          "data": {
            "application/vnd.jupyter.widget-view+json": {
              "model_id": "de63879144bf4d49871725b757eea0aa",
              "version_major": 2,
              "version_minor": 0
            },
            "text/plain": [
              "VBox(children=(Label(value='0.004 MB of 0.004 MB uploaded\\r'), FloatProgress(value=1.0, max=1.0)))"
            ]
          },
          "metadata": {},
          "output_type": "display_data"
        },
        {
          "data": {
            "text/html": [
              "<style>\n",
              "    table.wandb td:nth-child(1) { padding: 0 10px; text-align: left ; width: auto;} td:nth-child(2) {text-align: left ; width: 100%}\n",
              "    .wandb-row { display: flex; flex-direction: row; flex-wrap: wrap; justify-content: flex-start; width: 100% }\n",
              "    .wandb-col { display: flex; flex-direction: column; flex-basis: 100%; flex: 1; padding: 10px; }\n",
              "    </style>\n",
              "<div class=\"wandb-row\"><div class=\"wandb-col\"><h3>Run history:</h3><br/><table class=\"wandb\"><tr><td>epoch</td><td>▁▃▅▆█</td></tr><tr><td>train loss</td><td>█▁▁▁▁</td></tr></table><br/></div><div class=\"wandb-col\"><h3>Run summary:</h3><br/><table class=\"wandb\"><tr><td>epoch</td><td>4</td></tr><tr><td>train loss</td><td>14.45907</td></tr></table><br/></div></div>"
            ],
            "text/plain": [
              "<IPython.core.display.HTML object>"
            ]
          },
          "metadata": {},
          "output_type": "display_data"
        },
        {
          "data": {
            "text/html": [
              " View run <strong style=\"color:#cdcd00\">MLP Regressor</strong> at: <a href='https://wandb.ai/t0m_x/Music%20Mood%20Prediction/runs/daxmikmc/workspace' target=\"_blank\">https://wandb.ai/t0m_x/Music%20Mood%20Prediction/runs/daxmikmc/workspace</a><br/>Synced 5 W&B file(s), 0 media file(s), 0 artifact file(s) and 0 other file(s)"
            ],
            "text/plain": [
              "<IPython.core.display.HTML object>"
            ]
          },
          "metadata": {},
          "output_type": "display_data"
        },
        {
          "data": {
            "text/html": [
              "Find logs at: <code>./wandb/run-20240410_154212-daxmikmc/logs</code>"
            ],
            "text/plain": [
              "<IPython.core.display.HTML object>"
            ]
          },
          "metadata": {},
          "output_type": "display_data"
        },
        {
          "name": "stderr",
          "output_type": "stream",
          "text": [
            "Run daxmikmc errored:\n",
            "Traceback (most recent call last):\n",
            "  File \"/usr/shared/CMPT/scratch/wxa38/miniforge3/envs/musemotion_meta/lib/python3.12/site-packages/wandb/agents/pyagent.py\", line 308, in _run_job\n",
            "    self._function()\n",
            "  File \"/tmp/ipykernel_51915/2379712853.py\", line 86, in pipeline\n",
            "    test_loss = test(test_loader, model, criterion)\n",
            "                ^^^^^^^^^^^^^^^^^^^^^^^^^^^^^^^^^^^\n",
            "  File \"/tmp/ipykernel_51915/2379712853.py\", line 45, in test\n",
            "    outputs = model(inputs)\n",
            "              ^^^^^^^^^^^^^\n",
            "  File \"/usr/shared/CMPT/scratch/wxa38/miniforge3/envs/musemotion_meta/lib/python3.12/site-packages/torch/nn/modules/module.py\", line 1511, in _wrapped_call_impl\n",
            "    return self._call_impl(*args, **kwargs)\n",
            "           ^^^^^^^^^^^^^^^^^^^^^^^^^^^^^^^^\n",
            "  File \"/usr/shared/CMPT/scratch/wxa38/miniforge3/envs/musemotion_meta/lib/python3.12/site-packages/torch/nn/modules/module.py\", line 1561, in _call_impl\n",
            "    result = forward_call(*args, **kwargs)\n",
            "             ^^^^^^^^^^^^^^^^^^^^^^^^^^^^^\n",
            "  File \"/tmp/ipykernel_51915/790155187.py\", line 12, in forward\n",
            "    x = torch.relu(self.fc1(x))\n",
            "                   ^^^^^^^^^^^\n",
            "  File \"/usr/shared/CMPT/scratch/wxa38/miniforge3/envs/musemotion_meta/lib/python3.12/site-packages/torch/nn/modules/module.py\", line 1511, in _wrapped_call_impl\n",
            "    return self._call_impl(*args, **kwargs)\n",
            "           ^^^^^^^^^^^^^^^^^^^^^^^^^^^^^^^^\n",
            "  File \"/usr/shared/CMPT/scratch/wxa38/miniforge3/envs/musemotion_meta/lib/python3.12/site-packages/torch/nn/modules/module.py\", line 1520, in _call_impl\n",
            "    return forward_call(*args, **kwargs)\n",
            "           ^^^^^^^^^^^^^^^^^^^^^^^^^^^^^\n",
            "  File \"/usr/shared/CMPT/scratch/wxa38/miniforge3/envs/musemotion_meta/lib/python3.12/site-packages/torch/nn/modules/linear.py\", line 116, in forward\n",
            "    return F.linear(input, self.weight, self.bias)\n",
            "           ^^^^^^^^^^^^^^^^^^^^^^^^^^^^^^^^^^^^^^^\n",
            "RuntimeError: Expected all tensors to be on the same device, but found at least two devices, cuda:0 and cpu! (when checking argument for argument mat1 in method wrapper_CUDA_addmm)\n",
            "\n",
            "\u001b[34m\u001b[1mwandb\u001b[0m: \u001b[32m\u001b[41mERROR\u001b[0m Run daxmikmc errored:\n",
            "\u001b[34m\u001b[1mwandb\u001b[0m: \u001b[32m\u001b[41mERROR\u001b[0m Traceback (most recent call last):\n",
            "\u001b[34m\u001b[1mwandb\u001b[0m: \u001b[32m\u001b[41mERROR\u001b[0m   File \"/usr/shared/CMPT/scratch/wxa38/miniforge3/envs/musemotion_meta/lib/python3.12/site-packages/wandb/agents/pyagent.py\", line 308, in _run_job\n",
            "\u001b[34m\u001b[1mwandb\u001b[0m: \u001b[32m\u001b[41mERROR\u001b[0m     self._function()\n",
            "\u001b[34m\u001b[1mwandb\u001b[0m: \u001b[32m\u001b[41mERROR\u001b[0m   File \"/tmp/ipykernel_51915/2379712853.py\", line 86, in pipeline\n",
            "\u001b[34m\u001b[1mwandb\u001b[0m: \u001b[32m\u001b[41mERROR\u001b[0m     test_loss = test(test_loader, model, criterion)\n",
            "\u001b[34m\u001b[1mwandb\u001b[0m: \u001b[32m\u001b[41mERROR\u001b[0m                 ^^^^^^^^^^^^^^^^^^^^^^^^^^^^^^^^^^^\n",
            "\u001b[34m\u001b[1mwandb\u001b[0m: \u001b[32m\u001b[41mERROR\u001b[0m   File \"/tmp/ipykernel_51915/2379712853.py\", line 45, in test\n",
            "\u001b[34m\u001b[1mwandb\u001b[0m: \u001b[32m\u001b[41mERROR\u001b[0m     outputs = model(inputs)\n",
            "\u001b[34m\u001b[1mwandb\u001b[0m: \u001b[32m\u001b[41mERROR\u001b[0m               ^^^^^^^^^^^^^\n",
            "\u001b[34m\u001b[1mwandb\u001b[0m: \u001b[32m\u001b[41mERROR\u001b[0m   File \"/usr/shared/CMPT/scratch/wxa38/miniforge3/envs/musemotion_meta/lib/python3.12/site-packages/torch/nn/modules/module.py\", line 1511, in _wrapped_call_impl\n",
            "\u001b[34m\u001b[1mwandb\u001b[0m: \u001b[32m\u001b[41mERROR\u001b[0m     return self._call_impl(*args, **kwargs)\n",
            "\u001b[34m\u001b[1mwandb\u001b[0m: \u001b[32m\u001b[41mERROR\u001b[0m            ^^^^^^^^^^^^^^^^^^^^^^^^^^^^^^^^\n",
            "\u001b[34m\u001b[1mwandb\u001b[0m: \u001b[32m\u001b[41mERROR\u001b[0m   File \"/usr/shared/CMPT/scratch/wxa38/miniforge3/envs/musemotion_meta/lib/python3.12/site-packages/torch/nn/modules/module.py\", line 1561, in _call_impl\n",
            "\u001b[34m\u001b[1mwandb\u001b[0m: \u001b[32m\u001b[41mERROR\u001b[0m     result = forward_call(*args, **kwargs)\n",
            "\u001b[34m\u001b[1mwandb\u001b[0m: \u001b[32m\u001b[41mERROR\u001b[0m              ^^^^^^^^^^^^^^^^^^^^^^^^^^^^^\n",
            "\u001b[34m\u001b[1mwandb\u001b[0m: \u001b[32m\u001b[41mERROR\u001b[0m   File \"/tmp/ipykernel_51915/790155187.py\", line 12, in forward\n",
            "\u001b[34m\u001b[1mwandb\u001b[0m: \u001b[32m\u001b[41mERROR\u001b[0m     x = torch.relu(self.fc1(x))\n",
            "\u001b[34m\u001b[1mwandb\u001b[0m: \u001b[32m\u001b[41mERROR\u001b[0m                    ^^^^^^^^^^^\n",
            "\u001b[34m\u001b[1mwandb\u001b[0m: \u001b[32m\u001b[41mERROR\u001b[0m   File \"/usr/shared/CMPT/scratch/wxa38/miniforge3/envs/musemotion_meta/lib/python3.12/site-packages/torch/nn/modules/module.py\", line 1511, in _wrapped_call_impl\n",
            "\u001b[34m\u001b[1mwandb\u001b[0m: \u001b[32m\u001b[41mERROR\u001b[0m     return self._call_impl(*args, **kwargs)\n",
            "\u001b[34m\u001b[1mwandb\u001b[0m: \u001b[32m\u001b[41mERROR\u001b[0m            ^^^^^^^^^^^^^^^^^^^^^^^^^^^^^^^^\n",
            "\u001b[34m\u001b[1mwandb\u001b[0m: \u001b[32m\u001b[41mERROR\u001b[0m   File \"/usr/shared/CMPT/scratch/wxa38/miniforge3/envs/musemotion_meta/lib/python3.12/site-packages/torch/nn/modules/module.py\", line 1520, in _call_impl\n",
            "\u001b[34m\u001b[1mwandb\u001b[0m: \u001b[32m\u001b[41mERROR\u001b[0m     return forward_call(*args, **kwargs)\n",
            "\u001b[34m\u001b[1mwandb\u001b[0m: \u001b[32m\u001b[41mERROR\u001b[0m            ^^^^^^^^^^^^^^^^^^^^^^^^^^^^^\n",
            "\u001b[34m\u001b[1mwandb\u001b[0m: \u001b[32m\u001b[41mERROR\u001b[0m   File \"/usr/shared/CMPT/scratch/wxa38/miniforge3/envs/musemotion_meta/lib/python3.12/site-packages/torch/nn/modules/linear.py\", line 116, in forward\n",
            "\u001b[34m\u001b[1mwandb\u001b[0m: \u001b[32m\u001b[41mERROR\u001b[0m     return F.linear(input, self.weight, self.bias)\n",
            "\u001b[34m\u001b[1mwandb\u001b[0m: \u001b[32m\u001b[41mERROR\u001b[0m            ^^^^^^^^^^^^^^^^^^^^^^^^^^^^^^^^^^^^^^^\n",
            "\u001b[34m\u001b[1mwandb\u001b[0m: \u001b[32m\u001b[41mERROR\u001b[0m RuntimeError: Expected all tensors to be on the same device, but found at least two devices, cuda:0 and cpu! (when checking argument for argument mat1 in method wrapper_CUDA_addmm)\n",
            "\u001b[34m\u001b[1mwandb\u001b[0m: \u001b[32m\u001b[41mERROR\u001b[0m \n",
            "\u001b[34m\u001b[1mwandb\u001b[0m: Agent Starting Run: x83y36ea with config:\n",
            "\u001b[34m\u001b[1mwandb\u001b[0m: \tdropout_p: 0.3\n",
            "\u001b[34m\u001b[1mwandb\u001b[0m: \tepochs: 5\n",
            "\u001b[34m\u001b[1mwandb\u001b[0m: \thidden_size1: 3\n",
            "\u001b[34m\u001b[1mwandb\u001b[0m: \thidden_size2: 4\n",
            "\u001b[34m\u001b[1mwandb\u001b[0m: \tinput_size: 5\n",
            "\u001b[34m\u001b[1mwandb\u001b[0m: \tlearning_rate: 0.1\n",
            "\u001b[34m\u001b[1mwandb\u001b[0m: \toutput_size: 3\n",
            "Failed to detect the name of this notebook, you can set it manually with the WANDB_NOTEBOOK_NAME environment variable to enable code saving.\n",
            "\u001b[34m\u001b[1mwandb\u001b[0m: \u001b[33mWARNING\u001b[0m Ignored wandb.init() arg project when running a sweep.\n"
          ]
        },
        {
          "data": {
            "text/html": [
              "wandb version 0.16.6 is available!  To upgrade, please run:\n",
              " $ pip install wandb --upgrade"
            ],
            "text/plain": [
              "<IPython.core.display.HTML object>"
            ]
          },
          "metadata": {},
          "output_type": "display_data"
        },
        {
          "data": {
            "text/html": [
              "Tracking run with wandb version 0.16.5"
            ],
            "text/plain": [
              "<IPython.core.display.HTML object>"
            ]
          },
          "metadata": {},
          "output_type": "display_data"
        },
        {
          "data": {
            "text/html": [
              "Run data is saved locally in <code>/usr/shared/CMPT/scratch/wxa38/CMPT353Project/wandb/run-20240410_154313-x83y36ea</code>"
            ],
            "text/plain": [
              "<IPython.core.display.HTML object>"
            ]
          },
          "metadata": {},
          "output_type": "display_data"
        },
        {
          "data": {
            "text/html": [
              "Syncing run <strong><a href='https://wandb.ai/t0m_x/Music%20Mood%20Prediction/runs/x83y36ea/workspace' target=\"_blank\">MLP Regressor</a></strong> to <a href='https://wandb.ai/t0m_x/Music%20Mood%20Prediction' target=\"_blank\">Weights & Biases</a> (<a href='https://wandb.me/run' target=\"_blank\">docs</a>)<br/>Sweep page: <a href='https://wandb.ai/t0m_x/Music%20Mood%20Prediction/sweeps/lohmygvl' target=\"_blank\">https://wandb.ai/t0m_x/Music%20Mood%20Prediction/sweeps/lohmygvl</a>"
            ],
            "text/plain": [
              "<IPython.core.display.HTML object>"
            ]
          },
          "metadata": {},
          "output_type": "display_data"
        },
        {
          "data": {
            "text/html": [
              " View project at <a href='https://wandb.ai/t0m_x/Music%20Mood%20Prediction' target=\"_blank\">https://wandb.ai/t0m_x/Music%20Mood%20Prediction</a>"
            ],
            "text/plain": [
              "<IPython.core.display.HTML object>"
            ]
          },
          "metadata": {},
          "output_type": "display_data"
        },
        {
          "data": {
            "text/html": [
              " View sweep at <a href='https://wandb.ai/t0m_x/Music%20Mood%20Prediction/sweeps/lohmygvl' target=\"_blank\">https://wandb.ai/t0m_x/Music%20Mood%20Prediction/sweeps/lohmygvl</a>"
            ],
            "text/plain": [
              "<IPython.core.display.HTML object>"
            ]
          },
          "metadata": {},
          "output_type": "display_data"
        },
        {
          "data": {
            "text/html": [
              " View run at <a href='https://wandb.ai/t0m_x/Music%20Mood%20Prediction/runs/x83y36ea/workspace' target=\"_blank\">https://wandb.ai/t0m_x/Music%20Mood%20Prediction/runs/x83y36ea/workspace</a>"
            ],
            "text/plain": [
              "<IPython.core.display.HTML object>"
            ]
          },
          "metadata": {},
          "output_type": "display_data"
        },
        {
          "name": "stderr",
          "output_type": "stream",
          "text": [
            "/usr/shared/CMPT/scratch/wxa38/miniforge3/envs/musemotion_meta/lib/python3.12/site-packages/torch/nn/modules/loss.py:535: UserWarning: Using a target size (torch.Size([64, 1, 3])) that is different to the input size (torch.Size([64, 3])). This will likely lead to incorrect results due to broadcasting. Please ensure they have the same size.\n",
            "  return F.mse_loss(input, target, reduction=self.reduction)\n",
            "/usr/shared/CMPT/scratch/wxa38/miniforge3/envs/musemotion_meta/lib/python3.12/site-packages/torch/nn/modules/loss.py:535: UserWarning: Using a target size (torch.Size([21, 1, 3])) that is different to the input size (torch.Size([21, 3])). This will likely lead to incorrect results due to broadcasting. Please ensure they have the same size.\n",
            "  return F.mse_loss(input, target, reduction=self.reduction)\n",
            "Traceback (most recent call last):\n",
            "  File \"/tmp/ipykernel_51915/2379712853.py\", line 86, in pipeline\n",
            "    test_loss = test(test_loader, model, criterion)\n",
            "                ^^^^^^^^^^^^^^^^^^^^^^^^^^^^^^^^^^^\n",
            "  File \"/tmp/ipykernel_51915/2379712853.py\", line 45, in test\n",
            "    outputs = model(inputs)\n",
            "              ^^^^^^^^^^^^^\n",
            "  File \"/usr/shared/CMPT/scratch/wxa38/miniforge3/envs/musemotion_meta/lib/python3.12/site-packages/torch/nn/modules/module.py\", line 1511, in _wrapped_call_impl\n",
            "    return self._call_impl(*args, **kwargs)\n",
            "           ^^^^^^^^^^^^^^^^^^^^^^^^^^^^^^^^\n",
            "  File \"/usr/shared/CMPT/scratch/wxa38/miniforge3/envs/musemotion_meta/lib/python3.12/site-packages/torch/nn/modules/module.py\", line 1561, in _call_impl\n",
            "    result = forward_call(*args, **kwargs)\n",
            "             ^^^^^^^^^^^^^^^^^^^^^^^^^^^^^\n",
            "  File \"/tmp/ipykernel_51915/790155187.py\", line 12, in forward\n",
            "    x = torch.relu(self.fc1(x))\n",
            "                   ^^^^^^^^^^^\n",
            "  File \"/usr/shared/CMPT/scratch/wxa38/miniforge3/envs/musemotion_meta/lib/python3.12/site-packages/torch/nn/modules/module.py\", line 1511, in _wrapped_call_impl\n",
            "    return self._call_impl(*args, **kwargs)\n",
            "           ^^^^^^^^^^^^^^^^^^^^^^^^^^^^^^^^\n",
            "  File \"/usr/shared/CMPT/scratch/wxa38/miniforge3/envs/musemotion_meta/lib/python3.12/site-packages/torch/nn/modules/module.py\", line 1520, in _call_impl\n",
            "    return forward_call(*args, **kwargs)\n",
            "           ^^^^^^^^^^^^^^^^^^^^^^^^^^^^^\n",
            "  File \"/usr/shared/CMPT/scratch/wxa38/miniforge3/envs/musemotion_meta/lib/python3.12/site-packages/torch/nn/modules/linear.py\", line 116, in forward\n",
            "    return F.linear(input, self.weight, self.bias)\n",
            "           ^^^^^^^^^^^^^^^^^^^^^^^^^^^^^^^^^^^^^^^\n",
            "RuntimeError: Expected all tensors to be on the same device, but found at least two devices, cuda:0 and cpu! (when checking argument for argument mat1 in method wrapper_CUDA_addmm)\n"
          ]
        },
        {
          "data": {
            "application/vnd.jupyter.widget-view+json": {
              "model_id": "03432dad79f74ecebd784e19d510bedf",
              "version_major": 2,
              "version_minor": 0
            },
            "text/plain": [
              "VBox(children=(Label(value='0.004 MB of 0.004 MB uploaded\\r'), FloatProgress(value=1.0, max=1.0)))"
            ]
          },
          "metadata": {},
          "output_type": "display_data"
        },
        {
          "data": {
            "text/html": [
              "<style>\n",
              "    table.wandb td:nth-child(1) { padding: 0 10px; text-align: left ; width: auto;} td:nth-child(2) {text-align: left ; width: 100%}\n",
              "    .wandb-row { display: flex; flex-direction: row; flex-wrap: wrap; justify-content: flex-start; width: 100% }\n",
              "    .wandb-col { display: flex; flex-direction: column; flex-basis: 100%; flex: 1; padding: 10px; }\n",
              "    </style>\n",
              "<div class=\"wandb-row\"><div class=\"wandb-col\"><h3>Run history:</h3><br/><table class=\"wandb\"><tr><td>epoch</td><td>▁▃▅▆█</td></tr><tr><td>train loss</td><td>█▁▁▁▁</td></tr></table><br/></div><div class=\"wandb-col\"><h3>Run summary:</h3><br/><table class=\"wandb\"><tr><td>epoch</td><td>4</td></tr><tr><td>train loss</td><td>2.25993</td></tr></table><br/></div></div>"
            ],
            "text/plain": [
              "<IPython.core.display.HTML object>"
            ]
          },
          "metadata": {},
          "output_type": "display_data"
        },
        {
          "data": {
            "text/html": [
              " View run <strong style=\"color:#cdcd00\">MLP Regressor</strong> at: <a href='https://wandb.ai/t0m_x/Music%20Mood%20Prediction/runs/x83y36ea/workspace' target=\"_blank\">https://wandb.ai/t0m_x/Music%20Mood%20Prediction/runs/x83y36ea/workspace</a><br/>Synced 5 W&B file(s), 0 media file(s), 0 artifact file(s) and 0 other file(s)"
            ],
            "text/plain": [
              "<IPython.core.display.HTML object>"
            ]
          },
          "metadata": {},
          "output_type": "display_data"
        },
        {
          "data": {
            "text/html": [
              "Find logs at: <code>./wandb/run-20240410_154313-x83y36ea/logs</code>"
            ],
            "text/plain": [
              "<IPython.core.display.HTML object>"
            ]
          },
          "metadata": {},
          "output_type": "display_data"
        },
        {
          "name": "stderr",
          "output_type": "stream",
          "text": [
            "Run x83y36ea errored:\n",
            "Traceback (most recent call last):\n",
            "  File \"/usr/shared/CMPT/scratch/wxa38/miniforge3/envs/musemotion_meta/lib/python3.12/site-packages/wandb/agents/pyagent.py\", line 308, in _run_job\n",
            "    self._function()\n",
            "  File \"/tmp/ipykernel_51915/2379712853.py\", line 86, in pipeline\n",
            "    test_loss = test(test_loader, model, criterion)\n",
            "                ^^^^^^^^^^^^^^^^^^^^^^^^^^^^^^^^^^^\n",
            "  File \"/tmp/ipykernel_51915/2379712853.py\", line 45, in test\n",
            "    outputs = model(inputs)\n",
            "              ^^^^^^^^^^^^^\n",
            "  File \"/usr/shared/CMPT/scratch/wxa38/miniforge3/envs/musemotion_meta/lib/python3.12/site-packages/torch/nn/modules/module.py\", line 1511, in _wrapped_call_impl\n",
            "    return self._call_impl(*args, **kwargs)\n",
            "           ^^^^^^^^^^^^^^^^^^^^^^^^^^^^^^^^\n",
            "  File \"/usr/shared/CMPT/scratch/wxa38/miniforge3/envs/musemotion_meta/lib/python3.12/site-packages/torch/nn/modules/module.py\", line 1561, in _call_impl\n",
            "    result = forward_call(*args, **kwargs)\n",
            "             ^^^^^^^^^^^^^^^^^^^^^^^^^^^^^\n",
            "  File \"/tmp/ipykernel_51915/790155187.py\", line 12, in forward\n",
            "    x = torch.relu(self.fc1(x))\n",
            "                   ^^^^^^^^^^^\n",
            "  File \"/usr/shared/CMPT/scratch/wxa38/miniforge3/envs/musemotion_meta/lib/python3.12/site-packages/torch/nn/modules/module.py\", line 1511, in _wrapped_call_impl\n",
            "    return self._call_impl(*args, **kwargs)\n",
            "           ^^^^^^^^^^^^^^^^^^^^^^^^^^^^^^^^\n",
            "  File \"/usr/shared/CMPT/scratch/wxa38/miniforge3/envs/musemotion_meta/lib/python3.12/site-packages/torch/nn/modules/module.py\", line 1520, in _call_impl\n",
            "    return forward_call(*args, **kwargs)\n",
            "           ^^^^^^^^^^^^^^^^^^^^^^^^^^^^^\n",
            "  File \"/usr/shared/CMPT/scratch/wxa38/miniforge3/envs/musemotion_meta/lib/python3.12/site-packages/torch/nn/modules/linear.py\", line 116, in forward\n",
            "    return F.linear(input, self.weight, self.bias)\n",
            "           ^^^^^^^^^^^^^^^^^^^^^^^^^^^^^^^^^^^^^^^\n",
            "RuntimeError: Expected all tensors to be on the same device, but found at least two devices, cuda:0 and cpu! (when checking argument for argument mat1 in method wrapper_CUDA_addmm)\n",
            "\n",
            "\u001b[34m\u001b[1mwandb\u001b[0m: \u001b[32m\u001b[41mERROR\u001b[0m Run x83y36ea errored:\n",
            "\u001b[34m\u001b[1mwandb\u001b[0m: \u001b[32m\u001b[41mERROR\u001b[0m Traceback (most recent call last):\n",
            "\u001b[34m\u001b[1mwandb\u001b[0m: \u001b[32m\u001b[41mERROR\u001b[0m   File \"/usr/shared/CMPT/scratch/wxa38/miniforge3/envs/musemotion_meta/lib/python3.12/site-packages/wandb/agents/pyagent.py\", line 308, in _run_job\n",
            "\u001b[34m\u001b[1mwandb\u001b[0m: \u001b[32m\u001b[41mERROR\u001b[0m     self._function()\n",
            "\u001b[34m\u001b[1mwandb\u001b[0m: \u001b[32m\u001b[41mERROR\u001b[0m   File \"/tmp/ipykernel_51915/2379712853.py\", line 86, in pipeline\n",
            "\u001b[34m\u001b[1mwandb\u001b[0m: \u001b[32m\u001b[41mERROR\u001b[0m     test_loss = test(test_loader, model, criterion)\n",
            "\u001b[34m\u001b[1mwandb\u001b[0m: \u001b[32m\u001b[41mERROR\u001b[0m                 ^^^^^^^^^^^^^^^^^^^^^^^^^^^^^^^^^^^\n",
            "\u001b[34m\u001b[1mwandb\u001b[0m: \u001b[32m\u001b[41mERROR\u001b[0m   File \"/tmp/ipykernel_51915/2379712853.py\", line 45, in test\n",
            "\u001b[34m\u001b[1mwandb\u001b[0m: \u001b[32m\u001b[41mERROR\u001b[0m     outputs = model(inputs)\n",
            "\u001b[34m\u001b[1mwandb\u001b[0m: \u001b[32m\u001b[41mERROR\u001b[0m               ^^^^^^^^^^^^^\n",
            "\u001b[34m\u001b[1mwandb\u001b[0m: \u001b[32m\u001b[41mERROR\u001b[0m   File \"/usr/shared/CMPT/scratch/wxa38/miniforge3/envs/musemotion_meta/lib/python3.12/site-packages/torch/nn/modules/module.py\", line 1511, in _wrapped_call_impl\n",
            "\u001b[34m\u001b[1mwandb\u001b[0m: \u001b[32m\u001b[41mERROR\u001b[0m     return self._call_impl(*args, **kwargs)\n",
            "\u001b[34m\u001b[1mwandb\u001b[0m: \u001b[32m\u001b[41mERROR\u001b[0m            ^^^^^^^^^^^^^^^^^^^^^^^^^^^^^^^^\n",
            "\u001b[34m\u001b[1mwandb\u001b[0m: \u001b[32m\u001b[41mERROR\u001b[0m   File \"/usr/shared/CMPT/scratch/wxa38/miniforge3/envs/musemotion_meta/lib/python3.12/site-packages/torch/nn/modules/module.py\", line 1561, in _call_impl\n",
            "\u001b[34m\u001b[1mwandb\u001b[0m: \u001b[32m\u001b[41mERROR\u001b[0m     result = forward_call(*args, **kwargs)\n",
            "\u001b[34m\u001b[1mwandb\u001b[0m: \u001b[32m\u001b[41mERROR\u001b[0m              ^^^^^^^^^^^^^^^^^^^^^^^^^^^^^\n",
            "\u001b[34m\u001b[1mwandb\u001b[0m: \u001b[32m\u001b[41mERROR\u001b[0m   File \"/tmp/ipykernel_51915/790155187.py\", line 12, in forward\n",
            "\u001b[34m\u001b[1mwandb\u001b[0m: \u001b[32m\u001b[41mERROR\u001b[0m     x = torch.relu(self.fc1(x))\n",
            "\u001b[34m\u001b[1mwandb\u001b[0m: \u001b[32m\u001b[41mERROR\u001b[0m                    ^^^^^^^^^^^\n",
            "\u001b[34m\u001b[1mwandb\u001b[0m: \u001b[32m\u001b[41mERROR\u001b[0m   File \"/usr/shared/CMPT/scratch/wxa38/miniforge3/envs/musemotion_meta/lib/python3.12/site-packages/torch/nn/modules/module.py\", line 1511, in _wrapped_call_impl\n",
            "\u001b[34m\u001b[1mwandb\u001b[0m: \u001b[32m\u001b[41mERROR\u001b[0m     return self._call_impl(*args, **kwargs)\n",
            "\u001b[34m\u001b[1mwandb\u001b[0m: \u001b[32m\u001b[41mERROR\u001b[0m            ^^^^^^^^^^^^^^^^^^^^^^^^^^^^^^^^\n",
            "\u001b[34m\u001b[1mwandb\u001b[0m: \u001b[32m\u001b[41mERROR\u001b[0m   File \"/usr/shared/CMPT/scratch/wxa38/miniforge3/envs/musemotion_meta/lib/python3.12/site-packages/torch/nn/modules/module.py\", line 1520, in _call_impl\n",
            "\u001b[34m\u001b[1mwandb\u001b[0m: \u001b[32m\u001b[41mERROR\u001b[0m     return forward_call(*args, **kwargs)\n",
            "\u001b[34m\u001b[1mwandb\u001b[0m: \u001b[32m\u001b[41mERROR\u001b[0m            ^^^^^^^^^^^^^^^^^^^^^^^^^^^^^\n",
            "\u001b[34m\u001b[1mwandb\u001b[0m: \u001b[32m\u001b[41mERROR\u001b[0m   File \"/usr/shared/CMPT/scratch/wxa38/miniforge3/envs/musemotion_meta/lib/python3.12/site-packages/torch/nn/modules/linear.py\", line 116, in forward\n",
            "\u001b[34m\u001b[1mwandb\u001b[0m: \u001b[32m\u001b[41mERROR\u001b[0m     return F.linear(input, self.weight, self.bias)\n",
            "\u001b[34m\u001b[1mwandb\u001b[0m: \u001b[32m\u001b[41mERROR\u001b[0m            ^^^^^^^^^^^^^^^^^^^^^^^^^^^^^^^^^^^^^^^\n",
            "\u001b[34m\u001b[1mwandb\u001b[0m: \u001b[32m\u001b[41mERROR\u001b[0m RuntimeError: Expected all tensors to be on the same device, but found at least two devices, cuda:0 and cpu! (when checking argument for argument mat1 in method wrapper_CUDA_addmm)\n",
            "\u001b[34m\u001b[1mwandb\u001b[0m: \u001b[32m\u001b[41mERROR\u001b[0m \n",
            "Detected 5 failed runs in a row at start, killing sweep.\n",
            "\u001b[34m\u001b[1mwandb\u001b[0m: \u001b[32m\u001b[41mERROR\u001b[0m Detected 5 failed runs in a row at start, killing sweep.\n",
            "\u001b[34m\u001b[1mwandb\u001b[0m: To change this value set WANDB_AGENT_MAX_INITIAL_FAILURES=val\n"
          ]
        }
      ],
      "source": [
        "import torch.optim as optim\n",
        "import torch.utils\n",
        "import torch.utils.data\n",
        "\n",
        "TEST_TABLE_COLS = [\n",
        "    \"name\",\n",
        "    \"artist\",\n",
        "    \"tempo\",\n",
        "    \"key signature\",\n",
        "    \"loudness\",\n",
        "    \"time signature\",\n",
        "    \"duration (ms)\",\n",
        "    \"predicted valence\",\n",
        "    \"predicted arousal\",\n",
        "    \"predicted dominance\"\n",
        "]\n",
        "\n",
        "def train_epoch(train_loader, model, optimizer, criterion):\n",
        "    model.train()  # Set the model to training mode\n",
        "    running_loss = 0.0\n",
        "    for _, inputs, targets in train_loader:\n",
        "        inputs, targets = inputs.to(device), targets.to(device)\n",
        "        optimizer.zero_grad()\n",
        "\n",
        "        # forward pass\n",
        "        outputs = model(inputs)\n",
        "        loss = criterion(outputs, targets)\n",
        "\n",
        "        # backward pass and optimization\n",
        "        loss.backward()\n",
        "        optimizer.step()\n",
        "\n",
        "        running_loss += loss.item() * inputs.size(0)\n",
        "    return running_loss / len(train_loader.dataset)\n",
        "\n",
        "def test(test_loader: torch.utils.data.DataLoader, model: torch.nn.Module, criterion: torch.nn.Module):\n",
        "    \"\"\"record test examples and predictions in W&B table\"\"\"\n",
        "    model.eval()  # Set the model to evaluation mode\n",
        "    test_loss = 0.0\n",
        "\n",
        "    test_table = wandb.Table(columns=TEST_TABLE_COLS)\n",
        "\n",
        "    with torch.no_grad():\n",
        "        for name_artist_pairs, inputs, targets in test_loader:\n",
        "            inputs, targets = inputs.to(device), targets.to(device)\n",
        "\n",
        "            outputs = model(inputs)\n",
        "            loss = criterion(outputs, targets)\n",
        "            test_loss += loss.item() * inputs.size(0)\n",
        "\n",
        "            # Display and log some test examples <- input and output\n",
        "            name, artist = name_artist_pairs[0][0], name_artist_pairs[1][0]\n",
        "            print(f\"{name} by {artist}\")\n",
        "            print(f'input: {inputs[0].cpu().numpy()}')\n",
        "            print(f'output: {outputs[0].cpu().numpy()}')\n",
        "            all_cells_vals = [name, artist] + inputs.tolist() + outputs.tolist()\n",
        "            test_table.add_data(*all_cells_vals)\n",
        "\n",
        "        test_loss /= len(test_loader.dataset)\n",
        "        wandb.log({\"test loss\": test_loss})\n",
        "        wandb.log({\"prediction examples\": test_table})\n",
        "        print(f'test loss: {test_loss:.4f}')\n",
        "\n",
        "        return test_loss\n",
        "\n",
        "# Build and train a model\n",
        "def pipeline(config=None, train_loader: torch.utils.data.DataLoader=train_loader) -> nn.Module:\n",
        "    # Initialize a new wandb run for this hyperparameter configuration\n",
        "    # config will be set by Sweep Controller\n",
        "    with wandb.init(project=\"Music Mood Prediction\", name=\"MLP Regressor\", config=config):\n",
        "        config = wandb.config\n",
        "\n",
        "        # build the model\n",
        "        model = NeuralNetwork(config[\"input_size\"], config[\"hidden_size1\"], config[\"hidden_size2\"], config[\"output_size\"], config[\"dropout_p\"]).to(device)\n",
        "\n",
        "        # define the loss function and the optimizer\n",
        "        criterion = nn.MSELoss()\n",
        "        optimizer = optim.Adam(model.parameters(), lr=config[\"learning_rate\"])\n",
        "\n",
        "        wandb.watch(model, criterion, log=\"all\", log_freq=10)\n",
        "\n",
        "        num_epochs = config[\"epochs\"]\n",
        "        avg_loss = 0.0\n",
        "        for epoch in range(num_epochs):\n",
        "            avg_loss = train_epoch(train_loader, model, optimizer, criterion)\n",
        "            wandb.log({\"epoch\": epoch, \"train loss\": avg_loss})\n",
        "\n",
        "        test_loss = test(test_loader, model, criterion)\n",
        "        wandb.log({\"test loss\": test_loss})\n",
        "\n",
        "        return model\n",
        "\n",
        "wandb.agent(sweep_id, function=pipeline, count=6)"
      ]
    },
    {
      "cell_type": "code",
      "execution_count": null,
      "metadata": {
        "id": "Id6lViL_jmRo"
      },
      "outputs": [],
      "source": [
        "# sweep_id = wandb.sweep(sweep_config, project=\"Music Mood Prediction\")\n",
        "# wandb.agent(sweep_id, function=pipeline)"
      ]
    },
    {
      "cell_type": "code",
      "execution_count": null,
      "metadata": {
        "id": "NMxr1690jmRo"
      },
      "outputs": [],
      "source": [
        "wandb.finish()"
      ]
    },
    {
      "cell_type": "markdown",
      "metadata": {
        "id": "FWg9vkc-L-wN"
      },
      "source": [
        "## Histogram-Based Gradient Boosted Tree\n",
        "- [scikit-learn tutorial](https://scikit-learn.org/stable/modules/ensemble.html#histogram-based-gradient-boosting)\n",
        "- [regressor API reference](https://scikit-learn.org/stable/modules/generated/sklearn.ensemble.HistGradientBoostingRegressor.html#sklearn.ensemble.HistGradientBoostingRegressor)"
      ]
    },
    {
      "cell_type": "code",
      "execution_count": null,
      "metadata": {
        "id": "DwzCXtZNjmRp"
      },
      "outputs": [
        {
          "data": {
            "text/html": [
              "Changes to your `wandb` environment variables will be ignored because your `wandb` session has already started. For more information on how to modify your settings with `wandb.init()` arguments, please refer to <a href='https://wandb.me/wandb-init' target=\"_blank\">the W&B docs</a>."
            ],
            "text/plain": [
              "<IPython.core.display.HTML object>"
            ]
          },
          "metadata": {},
          "output_type": "display_data"
        },
        {
          "name": "stderr",
          "output_type": "stream",
          "text": [
            "\u001b[34m\u001b[1mwandb\u001b[0m: \u001b[33mWARNING\u001b[0m Ignored wandb.init() arg project when running a sweep.\n"
          ]
        },
        {
          "data": {
            "text/html": [
              "wandb version 0.16.6 is available!  To upgrade, please run:\n",
              " $ pip install wandb --upgrade"
            ],
            "text/plain": [
              "<IPython.core.display.HTML object>"
            ]
          },
          "metadata": {},
          "output_type": "display_data"
        },
        {
          "data": {
            "text/html": [
              "Tracking run with wandb version 0.16.5"
            ],
            "text/plain": [
              "<IPython.core.display.HTML object>"
            ]
          },
          "metadata": {},
          "output_type": "display_data"
        },
        {
          "data": {
            "text/html": [
              "Run data is saved locally in <code>/usr/shared/CMPT/scratch/wxa38/CMPT353Project/wandb/run-20240410_154411-x83y36ea</code>"
            ],
            "text/plain": [
              "<IPython.core.display.HTML object>"
            ]
          },
          "metadata": {},
          "output_type": "display_data"
        },
        {
          "data": {
            "text/html": [
              "Syncing run <strong><a href='https://wandb.ai/t0m_x/Music%20Mood%20Prediction/runs/x83y36ea/workspace' target=\"_blank\">Histogram-based Gradient Boosting Regressor</a></strong> to <a href='https://wandb.ai/t0m_x/Music%20Mood%20Prediction' target=\"_blank\">Weights & Biases</a> (<a href='https://wandb.me/run' target=\"_blank\">docs</a>)<br/>Sweep page: <a href='https://wandb.ai/t0m_x/Music%20Mood%20Prediction/sweeps/lohmygvl' target=\"_blank\">https://wandb.ai/t0m_x/Music%20Mood%20Prediction/sweeps/lohmygvl</a>"
            ],
            "text/plain": [
              "<IPython.core.display.HTML object>"
            ]
          },
          "metadata": {},
          "output_type": "display_data"
        },
        {
          "data": {
            "text/html": [
              " View project at <a href='https://wandb.ai/t0m_x/Music%20Mood%20Prediction' target=\"_blank\">https://wandb.ai/t0m_x/Music%20Mood%20Prediction</a>"
            ],
            "text/plain": [
              "<IPython.core.display.HTML object>"
            ]
          },
          "metadata": {},
          "output_type": "display_data"
        },
        {
          "data": {
            "text/html": [
              " View sweep at <a href='https://wandb.ai/t0m_x/Music%20Mood%20Prediction/sweeps/lohmygvl' target=\"_blank\">https://wandb.ai/t0m_x/Music%20Mood%20Prediction/sweeps/lohmygvl</a>"
            ],
            "text/plain": [
              "<IPython.core.display.HTML object>"
            ]
          },
          "metadata": {},
          "output_type": "display_data"
        },
        {
          "data": {
            "text/html": [
              " View run at <a href='https://wandb.ai/t0m_x/Music%20Mood%20Prediction/runs/x83y36ea/workspace' target=\"_blank\">https://wandb.ai/t0m_x/Music%20Mood%20Prediction/runs/x83y36ea/workspace</a>"
            ],
            "text/plain": [
              "<IPython.core.display.HTML object>"
            ]
          },
          "metadata": {},
          "output_type": "display_data"
        },
        {
          "data": {
            "text/html": [
              "<button onClick=\"this.nextSibling.style.display='block';this.style.display='none';\">Display W&B run</button><iframe src='https://wandb.ai/t0m_x/Music%20Mood%20Prediction/runs/x83y36ea?jupyter=true' style='border:none;width:100%;height:420px;display:none;'></iframe>"
            ],
            "text/plain": [
              "<wandb.sdk.wandb_run.Run at 0x7fa420759b20>"
            ]
          },
          "execution_count": 32,
          "metadata": {},
          "output_type": "execute_result"
        }
      ],
      "source": [
        "wandb.init(\n",
        "    project=\"Music Mood Prediction\",\n",
        "    name=\"Histogram-based Gradient Boosting Regressor\"\n",
        "    )"
      ]
    },
    {
      "cell_type": "code",
      "execution_count": null,
      "metadata": {
        "id": "FTzHZBk3jmRp"
      },
      "outputs": [],
      "source": [
        "from sklearn.ensemble import HistGradientBoostingRegressor\n",
        "from sklearn.multioutput import MultiOutputRegressor\n",
        "from sklearn.model_selection import cross_validate\n",
        "\n",
        "hgbt = MultiOutputRegressor(HistGradientBoostingRegressor(random_state=0))\n",
        "regression = hgbt.fit(X_train, y_train)"
      ]
    },
    {
      "cell_type": "code",
      "execution_count": null,
      "metadata": {
        "id": "btylepqzjmRp"
      },
      "outputs": [
        {
          "name": "stderr",
          "output_type": "stream",
          "text": [
            "/usr/shared/CMPT/scratch/wxa38/miniforge3/envs/musemotion_meta/lib/python3.12/site-packages/sklearn/base.py:493: UserWarning: X does not have valid feature names, but HistGradientBoostingRegressor was fitted with feature names\n",
            "  warnings.warn(\n"
          ]
        }
      ],
      "source": [
        "r2 = regression.score(X_test, y_test)\n",
        "wandb.log({\"Coefficient of Correlation (R^2)\": r2})\n",
        "# The outliers chart only supports univariate (i.e. 1D output) regression\n",
        "# wandb.sklearn.plot_regressor(regression,\n",
        "#                             X_train, X_test,\n",
        "#                             y_train, y_test,\n",
        "#                             model_name=\"hist_gradient_boosting_regressor\")\n",
        "wandb.sklearn.plot_learning_curve(regression, X_train, y_train)\n",
        "wandb.sklearn.plot_summary_metrics(regression, X_train, y_train, X_test, y_test)"
      ]
    },
    {
      "cell_type": "code",
      "execution_count": null,
      "metadata": {
        "id": "unVoS6-BjmRq"
      },
      "outputs": [],
      "source": [
        "from sklearn.model_selection import cross_val_score, GridSearchCV, KFold\n",
        "\n",
        "param_grid = {\n",
        "    \"estimator__learning_rate\": [0.1, 0.01, 0.001],\n",
        "    # \"estimator__n_estimators\": [100, 200, 300],\n",
        "    \"estimator__max_depth\": [3, 5, 7],\n",
        "    # \"estimator__min_samples_split\": [20, 35, 50],\n",
        "    \"estimator__min_samples_leaf\": list(range(1,6))\n",
        "}\n",
        "\n",
        "cv_fold = KFold(n_splits=5, shuffle=True, random_state=42)\n",
        "grid_search = GridSearchCV(hgbt, param_grid, cv=cv_fold, n_jobs=-1, scoring=\"neg_mean_squared_error\")\n",
        "param_search_results = grid_search.fit(X_train, y_train)\n",
        "\n",
        "best_model = param_search_results.best_estimator_\n",
        "best_params = param_search_results.best_params_\n",
        "wandb.log({\"Coefficient of Correlation (R^2)\": best_model.score(X_test, y_test)})"
      ]
    },
    {
      "cell_type": "code",
      "execution_count": null,
      "metadata": {
        "id": "trERCg5NjmRq"
      },
      "outputs": [
        {
          "name": "stderr",
          "output_type": "stream",
          "text": [
            "/usr/shared/CMPT/scratch/wxa38/miniforge3/envs/musemotion_meta/lib/python3.12/site-packages/sklearn/base.py:493: UserWarning: X does not have valid feature names, but HistGradientBoostingRegressor was fitted with feature names\n",
            "  warnings.warn(\n"
          ]
        }
      ],
      "source": [
        "wandb.sklearn.plot_learning_curve(best_model, X_train, y_train)\n",
        "wandb.sklearn.plot_summary_metrics(best_model, X_train, y_train, X_test, y_test)"
      ]
    },
    {
      "cell_type": "code",
      "execution_count": null,
      "metadata": {
        "id": "a_cjW2qDjmRq"
      },
      "outputs": [
        {
          "data": {
            "application/vnd.jupyter.widget-view+json": {
              "model_id": "3e55b016544a4b4a9589225a6b1c31fa",
              "version_major": 2,
              "version_minor": 0
            },
            "text/plain": [
              "VBox(children=(Label(value='0.007 MB of 0.007 MB uploaded\\r'), FloatProgress(value=0.975224931542574, max=1.0)…"
            ]
          },
          "metadata": {},
          "output_type": "display_data"
        },
        {
          "data": {
            "text/html": [
              "<style>\n",
              "    table.wandb td:nth-child(1) { padding: 0 10px; text-align: left ; width: auto;} td:nth-child(2) {text-align: left ; width: 100%}\n",
              "    .wandb-row { display: flex; flex-direction: row; flex-wrap: wrap; justify-content: flex-start; width: 100% }\n",
              "    .wandb-col { display: flex; flex-direction: column; flex-basis: 100%; flex: 1; padding: 10px; }\n",
              "    </style>\n",
              "<div class=\"wandb-row\"><div class=\"wandb-col\"><h3>Run history:</h3><br/><table class=\"wandb\"><tr><td>Coefficient of Correlation (R^2)</td><td>▁█</td></tr></table><br/></div><div class=\"wandb-col\"><h3>Run summary:</h3><br/><table class=\"wandb\"><tr><td>Coefficient of Correlation (R^2)</td><td>0.04237</td></tr></table><br/></div></div>"
            ],
            "text/plain": [
              "<IPython.core.display.HTML object>"
            ]
          },
          "metadata": {},
          "output_type": "display_data"
        },
        {
          "data": {
            "text/html": [
              " View run <strong style=\"color:#cdcd00\">Histogram-based Gradient Boosting Regressor</strong> at: <a href='https://wandb.ai/t0m_x/Music%20Mood%20Prediction/runs/x83y36ea/workspace' target=\"_blank\">https://wandb.ai/t0m_x/Music%20Mood%20Prediction/runs/x83y36ea/workspace</a><br/>Synced 5 W&B file(s), 4 media file(s), 3 artifact file(s) and 0 other file(s)"
            ],
            "text/plain": [
              "<IPython.core.display.HTML object>"
            ]
          },
          "metadata": {},
          "output_type": "display_data"
        },
        {
          "data": {
            "text/html": [
              "Find logs at: <code>./wandb/run-20240410_154411-x83y36ea/logs</code>"
            ],
            "text/plain": [
              "<IPython.core.display.HTML object>"
            ]
          },
          "metadata": {},
          "output_type": "display_data"
        }
      ],
      "source": [
        "wandb.finish()"
      ]
    },
    {
      "cell_type": "code",
      "execution_count": null,
      "metadata": {
        "id": "x2rHNCIzALuO"
      },
      "outputs": [],
      "source": []
    }
  ],
  "metadata": {
    "accelerator": "TPU",
    "colab": {
      "gpuType": "V28",
      "include_colab_link": true,
      "provenance": []
    },
    "kernelspec": {
      "display_name": "Python 3",
      "name": "python3"
    },
    "language_info": {
      "codemirror_mode": {
        "name": "ipython",
        "version": 3
      },
      "file_extension": ".py",
      "mimetype": "text/x-python",
      "name": "python",
      "nbconvert_exporter": "python",
      "pygments_lexer": "ipython3",
      "version": "3.12.2"
    }
  },
  "nbformat": 4,
  "nbformat_minor": 0
}
