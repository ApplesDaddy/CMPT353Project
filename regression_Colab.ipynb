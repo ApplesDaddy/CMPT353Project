{
  "cells": [
    {
      "cell_type": "markdown",
      "metadata": {
        "id": "view-in-github",
        "colab_type": "text"
      },
      "source": [
        "<a href=\"https://colab.research.google.com/github/ApplesDaddy/CMPT353Project/blob/rf_regress/regression_Colab.ipynb\" target=\"_parent\"><img src=\"https://colab.research.google.com/assets/colab-badge.svg\" alt=\"Open In Colab\"/></a>"
      ]
    },
    {
      "cell_type": "code",
      "execution_count": null,
      "metadata": {
        "id": "bzcUpUE0AXlq"
      },
      "outputs": [],
      "source": [
        "!conda --version\n",
        "!which python\n",
        "!python --version\n",
        "!echo $PYTHONPATH"
      ]
    },
    {
      "cell_type": "code",
      "execution_count": null,
      "metadata": {
        "id": "QIv0kXQnAezZ"
      },
      "outputs": [],
      "source": [
        "%env PYTHONPATH=\n",
        "!echo $PYTHONPATH"
      ]
    },
    {
      "cell_type": "code",
      "execution_count": null,
      "metadata": {
        "id": "TTsbGKwlAhxg"
      },
      "outputs": [],
      "source": [
        "# most recent install link from https://docs.anaconda.com/free/miniconda/miniconda-other-installer-links/\n",
        "!wget https://repo.anaconda.com/miniconda/Miniconda3-py310_24.1.2-0-Linux-x86_64.sh\n",
        "!chmod +x Miniconda3-py310_24.1.2-0-Linux-x86_64.sh\n",
        "!bash ./Miniconda3-py310_24.1.2-0-Linux-x86_64.sh -b -f -p /usr/local/"
      ]
    },
    {
      "cell_type": "code",
      "execution_count": null,
      "metadata": {
        "id": "40iV0gF0Al-o"
      },
      "outputs": [],
      "source": [
        "!which conda\n",
        "!conda --version\n",
        "!conda install --channel defaults conda python=3.10 --yes\n",
        "!conda update --channel defaults --all --yes"
      ]
    },
    {
      "cell_type": "code",
      "execution_count": null,
      "metadata": {
        "id": "Ne1dBaTMAqsW"
      },
      "outputs": [],
      "source": [
        "import sys\n",
        "sys.path"
      ]
    },
    {
      "cell_type": "code",
      "execution_count": null,
      "metadata": {
        "id": "zaZIJrlwAy7i"
      },
      "outputs": [],
      "source": [
        "!ls /usr/local/lib/python3.10/dist-packages"
      ]
    },
    {
      "cell_type": "code",
      "execution_count": null,
      "metadata": {
        "id": "jyuXRyuBA2UT"
      },
      "outputs": [],
      "source": [
        "sys.path.append(\"/usr/local/lib/python3.10/site-packages\")\n",
        "!conda config --add channels conda-forge"
      ]
    },
    {
      "cell_type": "code",
      "execution_count": null,
      "metadata": {
        "id": "pOjhPejhA8iJ"
      },
      "outputs": [],
      "source": [
        "!conda create --name musemotion_meta -c conda-forge numpy pandas matplotlib scikit-learn wandb pytorch torchvision torchaudio pytorch-cuda=12.1 -c pytorch -c nvidia"
      ]
    },
    {
      "cell_type": "code",
      "execution_count": null,
      "metadata": {
        "id": "YM_HmfVOB722"
      },
      "outputs": [],
      "source": [
        "# !conda init\n",
        "# !conda activate musemotion_meta\n",
        "# credit https://stackoverflow.com/a/62668276\n",
        "%%shell\n",
        "eval \"$(conda shell.bash hook)\"\n",
        "conda activate musemotion_meta"
      ]
    },
    {
      "cell_type": "code",
      "source": [
        "pip install wandb -qU"
      ],
      "metadata": {
        "id": "2-X7wsr0joNk"
      },
      "execution_count": 1,
      "outputs": []
    },
    {
      "cell_type": "markdown",
      "metadata": {
        "id": "FvutftOdALuH"
      },
      "source": [
        "# Load data\n",
        "_Note_: tempo = bpm"
      ]
    },
    {
      "cell_type": "code",
      "execution_count": 2,
      "metadata": {
        "colab": {
          "base_uri": "https://localhost:8080/",
          "height": 344
        },
        "id": "8aCwHWW6DruL",
        "outputId": "b6504fce-d58f-4bb5-8187-d08f0f5b9c34"
      },
      "outputs": [
        {
          "output_type": "stream",
          "name": "stdout",
          "text": [
            "mkdir: cannot create directory ‘datasets’: File exists\n"
          ]
        },
        {
          "output_type": "error",
          "ename": "KeyboardInterrupt",
          "evalue": "",
          "traceback": [
            "\u001b[0;31m---------------------------------------------------------------------------\u001b[0m",
            "\u001b[0;31mKeyboardInterrupt\u001b[0m                         Traceback (most recent call last)",
            "\u001b[0;32m<ipython-input-2-01bb9eb65035>\u001b[0m in \u001b[0;36m<cell line: 4>\u001b[0;34m()\u001b[0m\n\u001b[1;32m      2\u001b[0m \u001b[0;32mimport\u001b[0m \u001b[0murllib\u001b[0m\u001b[0;34m.\u001b[0m\u001b[0mrequest\u001b[0m\u001b[0;34m\u001b[0m\u001b[0;34m\u001b[0m\u001b[0m\n\u001b[1;32m      3\u001b[0m \u001b[0murllib\u001b[0m\u001b[0;34m.\u001b[0m\u001b[0mrequest\u001b[0m\u001b[0;34m.\u001b[0m\u001b[0murlretrieve\u001b[0m\u001b[0;34m(\u001b[0m\u001b[0;34m\"https://github.com/zhandrew4/music-mood-classification/raw/main/muse_v3.csv\"\u001b[0m\u001b[0;34m,\u001b[0m \u001b[0;34m\"datasets/muse_v3.csv\"\u001b[0m\u001b[0;34m)\u001b[0m\u001b[0;34m\u001b[0m\u001b[0;34m\u001b[0m\u001b[0m\n\u001b[0;32m----> 4\u001b[0;31m \u001b[0murllib\u001b[0m\u001b[0;34m.\u001b[0m\u001b[0mrequest\u001b[0m\u001b[0;34m.\u001b[0m\u001b[0murlretrieve\u001b[0m\u001b[0;34m(\u001b[0m\u001b[0;34m\"https://github.com/zhandrew4/music-mood-classification/raw/main/full_data.csv\"\u001b[0m\u001b[0;34m,\u001b[0m \u001b[0;34m\"datasets/full_data.csv\"\u001b[0m\u001b[0;34m)\u001b[0m\u001b[0;34m\u001b[0m\u001b[0;34m\u001b[0m\u001b[0m\n\u001b[0m",
            "\u001b[0;32m/usr/lib/python3.10/urllib/request.py\u001b[0m in \u001b[0;36murlretrieve\u001b[0;34m(url, filename, reporthook, data)\u001b[0m\n\u001b[1;32m    239\u001b[0m     \u001b[0murl_type\u001b[0m\u001b[0;34m,\u001b[0m \u001b[0mpath\u001b[0m \u001b[0;34m=\u001b[0m \u001b[0m_splittype\u001b[0m\u001b[0;34m(\u001b[0m\u001b[0murl\u001b[0m\u001b[0;34m)\u001b[0m\u001b[0;34m\u001b[0m\u001b[0;34m\u001b[0m\u001b[0m\n\u001b[1;32m    240\u001b[0m \u001b[0;34m\u001b[0m\u001b[0m\n\u001b[0;32m--> 241\u001b[0;31m     \u001b[0;32mwith\u001b[0m \u001b[0mcontextlib\u001b[0m\u001b[0;34m.\u001b[0m\u001b[0mclosing\u001b[0m\u001b[0;34m(\u001b[0m\u001b[0murlopen\u001b[0m\u001b[0;34m(\u001b[0m\u001b[0murl\u001b[0m\u001b[0;34m,\u001b[0m \u001b[0mdata\u001b[0m\u001b[0;34m)\u001b[0m\u001b[0;34m)\u001b[0m \u001b[0;32mas\u001b[0m \u001b[0mfp\u001b[0m\u001b[0;34m:\u001b[0m\u001b[0;34m\u001b[0m\u001b[0;34m\u001b[0m\u001b[0m\n\u001b[0m\u001b[1;32m    242\u001b[0m         \u001b[0mheaders\u001b[0m \u001b[0;34m=\u001b[0m \u001b[0mfp\u001b[0m\u001b[0;34m.\u001b[0m\u001b[0minfo\u001b[0m\u001b[0;34m(\u001b[0m\u001b[0;34m)\u001b[0m\u001b[0;34m\u001b[0m\u001b[0;34m\u001b[0m\u001b[0m\n\u001b[1;32m    243\u001b[0m \u001b[0;34m\u001b[0m\u001b[0m\n",
            "\u001b[0;32m/usr/lib/python3.10/urllib/request.py\u001b[0m in \u001b[0;36murlopen\u001b[0;34m(url, data, timeout, cafile, capath, cadefault, context)\u001b[0m\n\u001b[1;32m    214\u001b[0m     \u001b[0;32melse\u001b[0m\u001b[0;34m:\u001b[0m\u001b[0;34m\u001b[0m\u001b[0;34m\u001b[0m\u001b[0m\n\u001b[1;32m    215\u001b[0m         \u001b[0mopener\u001b[0m \u001b[0;34m=\u001b[0m \u001b[0m_opener\u001b[0m\u001b[0;34m\u001b[0m\u001b[0;34m\u001b[0m\u001b[0m\n\u001b[0;32m--> 216\u001b[0;31m     \u001b[0;32mreturn\u001b[0m \u001b[0mopener\u001b[0m\u001b[0;34m.\u001b[0m\u001b[0mopen\u001b[0m\u001b[0;34m(\u001b[0m\u001b[0murl\u001b[0m\u001b[0;34m,\u001b[0m \u001b[0mdata\u001b[0m\u001b[0;34m,\u001b[0m \u001b[0mtimeout\u001b[0m\u001b[0;34m)\u001b[0m\u001b[0;34m\u001b[0m\u001b[0;34m\u001b[0m\u001b[0m\n\u001b[0m\u001b[1;32m    217\u001b[0m \u001b[0;34m\u001b[0m\u001b[0m\n\u001b[1;32m    218\u001b[0m \u001b[0;32mdef\u001b[0m \u001b[0minstall_opener\u001b[0m\u001b[0;34m(\u001b[0m\u001b[0mopener\u001b[0m\u001b[0;34m)\u001b[0m\u001b[0;34m:\u001b[0m\u001b[0;34m\u001b[0m\u001b[0;34m\u001b[0m\u001b[0m\n",
            "\u001b[0;32m/usr/lib/python3.10/urllib/request.py\u001b[0m in \u001b[0;36mopen\u001b[0;34m(self, fullurl, data, timeout)\u001b[0m\n\u001b[1;32m    517\u001b[0m \u001b[0;34m\u001b[0m\u001b[0m\n\u001b[1;32m    518\u001b[0m         \u001b[0msys\u001b[0m\u001b[0;34m.\u001b[0m\u001b[0maudit\u001b[0m\u001b[0;34m(\u001b[0m\u001b[0;34m'urllib.Request'\u001b[0m\u001b[0;34m,\u001b[0m \u001b[0mreq\u001b[0m\u001b[0;34m.\u001b[0m\u001b[0mfull_url\u001b[0m\u001b[0;34m,\u001b[0m \u001b[0mreq\u001b[0m\u001b[0;34m.\u001b[0m\u001b[0mdata\u001b[0m\u001b[0;34m,\u001b[0m \u001b[0mreq\u001b[0m\u001b[0;34m.\u001b[0m\u001b[0mheaders\u001b[0m\u001b[0;34m,\u001b[0m \u001b[0mreq\u001b[0m\u001b[0;34m.\u001b[0m\u001b[0mget_method\u001b[0m\u001b[0;34m(\u001b[0m\u001b[0;34m)\u001b[0m\u001b[0;34m)\u001b[0m\u001b[0;34m\u001b[0m\u001b[0;34m\u001b[0m\u001b[0m\n\u001b[0;32m--> 519\u001b[0;31m         \u001b[0mresponse\u001b[0m \u001b[0;34m=\u001b[0m \u001b[0mself\u001b[0m\u001b[0;34m.\u001b[0m\u001b[0m_open\u001b[0m\u001b[0;34m(\u001b[0m\u001b[0mreq\u001b[0m\u001b[0;34m,\u001b[0m \u001b[0mdata\u001b[0m\u001b[0;34m)\u001b[0m\u001b[0;34m\u001b[0m\u001b[0;34m\u001b[0m\u001b[0m\n\u001b[0m\u001b[1;32m    520\u001b[0m \u001b[0;34m\u001b[0m\u001b[0m\n\u001b[1;32m    521\u001b[0m         \u001b[0;31m# post-process response\u001b[0m\u001b[0;34m\u001b[0m\u001b[0;34m\u001b[0m\u001b[0m\n",
            "\u001b[0;32m/usr/lib/python3.10/urllib/request.py\u001b[0m in \u001b[0;36m_open\u001b[0;34m(self, req, data)\u001b[0m\n\u001b[1;32m    534\u001b[0m \u001b[0;34m\u001b[0m\u001b[0m\n\u001b[1;32m    535\u001b[0m         \u001b[0mprotocol\u001b[0m \u001b[0;34m=\u001b[0m \u001b[0mreq\u001b[0m\u001b[0;34m.\u001b[0m\u001b[0mtype\u001b[0m\u001b[0;34m\u001b[0m\u001b[0;34m\u001b[0m\u001b[0m\n\u001b[0;32m--> 536\u001b[0;31m         result = self._call_chain(self.handle_open, protocol, protocol +\n\u001b[0m\u001b[1;32m    537\u001b[0m                                   '_open', req)\n\u001b[1;32m    538\u001b[0m         \u001b[0;32mif\u001b[0m \u001b[0mresult\u001b[0m\u001b[0;34m:\u001b[0m\u001b[0;34m\u001b[0m\u001b[0;34m\u001b[0m\u001b[0m\n",
            "\u001b[0;32m/usr/lib/python3.10/urllib/request.py\u001b[0m in \u001b[0;36m_call_chain\u001b[0;34m(self, chain, kind, meth_name, *args)\u001b[0m\n\u001b[1;32m    494\u001b[0m         \u001b[0;32mfor\u001b[0m \u001b[0mhandler\u001b[0m \u001b[0;32min\u001b[0m \u001b[0mhandlers\u001b[0m\u001b[0;34m:\u001b[0m\u001b[0;34m\u001b[0m\u001b[0;34m\u001b[0m\u001b[0m\n\u001b[1;32m    495\u001b[0m             \u001b[0mfunc\u001b[0m \u001b[0;34m=\u001b[0m \u001b[0mgetattr\u001b[0m\u001b[0;34m(\u001b[0m\u001b[0mhandler\u001b[0m\u001b[0;34m,\u001b[0m \u001b[0mmeth_name\u001b[0m\u001b[0;34m)\u001b[0m\u001b[0;34m\u001b[0m\u001b[0;34m\u001b[0m\u001b[0m\n\u001b[0;32m--> 496\u001b[0;31m             \u001b[0mresult\u001b[0m \u001b[0;34m=\u001b[0m \u001b[0mfunc\u001b[0m\u001b[0;34m(\u001b[0m\u001b[0;34m*\u001b[0m\u001b[0margs\u001b[0m\u001b[0;34m)\u001b[0m\u001b[0;34m\u001b[0m\u001b[0;34m\u001b[0m\u001b[0m\n\u001b[0m\u001b[1;32m    497\u001b[0m             \u001b[0;32mif\u001b[0m \u001b[0mresult\u001b[0m \u001b[0;32mis\u001b[0m \u001b[0;32mnot\u001b[0m \u001b[0;32mNone\u001b[0m\u001b[0;34m:\u001b[0m\u001b[0;34m\u001b[0m\u001b[0;34m\u001b[0m\u001b[0m\n\u001b[1;32m    498\u001b[0m                 \u001b[0;32mreturn\u001b[0m \u001b[0mresult\u001b[0m\u001b[0;34m\u001b[0m\u001b[0;34m\u001b[0m\u001b[0m\n",
            "\u001b[0;32m/usr/lib/python3.10/urllib/request.py\u001b[0m in \u001b[0;36mhttps_open\u001b[0;34m(self, req)\u001b[0m\n\u001b[1;32m   1389\u001b[0m \u001b[0;34m\u001b[0m\u001b[0m\n\u001b[1;32m   1390\u001b[0m         \u001b[0;32mdef\u001b[0m \u001b[0mhttps_open\u001b[0m\u001b[0;34m(\u001b[0m\u001b[0mself\u001b[0m\u001b[0;34m,\u001b[0m \u001b[0mreq\u001b[0m\u001b[0;34m)\u001b[0m\u001b[0;34m:\u001b[0m\u001b[0;34m\u001b[0m\u001b[0;34m\u001b[0m\u001b[0m\n\u001b[0;32m-> 1391\u001b[0;31m             return self.do_open(http.client.HTTPSConnection, req,\n\u001b[0m\u001b[1;32m   1392\u001b[0m                 context=self._context, check_hostname=self._check_hostname)\n\u001b[1;32m   1393\u001b[0m \u001b[0;34m\u001b[0m\u001b[0m\n",
            "\u001b[0;32m/usr/lib/python3.10/urllib/request.py\u001b[0m in \u001b[0;36mdo_open\u001b[0;34m(self, http_class, req, **http_conn_args)\u001b[0m\n\u001b[1;32m   1350\u001b[0m             \u001b[0;32mexcept\u001b[0m \u001b[0mOSError\u001b[0m \u001b[0;32mas\u001b[0m \u001b[0merr\u001b[0m\u001b[0;34m:\u001b[0m \u001b[0;31m# timeout error\u001b[0m\u001b[0;34m\u001b[0m\u001b[0;34m\u001b[0m\u001b[0m\n\u001b[1;32m   1351\u001b[0m                 \u001b[0;32mraise\u001b[0m \u001b[0mURLError\u001b[0m\u001b[0;34m(\u001b[0m\u001b[0merr\u001b[0m\u001b[0;34m)\u001b[0m\u001b[0;34m\u001b[0m\u001b[0;34m\u001b[0m\u001b[0m\n\u001b[0;32m-> 1352\u001b[0;31m             \u001b[0mr\u001b[0m \u001b[0;34m=\u001b[0m \u001b[0mh\u001b[0m\u001b[0;34m.\u001b[0m\u001b[0mgetresponse\u001b[0m\u001b[0;34m(\u001b[0m\u001b[0;34m)\u001b[0m\u001b[0;34m\u001b[0m\u001b[0;34m\u001b[0m\u001b[0m\n\u001b[0m\u001b[1;32m   1353\u001b[0m         \u001b[0;32mexcept\u001b[0m\u001b[0;34m:\u001b[0m\u001b[0;34m\u001b[0m\u001b[0;34m\u001b[0m\u001b[0m\n\u001b[1;32m   1354\u001b[0m             \u001b[0mh\u001b[0m\u001b[0;34m.\u001b[0m\u001b[0mclose\u001b[0m\u001b[0;34m(\u001b[0m\u001b[0;34m)\u001b[0m\u001b[0;34m\u001b[0m\u001b[0;34m\u001b[0m\u001b[0m\n",
            "\u001b[0;32m/usr/lib/python3.10/http/client.py\u001b[0m in \u001b[0;36mgetresponse\u001b[0;34m(self)\u001b[0m\n\u001b[1;32m   1373\u001b[0m         \u001b[0;32mtry\u001b[0m\u001b[0;34m:\u001b[0m\u001b[0;34m\u001b[0m\u001b[0;34m\u001b[0m\u001b[0m\n\u001b[1;32m   1374\u001b[0m             \u001b[0;32mtry\u001b[0m\u001b[0;34m:\u001b[0m\u001b[0;34m\u001b[0m\u001b[0;34m\u001b[0m\u001b[0m\n\u001b[0;32m-> 1375\u001b[0;31m                 \u001b[0mresponse\u001b[0m\u001b[0;34m.\u001b[0m\u001b[0mbegin\u001b[0m\u001b[0;34m(\u001b[0m\u001b[0;34m)\u001b[0m\u001b[0;34m\u001b[0m\u001b[0;34m\u001b[0m\u001b[0m\n\u001b[0m\u001b[1;32m   1376\u001b[0m             \u001b[0;32mexcept\u001b[0m \u001b[0mConnectionError\u001b[0m\u001b[0;34m:\u001b[0m\u001b[0;34m\u001b[0m\u001b[0;34m\u001b[0m\u001b[0m\n\u001b[1;32m   1377\u001b[0m                 \u001b[0mself\u001b[0m\u001b[0;34m.\u001b[0m\u001b[0mclose\u001b[0m\u001b[0;34m(\u001b[0m\u001b[0;34m)\u001b[0m\u001b[0;34m\u001b[0m\u001b[0;34m\u001b[0m\u001b[0m\n",
            "\u001b[0;32m/usr/lib/python3.10/http/client.py\u001b[0m in \u001b[0;36mbegin\u001b[0;34m(self)\u001b[0m\n\u001b[1;32m    316\u001b[0m         \u001b[0;31m# read until we get a non-100 response\u001b[0m\u001b[0;34m\u001b[0m\u001b[0;34m\u001b[0m\u001b[0m\n\u001b[1;32m    317\u001b[0m         \u001b[0;32mwhile\u001b[0m \u001b[0;32mTrue\u001b[0m\u001b[0;34m:\u001b[0m\u001b[0;34m\u001b[0m\u001b[0;34m\u001b[0m\u001b[0m\n\u001b[0;32m--> 318\u001b[0;31m             \u001b[0mversion\u001b[0m\u001b[0;34m,\u001b[0m \u001b[0mstatus\u001b[0m\u001b[0;34m,\u001b[0m \u001b[0mreason\u001b[0m \u001b[0;34m=\u001b[0m \u001b[0mself\u001b[0m\u001b[0;34m.\u001b[0m\u001b[0m_read_status\u001b[0m\u001b[0;34m(\u001b[0m\u001b[0;34m)\u001b[0m\u001b[0;34m\u001b[0m\u001b[0;34m\u001b[0m\u001b[0m\n\u001b[0m\u001b[1;32m    319\u001b[0m             \u001b[0;32mif\u001b[0m \u001b[0mstatus\u001b[0m \u001b[0;34m!=\u001b[0m \u001b[0mCONTINUE\u001b[0m\u001b[0;34m:\u001b[0m\u001b[0;34m\u001b[0m\u001b[0;34m\u001b[0m\u001b[0m\n\u001b[1;32m    320\u001b[0m                 \u001b[0;32mbreak\u001b[0m\u001b[0;34m\u001b[0m\u001b[0;34m\u001b[0m\u001b[0m\n",
            "\u001b[0;32m/usr/lib/python3.10/http/client.py\u001b[0m in \u001b[0;36m_read_status\u001b[0;34m(self)\u001b[0m\n\u001b[1;32m    277\u001b[0m \u001b[0;34m\u001b[0m\u001b[0m\n\u001b[1;32m    278\u001b[0m     \u001b[0;32mdef\u001b[0m \u001b[0m_read_status\u001b[0m\u001b[0;34m(\u001b[0m\u001b[0mself\u001b[0m\u001b[0;34m)\u001b[0m\u001b[0;34m:\u001b[0m\u001b[0;34m\u001b[0m\u001b[0;34m\u001b[0m\u001b[0m\n\u001b[0;32m--> 279\u001b[0;31m         \u001b[0mline\u001b[0m \u001b[0;34m=\u001b[0m \u001b[0mstr\u001b[0m\u001b[0;34m(\u001b[0m\u001b[0mself\u001b[0m\u001b[0;34m.\u001b[0m\u001b[0mfp\u001b[0m\u001b[0;34m.\u001b[0m\u001b[0mreadline\u001b[0m\u001b[0;34m(\u001b[0m\u001b[0m_MAXLINE\u001b[0m \u001b[0;34m+\u001b[0m \u001b[0;36m1\u001b[0m\u001b[0;34m)\u001b[0m\u001b[0;34m,\u001b[0m \u001b[0;34m\"iso-8859-1\"\u001b[0m\u001b[0;34m)\u001b[0m\u001b[0;34m\u001b[0m\u001b[0;34m\u001b[0m\u001b[0m\n\u001b[0m\u001b[1;32m    280\u001b[0m         \u001b[0;32mif\u001b[0m \u001b[0mlen\u001b[0m\u001b[0;34m(\u001b[0m\u001b[0mline\u001b[0m\u001b[0;34m)\u001b[0m \u001b[0;34m>\u001b[0m \u001b[0m_MAXLINE\u001b[0m\u001b[0;34m:\u001b[0m\u001b[0;34m\u001b[0m\u001b[0;34m\u001b[0m\u001b[0m\n\u001b[1;32m    281\u001b[0m             \u001b[0;32mraise\u001b[0m \u001b[0mLineTooLong\u001b[0m\u001b[0;34m(\u001b[0m\u001b[0;34m\"status line\"\u001b[0m\u001b[0;34m)\u001b[0m\u001b[0;34m\u001b[0m\u001b[0;34m\u001b[0m\u001b[0m\n",
            "\u001b[0;32m/usr/lib/python3.10/socket.py\u001b[0m in \u001b[0;36mreadinto\u001b[0;34m(self, b)\u001b[0m\n\u001b[1;32m    703\u001b[0m         \u001b[0;32mwhile\u001b[0m \u001b[0;32mTrue\u001b[0m\u001b[0;34m:\u001b[0m\u001b[0;34m\u001b[0m\u001b[0;34m\u001b[0m\u001b[0m\n\u001b[1;32m    704\u001b[0m             \u001b[0;32mtry\u001b[0m\u001b[0;34m:\u001b[0m\u001b[0;34m\u001b[0m\u001b[0;34m\u001b[0m\u001b[0m\n\u001b[0;32m--> 705\u001b[0;31m                 \u001b[0;32mreturn\u001b[0m \u001b[0mself\u001b[0m\u001b[0;34m.\u001b[0m\u001b[0m_sock\u001b[0m\u001b[0;34m.\u001b[0m\u001b[0mrecv_into\u001b[0m\u001b[0;34m(\u001b[0m\u001b[0mb\u001b[0m\u001b[0;34m)\u001b[0m\u001b[0;34m\u001b[0m\u001b[0;34m\u001b[0m\u001b[0m\n\u001b[0m\u001b[1;32m    706\u001b[0m             \u001b[0;32mexcept\u001b[0m \u001b[0mtimeout\u001b[0m\u001b[0;34m:\u001b[0m\u001b[0;34m\u001b[0m\u001b[0;34m\u001b[0m\u001b[0m\n\u001b[1;32m    707\u001b[0m                 \u001b[0mself\u001b[0m\u001b[0;34m.\u001b[0m\u001b[0m_timeout_occurred\u001b[0m \u001b[0;34m=\u001b[0m \u001b[0;32mTrue\u001b[0m\u001b[0;34m\u001b[0m\u001b[0;34m\u001b[0m\u001b[0m\n",
            "\u001b[0;32m/usr/lib/python3.10/ssl.py\u001b[0m in \u001b[0;36mrecv_into\u001b[0;34m(self, buffer, nbytes, flags)\u001b[0m\n\u001b[1;32m   1301\u001b[0m                   \u001b[0;34m\"non-zero flags not allowed in calls to recv_into() on %s\"\u001b[0m \u001b[0;34m%\u001b[0m\u001b[0;34m\u001b[0m\u001b[0;34m\u001b[0m\u001b[0m\n\u001b[1;32m   1302\u001b[0m                   self.__class__)\n\u001b[0;32m-> 1303\u001b[0;31m             \u001b[0;32mreturn\u001b[0m \u001b[0mself\u001b[0m\u001b[0;34m.\u001b[0m\u001b[0mread\u001b[0m\u001b[0;34m(\u001b[0m\u001b[0mnbytes\u001b[0m\u001b[0;34m,\u001b[0m \u001b[0mbuffer\u001b[0m\u001b[0;34m)\u001b[0m\u001b[0;34m\u001b[0m\u001b[0;34m\u001b[0m\u001b[0m\n\u001b[0m\u001b[1;32m   1304\u001b[0m         \u001b[0;32melse\u001b[0m\u001b[0;34m:\u001b[0m\u001b[0;34m\u001b[0m\u001b[0;34m\u001b[0m\u001b[0m\n\u001b[1;32m   1305\u001b[0m             \u001b[0;32mreturn\u001b[0m \u001b[0msuper\u001b[0m\u001b[0;34m(\u001b[0m\u001b[0;34m)\u001b[0m\u001b[0;34m.\u001b[0m\u001b[0mrecv_into\u001b[0m\u001b[0;34m(\u001b[0m\u001b[0mbuffer\u001b[0m\u001b[0;34m,\u001b[0m \u001b[0mnbytes\u001b[0m\u001b[0;34m,\u001b[0m \u001b[0mflags\u001b[0m\u001b[0;34m)\u001b[0m\u001b[0;34m\u001b[0m\u001b[0;34m\u001b[0m\u001b[0m\n",
            "\u001b[0;32m/usr/lib/python3.10/ssl.py\u001b[0m in \u001b[0;36mread\u001b[0;34m(self, len, buffer)\u001b[0m\n\u001b[1;32m   1157\u001b[0m         \u001b[0;32mtry\u001b[0m\u001b[0;34m:\u001b[0m\u001b[0;34m\u001b[0m\u001b[0;34m\u001b[0m\u001b[0m\n\u001b[1;32m   1158\u001b[0m             \u001b[0;32mif\u001b[0m \u001b[0mbuffer\u001b[0m \u001b[0;32mis\u001b[0m \u001b[0;32mnot\u001b[0m \u001b[0;32mNone\u001b[0m\u001b[0;34m:\u001b[0m\u001b[0;34m\u001b[0m\u001b[0;34m\u001b[0m\u001b[0m\n\u001b[0;32m-> 1159\u001b[0;31m                 \u001b[0;32mreturn\u001b[0m \u001b[0mself\u001b[0m\u001b[0;34m.\u001b[0m\u001b[0m_sslobj\u001b[0m\u001b[0;34m.\u001b[0m\u001b[0mread\u001b[0m\u001b[0;34m(\u001b[0m\u001b[0mlen\u001b[0m\u001b[0;34m,\u001b[0m \u001b[0mbuffer\u001b[0m\u001b[0;34m)\u001b[0m\u001b[0;34m\u001b[0m\u001b[0;34m\u001b[0m\u001b[0m\n\u001b[0m\u001b[1;32m   1160\u001b[0m             \u001b[0;32melse\u001b[0m\u001b[0;34m:\u001b[0m\u001b[0;34m\u001b[0m\u001b[0;34m\u001b[0m\u001b[0m\n\u001b[1;32m   1161\u001b[0m                 \u001b[0;32mreturn\u001b[0m \u001b[0mself\u001b[0m\u001b[0;34m.\u001b[0m\u001b[0m_sslobj\u001b[0m\u001b[0;34m.\u001b[0m\u001b[0mread\u001b[0m\u001b[0;34m(\u001b[0m\u001b[0mlen\u001b[0m\u001b[0;34m)\u001b[0m\u001b[0;34m\u001b[0m\u001b[0;34m\u001b[0m\u001b[0m\n",
            "\u001b[0;31mKeyboardInterrupt\u001b[0m: "
          ]
        }
      ],
      "source": [
        "!mkdir datasets\n",
        "import urllib.request\n",
        "urllib.request.urlretrieve(\"https://github.com/zhandrew4/music-mood-classification/raw/main/muse_v3.csv\", \"datasets/muse_v3.csv\")\n",
        "urllib.request.urlretrieve(\"https://github.com/zhandrew4/music-mood-classification/raw/main/full_data.csv\", \"datasets/full_data.csv\")"
      ]
    },
    {
      "cell_type": "code",
      "execution_count": 7,
      "metadata": {
        "colab": {
          "base_uri": "https://localhost:8080/"
        },
        "id": "iqZpfbtQHYL1",
        "outputId": "4e11a3a8-d516-4830-9cf9-42b961942c53"
      },
      "outputs": [
        {
          "output_type": "execute_result",
          "data": {
            "text/plain": [
              "Index(['Unnamed: 0', 'track', 'artist', 'seeds', 'spotify_id', 'danceability',\n",
              "       'energy', 'key', 'loudness', 'mode', 'speechiness', 'acousticness',\n",
              "       'instrumentalness', 'liveness', 'valence', 'tempo', 'type', 'id', 'uri',\n",
              "       'track_href', 'analysis_url', 'duration_ms', 'time_signature'],\n",
              "      dtype='object')"
            ]
          },
          "metadata": {},
          "execution_count": 7
        }
      ],
      "source": [
        "import pandas as pd\n",
        "sample = pd.read_csv(\"datasets/full_data.csv\", nrows=3)\n",
        "sample.columns"
      ]
    },
    {
      "cell_type": "code",
      "execution_count": 8,
      "metadata": {
        "colab": {
          "base_uri": "https://localhost:8080/",
          "height": 510
        },
        "id": "4LbDwYR7ALuK",
        "outputId": "c17885f6-57bf-477b-d1de-bf612e676700"
      },
      "outputs": [
        {
          "output_type": "stream",
          "name": "stderr",
          "text": [
            "<ipython-input-8-4f33f2e5d51f>:9: FutureWarning: The argument 'infer_datetime_format' is deprecated and will be removed in a future version. A strict version of it is now the default, see https://pandas.pydata.org/pdeps/0004-consistent-to-datetime-parsing.html. You can safely remove this argument.\n",
            "  songs_df = pd.read_csv(\"datasets/full_data.csv\", usecols=[\"track\", \"artist\"]+KEEP_COLS_MODEL, parse_dates=True, infer_datetime_format=True)\n"
          ]
        },
        {
          "output_type": "execute_result",
          "data": {
            "text/plain": [
              "                                                   key  loudness    tempo  \\\n",
              "track                            artist                                     \n",
              "'Till I Collapse                 Eminem              1    -3.237  171.447   \n",
              "St. Anger                        Metallica           2    -2.642  185.252   \n",
              "Speedin'                         Rick Ross           1    -4.226  100.059   \n",
              "Bamboo Banga                     M.I.A.              9    -4.554  125.984   \n",
              "Die MF Die                       Dope                5    -3.524  126.020   \n",
              "...                                                ...       ...      ...   \n",
              "Secret                           Quietdrive          0    -5.126  167.996   \n",
              "The Last of the Rest Was the End Medications         2    -5.774  144.844   \n",
              "Lovechild                        Daniel Lanois      10   -20.091   79.476   \n",
              "Last Inhale                      Tapage              2    -8.977  160.011   \n",
              "Unfold                           Message To Bears    0   -11.355   96.970   \n",
              "\n",
              "                                                   duration_ms  time_signature  \n",
              "track                            artist                                         \n",
              "'Till I Collapse                 Eminem                 297787               4  \n",
              "St. Anger                        Metallica              441133               4  \n",
              "Speedin'                         Rick Ross              204960               4  \n",
              "Bamboo Banga                     M.I.A.                 298360               4  \n",
              "Die MF Die                       Dope                   186067               4  \n",
              "...                                                        ...             ...  \n",
              "Secret                           Quietdrive             258373               4  \n",
              "The Last of the Rest Was the End Medications            324000               3  \n",
              "Lovechild                        Daniel Lanois          516280               4  \n",
              "Last Inhale                      Tapage                 324258               4  \n",
              "Unfold                           Message To Bears       268440               4  \n",
              "\n",
              "[61627 rows x 5 columns]"
            ],
            "text/html": [
              "\n",
              "  <div id=\"df-0483e5ed-8c4f-47c6-8818-d18657d8eff8\" class=\"colab-df-container\">\n",
              "    <div>\n",
              "<style scoped>\n",
              "    .dataframe tbody tr th:only-of-type {\n",
              "        vertical-align: middle;\n",
              "    }\n",
              "\n",
              "    .dataframe tbody tr th {\n",
              "        vertical-align: top;\n",
              "    }\n",
              "\n",
              "    .dataframe thead th {\n",
              "        text-align: right;\n",
              "    }\n",
              "</style>\n",
              "<table border=\"1\" class=\"dataframe\">\n",
              "  <thead>\n",
              "    <tr style=\"text-align: right;\">\n",
              "      <th></th>\n",
              "      <th></th>\n",
              "      <th>key</th>\n",
              "      <th>loudness</th>\n",
              "      <th>tempo</th>\n",
              "      <th>duration_ms</th>\n",
              "      <th>time_signature</th>\n",
              "    </tr>\n",
              "    <tr>\n",
              "      <th>track</th>\n",
              "      <th>artist</th>\n",
              "      <th></th>\n",
              "      <th></th>\n",
              "      <th></th>\n",
              "      <th></th>\n",
              "      <th></th>\n",
              "    </tr>\n",
              "  </thead>\n",
              "  <tbody>\n",
              "    <tr>\n",
              "      <th>'Till I Collapse</th>\n",
              "      <th>Eminem</th>\n",
              "      <td>1</td>\n",
              "      <td>-3.237</td>\n",
              "      <td>171.447</td>\n",
              "      <td>297787</td>\n",
              "      <td>4</td>\n",
              "    </tr>\n",
              "    <tr>\n",
              "      <th>St. Anger</th>\n",
              "      <th>Metallica</th>\n",
              "      <td>2</td>\n",
              "      <td>-2.642</td>\n",
              "      <td>185.252</td>\n",
              "      <td>441133</td>\n",
              "      <td>4</td>\n",
              "    </tr>\n",
              "    <tr>\n",
              "      <th>Speedin'</th>\n",
              "      <th>Rick Ross</th>\n",
              "      <td>1</td>\n",
              "      <td>-4.226</td>\n",
              "      <td>100.059</td>\n",
              "      <td>204960</td>\n",
              "      <td>4</td>\n",
              "    </tr>\n",
              "    <tr>\n",
              "      <th>Bamboo Banga</th>\n",
              "      <th>M.I.A.</th>\n",
              "      <td>9</td>\n",
              "      <td>-4.554</td>\n",
              "      <td>125.984</td>\n",
              "      <td>298360</td>\n",
              "      <td>4</td>\n",
              "    </tr>\n",
              "    <tr>\n",
              "      <th>Die MF Die</th>\n",
              "      <th>Dope</th>\n",
              "      <td>5</td>\n",
              "      <td>-3.524</td>\n",
              "      <td>126.020</td>\n",
              "      <td>186067</td>\n",
              "      <td>4</td>\n",
              "    </tr>\n",
              "    <tr>\n",
              "      <th>...</th>\n",
              "      <th>...</th>\n",
              "      <td>...</td>\n",
              "      <td>...</td>\n",
              "      <td>...</td>\n",
              "      <td>...</td>\n",
              "      <td>...</td>\n",
              "    </tr>\n",
              "    <tr>\n",
              "      <th>Secret</th>\n",
              "      <th>Quietdrive</th>\n",
              "      <td>0</td>\n",
              "      <td>-5.126</td>\n",
              "      <td>167.996</td>\n",
              "      <td>258373</td>\n",
              "      <td>4</td>\n",
              "    </tr>\n",
              "    <tr>\n",
              "      <th>The Last of the Rest Was the End</th>\n",
              "      <th>Medications</th>\n",
              "      <td>2</td>\n",
              "      <td>-5.774</td>\n",
              "      <td>144.844</td>\n",
              "      <td>324000</td>\n",
              "      <td>3</td>\n",
              "    </tr>\n",
              "    <tr>\n",
              "      <th>Lovechild</th>\n",
              "      <th>Daniel Lanois</th>\n",
              "      <td>10</td>\n",
              "      <td>-20.091</td>\n",
              "      <td>79.476</td>\n",
              "      <td>516280</td>\n",
              "      <td>4</td>\n",
              "    </tr>\n",
              "    <tr>\n",
              "      <th>Last Inhale</th>\n",
              "      <th>Tapage</th>\n",
              "      <td>2</td>\n",
              "      <td>-8.977</td>\n",
              "      <td>160.011</td>\n",
              "      <td>324258</td>\n",
              "      <td>4</td>\n",
              "    </tr>\n",
              "    <tr>\n",
              "      <th>Unfold</th>\n",
              "      <th>Message To Bears</th>\n",
              "      <td>0</td>\n",
              "      <td>-11.355</td>\n",
              "      <td>96.970</td>\n",
              "      <td>268440</td>\n",
              "      <td>4</td>\n",
              "    </tr>\n",
              "  </tbody>\n",
              "</table>\n",
              "<p>61627 rows × 5 columns</p>\n",
              "</div>\n",
              "    <div class=\"colab-df-buttons\">\n",
              "\n",
              "  <div class=\"colab-df-container\">\n",
              "    <button class=\"colab-df-convert\" onclick=\"convertToInteractive('df-0483e5ed-8c4f-47c6-8818-d18657d8eff8')\"\n",
              "            title=\"Convert this dataframe to an interactive table.\"\n",
              "            style=\"display:none;\">\n",
              "\n",
              "  <svg xmlns=\"http://www.w3.org/2000/svg\" height=\"24px\" viewBox=\"0 -960 960 960\">\n",
              "    <path d=\"M120-120v-720h720v720H120Zm60-500h600v-160H180v160Zm220 220h160v-160H400v160Zm0 220h160v-160H400v160ZM180-400h160v-160H180v160Zm440 0h160v-160H620v160ZM180-180h160v-160H180v160Zm440 0h160v-160H620v160Z\"/>\n",
              "  </svg>\n",
              "    </button>\n",
              "\n",
              "  <style>\n",
              "    .colab-df-container {\n",
              "      display:flex;\n",
              "      gap: 12px;\n",
              "    }\n",
              "\n",
              "    .colab-df-convert {\n",
              "      background-color: #E8F0FE;\n",
              "      border: none;\n",
              "      border-radius: 50%;\n",
              "      cursor: pointer;\n",
              "      display: none;\n",
              "      fill: #1967D2;\n",
              "      height: 32px;\n",
              "      padding: 0 0 0 0;\n",
              "      width: 32px;\n",
              "    }\n",
              "\n",
              "    .colab-df-convert:hover {\n",
              "      background-color: #E2EBFA;\n",
              "      box-shadow: 0px 1px 2px rgba(60, 64, 67, 0.3), 0px 1px 3px 1px rgba(60, 64, 67, 0.15);\n",
              "      fill: #174EA6;\n",
              "    }\n",
              "\n",
              "    .colab-df-buttons div {\n",
              "      margin-bottom: 4px;\n",
              "    }\n",
              "\n",
              "    [theme=dark] .colab-df-convert {\n",
              "      background-color: #3B4455;\n",
              "      fill: #D2E3FC;\n",
              "    }\n",
              "\n",
              "    [theme=dark] .colab-df-convert:hover {\n",
              "      background-color: #434B5C;\n",
              "      box-shadow: 0px 1px 3px 1px rgba(0, 0, 0, 0.15);\n",
              "      filter: drop-shadow(0px 1px 2px rgba(0, 0, 0, 0.3));\n",
              "      fill: #FFFFFF;\n",
              "    }\n",
              "  </style>\n",
              "\n",
              "    <script>\n",
              "      const buttonEl =\n",
              "        document.querySelector('#df-0483e5ed-8c4f-47c6-8818-d18657d8eff8 button.colab-df-convert');\n",
              "      buttonEl.style.display =\n",
              "        google.colab.kernel.accessAllowed ? 'block' : 'none';\n",
              "\n",
              "      async function convertToInteractive(key) {\n",
              "        const element = document.querySelector('#df-0483e5ed-8c4f-47c6-8818-d18657d8eff8');\n",
              "        const dataTable =\n",
              "          await google.colab.kernel.invokeFunction('convertToInteractive',\n",
              "                                                    [key], {});\n",
              "        if (!dataTable) return;\n",
              "\n",
              "        const docLinkHtml = 'Like what you see? Visit the ' +\n",
              "          '<a target=\"_blank\" href=https://colab.research.google.com/notebooks/data_table.ipynb>data table notebook</a>'\n",
              "          + ' to learn more about interactive tables.';\n",
              "        element.innerHTML = '';\n",
              "        dataTable['output_type'] = 'display_data';\n",
              "        await google.colab.output.renderOutput(dataTable, element);\n",
              "        const docLink = document.createElement('div');\n",
              "        docLink.innerHTML = docLinkHtml;\n",
              "        element.appendChild(docLink);\n",
              "      }\n",
              "    </script>\n",
              "  </div>\n",
              "\n",
              "\n",
              "<div id=\"df-df3fd04f-29df-4e9e-80cf-0bbde3a34c44\">\n",
              "  <button class=\"colab-df-quickchart\" onclick=\"quickchart('df-df3fd04f-29df-4e9e-80cf-0bbde3a34c44')\"\n",
              "            title=\"Suggest charts\"\n",
              "            style=\"display:none;\">\n",
              "\n",
              "<svg xmlns=\"http://www.w3.org/2000/svg\" height=\"24px\"viewBox=\"0 0 24 24\"\n",
              "     width=\"24px\">\n",
              "    <g>\n",
              "        <path d=\"M19 3H5c-1.1 0-2 .9-2 2v14c0 1.1.9 2 2 2h14c1.1 0 2-.9 2-2V5c0-1.1-.9-2-2-2zM9 17H7v-7h2v7zm4 0h-2V7h2v10zm4 0h-2v-4h2v4z\"/>\n",
              "    </g>\n",
              "</svg>\n",
              "  </button>\n",
              "\n",
              "<style>\n",
              "  .colab-df-quickchart {\n",
              "      --bg-color: #E8F0FE;\n",
              "      --fill-color: #1967D2;\n",
              "      --hover-bg-color: #E2EBFA;\n",
              "      --hover-fill-color: #174EA6;\n",
              "      --disabled-fill-color: #AAA;\n",
              "      --disabled-bg-color: #DDD;\n",
              "  }\n",
              "\n",
              "  [theme=dark] .colab-df-quickchart {\n",
              "      --bg-color: #3B4455;\n",
              "      --fill-color: #D2E3FC;\n",
              "      --hover-bg-color: #434B5C;\n",
              "      --hover-fill-color: #FFFFFF;\n",
              "      --disabled-bg-color: #3B4455;\n",
              "      --disabled-fill-color: #666;\n",
              "  }\n",
              "\n",
              "  .colab-df-quickchart {\n",
              "    background-color: var(--bg-color);\n",
              "    border: none;\n",
              "    border-radius: 50%;\n",
              "    cursor: pointer;\n",
              "    display: none;\n",
              "    fill: var(--fill-color);\n",
              "    height: 32px;\n",
              "    padding: 0;\n",
              "    width: 32px;\n",
              "  }\n",
              "\n",
              "  .colab-df-quickchart:hover {\n",
              "    background-color: var(--hover-bg-color);\n",
              "    box-shadow: 0 1px 2px rgba(60, 64, 67, 0.3), 0 1px 3px 1px rgba(60, 64, 67, 0.15);\n",
              "    fill: var(--button-hover-fill-color);\n",
              "  }\n",
              "\n",
              "  .colab-df-quickchart-complete:disabled,\n",
              "  .colab-df-quickchart-complete:disabled:hover {\n",
              "    background-color: var(--disabled-bg-color);\n",
              "    fill: var(--disabled-fill-color);\n",
              "    box-shadow: none;\n",
              "  }\n",
              "\n",
              "  .colab-df-spinner {\n",
              "    border: 2px solid var(--fill-color);\n",
              "    border-color: transparent;\n",
              "    border-bottom-color: var(--fill-color);\n",
              "    animation:\n",
              "      spin 1s steps(1) infinite;\n",
              "  }\n",
              "\n",
              "  @keyframes spin {\n",
              "    0% {\n",
              "      border-color: transparent;\n",
              "      border-bottom-color: var(--fill-color);\n",
              "      border-left-color: var(--fill-color);\n",
              "    }\n",
              "    20% {\n",
              "      border-color: transparent;\n",
              "      border-left-color: var(--fill-color);\n",
              "      border-top-color: var(--fill-color);\n",
              "    }\n",
              "    30% {\n",
              "      border-color: transparent;\n",
              "      border-left-color: var(--fill-color);\n",
              "      border-top-color: var(--fill-color);\n",
              "      border-right-color: var(--fill-color);\n",
              "    }\n",
              "    40% {\n",
              "      border-color: transparent;\n",
              "      border-right-color: var(--fill-color);\n",
              "      border-top-color: var(--fill-color);\n",
              "    }\n",
              "    60% {\n",
              "      border-color: transparent;\n",
              "      border-right-color: var(--fill-color);\n",
              "    }\n",
              "    80% {\n",
              "      border-color: transparent;\n",
              "      border-right-color: var(--fill-color);\n",
              "      border-bottom-color: var(--fill-color);\n",
              "    }\n",
              "    90% {\n",
              "      border-color: transparent;\n",
              "      border-bottom-color: var(--fill-color);\n",
              "    }\n",
              "  }\n",
              "</style>\n",
              "\n",
              "  <script>\n",
              "    async function quickchart(key) {\n",
              "      const quickchartButtonEl =\n",
              "        document.querySelector('#' + key + ' button');\n",
              "      quickchartButtonEl.disabled = true;  // To prevent multiple clicks.\n",
              "      quickchartButtonEl.classList.add('colab-df-spinner');\n",
              "      try {\n",
              "        const charts = await google.colab.kernel.invokeFunction(\n",
              "            'suggestCharts', [key], {});\n",
              "      } catch (error) {\n",
              "        console.error('Error during call to suggestCharts:', error);\n",
              "      }\n",
              "      quickchartButtonEl.classList.remove('colab-df-spinner');\n",
              "      quickchartButtonEl.classList.add('colab-df-quickchart-complete');\n",
              "    }\n",
              "    (() => {\n",
              "      let quickchartButtonEl =\n",
              "        document.querySelector('#df-df3fd04f-29df-4e9e-80cf-0bbde3a34c44 button');\n",
              "      quickchartButtonEl.style.display =\n",
              "        google.colab.kernel.accessAllowed ? 'block' : 'none';\n",
              "    })();\n",
              "  </script>\n",
              "</div>\n",
              "\n",
              "  <div id=\"id_328cde78-cf52-4759-a1c5-cf38ffda3a16\">\n",
              "    <style>\n",
              "      .colab-df-generate {\n",
              "        background-color: #E8F0FE;\n",
              "        border: none;\n",
              "        border-radius: 50%;\n",
              "        cursor: pointer;\n",
              "        display: none;\n",
              "        fill: #1967D2;\n",
              "        height: 32px;\n",
              "        padding: 0 0 0 0;\n",
              "        width: 32px;\n",
              "      }\n",
              "\n",
              "      .colab-df-generate:hover {\n",
              "        background-color: #E2EBFA;\n",
              "        box-shadow: 0px 1px 2px rgba(60, 64, 67, 0.3), 0px 1px 3px 1px rgba(60, 64, 67, 0.15);\n",
              "        fill: #174EA6;\n",
              "      }\n",
              "\n",
              "      [theme=dark] .colab-df-generate {\n",
              "        background-color: #3B4455;\n",
              "        fill: #D2E3FC;\n",
              "      }\n",
              "\n",
              "      [theme=dark] .colab-df-generate:hover {\n",
              "        background-color: #434B5C;\n",
              "        box-shadow: 0px 1px 3px 1px rgba(0, 0, 0, 0.15);\n",
              "        filter: drop-shadow(0px 1px 2px rgba(0, 0, 0, 0.3));\n",
              "        fill: #FFFFFF;\n",
              "      }\n",
              "    </style>\n",
              "    <button class=\"colab-df-generate\" onclick=\"generateWithVariable('songs_df')\"\n",
              "            title=\"Generate code using this dataframe.\"\n",
              "            style=\"display:none;\">\n",
              "\n",
              "  <svg xmlns=\"http://www.w3.org/2000/svg\" height=\"24px\"viewBox=\"0 0 24 24\"\n",
              "       width=\"24px\">\n",
              "    <path d=\"M7,19H8.4L18.45,9,17,7.55,7,17.6ZM5,21V16.75L18.45,3.32a2,2,0,0,1,2.83,0l1.4,1.43a1.91,1.91,0,0,1,.58,1.4,1.91,1.91,0,0,1-.58,1.4L9.25,21ZM18.45,9,17,7.55Zm-12,3A5.31,5.31,0,0,0,4.9,8.1,5.31,5.31,0,0,0,1,6.5,5.31,5.31,0,0,0,4.9,4.9,5.31,5.31,0,0,0,6.5,1,5.31,5.31,0,0,0,8.1,4.9,5.31,5.31,0,0,0,12,6.5,5.46,5.46,0,0,0,6.5,12Z\"/>\n",
              "  </svg>\n",
              "    </button>\n",
              "    <script>\n",
              "      (() => {\n",
              "      const buttonEl =\n",
              "        document.querySelector('#id_328cde78-cf52-4759-a1c5-cf38ffda3a16 button.colab-df-generate');\n",
              "      buttonEl.style.display =\n",
              "        google.colab.kernel.accessAllowed ? 'block' : 'none';\n",
              "\n",
              "      buttonEl.onclick = () => {\n",
              "        google.colab.notebook.generateWithVariable('songs_df');\n",
              "      }\n",
              "      })();\n",
              "    </script>\n",
              "  </div>\n",
              "\n",
              "    </div>\n",
              "  </div>\n"
            ],
            "application/vnd.google.colaboratory.intrinsic+json": {
              "type": "dataframe",
              "variable_name": "songs_df",
              "summary": "{\n  \"name\": \"songs_df\",\n  \"rows\": 61627,\n  \"fields\": [\n    {\n      \"column\": \"key\",\n      \"properties\": {\n        \"dtype\": \"number\",\n        \"std\": 3,\n        \"min\": 0,\n        \"max\": 11,\n        \"num_unique_values\": 12,\n        \"samples\": [\n          3,\n          10,\n          1\n        ],\n        \"semantic_type\": \"\",\n        \"description\": \"\"\n      }\n    },\n    {\n      \"column\": \"loudness\",\n      \"properties\": {\n        \"dtype\": \"number\",\n        \"std\": 5.289760217402343,\n        \"min\": -47.432,\n        \"max\": 5.118,\n        \"num_unique_values\": 18517,\n        \"samples\": [\n          -5.172,\n          -29.462,\n          -15.483\n        ],\n        \"semantic_type\": \"\",\n        \"description\": \"\"\n      }\n    },\n    {\n      \"column\": \"tempo\",\n      \"properties\": {\n        \"dtype\": \"number\",\n        \"std\": 29.797636953986125,\n        \"min\": 0.0,\n        \"max\": 222.605,\n        \"num_unique_values\": 41394,\n        \"samples\": [\n          122.989,\n          96.919,\n          119.432\n        ],\n        \"semantic_type\": \"\",\n        \"description\": \"\"\n      }\n    },\n    {\n      \"column\": \"duration_ms\",\n      \"properties\": {\n        \"dtype\": \"number\",\n        \"std\": 141900,\n        \"min\": 2533,\n        \"max\": 4440760,\n        \"num_unique_values\": 29322,\n        \"samples\": [\n          117733,\n          183554,\n          317387\n        ],\n        \"semantic_type\": \"\",\n        \"description\": \"\"\n      }\n    },\n    {\n      \"column\": \"time_signature\",\n      \"properties\": {\n        \"dtype\": \"number\",\n        \"std\": 0,\n        \"min\": 0,\n        \"max\": 5,\n        \"num_unique_values\": 5,\n        \"samples\": [\n          3,\n          0,\n          5\n        ],\n        \"semantic_type\": \"\",\n        \"description\": \"\"\n      }\n    }\n  ]\n}"
            }
          },
          "metadata": {},
          "execution_count": 8
        }
      ],
      "source": [
        "KEEP_COLS_MASTER = [\"track\", \"album\", \"artist\", \"release_date\", \"length\",\n",
        "             \"tempo\", \"key\", \"time_signature\",\n",
        "             \"mood\"]\n",
        "\n",
        "KEEP_COLS_MODEL = [\"tempo\", \"key\", \"loudness\", \"time_signature\", \"duration_ms\"]\n",
        "\n",
        "# songs_df = pd.read_csv(\"data_moods.csv\", usecols=KEEP_COLS_MASTER)\n",
        "# make names the indices\n",
        "songs_df = pd.read_csv(\"datasets/full_data.csv\", usecols=[\"track\", \"artist\"]+KEEP_COLS_MODEL, parse_dates=True, infer_datetime_format=True)\n",
        "songs_df.set_index([\"track\", \"artist\"], inplace=True)\n",
        "songs_df"
      ]
    },
    {
      "cell_type": "markdown",
      "metadata": {
        "id": "aEDIeUa4ALuL"
      },
      "source": [
        "Convert dates to numbers, specfically seconds.\n",
        "\n",
        "_Note_: This goddamn dataset only gives the year for some songs."
      ]
    },
    {
      "cell_type": "code",
      "execution_count": 4,
      "metadata": {
        "id": "ApctZb1QALuL"
      },
      "outputs": [],
      "source": [
        "# print(songs_df[songs_df[\"release_date\"]==\"1993\"])\n",
        "# # credit https://stackoverflow.com/a/54312941\n",
        "# songs_df[\"release_date\"] = pd.to_datetime(songs_df[\"release_date\"], format=\"mixed\").astype(int)/ 10**9\n",
        "# songs_df[\"release_date\"]"
      ]
    },
    {
      "cell_type": "markdown",
      "metadata": {
        "id": "ZlaliWxLALuJ"
      },
      "source": [
        "Load the V, A, D dimension values from the original MuSe dataset and add them to the rest of the data.\n",
        "^ Join V, A, D columns by key columns title and author."
      ]
    },
    {
      "cell_type": "code",
      "execution_count": 5,
      "metadata": {
        "id": "eSAE8pJSALuK",
        "outputId": "dc613f3b-0128-40cc-f102-822543e27482",
        "colab": {
          "base_uri": "https://localhost:8080/",
          "height": 455
        }
      },
      "outputs": [
        {
          "output_type": "execute_result",
          "data": {
            "text/plain": [
              "                                                                     valence_tags  \\\n",
              "track                                   artist                                      \n",
              "'Till I Collapse                        Eminem                           4.550000   \n",
              "St. Anger                               Metallica                        3.710000   \n",
              "Speedin'                                Rick Ross                        3.080000   \n",
              "Bamboo Banga                            M.I.A.                           6.555071   \n",
              "Die MF Die                              Dope                             3.771176   \n",
              "...                                                                           ...   \n",
              "Battle                                  Gaby Hoffmann & Jay Duplass      5.370000   \n",
              "Hands Tied to the Roots of a Hemorrhage Omar Rodriguez-Lopez             5.797887   \n",
              "Crookfield Zoo                          Ace White                        5.370000   \n",
              "Transparent (Full Version)              Second Chyld                     5.370000   \n",
              "Unfold                                  Message To Bears                 3.340000   \n",
              "\n",
              "                                                                     arousal_tags  \\\n",
              "track                                   artist                                      \n",
              "'Till I Collapse                        Eminem                           5.273125   \n",
              "St. Anger                               Metallica                        5.833000   \n",
              "Speedin'                                Rick Ross                        5.870000   \n",
              "Bamboo Banga                            M.I.A.                           5.537214   \n",
              "Die MF Die                              Dope                             5.348235   \n",
              "...                                                                           ...   \n",
              "Battle                                  Gaby Hoffmann & Jay Duplass      3.450000   \n",
              "Hands Tied to the Roots of a Hemorrhage Omar Rodriguez-Lopez             4.132254   \n",
              "Crookfield Zoo                          Ace White                        3.450000   \n",
              "Transparent (Full Version)              Second Chyld                     3.450000   \n",
              "Unfold                                  Message To Bears                 1.405000   \n",
              "\n",
              "                                                                     dominance_tags  \n",
              "track                                   artist                                       \n",
              "'Till I Collapse                        Eminem                             5.690625  \n",
              "St. Anger                               Metallica                          5.427250  \n",
              "Speedin'                                Rick Ross                          5.490000  \n",
              "Bamboo Banga                            M.I.A.                             5.691357  \n",
              "Die MF Die                              Dope                               5.441765  \n",
              "...                                                                             ...  \n",
              "Battle                                  Gaby Hoffmann & Jay Duplass        5.330000  \n",
              "Hands Tied to the Roots of a Hemorrhage Omar Rodriguez-Lopez               5.570563  \n",
              "Crookfield Zoo                          Ace White                          5.330000  \n",
              "Transparent (Full Version)              Second Chyld                       5.330000  \n",
              "Unfold                                  Message To Bears                   3.500000  \n",
              "\n",
              "[90001 rows x 3 columns]"
            ],
            "text/html": [
              "\n",
              "  <div id=\"df-8f141c81-af83-41fd-8fb5-b97be516c277\" class=\"colab-df-container\">\n",
              "    <div>\n",
              "<style scoped>\n",
              "    .dataframe tbody tr th:only-of-type {\n",
              "        vertical-align: middle;\n",
              "    }\n",
              "\n",
              "    .dataframe tbody tr th {\n",
              "        vertical-align: top;\n",
              "    }\n",
              "\n",
              "    .dataframe thead th {\n",
              "        text-align: right;\n",
              "    }\n",
              "</style>\n",
              "<table border=\"1\" class=\"dataframe\">\n",
              "  <thead>\n",
              "    <tr style=\"text-align: right;\">\n",
              "      <th></th>\n",
              "      <th></th>\n",
              "      <th>valence_tags</th>\n",
              "      <th>arousal_tags</th>\n",
              "      <th>dominance_tags</th>\n",
              "    </tr>\n",
              "    <tr>\n",
              "      <th>track</th>\n",
              "      <th>artist</th>\n",
              "      <th></th>\n",
              "      <th></th>\n",
              "      <th></th>\n",
              "    </tr>\n",
              "  </thead>\n",
              "  <tbody>\n",
              "    <tr>\n",
              "      <th>'Till I Collapse</th>\n",
              "      <th>Eminem</th>\n",
              "      <td>4.550000</td>\n",
              "      <td>5.273125</td>\n",
              "      <td>5.690625</td>\n",
              "    </tr>\n",
              "    <tr>\n",
              "      <th>St. Anger</th>\n",
              "      <th>Metallica</th>\n",
              "      <td>3.710000</td>\n",
              "      <td>5.833000</td>\n",
              "      <td>5.427250</td>\n",
              "    </tr>\n",
              "    <tr>\n",
              "      <th>Speedin'</th>\n",
              "      <th>Rick Ross</th>\n",
              "      <td>3.080000</td>\n",
              "      <td>5.870000</td>\n",
              "      <td>5.490000</td>\n",
              "    </tr>\n",
              "    <tr>\n",
              "      <th>Bamboo Banga</th>\n",
              "      <th>M.I.A.</th>\n",
              "      <td>6.555071</td>\n",
              "      <td>5.537214</td>\n",
              "      <td>5.691357</td>\n",
              "    </tr>\n",
              "    <tr>\n",
              "      <th>Die MF Die</th>\n",
              "      <th>Dope</th>\n",
              "      <td>3.771176</td>\n",
              "      <td>5.348235</td>\n",
              "      <td>5.441765</td>\n",
              "    </tr>\n",
              "    <tr>\n",
              "      <th>...</th>\n",
              "      <th>...</th>\n",
              "      <td>...</td>\n",
              "      <td>...</td>\n",
              "      <td>...</td>\n",
              "    </tr>\n",
              "    <tr>\n",
              "      <th>Battle</th>\n",
              "      <th>Gaby Hoffmann &amp; Jay Duplass</th>\n",
              "      <td>5.370000</td>\n",
              "      <td>3.450000</td>\n",
              "      <td>5.330000</td>\n",
              "    </tr>\n",
              "    <tr>\n",
              "      <th>Hands Tied to the Roots of a Hemorrhage</th>\n",
              "      <th>Omar Rodriguez-Lopez</th>\n",
              "      <td>5.797887</td>\n",
              "      <td>4.132254</td>\n",
              "      <td>5.570563</td>\n",
              "    </tr>\n",
              "    <tr>\n",
              "      <th>Crookfield Zoo</th>\n",
              "      <th>Ace White</th>\n",
              "      <td>5.370000</td>\n",
              "      <td>3.450000</td>\n",
              "      <td>5.330000</td>\n",
              "    </tr>\n",
              "    <tr>\n",
              "      <th>Transparent (Full Version)</th>\n",
              "      <th>Second Chyld</th>\n",
              "      <td>5.370000</td>\n",
              "      <td>3.450000</td>\n",
              "      <td>5.330000</td>\n",
              "    </tr>\n",
              "    <tr>\n",
              "      <th>Unfold</th>\n",
              "      <th>Message To Bears</th>\n",
              "      <td>3.340000</td>\n",
              "      <td>1.405000</td>\n",
              "      <td>3.500000</td>\n",
              "    </tr>\n",
              "  </tbody>\n",
              "</table>\n",
              "<p>90001 rows × 3 columns</p>\n",
              "</div>\n",
              "    <div class=\"colab-df-buttons\">\n",
              "\n",
              "  <div class=\"colab-df-container\">\n",
              "    <button class=\"colab-df-convert\" onclick=\"convertToInteractive('df-8f141c81-af83-41fd-8fb5-b97be516c277')\"\n",
              "            title=\"Convert this dataframe to an interactive table.\"\n",
              "            style=\"display:none;\">\n",
              "\n",
              "  <svg xmlns=\"http://www.w3.org/2000/svg\" height=\"24px\" viewBox=\"0 -960 960 960\">\n",
              "    <path d=\"M120-120v-720h720v720H120Zm60-500h600v-160H180v160Zm220 220h160v-160H400v160Zm0 220h160v-160H400v160ZM180-400h160v-160H180v160Zm440 0h160v-160H620v160ZM180-180h160v-160H180v160Zm440 0h160v-160H620v160Z\"/>\n",
              "  </svg>\n",
              "    </button>\n",
              "\n",
              "  <style>\n",
              "    .colab-df-container {\n",
              "      display:flex;\n",
              "      gap: 12px;\n",
              "    }\n",
              "\n",
              "    .colab-df-convert {\n",
              "      background-color: #E8F0FE;\n",
              "      border: none;\n",
              "      border-radius: 50%;\n",
              "      cursor: pointer;\n",
              "      display: none;\n",
              "      fill: #1967D2;\n",
              "      height: 32px;\n",
              "      padding: 0 0 0 0;\n",
              "      width: 32px;\n",
              "    }\n",
              "\n",
              "    .colab-df-convert:hover {\n",
              "      background-color: #E2EBFA;\n",
              "      box-shadow: 0px 1px 2px rgba(60, 64, 67, 0.3), 0px 1px 3px 1px rgba(60, 64, 67, 0.15);\n",
              "      fill: #174EA6;\n",
              "    }\n",
              "\n",
              "    .colab-df-buttons div {\n",
              "      margin-bottom: 4px;\n",
              "    }\n",
              "\n",
              "    [theme=dark] .colab-df-convert {\n",
              "      background-color: #3B4455;\n",
              "      fill: #D2E3FC;\n",
              "    }\n",
              "\n",
              "    [theme=dark] .colab-df-convert:hover {\n",
              "      background-color: #434B5C;\n",
              "      box-shadow: 0px 1px 3px 1px rgba(0, 0, 0, 0.15);\n",
              "      filter: drop-shadow(0px 1px 2px rgba(0, 0, 0, 0.3));\n",
              "      fill: #FFFFFF;\n",
              "    }\n",
              "  </style>\n",
              "\n",
              "    <script>\n",
              "      const buttonEl =\n",
              "        document.querySelector('#df-8f141c81-af83-41fd-8fb5-b97be516c277 button.colab-df-convert');\n",
              "      buttonEl.style.display =\n",
              "        google.colab.kernel.accessAllowed ? 'block' : 'none';\n",
              "\n",
              "      async function convertToInteractive(key) {\n",
              "        const element = document.querySelector('#df-8f141c81-af83-41fd-8fb5-b97be516c277');\n",
              "        const dataTable =\n",
              "          await google.colab.kernel.invokeFunction('convertToInteractive',\n",
              "                                                    [key], {});\n",
              "        if (!dataTable) return;\n",
              "\n",
              "        const docLinkHtml = 'Like what you see? Visit the ' +\n",
              "          '<a target=\"_blank\" href=https://colab.research.google.com/notebooks/data_table.ipynb>data table notebook</a>'\n",
              "          + ' to learn more about interactive tables.';\n",
              "        element.innerHTML = '';\n",
              "        dataTable['output_type'] = 'display_data';\n",
              "        await google.colab.output.renderOutput(dataTable, element);\n",
              "        const docLink = document.createElement('div');\n",
              "        docLink.innerHTML = docLinkHtml;\n",
              "        element.appendChild(docLink);\n",
              "      }\n",
              "    </script>\n",
              "  </div>\n",
              "\n",
              "\n",
              "<div id=\"df-de1c7c74-5f30-4365-a1bb-3b5cba6fa5f2\">\n",
              "  <button class=\"colab-df-quickchart\" onclick=\"quickchart('df-de1c7c74-5f30-4365-a1bb-3b5cba6fa5f2')\"\n",
              "            title=\"Suggest charts\"\n",
              "            style=\"display:none;\">\n",
              "\n",
              "<svg xmlns=\"http://www.w3.org/2000/svg\" height=\"24px\"viewBox=\"0 0 24 24\"\n",
              "     width=\"24px\">\n",
              "    <g>\n",
              "        <path d=\"M19 3H5c-1.1 0-2 .9-2 2v14c0 1.1.9 2 2 2h14c1.1 0 2-.9 2-2V5c0-1.1-.9-2-2-2zM9 17H7v-7h2v7zm4 0h-2V7h2v10zm4 0h-2v-4h2v4z\"/>\n",
              "    </g>\n",
              "</svg>\n",
              "  </button>\n",
              "\n",
              "<style>\n",
              "  .colab-df-quickchart {\n",
              "      --bg-color: #E8F0FE;\n",
              "      --fill-color: #1967D2;\n",
              "      --hover-bg-color: #E2EBFA;\n",
              "      --hover-fill-color: #174EA6;\n",
              "      --disabled-fill-color: #AAA;\n",
              "      --disabled-bg-color: #DDD;\n",
              "  }\n",
              "\n",
              "  [theme=dark] .colab-df-quickchart {\n",
              "      --bg-color: #3B4455;\n",
              "      --fill-color: #D2E3FC;\n",
              "      --hover-bg-color: #434B5C;\n",
              "      --hover-fill-color: #FFFFFF;\n",
              "      --disabled-bg-color: #3B4455;\n",
              "      --disabled-fill-color: #666;\n",
              "  }\n",
              "\n",
              "  .colab-df-quickchart {\n",
              "    background-color: var(--bg-color);\n",
              "    border: none;\n",
              "    border-radius: 50%;\n",
              "    cursor: pointer;\n",
              "    display: none;\n",
              "    fill: var(--fill-color);\n",
              "    height: 32px;\n",
              "    padding: 0;\n",
              "    width: 32px;\n",
              "  }\n",
              "\n",
              "  .colab-df-quickchart:hover {\n",
              "    background-color: var(--hover-bg-color);\n",
              "    box-shadow: 0 1px 2px rgba(60, 64, 67, 0.3), 0 1px 3px 1px rgba(60, 64, 67, 0.15);\n",
              "    fill: var(--button-hover-fill-color);\n",
              "  }\n",
              "\n",
              "  .colab-df-quickchart-complete:disabled,\n",
              "  .colab-df-quickchart-complete:disabled:hover {\n",
              "    background-color: var(--disabled-bg-color);\n",
              "    fill: var(--disabled-fill-color);\n",
              "    box-shadow: none;\n",
              "  }\n",
              "\n",
              "  .colab-df-spinner {\n",
              "    border: 2px solid var(--fill-color);\n",
              "    border-color: transparent;\n",
              "    border-bottom-color: var(--fill-color);\n",
              "    animation:\n",
              "      spin 1s steps(1) infinite;\n",
              "  }\n",
              "\n",
              "  @keyframes spin {\n",
              "    0% {\n",
              "      border-color: transparent;\n",
              "      border-bottom-color: var(--fill-color);\n",
              "      border-left-color: var(--fill-color);\n",
              "    }\n",
              "    20% {\n",
              "      border-color: transparent;\n",
              "      border-left-color: var(--fill-color);\n",
              "      border-top-color: var(--fill-color);\n",
              "    }\n",
              "    30% {\n",
              "      border-color: transparent;\n",
              "      border-left-color: var(--fill-color);\n",
              "      border-top-color: var(--fill-color);\n",
              "      border-right-color: var(--fill-color);\n",
              "    }\n",
              "    40% {\n",
              "      border-color: transparent;\n",
              "      border-right-color: var(--fill-color);\n",
              "      border-top-color: var(--fill-color);\n",
              "    }\n",
              "    60% {\n",
              "      border-color: transparent;\n",
              "      border-right-color: var(--fill-color);\n",
              "    }\n",
              "    80% {\n",
              "      border-color: transparent;\n",
              "      border-right-color: var(--fill-color);\n",
              "      border-bottom-color: var(--fill-color);\n",
              "    }\n",
              "    90% {\n",
              "      border-color: transparent;\n",
              "      border-bottom-color: var(--fill-color);\n",
              "    }\n",
              "  }\n",
              "</style>\n",
              "\n",
              "  <script>\n",
              "    async function quickchart(key) {\n",
              "      const quickchartButtonEl =\n",
              "        document.querySelector('#' + key + ' button');\n",
              "      quickchartButtonEl.disabled = true;  // To prevent multiple clicks.\n",
              "      quickchartButtonEl.classList.add('colab-df-spinner');\n",
              "      try {\n",
              "        const charts = await google.colab.kernel.invokeFunction(\n",
              "            'suggestCharts', [key], {});\n",
              "      } catch (error) {\n",
              "        console.error('Error during call to suggestCharts:', error);\n",
              "      }\n",
              "      quickchartButtonEl.classList.remove('colab-df-spinner');\n",
              "      quickchartButtonEl.classList.add('colab-df-quickchart-complete');\n",
              "    }\n",
              "    (() => {\n",
              "      let quickchartButtonEl =\n",
              "        document.querySelector('#df-de1c7c74-5f30-4365-a1bb-3b5cba6fa5f2 button');\n",
              "      quickchartButtonEl.style.display =\n",
              "        google.colab.kernel.accessAllowed ? 'block' : 'none';\n",
              "    })();\n",
              "  </script>\n",
              "</div>\n",
              "\n",
              "  <div id=\"id_41d5a17b-5ccb-4267-b7ca-c369e90e8443\">\n",
              "    <style>\n",
              "      .colab-df-generate {\n",
              "        background-color: #E8F0FE;\n",
              "        border: none;\n",
              "        border-radius: 50%;\n",
              "        cursor: pointer;\n",
              "        display: none;\n",
              "        fill: #1967D2;\n",
              "        height: 32px;\n",
              "        padding: 0 0 0 0;\n",
              "        width: 32px;\n",
              "      }\n",
              "\n",
              "      .colab-df-generate:hover {\n",
              "        background-color: #E2EBFA;\n",
              "        box-shadow: 0px 1px 2px rgba(60, 64, 67, 0.3), 0px 1px 3px 1px rgba(60, 64, 67, 0.15);\n",
              "        fill: #174EA6;\n",
              "      }\n",
              "\n",
              "      [theme=dark] .colab-df-generate {\n",
              "        background-color: #3B4455;\n",
              "        fill: #D2E3FC;\n",
              "      }\n",
              "\n",
              "      [theme=dark] .colab-df-generate:hover {\n",
              "        background-color: #434B5C;\n",
              "        box-shadow: 0px 1px 3px 1px rgba(0, 0, 0, 0.15);\n",
              "        filter: drop-shadow(0px 1px 2px rgba(0, 0, 0, 0.3));\n",
              "        fill: #FFFFFF;\n",
              "      }\n",
              "    </style>\n",
              "    <button class=\"colab-df-generate\" onclick=\"generateWithVariable('orig_dataset')\"\n",
              "            title=\"Generate code using this dataframe.\"\n",
              "            style=\"display:none;\">\n",
              "\n",
              "  <svg xmlns=\"http://www.w3.org/2000/svg\" height=\"24px\"viewBox=\"0 0 24 24\"\n",
              "       width=\"24px\">\n",
              "    <path d=\"M7,19H8.4L18.45,9,17,7.55,7,17.6ZM5,21V16.75L18.45,3.32a2,2,0,0,1,2.83,0l1.4,1.43a1.91,1.91,0,0,1,.58,1.4,1.91,1.91,0,0,1-.58,1.4L9.25,21ZM18.45,9,17,7.55Zm-12,3A5.31,5.31,0,0,0,4.9,8.1,5.31,5.31,0,0,0,1,6.5,5.31,5.31,0,0,0,4.9,4.9,5.31,5.31,0,0,0,6.5,1,5.31,5.31,0,0,0,8.1,4.9,5.31,5.31,0,0,0,12,6.5,5.46,5.46,0,0,0,6.5,12Z\"/>\n",
              "  </svg>\n",
              "    </button>\n",
              "    <script>\n",
              "      (() => {\n",
              "      const buttonEl =\n",
              "        document.querySelector('#id_41d5a17b-5ccb-4267-b7ca-c369e90e8443 button.colab-df-generate');\n",
              "      buttonEl.style.display =\n",
              "        google.colab.kernel.accessAllowed ? 'block' : 'none';\n",
              "\n",
              "      buttonEl.onclick = () => {\n",
              "        google.colab.notebook.generateWithVariable('orig_dataset');\n",
              "      }\n",
              "      })();\n",
              "    </script>\n",
              "  </div>\n",
              "\n",
              "    </div>\n",
              "  </div>\n"
            ],
            "application/vnd.google.colaboratory.intrinsic+json": {
              "type": "dataframe",
              "variable_name": "orig_dataset",
              "summary": "{\n  \"name\": \"orig_dataset\",\n  \"rows\": 90001,\n  \"fields\": [\n    {\n      \"column\": \"valence_tags\",\n      \"properties\": {\n        \"dtype\": \"number\",\n        \"std\": 1.5530791595439202,\n        \"min\": 0.235,\n        \"max\": 8.475,\n        \"num_unique_values\": 31445,\n        \"samples\": [\n          6.3,\n          5.832307692307692,\n          7.548\n        ],\n        \"semantic_type\": \"\",\n        \"description\": \"\"\n      }\n    },\n    {\n      \"column\": \"arousal_tags\",\n      \"properties\": {\n        \"dtype\": \"number\",\n        \"std\": 1.1549480260863463,\n        \"min\": 0.1081132075471698,\n        \"max\": 7.27,\n        \"num_unique_values\": 29647,\n        \"samples\": [\n          3.8766666666666665,\n          3.078089887640449,\n          3.642763157894736\n        ],\n        \"semantic_type\": \"\",\n        \"description\": \"\"\n      }\n    },\n    {\n      \"column\": \"dominance_tags\",\n      \"properties\": {\n        \"dtype\": \"number\",\n        \"std\": 1.1710958236370639,\n        \"min\": 0.2292307692307692,\n        \"max\": 7.44,\n        \"num_unique_values\": 30011,\n        \"samples\": [\n          4.3514285714285705,\n          5.796732673267327,\n          4.322666666666668\n        ],\n        \"semantic_type\": \"\",\n        \"description\": \"\"\n      }\n    }\n  ]\n}"
            }
          },
          "metadata": {},
          "execution_count": 5
        }
      ],
      "source": [
        "import pandas as pd\n",
        "\n",
        "LABELS_COLS = ['valence_tags', 'arousal_tags', 'dominance_tags']\n",
        "\n",
        "orig_dataset = pd.read_csv(\"datasets/muse_v3.csv\")\n",
        "orig_dataset = pd.read_csv(\"datasets/muse_v3.csv\", usecols=[\"track\", \"artist\"]+LABELS_COLS)\n",
        "orig_dataset.set_index([\"track\", \"artist\"], inplace=True)\n",
        "orig_dataset"
      ]
    },
    {
      "cell_type": "code",
      "execution_count": 9,
      "metadata": {
        "id": "9jlVYFr-JHwl"
      },
      "outputs": [],
      "source": [
        "VAL_COLS = [\"valence_tags\",\"arousal_tags\",\"dominance_tags\"]\n",
        "songs_df = songs_df.join(orig_dataset, how=\"inner\")"
      ]
    },
    {
      "cell_type": "code",
      "source": [
        "songs_df"
      ],
      "metadata": {
        "id": "wmnq9vGEoPEg",
        "outputId": "d027a995-1605-4db7-97e7-3fe70144e299",
        "colab": {
          "base_uri": "https://localhost:8080/",
          "height": 455
        }
      },
      "execution_count": 10,
      "outputs": [
        {
          "output_type": "execute_result",
          "data": {
            "text/plain": [
              "                                                   key  loudness    tempo  \\\n",
              "track                            artist                                     \n",
              "'Till I Collapse                 Eminem              1    -3.237  171.447   \n",
              "St. Anger                        Metallica           2    -2.642  185.252   \n",
              "Speedin'                         Rick Ross           1    -4.226  100.059   \n",
              "Bamboo Banga                     M.I.A.              9    -4.554  125.984   \n",
              "Die MF Die                       Dope                5    -3.524  126.020   \n",
              "...                                                ...       ...      ...   \n",
              "Secret                           Quietdrive          0    -5.126  167.996   \n",
              "The Last of the Rest Was the End Medications         2    -5.774  144.844   \n",
              "Lovechild                        Daniel Lanois      10   -20.091   79.476   \n",
              "Last Inhale                      Tapage              2    -8.977  160.011   \n",
              "Unfold                           Message To Bears    0   -11.355   96.970   \n",
              "\n",
              "                                                   duration_ms  \\\n",
              "track                            artist                          \n",
              "'Till I Collapse                 Eminem                 297787   \n",
              "St. Anger                        Metallica              441133   \n",
              "Speedin'                         Rick Ross              204960   \n",
              "Bamboo Banga                     M.I.A.                 298360   \n",
              "Die MF Die                       Dope                   186067   \n",
              "...                                                        ...   \n",
              "Secret                           Quietdrive             258373   \n",
              "The Last of the Rest Was the End Medications            324000   \n",
              "Lovechild                        Daniel Lanois          516280   \n",
              "Last Inhale                      Tapage                 324258   \n",
              "Unfold                           Message To Bears       268440   \n",
              "\n",
              "                                                   time_signature  \\\n",
              "track                            artist                             \n",
              "'Till I Collapse                 Eminem                         4   \n",
              "St. Anger                        Metallica                      4   \n",
              "Speedin'                         Rick Ross                      4   \n",
              "Bamboo Banga                     M.I.A.                         4   \n",
              "Die MF Die                       Dope                           4   \n",
              "...                                                           ...   \n",
              "Secret                           Quietdrive                     4   \n",
              "The Last of the Rest Was the End Medications                    3   \n",
              "Lovechild                        Daniel Lanois                  4   \n",
              "Last Inhale                      Tapage                         4   \n",
              "Unfold                           Message To Bears               4   \n",
              "\n",
              "                                                   valence_tags  arousal_tags  \\\n",
              "track                            artist                                         \n",
              "'Till I Collapse                 Eminem                4.550000      5.273125   \n",
              "St. Anger                        Metallica             3.710000      5.833000   \n",
              "Speedin'                         Rick Ross             3.080000      5.870000   \n",
              "Bamboo Banga                     M.I.A.                6.555071      5.537214   \n",
              "Die MF Die                       Dope                  3.771176      5.348235   \n",
              "...                                                         ...           ...   \n",
              "Secret                           Quietdrive            5.370000      3.450000   \n",
              "The Last of the Rest Was the End Medications           5.370000      3.450000   \n",
              "Lovechild                        Daniel Lanois         6.685000      4.405000   \n",
              "Last Inhale                      Tapage                4.301667      3.341667   \n",
              "Unfold                           Message To Bears      3.340000      1.405000   \n",
              "\n",
              "                                                   dominance_tags  \n",
              "track                            artist                            \n",
              "'Till I Collapse                 Eminem                  5.690625  \n",
              "St. Anger                        Metallica               5.427250  \n",
              "Speedin'                         Rick Ross               5.490000  \n",
              "Bamboo Banga                     M.I.A.                  5.691357  \n",
              "Die MF Die                       Dope                    5.441765  \n",
              "...                                                           ...  \n",
              "Secret                           Quietdrive              5.330000  \n",
              "The Last of the Rest Was the End Medications             5.330000  \n",
              "Lovechild                        Daniel Lanois           5.625000  \n",
              "Last Inhale                      Tapage                  4.466667  \n",
              "Unfold                           Message To Bears        3.500000  \n",
              "\n",
              "[61627 rows x 8 columns]"
            ],
            "text/html": [
              "\n",
              "  <div id=\"df-0ce8b155-dd8d-4d59-a5e5-8d369d87ee39\" class=\"colab-df-container\">\n",
              "    <div>\n",
              "<style scoped>\n",
              "    .dataframe tbody tr th:only-of-type {\n",
              "        vertical-align: middle;\n",
              "    }\n",
              "\n",
              "    .dataframe tbody tr th {\n",
              "        vertical-align: top;\n",
              "    }\n",
              "\n",
              "    .dataframe thead th {\n",
              "        text-align: right;\n",
              "    }\n",
              "</style>\n",
              "<table border=\"1\" class=\"dataframe\">\n",
              "  <thead>\n",
              "    <tr style=\"text-align: right;\">\n",
              "      <th></th>\n",
              "      <th></th>\n",
              "      <th>key</th>\n",
              "      <th>loudness</th>\n",
              "      <th>tempo</th>\n",
              "      <th>duration_ms</th>\n",
              "      <th>time_signature</th>\n",
              "      <th>valence_tags</th>\n",
              "      <th>arousal_tags</th>\n",
              "      <th>dominance_tags</th>\n",
              "    </tr>\n",
              "    <tr>\n",
              "      <th>track</th>\n",
              "      <th>artist</th>\n",
              "      <th></th>\n",
              "      <th></th>\n",
              "      <th></th>\n",
              "      <th></th>\n",
              "      <th></th>\n",
              "      <th></th>\n",
              "      <th></th>\n",
              "      <th></th>\n",
              "    </tr>\n",
              "  </thead>\n",
              "  <tbody>\n",
              "    <tr>\n",
              "      <th>'Till I Collapse</th>\n",
              "      <th>Eminem</th>\n",
              "      <td>1</td>\n",
              "      <td>-3.237</td>\n",
              "      <td>171.447</td>\n",
              "      <td>297787</td>\n",
              "      <td>4</td>\n",
              "      <td>4.550000</td>\n",
              "      <td>5.273125</td>\n",
              "      <td>5.690625</td>\n",
              "    </tr>\n",
              "    <tr>\n",
              "      <th>St. Anger</th>\n",
              "      <th>Metallica</th>\n",
              "      <td>2</td>\n",
              "      <td>-2.642</td>\n",
              "      <td>185.252</td>\n",
              "      <td>441133</td>\n",
              "      <td>4</td>\n",
              "      <td>3.710000</td>\n",
              "      <td>5.833000</td>\n",
              "      <td>5.427250</td>\n",
              "    </tr>\n",
              "    <tr>\n",
              "      <th>Speedin'</th>\n",
              "      <th>Rick Ross</th>\n",
              "      <td>1</td>\n",
              "      <td>-4.226</td>\n",
              "      <td>100.059</td>\n",
              "      <td>204960</td>\n",
              "      <td>4</td>\n",
              "      <td>3.080000</td>\n",
              "      <td>5.870000</td>\n",
              "      <td>5.490000</td>\n",
              "    </tr>\n",
              "    <tr>\n",
              "      <th>Bamboo Banga</th>\n",
              "      <th>M.I.A.</th>\n",
              "      <td>9</td>\n",
              "      <td>-4.554</td>\n",
              "      <td>125.984</td>\n",
              "      <td>298360</td>\n",
              "      <td>4</td>\n",
              "      <td>6.555071</td>\n",
              "      <td>5.537214</td>\n",
              "      <td>5.691357</td>\n",
              "    </tr>\n",
              "    <tr>\n",
              "      <th>Die MF Die</th>\n",
              "      <th>Dope</th>\n",
              "      <td>5</td>\n",
              "      <td>-3.524</td>\n",
              "      <td>126.020</td>\n",
              "      <td>186067</td>\n",
              "      <td>4</td>\n",
              "      <td>3.771176</td>\n",
              "      <td>5.348235</td>\n",
              "      <td>5.441765</td>\n",
              "    </tr>\n",
              "    <tr>\n",
              "      <th>...</th>\n",
              "      <th>...</th>\n",
              "      <td>...</td>\n",
              "      <td>...</td>\n",
              "      <td>...</td>\n",
              "      <td>...</td>\n",
              "      <td>...</td>\n",
              "      <td>...</td>\n",
              "      <td>...</td>\n",
              "      <td>...</td>\n",
              "    </tr>\n",
              "    <tr>\n",
              "      <th>Secret</th>\n",
              "      <th>Quietdrive</th>\n",
              "      <td>0</td>\n",
              "      <td>-5.126</td>\n",
              "      <td>167.996</td>\n",
              "      <td>258373</td>\n",
              "      <td>4</td>\n",
              "      <td>5.370000</td>\n",
              "      <td>3.450000</td>\n",
              "      <td>5.330000</td>\n",
              "    </tr>\n",
              "    <tr>\n",
              "      <th>The Last of the Rest Was the End</th>\n",
              "      <th>Medications</th>\n",
              "      <td>2</td>\n",
              "      <td>-5.774</td>\n",
              "      <td>144.844</td>\n",
              "      <td>324000</td>\n",
              "      <td>3</td>\n",
              "      <td>5.370000</td>\n",
              "      <td>3.450000</td>\n",
              "      <td>5.330000</td>\n",
              "    </tr>\n",
              "    <tr>\n",
              "      <th>Lovechild</th>\n",
              "      <th>Daniel Lanois</th>\n",
              "      <td>10</td>\n",
              "      <td>-20.091</td>\n",
              "      <td>79.476</td>\n",
              "      <td>516280</td>\n",
              "      <td>4</td>\n",
              "      <td>6.685000</td>\n",
              "      <td>4.405000</td>\n",
              "      <td>5.625000</td>\n",
              "    </tr>\n",
              "    <tr>\n",
              "      <th>Last Inhale</th>\n",
              "      <th>Tapage</th>\n",
              "      <td>2</td>\n",
              "      <td>-8.977</td>\n",
              "      <td>160.011</td>\n",
              "      <td>324258</td>\n",
              "      <td>4</td>\n",
              "      <td>4.301667</td>\n",
              "      <td>3.341667</td>\n",
              "      <td>4.466667</td>\n",
              "    </tr>\n",
              "    <tr>\n",
              "      <th>Unfold</th>\n",
              "      <th>Message To Bears</th>\n",
              "      <td>0</td>\n",
              "      <td>-11.355</td>\n",
              "      <td>96.970</td>\n",
              "      <td>268440</td>\n",
              "      <td>4</td>\n",
              "      <td>3.340000</td>\n",
              "      <td>1.405000</td>\n",
              "      <td>3.500000</td>\n",
              "    </tr>\n",
              "  </tbody>\n",
              "</table>\n",
              "<p>61627 rows × 8 columns</p>\n",
              "</div>\n",
              "    <div class=\"colab-df-buttons\">\n",
              "\n",
              "  <div class=\"colab-df-container\">\n",
              "    <button class=\"colab-df-convert\" onclick=\"convertToInteractive('df-0ce8b155-dd8d-4d59-a5e5-8d369d87ee39')\"\n",
              "            title=\"Convert this dataframe to an interactive table.\"\n",
              "            style=\"display:none;\">\n",
              "\n",
              "  <svg xmlns=\"http://www.w3.org/2000/svg\" height=\"24px\" viewBox=\"0 -960 960 960\">\n",
              "    <path d=\"M120-120v-720h720v720H120Zm60-500h600v-160H180v160Zm220 220h160v-160H400v160Zm0 220h160v-160H400v160ZM180-400h160v-160H180v160Zm440 0h160v-160H620v160ZM180-180h160v-160H180v160Zm440 0h160v-160H620v160Z\"/>\n",
              "  </svg>\n",
              "    </button>\n",
              "\n",
              "  <style>\n",
              "    .colab-df-container {\n",
              "      display:flex;\n",
              "      gap: 12px;\n",
              "    }\n",
              "\n",
              "    .colab-df-convert {\n",
              "      background-color: #E8F0FE;\n",
              "      border: none;\n",
              "      border-radius: 50%;\n",
              "      cursor: pointer;\n",
              "      display: none;\n",
              "      fill: #1967D2;\n",
              "      height: 32px;\n",
              "      padding: 0 0 0 0;\n",
              "      width: 32px;\n",
              "    }\n",
              "\n",
              "    .colab-df-convert:hover {\n",
              "      background-color: #E2EBFA;\n",
              "      box-shadow: 0px 1px 2px rgba(60, 64, 67, 0.3), 0px 1px 3px 1px rgba(60, 64, 67, 0.15);\n",
              "      fill: #174EA6;\n",
              "    }\n",
              "\n",
              "    .colab-df-buttons div {\n",
              "      margin-bottom: 4px;\n",
              "    }\n",
              "\n",
              "    [theme=dark] .colab-df-convert {\n",
              "      background-color: #3B4455;\n",
              "      fill: #D2E3FC;\n",
              "    }\n",
              "\n",
              "    [theme=dark] .colab-df-convert:hover {\n",
              "      background-color: #434B5C;\n",
              "      box-shadow: 0px 1px 3px 1px rgba(0, 0, 0, 0.15);\n",
              "      filter: drop-shadow(0px 1px 2px rgba(0, 0, 0, 0.3));\n",
              "      fill: #FFFFFF;\n",
              "    }\n",
              "  </style>\n",
              "\n",
              "    <script>\n",
              "      const buttonEl =\n",
              "        document.querySelector('#df-0ce8b155-dd8d-4d59-a5e5-8d369d87ee39 button.colab-df-convert');\n",
              "      buttonEl.style.display =\n",
              "        google.colab.kernel.accessAllowed ? 'block' : 'none';\n",
              "\n",
              "      async function convertToInteractive(key) {\n",
              "        const element = document.querySelector('#df-0ce8b155-dd8d-4d59-a5e5-8d369d87ee39');\n",
              "        const dataTable =\n",
              "          await google.colab.kernel.invokeFunction('convertToInteractive',\n",
              "                                                    [key], {});\n",
              "        if (!dataTable) return;\n",
              "\n",
              "        const docLinkHtml = 'Like what you see? Visit the ' +\n",
              "          '<a target=\"_blank\" href=https://colab.research.google.com/notebooks/data_table.ipynb>data table notebook</a>'\n",
              "          + ' to learn more about interactive tables.';\n",
              "        element.innerHTML = '';\n",
              "        dataTable['output_type'] = 'display_data';\n",
              "        await google.colab.output.renderOutput(dataTable, element);\n",
              "        const docLink = document.createElement('div');\n",
              "        docLink.innerHTML = docLinkHtml;\n",
              "        element.appendChild(docLink);\n",
              "      }\n",
              "    </script>\n",
              "  </div>\n",
              "\n",
              "\n",
              "<div id=\"df-43762322-1fd6-461b-9428-c3926703fcc1\">\n",
              "  <button class=\"colab-df-quickchart\" onclick=\"quickchart('df-43762322-1fd6-461b-9428-c3926703fcc1')\"\n",
              "            title=\"Suggest charts\"\n",
              "            style=\"display:none;\">\n",
              "\n",
              "<svg xmlns=\"http://www.w3.org/2000/svg\" height=\"24px\"viewBox=\"0 0 24 24\"\n",
              "     width=\"24px\">\n",
              "    <g>\n",
              "        <path d=\"M19 3H5c-1.1 0-2 .9-2 2v14c0 1.1.9 2 2 2h14c1.1 0 2-.9 2-2V5c0-1.1-.9-2-2-2zM9 17H7v-7h2v7zm4 0h-2V7h2v10zm4 0h-2v-4h2v4z\"/>\n",
              "    </g>\n",
              "</svg>\n",
              "  </button>\n",
              "\n",
              "<style>\n",
              "  .colab-df-quickchart {\n",
              "      --bg-color: #E8F0FE;\n",
              "      --fill-color: #1967D2;\n",
              "      --hover-bg-color: #E2EBFA;\n",
              "      --hover-fill-color: #174EA6;\n",
              "      --disabled-fill-color: #AAA;\n",
              "      --disabled-bg-color: #DDD;\n",
              "  }\n",
              "\n",
              "  [theme=dark] .colab-df-quickchart {\n",
              "      --bg-color: #3B4455;\n",
              "      --fill-color: #D2E3FC;\n",
              "      --hover-bg-color: #434B5C;\n",
              "      --hover-fill-color: #FFFFFF;\n",
              "      --disabled-bg-color: #3B4455;\n",
              "      --disabled-fill-color: #666;\n",
              "  }\n",
              "\n",
              "  .colab-df-quickchart {\n",
              "    background-color: var(--bg-color);\n",
              "    border: none;\n",
              "    border-radius: 50%;\n",
              "    cursor: pointer;\n",
              "    display: none;\n",
              "    fill: var(--fill-color);\n",
              "    height: 32px;\n",
              "    padding: 0;\n",
              "    width: 32px;\n",
              "  }\n",
              "\n",
              "  .colab-df-quickchart:hover {\n",
              "    background-color: var(--hover-bg-color);\n",
              "    box-shadow: 0 1px 2px rgba(60, 64, 67, 0.3), 0 1px 3px 1px rgba(60, 64, 67, 0.15);\n",
              "    fill: var(--button-hover-fill-color);\n",
              "  }\n",
              "\n",
              "  .colab-df-quickchart-complete:disabled,\n",
              "  .colab-df-quickchart-complete:disabled:hover {\n",
              "    background-color: var(--disabled-bg-color);\n",
              "    fill: var(--disabled-fill-color);\n",
              "    box-shadow: none;\n",
              "  }\n",
              "\n",
              "  .colab-df-spinner {\n",
              "    border: 2px solid var(--fill-color);\n",
              "    border-color: transparent;\n",
              "    border-bottom-color: var(--fill-color);\n",
              "    animation:\n",
              "      spin 1s steps(1) infinite;\n",
              "  }\n",
              "\n",
              "  @keyframes spin {\n",
              "    0% {\n",
              "      border-color: transparent;\n",
              "      border-bottom-color: var(--fill-color);\n",
              "      border-left-color: var(--fill-color);\n",
              "    }\n",
              "    20% {\n",
              "      border-color: transparent;\n",
              "      border-left-color: var(--fill-color);\n",
              "      border-top-color: var(--fill-color);\n",
              "    }\n",
              "    30% {\n",
              "      border-color: transparent;\n",
              "      border-left-color: var(--fill-color);\n",
              "      border-top-color: var(--fill-color);\n",
              "      border-right-color: var(--fill-color);\n",
              "    }\n",
              "    40% {\n",
              "      border-color: transparent;\n",
              "      border-right-color: var(--fill-color);\n",
              "      border-top-color: var(--fill-color);\n",
              "    }\n",
              "    60% {\n",
              "      border-color: transparent;\n",
              "      border-right-color: var(--fill-color);\n",
              "    }\n",
              "    80% {\n",
              "      border-color: transparent;\n",
              "      border-right-color: var(--fill-color);\n",
              "      border-bottom-color: var(--fill-color);\n",
              "    }\n",
              "    90% {\n",
              "      border-color: transparent;\n",
              "      border-bottom-color: var(--fill-color);\n",
              "    }\n",
              "  }\n",
              "</style>\n",
              "\n",
              "  <script>\n",
              "    async function quickchart(key) {\n",
              "      const quickchartButtonEl =\n",
              "        document.querySelector('#' + key + ' button');\n",
              "      quickchartButtonEl.disabled = true;  // To prevent multiple clicks.\n",
              "      quickchartButtonEl.classList.add('colab-df-spinner');\n",
              "      try {\n",
              "        const charts = await google.colab.kernel.invokeFunction(\n",
              "            'suggestCharts', [key], {});\n",
              "      } catch (error) {\n",
              "        console.error('Error during call to suggestCharts:', error);\n",
              "      }\n",
              "      quickchartButtonEl.classList.remove('colab-df-spinner');\n",
              "      quickchartButtonEl.classList.add('colab-df-quickchart-complete');\n",
              "    }\n",
              "    (() => {\n",
              "      let quickchartButtonEl =\n",
              "        document.querySelector('#df-43762322-1fd6-461b-9428-c3926703fcc1 button');\n",
              "      quickchartButtonEl.style.display =\n",
              "        google.colab.kernel.accessAllowed ? 'block' : 'none';\n",
              "    })();\n",
              "  </script>\n",
              "</div>\n",
              "\n",
              "  <div id=\"id_858e6e82-ecaa-4efb-b4bb-8bbb533d1000\">\n",
              "    <style>\n",
              "      .colab-df-generate {\n",
              "        background-color: #E8F0FE;\n",
              "        border: none;\n",
              "        border-radius: 50%;\n",
              "        cursor: pointer;\n",
              "        display: none;\n",
              "        fill: #1967D2;\n",
              "        height: 32px;\n",
              "        padding: 0 0 0 0;\n",
              "        width: 32px;\n",
              "      }\n",
              "\n",
              "      .colab-df-generate:hover {\n",
              "        background-color: #E2EBFA;\n",
              "        box-shadow: 0px 1px 2px rgba(60, 64, 67, 0.3), 0px 1px 3px 1px rgba(60, 64, 67, 0.15);\n",
              "        fill: #174EA6;\n",
              "      }\n",
              "\n",
              "      [theme=dark] .colab-df-generate {\n",
              "        background-color: #3B4455;\n",
              "        fill: #D2E3FC;\n",
              "      }\n",
              "\n",
              "      [theme=dark] .colab-df-generate:hover {\n",
              "        background-color: #434B5C;\n",
              "        box-shadow: 0px 1px 3px 1px rgba(0, 0, 0, 0.15);\n",
              "        filter: drop-shadow(0px 1px 2px rgba(0, 0, 0, 0.3));\n",
              "        fill: #FFFFFF;\n",
              "      }\n",
              "    </style>\n",
              "    <button class=\"colab-df-generate\" onclick=\"generateWithVariable('songs_df')\"\n",
              "            title=\"Generate code using this dataframe.\"\n",
              "            style=\"display:none;\">\n",
              "\n",
              "  <svg xmlns=\"http://www.w3.org/2000/svg\" height=\"24px\"viewBox=\"0 0 24 24\"\n",
              "       width=\"24px\">\n",
              "    <path d=\"M7,19H8.4L18.45,9,17,7.55,7,17.6ZM5,21V16.75L18.45,3.32a2,2,0,0,1,2.83,0l1.4,1.43a1.91,1.91,0,0,1,.58,1.4,1.91,1.91,0,0,1-.58,1.4L9.25,21ZM18.45,9,17,7.55Zm-12,3A5.31,5.31,0,0,0,4.9,8.1,5.31,5.31,0,0,0,1,6.5,5.31,5.31,0,0,0,4.9,4.9,5.31,5.31,0,0,0,6.5,1,5.31,5.31,0,0,0,8.1,4.9,5.31,5.31,0,0,0,12,6.5,5.46,5.46,0,0,0,6.5,12Z\"/>\n",
              "  </svg>\n",
              "    </button>\n",
              "    <script>\n",
              "      (() => {\n",
              "      const buttonEl =\n",
              "        document.querySelector('#id_858e6e82-ecaa-4efb-b4bb-8bbb533d1000 button.colab-df-generate');\n",
              "      buttonEl.style.display =\n",
              "        google.colab.kernel.accessAllowed ? 'block' : 'none';\n",
              "\n",
              "      buttonEl.onclick = () => {\n",
              "        google.colab.notebook.generateWithVariable('songs_df');\n",
              "      }\n",
              "      })();\n",
              "    </script>\n",
              "  </div>\n",
              "\n",
              "    </div>\n",
              "  </div>\n"
            ],
            "application/vnd.google.colaboratory.intrinsic+json": {
              "type": "dataframe",
              "variable_name": "songs_df",
              "summary": "{\n  \"name\": \"songs_df\",\n  \"rows\": 61627,\n  \"fields\": [\n    {\n      \"column\": \"key\",\n      \"properties\": {\n        \"dtype\": \"number\",\n        \"std\": 3,\n        \"min\": 0,\n        \"max\": 11,\n        \"num_unique_values\": 12,\n        \"samples\": [\n          3,\n          10,\n          1\n        ],\n        \"semantic_type\": \"\",\n        \"description\": \"\"\n      }\n    },\n    {\n      \"column\": \"loudness\",\n      \"properties\": {\n        \"dtype\": \"number\",\n        \"std\": 5.289760217402343,\n        \"min\": -47.432,\n        \"max\": 5.118,\n        \"num_unique_values\": 18517,\n        \"samples\": [\n          -5.172,\n          -29.462,\n          -15.483\n        ],\n        \"semantic_type\": \"\",\n        \"description\": \"\"\n      }\n    },\n    {\n      \"column\": \"tempo\",\n      \"properties\": {\n        \"dtype\": \"number\",\n        \"std\": 29.797636953986125,\n        \"min\": 0.0,\n        \"max\": 222.605,\n        \"num_unique_values\": 41394,\n        \"samples\": [\n          122.989,\n          96.919,\n          119.432\n        ],\n        \"semantic_type\": \"\",\n        \"description\": \"\"\n      }\n    },\n    {\n      \"column\": \"duration_ms\",\n      \"properties\": {\n        \"dtype\": \"number\",\n        \"std\": 141900,\n        \"min\": 2533,\n        \"max\": 4440760,\n        \"num_unique_values\": 29322,\n        \"samples\": [\n          117733,\n          183554,\n          317387\n        ],\n        \"semantic_type\": \"\",\n        \"description\": \"\"\n      }\n    },\n    {\n      \"column\": \"time_signature\",\n      \"properties\": {\n        \"dtype\": \"number\",\n        \"std\": 0,\n        \"min\": 0,\n        \"max\": 5,\n        \"num_unique_values\": 5,\n        \"samples\": [\n          3,\n          0,\n          5\n        ],\n        \"semantic_type\": \"\",\n        \"description\": \"\"\n      }\n    },\n    {\n      \"column\": \"valence_tags\",\n      \"properties\": {\n        \"dtype\": \"number\",\n        \"std\": 1.5466751024107037,\n        \"min\": 0.235,\n        \"max\": 8.47,\n        \"num_unique_values\": 25871,\n        \"samples\": [\n          3.993879310344828,\n          5.982736842105263,\n          5.267543859649122\n        ],\n        \"semantic_type\": \"\",\n        \"description\": \"\"\n      }\n    },\n    {\n      \"column\": \"arousal_tags\",\n      \"properties\": {\n        \"dtype\": \"number\",\n        \"std\": 1.1627964159861355,\n        \"min\": 0.1081132075471698,\n        \"max\": 7.27,\n        \"num_unique_values\": 24486,\n        \"samples\": [\n          2.123172043010753,\n          3.7399342105263167,\n          5.377029702970297\n        ],\n        \"semantic_type\": \"\",\n        \"description\": \"\"\n      }\n    },\n    {\n      \"column\": \"dominance_tags\",\n      \"properties\": {\n        \"dtype\": \"number\",\n        \"std\": 1.1671812244673412,\n        \"min\": 0.2292307692307692,\n        \"max\": 7.44,\n        \"num_unique_values\": 24782,\n        \"samples\": [\n          5.175972222222222,\n          3.567441860465116,\n          6.5482978723404255\n        ],\n        \"semantic_type\": \"\",\n        \"description\": \"\"\n      }\n    }\n  ]\n}"
            }
          },
          "metadata": {},
          "execution_count": 10
        }
      ]
    },
    {
      "cell_type": "code",
      "source": [
        "# Check for duplicates\n",
        "songs_df.index.is_unique"
      ],
      "metadata": {
        "colab": {
          "base_uri": "https://localhost:8080/"
        },
        "id": "C6wyCx4MqM79",
        "outputId": "b73205e3-aee6-4726-e66c-91d2df4c1ee5"
      },
      "execution_count": 11,
      "outputs": [
        {
          "output_type": "execute_result",
          "data": {
            "text/plain": [
              "True"
            ]
          },
          "metadata": {},
          "execution_count": 11
        }
      ]
    },
    {
      "cell_type": "markdown",
      "metadata": {
        "id": "caik4_-rALuL"
      },
      "source": [
        "Model will take data as (`X_train`,`y_train`)\n",
        "- `X_train` is a 2D NumPy array of shape `n_samples` x `n_features`, i.e. one song per row, one metadata feature per column\n",
        "- `y_train` is just convert the \"mood\" column into a 1D NumPy array"
      ]
    },
    {
      "cell_type": "code",
      "execution_count": 12,
      "metadata": {
        "colab": {
          "base_uri": "https://localhost:8080/"
        },
        "id": "iHXhqrfrALuL",
        "outputId": "16e59172-aa63-4fb5-a49c-cf559ed4bec1"
      },
      "outputs": [
        {
          "output_type": "execute_result",
          "data": {
            "text/plain": [
              "49301.600000000006"
            ]
          },
          "metadata": {},
          "execution_count": 12
        }
      ],
      "source": [
        "# How much should we take for training, testing?\n",
        "songs_df.index.size\n",
        "\n",
        "0.8 * songs_df.index.size"
      ]
    },
    {
      "cell_type": "code",
      "execution_count": 13,
      "metadata": {
        "id": "dgq7cI7qALuN"
      },
      "outputs": [],
      "source": [
        "import numpy as np\n",
        "from sklearn.model_selection import train_test_split\n",
        "\n",
        "DROP_COLS = VAL_COLS#+[\"artist\"]\n",
        "# use a constant random state for reproducibility\n",
        "# X = songs_df.drop(columns=DROP_COLS)\n",
        "# y = songs_df[VAL_COLS]\n",
        "X_train, X_test, y_train, y_test = train_test_split(songs_df.drop(columns=DROP_COLS), songs_df[VAL_COLS],\n",
        "                                                    test_size=0.2, random_state=42)"
      ]
    },
    {
      "cell_type": "markdown",
      "metadata": {
        "id": "H37XP3lkjmRk"
      },
      "source": [
        "# Model"
      ]
    },
    {
      "cell_type": "markdown",
      "metadata": {
        "id": "xUEpBWJMjmRk"
      },
      "source": [
        "## Set up Weights & Biases"
      ]
    },
    {
      "cell_type": "code",
      "execution_count": 14,
      "metadata": {
        "id": "pbvQy8nkjmRk",
        "outputId": "5a2acff7-c866-4809-d1a2-6d8a60f61501",
        "colab": {
          "base_uri": "https://localhost:8080/"
        }
      },
      "outputs": [
        {
          "output_type": "stream",
          "name": "stderr",
          "text": [
            "\u001b[34m\u001b[1mwandb\u001b[0m: Currently logged in as: \u001b[33mt0m_x\u001b[0m. Use \u001b[1m`wandb login --relogin`\u001b[0m to force relogin\n"
          ]
        },
        {
          "output_type": "execute_result",
          "data": {
            "text/plain": [
              "True"
            ]
          },
          "metadata": {},
          "execution_count": 14
        }
      ],
      "source": [
        "import wandb\n",
        "wandb.login()"
      ]
    },
    {
      "cell_type": "markdown",
      "metadata": {
        "id": "mOdYtnvzALuN"
      },
      "source": [
        "## Multi-Layer Perceptron\n",
        "[PyTorch tutorial](https://pytorch.org/tutorials/beginner/basics/buildmodel_tutorial.html)\n",
        "\n",
        "[Building a Regression Model in PyTorch](https://machinelearningmastery.com/building-a-regression-model-in-pytorch/)\n",
        "\n",
        "[ChatGPT PyTorch Regression Model](https://chat.openai.com/share/8e1237ca-a45f-4abc-8740-25ca00d72bbf)"
      ]
    },
    {
      "cell_type": "code",
      "execution_count": 15,
      "metadata": {
        "id": "wvDGUdrDjmRl"
      },
      "outputs": [],
      "source": [
        "# from sklearn.neural_network import MLPRegressor\n",
        "\n",
        "# mlp = MLPRegressor(solver='lbfgs', hidden_layer_sizes=())\n",
        "\n",
        "# # terrible score lol\n",
        "# mlp_regression = mlp.fit(X_train, y_test)\n",
        "# print(mlp_regression.score(X_test, y_test))"
      ]
    },
    {
      "cell_type": "code",
      "execution_count": 16,
      "metadata": {
        "id": "DGH3cC9ujmRl"
      },
      "outputs": [],
      "source": [
        "import os\n",
        "import torch\n",
        "from torch import nn\n",
        "from torch.utils.data import DataLoader\n",
        "from torchvision import datasets, transforms"
      ]
    },
    {
      "cell_type": "code",
      "execution_count": 17,
      "metadata": {
        "id": "Xa-3c8w1jmRl",
        "outputId": "33ce1e6d-87ac-48ba-ab73-50482fd5c423",
        "colab": {
          "base_uri": "https://localhost:8080/"
        }
      },
      "outputs": [
        {
          "output_type": "stream",
          "name": "stdout",
          "text": [
            "Using cpu device\n"
          ]
        }
      ],
      "source": [
        "if torch.cuda.is_available():\n",
        "    device = torch.device(\"cuda\")\n",
        "elif torch.backends.mps.is_available():\n",
        "    device = torch.device(\"mps\")\n",
        "else:\n",
        "    device = torch.device(\"cpu\")\n",
        "print(f\"Using {device} device\")"
      ]
    },
    {
      "cell_type": "code",
      "execution_count": 18,
      "metadata": {
        "id": "dSdLAJtLjmRl",
        "outputId": "222a578f-870f-4149-9320-0d234b2e187d",
        "colab": {
          "base_uri": "https://localhost:8080/"
        }
      },
      "outputs": [
        {
          "output_type": "stream",
          "name": "stdout",
          "text": [
            "<class 'pandas.core.frame.DataFrame'>                                                                     key  \\\n",
            "track                                       artist                        \n",
            "Newst Flurries                              Brad Barr                11   \n",
            "Detting Te Deum                             Georg Friedrich Händel    2   \n",
            "Look What You've Done                       Tree63                    3   \n",
            "Alpha Incipient                             Fallujah                  6   \n",
            "Actors                                      Still Parade              6   \n",
            "...                                                                 ...   \n",
            "People Of The World                         Chris de Burgh            5   \n",
            "Electric                                    Davy Vain                 1   \n",
            "Born Like This                              Three Days Grace          7   \n",
            "Stay One                                    Tom Burbank               0   \n",
            "Within You Without You/Tomorrow Never Knows The Beatles               5   \n",
            "\n",
            "                                                                    loudness  \\\n",
            "track                                       artist                             \n",
            "Newst Flurries                              Brad Barr                -13.380   \n",
            "Detting Te Deum                             Georg Friedrich Händel   -13.997   \n",
            "Look What You've Done                       Tree63                    -6.068   \n",
            "Alpha Incipient                             Fallujah                  -2.551   \n",
            "Actors                                      Still Parade             -12.838   \n",
            "...                                                                      ...   \n",
            "People Of The World                         Chris de Burgh            -6.777   \n",
            "Electric                                    Davy Vain                 -4.368   \n",
            "Born Like This                              Three Days Grace          -5.847   \n",
            "Stay One                                    Tom Burbank              -12.185   \n",
            "Within You Without You/Tomorrow Never Knows The Beatles              -10.146   \n",
            "\n",
            "                                                                      tempo  \\\n",
            "track                                       artist                            \n",
            "Newst Flurries                              Brad Barr                79.744   \n",
            "Detting Te Deum                             Georg Friedrich Händel   92.181   \n",
            "Look What You've Done                       Tree63                  125.002   \n",
            "Alpha Incipient                             Fallujah                113.355   \n",
            "Actors                                      Still Parade             90.967   \n",
            "...                                                                     ...   \n",
            "People Of The World                         Chris de Burgh          105.421   \n",
            "Electric                                    Davy Vain               134.028   \n",
            "Born Like This                              Three Days Grace        159.989   \n",
            "Stay One                                    Tom Burbank             121.570   \n",
            "Within You Without You/Tomorrow Never Knows The Beatles             127.116   \n",
            "\n",
            "                                                                    duration_ms  \\\n",
            "track                                       artist                                \n",
            "Newst Flurries                              Brad Barr                    267227   \n",
            "Detting Te Deum                             Georg Friedrich Händel       245333   \n",
            "Look What You've Done                       Tree63                       273800   \n",
            "Alpha Incipient                             Fallujah                     214813   \n",
            "Actors                                      Still Parade                 241922   \n",
            "...                                                                         ...   \n",
            "People Of The World                         Chris de Burgh               229600   \n",
            "Electric                                    Davy Vain                    294360   \n",
            "Born Like This                              Three Days Grace             212387   \n",
            "Stay One                                    Tom Burbank                  236480   \n",
            "Within You Without You/Tomorrow Never Knows The Beatles                  187634   \n",
            "\n",
            "                                                                    time_signature  \n",
            "track                                       artist                                  \n",
            "Newst Flurries                              Brad Barr                            4  \n",
            "Detting Te Deum                             Georg Friedrich Händel               4  \n",
            "Look What You've Done                       Tree63                               4  \n",
            "Alpha Incipient                             Fallujah                             4  \n",
            "Actors                                      Still Parade                         4  \n",
            "...                                                                            ...  \n",
            "People Of The World                         Chris de Burgh                       4  \n",
            "Electric                                    Davy Vain                            4  \n",
            "Born Like This                              Three Days Grace                     4  \n",
            "Stay One                                    Tom Burbank                          4  \n",
            "Within You Without You/Tomorrow Never Knows The Beatles                          4  \n",
            "\n",
            "[49301 rows x 5 columns]\n"
          ]
        }
      ],
      "source": [
        "print(type(X_train), X_train)"
      ]
    },
    {
      "cell_type": "code",
      "execution_count": 19,
      "metadata": {
        "id": "DhjXGGhrjmRm",
        "outputId": "aa441fa1-3ba7-4640-8c04-a372253e104f",
        "colab": {
          "base_uri": "https://localhost:8080/"
        }
      },
      "outputs": [
        {
          "output_type": "stream",
          "name": "stdout",
          "text": [
            "                                              key  loudness    tempo  \\\n",
            "track                artist                                            \n",
            "Les OS               The Unicorns               7    -7.705  171.996   \n",
            "The Millennium       The Flood Plain           11    -7.086   88.444   \n",
            "Spring               The Innocence Mission     11   -11.309  141.594   \n",
            "Heavenly Day         Patty Griffin             11    -7.385  184.241   \n",
            "Finger Twist & Split Cute Is What We Aim For    9    -4.698  174.279   \n",
            "...                                           ...       ...      ...   \n",
            "In A Needle          The Used                   2    -4.565  119.978   \n",
            "Gnome Dosed          Androcell                  4    -6.931  185.947   \n",
            "My Apology           Floetry                   10    -7.808   98.680   \n",
            "Preamble             Kalliope                   4    -8.669   82.461   \n",
            "All Cats Are Grey    The Cure                   9   -13.913  110.114   \n",
            "\n",
            "                                              duration_ms  time_signature  \n",
            "track                artist                                                \n",
            "Les OS               The Unicorns                  212060               4  \n",
            "The Millennium       The Flood Plain               385653               4  \n",
            "Spring               The Innocence Mission         237213               5  \n",
            "Heavenly Day         Patty Griffin                 225400               3  \n",
            "Finger Twist & Split Cute Is What We Aim For       201227               4  \n",
            "...                                                   ...             ...  \n",
            "In A Needle          The Used                      236253               4  \n",
            "Gnome Dosed          Androcell                     441133               4  \n",
            "My Apology           Floetry                       246453               4  \n",
            "Preamble             Kalliope                      377760               4  \n",
            "All Cats Are Grey    The Cure                      327640               4  \n",
            "\n",
            "[12326 rows x 5 columns]\n"
          ]
        }
      ],
      "source": [
        "print(X_test)"
      ]
    },
    {
      "cell_type": "code",
      "execution_count": 20,
      "metadata": {
        "id": "PEhDlGPgjmRm",
        "outputId": "661549ba-ff72-4cc5-ee3b-7b983fdec5d9",
        "colab": {
          "base_uri": "https://localhost:8080/"
        }
      },
      "outputs": [
        {
          "output_type": "stream",
          "name": "stdout",
          "text": [
            "                                              valence_tags  arousal_tags  \\\n",
            "track                artist                                                \n",
            "Les OS               The Unicorns                 5.634675      4.371169   \n",
            "The Millennium       The Flood Plain              2.393333      2.526667   \n",
            "Spring               The Innocence Mission        6.905000      2.925000   \n",
            "Heavenly Day         Patty Griffin                6.561579      3.868421   \n",
            "Finger Twist & Split Cute Is What We Aim For      7.637500      4.900000   \n",
            "...                                                    ...           ...   \n",
            "In A Needle          The Used                     6.840000      3.810000   \n",
            "Gnome Dosed          Androcell                    5.581277      3.390426   \n",
            "My Apology           Floetry                      6.677647      3.392206   \n",
            "Preamble             Kalliope                     6.001905      4.455714   \n",
            "All Cats Are Grey    The Cure                     4.162949      3.578590   \n",
            "\n",
            "                                              dominance_tags  \n",
            "track                artist                                   \n",
            "Les OS               The Unicorns                   4.913247  \n",
            "The Millennium       The Flood Plain                2.816667  \n",
            "Spring               The Innocence Mission          6.550000  \n",
            "Heavenly Day         Patty Griffin                  6.178947  \n",
            "Finger Twist & Split Cute Is What We Aim For        5.912500  \n",
            "...                                                      ...  \n",
            "In A Needle          The Used                       5.760000  \n",
            "Gnome Dosed          Androcell                      5.889574  \n",
            "My Apology           Floetry                        6.266176  \n",
            "Preamble             Kalliope                       5.610000  \n",
            "All Cats Are Grey    The Cure                       4.250769  \n",
            "\n",
            "[12326 rows x 3 columns]\n"
          ]
        }
      ],
      "source": [
        "print(y_test)"
      ]
    },
    {
      "cell_type": "code",
      "execution_count": 21,
      "metadata": {
        "id": "4xrkG4R3jmRm",
        "outputId": "e11d021a-cd13-43c1-e124-e94d28f5a215",
        "colab": {
          "base_uri": "https://localhost:8080/"
        }
      },
      "outputs": [
        {
          "output_type": "stream",
          "name": "stdout",
          "text": [
            "                                                                    valence_tags  \\\n",
            "track                                       artist                                 \n",
            "Newst Flurries                              Brad Barr                   7.212500   \n",
            "Detting Te Deum                             Georg Friedrich Händel      6.950000   \n",
            "Look What You've Done                       Tree63                      6.844667   \n",
            "Alpha Incipient                             Fallujah                    5.753333   \n",
            "Actors                                      Still Parade                2.860539   \n",
            "...                                                                          ...   \n",
            "People Of The World                         Chris de Burgh              7.105000   \n",
            "Electric                                    Davy Vain                   3.850000   \n",
            "Born Like This                              Three Days Grace            4.439500   \n",
            "Stay One                                    Tom Burbank                 3.050000   \n",
            "Within You Without You/Tomorrow Never Knows The Beatles                 3.867922   \n",
            "\n",
            "                                                                    arousal_tags  \\\n",
            "track                                       artist                                 \n",
            "Newst Flurries                              Brad Barr                   4.197500   \n",
            "Detting Te Deum                             Georg Friedrich Händel      5.000000   \n",
            "Look What You've Done                       Tree63                      4.564667   \n",
            "Alpha Incipient                             Fallujah                    4.333333   \n",
            "Actors                                      Still Parade                1.219641   \n",
            "...                                                                          ...   \n",
            "People Of The World                         Chris de Burgh              3.625000   \n",
            "Electric                                    Davy Vain                   5.640000   \n",
            "Born Like This                              Three Days Grace            5.094500   \n",
            "Stay One                                    Tom Burbank                 3.050000   \n",
            "Within You Without You/Tomorrow Never Knows The Beatles                 2.736753   \n",
            "\n",
            "                                                                    dominance_tags  \n",
            "track                                       artist                                  \n",
            "Newst Flurries                              Brad Barr                     6.475000  \n",
            "Detting Te Deum                             Georg Friedrich Händel        5.120000  \n",
            "Look What You've Done                       Tree63                        6.344000  \n",
            "Alpha Incipient                             Fallujah                      5.506667  \n",
            "Actors                                      Still Parade                  2.447305  \n",
            "...                                                                            ...  \n",
            "People Of The World                         Chris de Burgh                6.685000  \n",
            "Electric                                    Davy Vain                     4.600000  \n",
            "Born Like This                              Three Days Grace              4.950000  \n",
            "Stay One                                    Tom Burbank                   5.790000  \n",
            "Within You Without You/Tomorrow Never Knows The Beatles                   3.050779  \n",
            "\n",
            "[49301 rows x 3 columns]\n"
          ]
        }
      ],
      "source": [
        "print(y_train)"
      ]
    },
    {
      "cell_type": "code",
      "execution_count": 22,
      "metadata": {
        "id": "UL8V7_gcjmRm",
        "outputId": "0253cbbf-0738-4ca3-ab23-3cfc249f34df",
        "colab": {
          "base_uri": "https://localhost:8080/"
        }
      },
      "outputs": [
        {
          "output_type": "stream",
          "name": "stdout",
          "text": [
            "Shape of X_test: (12326, 5)\n",
            "Shape of y_test: (12326, 3)\n"
          ]
        }
      ],
      "source": [
        "print(\"Shape of X_test:\", X_test.shape)\n",
        "print(\"Shape of y_test:\", y_test.shape)"
      ]
    },
    {
      "cell_type": "code",
      "execution_count": 23,
      "metadata": {
        "id": "AmBLVg08jmRm"
      },
      "outputs": [],
      "source": [
        "# credit: https://stackoverflow.com/questions/71198218/the-simple-mlp-nn-for-regression-in-pytorch-very-slow-learning-rev2\n",
        "\n",
        "class NeuralNetwork(nn.Module):\n",
        "    def __init__(self, input_size, hidden_size1, hidden_size2, output_size, dropout_p=0.5):\n",
        "        super(NeuralNetwork, self).__init__()\n",
        "        self.fc1 = nn.Linear(input_size, hidden_size1).double()\n",
        "        self.fc2 = nn.Linear(hidden_size1, hidden_size2).double()\n",
        "        self.fc3 = nn.Linear(hidden_size2, output_size).double()\n",
        "        self.dropout = nn.Dropout(dropout_p).double()\n",
        "\n",
        "    def forward(self, x):\n",
        "        x = torch.relu(self.fc1(x))\n",
        "        x = self.dropout(x)\n",
        "        x = torch.relu(self.fc2(x))\n",
        "        x = self.dropout(x)\n",
        "        x = self.fc3(x)\n",
        "        return x"
      ]
    },
    {
      "cell_type": "code",
      "execution_count": 24,
      "metadata": {
        "id": "w9aPHaCxjmRn"
      },
      "outputs": [],
      "source": [
        "from torch.utils.data import DataLoader, TensorDataset\n",
        "# # convert dataframe to PyTorch Tensor\n",
        "# X_train_tensor = torch.tensor(X_train.values, dtype=torch.float32).to(device)\n",
        "# X_test_tensor = torch.tensor(X_test.values, dtype=torch.float32).to(device)\n",
        "# y_train_tensor = torch.tensor(y_train.values, dtype=torch.float32).to(device)\n",
        "# y_test_tensor = torch.tensor(y_test.values, dtype=torch.float32).to(device)\n",
        "# train_dataset = TensorDataset(X_train_tensor, y_train_tensor)\n",
        "# test_dataset = TensorDataset(X_test_tensor, y_test_tensor)\n",
        "batch_size = 64"
      ]
    },
    {
      "cell_type": "markdown",
      "metadata": {
        "id": "DYyW36A1jmRn"
      },
      "source": [
        "Clean up data retrieving and storage with a [custom PyTorch DataSet class](https://pytorch.org/tutorials/beginner/basics/data_tutorial.html)."
      ]
    },
    {
      "cell_type": "code",
      "execution_count": 25,
      "metadata": {
        "id": "aUjM14szjmRn"
      },
      "outputs": [],
      "source": [
        "# class SongMetaDataSet(torch.utils.data.Dataset):\n",
        "#     def __init__(self, X: pd.DataFrame | torch.Tensor, y: pd.DataFrame | torch.Tensor, id_tbl: pd.DataFrame):\n",
        "#         \"\"\"\n",
        "#         X is a tensor or DataFrame of the input features (i.e. song metadata), one row per song.\n",
        "#         y is a tensor or DataFrame of the target values (i.e. valence, arousal, dominance), one row per song.\n",
        "#         id_tbl is a DataFrame of identifying information for each song. When a song is requested by index, the corresponding row in id_tbl will be returned as a dictionary.\n",
        "#         __All must have the song names as the index.__\n",
        "#         \"\"\"\n",
        "#         # sort all by index to ensure they match\n",
        "#         if isinstance(X, pd.DataFrame):\n",
        "#             X.sort_index(inplace=True)\n",
        "#             X = torch.tensor(X.values, dtype=torch.float32)\n",
        "#         self.X = X\n",
        "#         if isinstance(y, pd.DataFrame):\n",
        "#             y.sort_index(inplace=True)\n",
        "#             self.y = torch.tensor(y.values, dtype=torch.float32)\n",
        "#         self.id_tbl = id_tbl\n",
        "\n",
        "#     def __len__(self):\n",
        "#         return len(self.id_tbl.index)\n",
        "\n",
        "#     def __getitem__(self, idx) -> tuple[tuple[str, str], torch.Tensor, torch.Tensor]:\n",
        "#         \"\"\"\n",
        "#         The returned tuple contains:\n",
        "#             1. a tuple of the song's (name, artist)\n",
        "#             2. the input features vector for this song\n",
        "#             3. the target vector (V, A, D values) for this song\n",
        "#         \"\"\"\n",
        "#         # convert this 1 row GODDAMN sliced out DataFrame to just a ___mere TUPLE___\n",
        "#         nadict = self.id_tbl.iloc[idx].to_frame().to_dict()\n",
        "#         pair = [(name, artist_dict[\"artist\"]) for name, artist_dict in nadict.items()]\n",
        "#         return pair, self.X[idx], self.y[idx]\n",
        "\n",
        "# def make_song_dataset(songs_df: pd.DataFrame, input_cols: list[str], id_cols: list[str], label_cols: list[str]) -> SongMetaDataSet:\n",
        "#     \"\"\"\n",
        "#     songs_df is a DataFrame of song metadata, with the song names as the index.\n",
        "#     input_cols is a list of columns to use as the input features (i.e. tempo, key, loudness).\n",
        "#     id_cols is a list of columns to include in the identifying information for each song.\n",
        "#     label_cols is a list of columns to use as the target values (i.e. valence, arousal, dominance).\n",
        "#     \"\"\"\n",
        "#     X = songs_df[input_cols]\n",
        "#     y = songs_df[label_cols]\n",
        "#     id_tbl = songs_df[id_cols]\n",
        "#     return SongMetaDataSet(X, y, id_tbl)\n",
        "\n",
        "# print(X_test.values[33])\n",
        "# print(y_test.iloc[[33]].index.values)\n",
        "# y_test.iloc[[33]].index.values[0]\n"
      ]
    },
    {
      "cell_type": "code",
      "execution_count": 26,
      "metadata": {
        "id": "t5bgH3X8uSXI"
      },
      "outputs": [],
      "source": [
        "from torch.utils.data import DataLoader, TensorDataset\n",
        "batch_size = 64\n",
        "\n",
        "class SongMetaDataSet(torch.utils.data.Dataset):\n",
        "    def __init__(self, X: pd.DataFrame, y: pd.DataFrame):\n",
        "        \"\"\"\n",
        "        X is a tensor or DataFrame of the input features (i.e. song metadata), one row per song.\n",
        "        y is a tensor or DataFrame of the target values (i.e. valence, arousal, dominance), one row per song.\n",
        "        __All must have the (song name, artist) as the multi-index.__\n",
        "        \"\"\"\n",
        "        # sort all by index to ensure they match\n",
        "        for inp in (X, y):\n",
        "            if not isinstance(inp, pd.DataFrame):\n",
        "                raise ValueError(f\"{inp} must be a pandas DataFrame\")\n",
        "            if len(inp.index.names) < 2:\n",
        "                raise ValueError(f\"{inp} must have song names and artists in its index\")\n",
        "        if len(X.index) != len(y.index):\n",
        "            raise ValueError(\"X and y must be the same length\")\n",
        "\n",
        "        self.X = X\n",
        "        # self.X.sort_index(inplace=True)\n",
        "        self.y = y\n",
        "        # self.y.sort_index(inplace=True)\n",
        "\n",
        "    def __len__(self):\n",
        "        return len(self.X.index)\n",
        "\n",
        "    def __getitem__(self, idx) -> tuple[tuple[str,str], torch.Tensor, torch.Tensor]:\n",
        "        \"\"\"\n",
        "        The returned tuple contains:\n",
        "            1. a tuple of the song's (name, artist)\n",
        "            2. the input features vector for this song\n",
        "            3. the target vector (V, A, D values) for this song\n",
        "        \"\"\"\n",
        "        # keep intermediate for y to extract index = (name, artist)\n",
        "        labels_df = self.y.iloc[[idx]]\n",
        "        if len(labels_df.index) > 1:\n",
        "            print(\"Warning: indexing DataSet gave more than one song, only keeping the first\")\n",
        "        # > PyTorch's DataLoader will automatically stack the arrays along the first dimension (axis 0) when creating a batch\n",
        "        #       ^ credit: Google Colab AI\n",
        "        # but don't care, don't need to batch during testing\n",
        "        IDs_pair = labels_df.index.values[0]\n",
        "        return IDs_pair, torch.from_numpy(self.X.values[idx]), torch.from_numpy(labels_df.values)\n",
        "\n",
        "def make_song_dataset(songs_df: pd.DataFrame, input_cols: list[str], label_cols: list[str]) -> SongMetaDataSet:\n",
        "    \"\"\"\n",
        "    songs_df is a DataFrame of song metadata, with the song names as the index.\n",
        "    input_cols is a list of columns to use as the input features (i.e. tempo, key, loudness).\n",
        "    id_cols is a list of columns to include in the identifying information for each song.\n",
        "    label_cols is a list of columns to use as the target values (i.e. valence, arousal, dominance).\n",
        "    \"\"\"\n",
        "    X = songs_df[input_cols]\n",
        "    y = songs_df[label_cols]\n",
        "    return SongMetaDataSet(X, y)"
      ]
    },
    {
      "cell_type": "code",
      "source": [
        "# songs_df.loc[X_test.index]"
      ],
      "metadata": {
        "id": "fSIraUINzQca"
      },
      "execution_count": 27,
      "outputs": []
    },
    {
      "cell_type": "code",
      "execution_count": 28,
      "metadata": {
        "id": "RzKcTfFojmRn"
      },
      "outputs": [],
      "source": [
        "# train_idx = X_train.index.values\n",
        "# test_idx = X_test.index.values\n",
        "# print(songs_df.loc[train_idx, KEEP_COLS_MODEL], songs_df.loc[train_idx, VAL_COLS], songs_df.loc[train_idx, \"artist\"])\n",
        "\n",
        "train_dataset = make_song_dataset(songs_df.loc[X_train.index], KEEP_COLS_MODEL, VAL_COLS)\n",
        "test_dataset = make_song_dataset(songs_df.loc[X_test.index], KEEP_COLS_MODEL, VAL_COLS)\n",
        "train_loader = DataLoader(train_dataset, batch_size=batch_size, shuffle=True, pin_memory=True)\n",
        "test_loader = DataLoader(test_dataset, batch_size=1, shuffle=False, pin_memory=True)"
      ]
    },
    {
      "cell_type": "code",
      "execution_count": 29,
      "metadata": {
        "id": "1cMz3BVSjmRn",
        "outputId": "9e8a6c02-7ded-4b8b-9356-1ed57383bd8c",
        "colab": {
          "base_uri": "https://localhost:8080/"
        }
      },
      "outputs": [
        {
          "output_type": "execute_result",
          "data": {
            "text/plain": [
              "(('Newst Flurries', 'Brad Barr'),\n",
              " tensor([ 7.9744e+01,  1.1000e+01, -1.3380e+01,  4.0000e+00,  2.6723e+05],\n",
              "        dtype=torch.float64),\n",
              " tensor([[7.2125, 4.1975, 6.4750]], dtype=torch.float64))"
            ]
          },
          "metadata": {},
          "execution_count": 29
        }
      ],
      "source": [
        "train_dataset[0]"
      ]
    },
    {
      "cell_type": "code",
      "source": [
        "for loader in [train_loader, test_loader]:\n",
        "    print(\"Loader \", loader)\n",
        "    for name_artist_pair, inputs, targets in loader:\n",
        "        name, artist = name_artist_pair[0][0], name_artist_pair[1][0]\n",
        "        print(f\"{name} by {artist}\")\n",
        "        # print(f\"{name_artist_pair[0]} by {name_artist_pair[1]}:\")\n",
        "        print(\"\\tInputs:\", inputs.shape, inputs.dtype)\n",
        "        print(\"\\tLabel:\", targets.shape, inputs.dtype)\n",
        "        break"
      ],
      "metadata": {
        "id": "mUeBXtH3kYgX",
        "outputId": "49d3b84b-8630-4ceb-b96b-092579de53cb",
        "colab": {
          "base_uri": "https://localhost:8080/"
        }
      },
      "execution_count": 30,
      "outputs": [
        {
          "output_type": "stream",
          "name": "stdout",
          "text": [
            "Loader  <torch.utils.data.dataloader.DataLoader object at 0x78d3971cd150>\n",
            "(\"In This Scene You're Just An Extra\", 'Trouble Waiting to Happen', '(Something Inside) So Strong', 'Boring', 'Dangerous And Sweet', 'The Veldt (feat. Chris James) [8 Minute Edit]', 'Punxnotdead', 'Not the World I Remember', 'Down Side Of Me', 'Symphony No.2 In D Major, Op.73 Allegretto Grazioso (Quasi Andantino) - Presto Ma Non Assai - Tempo', 'Sacrifice (Terrorfakt Remix)', 'Hear Me Now', 'They Need You If They Think You Love Them', 'Above', 'The Whaler', 'Empty Box', 'Soul Doors', 'Satellite (Radio Edit)', 'Misericorde', 'After The Laughter', 'Gaigan Go Home', 'Kisses Over Babylon', 'Crazy World', 'From Brighton Beach to Santa Monica', 'Hideaway', 'Await Lightning', 'Eye Adaba', 'Seems Fine', 'Never Is Enough', 'Vrikshavalli Hare Krishna (feat. Gaura Vani)', 'We Want a Rock', 'Humming (Live)', 'A Daily Prayer and Practice of the Dalai Lama', 'Progtology', 'The Bullet That Hits You', 'De Molenaar', 'Hurricane Streets', 'Ride of Valkyries', 'Shine on You Crazy Diamond, Pts. 6-9', 'My Beautiful Leah', 'All Over Now', 'Shake Ya Ass', 'Rendezvous : Potrero Hill', 'She Belongs to Me (Alternate Take)', 'Funky Jam', 'Jennifer', \"When Heaven's Not Far Away\", 'Walk Away', 'Main Theme', 'A Little Bit of Pain', 'Everyday', 'Was the Human Heart Meant to Hold Such Pain?', \"I Guess I'll Always Love You\", 'So Simple', 'Deep Emotion', 'Easy', 'Seven Days', 'Stupid For You (Acoustic Version)', 'Bleeding Heart', 'Cherry Pie', \"I Bet You They Won't Play This Song On The Radio\", \"Love's a Mystery\", 'The Crash at Crush', 'The Night is Limping') by ('Search The City', 'Warren Zevon', 'Michael Ball', 'Pink', 'Lenka', 'deadmau5', 'New Wet Kojak', 'FGFC820', 'CHVRCHES', 'Johannes Brahms', 'Neikka RPM', 'Framing Hanley', 'Astrid Swan', 'Hecq', 'Thrice', 'Mau Amigo', '2002', 'Oceanlab', 'Édith Piaf', '...And You Will Know Us by the Trail of Dead', 'Suicidal Tendencies', 'Edward Sharpe & The Magnetic Zeros', 'Richard Ashcroft', 'The Clientele', 'Passion Pit', 'Amusement Parks On Fire', 'Așa', 'The Concretes', 'Barenaked Ladies', 'Jahnavi Harrison', 'They Might Be Giants', 'Portishead', 'Nawang Khechog', 'Enchant', 'Robert Love', 'De Kift', 'Hey Monday', 'Richard Wagner', 'Pink Floyd', 'PJ Harvey', 'The Cranberries', 'Richard Cheese', 'Architecture in Helsinki', 'Bob Dylan', 'Primal Scream', 'Eurythmics', 'Cold', 'Peter Bradley Adams', 'John Ottman', 'Vanessa Daou', 'The Sea and Cake', 'Bill Spooner', 'The Isley Brothers', 'Alicia Keys', 'Yurdal Tokcan', 'The Beta Band', 'Azure Ray', 'Marié Digby', 'The Go Find', 'Sade', 'Monty Python', 'The Tubes', 'The Residents', 'Mugison')\n",
            "\tInputs: torch.Size([64, 5]) torch.float64\n",
            "\tLabel: torch.Size([64, 1, 3]) torch.float64\n",
            "Loader  <torch.utils.data.dataloader.DataLoader object at 0x78d3971cd6f0>\n",
            "('Les OS',) by ('The Unicorns',)\n",
            "\tInputs: torch.Size([1, 5]) torch.float64\n",
            "\tLabel: torch.Size([1, 1, 3]) torch.float64\n"
          ]
        }
      ]
    },
    {
      "cell_type": "code",
      "execution_count": 31,
      "metadata": {
        "id": "eRP_oqWUjmRn",
        "colab": {
          "base_uri": "https://localhost:8080/"
        },
        "outputId": "5a3a0117-624c-491c-f462-94ed3d4220f0"
      },
      "outputs": [
        {
          "output_type": "execute_result",
          "data": {
            "text/plain": [
              "5"
            ]
          },
          "metadata": {},
          "execution_count": 31
        }
      ],
      "source": [
        "# input_size = X_train.shape[1]\n",
        "# hidden_size1 = 6\n",
        "# hidden_size2 = 4\n",
        "# output_size = y_train.shape[1]  # Assuming y_train has multiple output columns\n",
        "# model = NeuralNetwork(input_size, hidden_size1, hidden_size2, output_size).to(device)\n",
        "\n",
        "sweep_config = {\n",
        "    \"name\": \"MLP Sweep\",\n",
        "    \"method\": \"grid\",\n",
        "    \"metric\": {\"goal\": \"minimize\", \"name\": \"test loss\"},\n",
        "    \"parameters\": {\n",
        "        \"input_size\": {\"values\": [X_train.shape[1]]},\n",
        "        \"hidden_size1\": {\"values\": list(range(3,9))},\n",
        "        \"hidden_size2\": {\"values\": list(range(3,9))},\n",
        "        \"output_size\": {\"values\": [y_train.shape[1]]},\n",
        "        \"epochs\": {\"values\": [5, 10, 15]},\n",
        "        \"dropout_p\": {\"values\": [0.3, 0.5, 0.7]},\n",
        "        \"learning_rate\": {\"values\": [0.001, 0.01, 0.1]}\n",
        "    }\n",
        "}\n",
        "X_train.shape[1]"
      ]
    },
    {
      "cell_type": "code",
      "execution_count": 32,
      "metadata": {
        "id": "2sJJ7XTDjmRo",
        "outputId": "eac69603-928b-4ec9-d6de-e7af3c1f4036",
        "colab": {
          "base_uri": "https://localhost:8080/"
        }
      },
      "outputs": [
        {
          "output_type": "stream",
          "name": "stdout",
          "text": [
            "Create sweep with ID: lf84jx4x\n",
            "Sweep URL: https://wandb.ai/t0m_x/Music%20Mood%20Prediction/sweeps/lf84jx4x\n"
          ]
        }
      ],
      "source": [
        "sweep_id = wandb.sweep(sweep_config, project=\"Music Mood Prediction\")"
      ]
    },
    {
      "cell_type": "code",
      "execution_count": null,
      "metadata": {
        "id": "iDlNhkuajmRo",
        "outputId": "4f8616bd-a8a6-425d-c2ae-eb6829693fbe",
        "colab": {
          "base_uri": "https://localhost:8080/",
          "height": 354
        }
      },
      "outputs": [
        {
          "metadata": {
            "tags": null
          },
          "name": "stderr",
          "output_type": "stream",
          "text": [
            "\u001b[34m\u001b[1mwandb\u001b[0m: Agent Starting Run: l8qe4hys with config:\n",
            "\u001b[34m\u001b[1mwandb\u001b[0m: \tdropout_p: 0.3\n",
            "\u001b[34m\u001b[1mwandb\u001b[0m: \tepochs: 5\n",
            "\u001b[34m\u001b[1mwandb\u001b[0m: \thidden_size1: 3\n",
            "\u001b[34m\u001b[1mwandb\u001b[0m: \thidden_size2: 3\n",
            "\u001b[34m\u001b[1mwandb\u001b[0m: \tinput_size: 5\n",
            "\u001b[34m\u001b[1mwandb\u001b[0m: \tlearning_rate: 0.001\n",
            "\u001b[34m\u001b[1mwandb\u001b[0m: \toutput_size: 3\n",
            "\u001b[34m\u001b[1mwandb\u001b[0m: \u001b[33mWARNING\u001b[0m Ignored wandb.init() arg project when running a sweep.\n"
          ]
        },
        {
          "data": {
            "text/html": [
              "Tracking run with wandb version 0.16.6"
            ],
            "text/plain": [
              "<IPython.core.display.HTML object>"
            ]
          },
          "metadata": {},
          "output_type": "display_data"
        },
        {
          "data": {
            "text/html": [
              "Run data is saved locally in <code>/content/wandb/run-20240410_222601-l8qe4hys</code>"
            ],
            "text/plain": [
              "<IPython.core.display.HTML object>"
            ]
          },
          "metadata": {},
          "output_type": "display_data"
        },
        {
          "data": {
            "text/html": [
              "Syncing run <strong><a href='https://wandb.ai/t0m_x/Music%20Mood%20Prediction/runs/l8qe4hys' target=\"_blank\">MLP Regressor</a></strong> to <a href='https://wandb.ai/t0m_x/Music%20Mood%20Prediction' target=\"_blank\">Weights & Biases</a> (<a href='https://wandb.me/run' target=\"_blank\">docs</a>)<br/>Sweep page: <a href='https://wandb.ai/t0m_x/Music%20Mood%20Prediction/sweeps/lf84jx4x' target=\"_blank\">https://wandb.ai/t0m_x/Music%20Mood%20Prediction/sweeps/lf84jx4x</a>"
            ],
            "text/plain": [
              "<IPython.core.display.HTML object>"
            ]
          },
          "metadata": {},
          "output_type": "display_data"
        },
        {
          "data": {
            "text/html": [
              " View project at <a href='https://wandb.ai/t0m_x/Music%20Mood%20Prediction' target=\"_blank\">https://wandb.ai/t0m_x/Music%20Mood%20Prediction</a>"
            ],
            "text/plain": [
              "<IPython.core.display.HTML object>"
            ]
          },
          "metadata": {},
          "output_type": "display_data"
        },
        {
          "data": {
            "text/html": [
              " View sweep at <a href='https://wandb.ai/t0m_x/Music%20Mood%20Prediction/sweeps/lf84jx4x' target=\"_blank\">https://wandb.ai/t0m_x/Music%20Mood%20Prediction/sweeps/lf84jx4x</a>"
            ],
            "text/plain": [
              "<IPython.core.display.HTML object>"
            ]
          },
          "metadata": {},
          "output_type": "display_data"
        },
        {
          "data": {
            "text/html": [
              " View run at <a href='https://wandb.ai/t0m_x/Music%20Mood%20Prediction/runs/l8qe4hys' target=\"_blank\">https://wandb.ai/t0m_x/Music%20Mood%20Prediction/runs/l8qe4hys</a>"
            ],
            "text/plain": [
              "<IPython.core.display.HTML object>"
            ]
          },
          "metadata": {},
          "output_type": "display_data"
        },
        {
          "metadata": {
            "tags": null
          },
          "name": "stderr",
          "output_type": "stream",
          "text": [
            "/usr/local/lib/python3.10/dist-packages/torch/nn/modules/loss.py:535: UserWarning: Using a target size (torch.Size([64, 1, 3])) that is different to the input size (torch.Size([64, 3])). This will likely lead to incorrect results due to broadcasting. Please ensure they have the same size.\n",
            "  return F.mse_loss(input, target, reduction=self.reduction)\n"
          ]
        }
      ],
      "source": [
        "import torch.optim as optim\n",
        "import torch.utils\n",
        "import torch.utils.data\n",
        "\n",
        "TEST_TABLE_COLS = [\n",
        "    \"name\",\n",
        "    \"artist\",\n",
        "    \"tempo\",\n",
        "    \"key signature\",\n",
        "    \"loudness\",\n",
        "    \"time signature\",\n",
        "    \"duration (ms)\",\n",
        "    \"predicted valence\",\n",
        "    \"predicted arousal\",\n",
        "    \"predicted dominance\"\n",
        "]\n",
        "\n",
        "def train_epoch(train_loader, model, optimizer, criterion):\n",
        "    model.train()  # Set the model to training mode\n",
        "    running_loss = 0.0\n",
        "    for _, inputs, targets in train_loader:\n",
        "        inputs, targets = inputs.to(device), targets.to(device)\n",
        "        optimizer.zero_grad()\n",
        "\n",
        "        # forward pass\n",
        "        outputs = model(inputs)\n",
        "        loss = criterion(outputs, targets)\n",
        "\n",
        "        # backward pass and optimization\n",
        "        loss.backward()\n",
        "        optimizer.step()\n",
        "\n",
        "        running_loss += loss.item() * inputs.size(0)\n",
        "    return running_loss / len(train_loader.dataset)\n",
        "\n",
        "def test(test_loader: torch.utils.data.DataLoader, model: torch.nn.Module, criterion: torch.nn.Module):\n",
        "    \"\"\"record test examples and predictions in W&B table\"\"\"\n",
        "    model.eval()  # Set the model to evaluation mode\n",
        "    test_loss = 0.0\n",
        "\n",
        "    test_table = wandb.Table(columns=TEST_TABLE_COLS)\n",
        "\n",
        "    with torch.no_grad():\n",
        "        for name_artist_pairs, inputs, targets in test_loader:\n",
        "            outputs = model(inputs)\n",
        "            loss = criterion(outputs, targets)\n",
        "            test_loss += loss.item() * inputs.size(0)\n",
        "\n",
        "            # Display and log some test examples <- input and output\n",
        "            name, artist = name_artist_pairs[0][0], name_artist_pairs[1][0]\n",
        "            print(f\"{name} by {artist}\")\n",
        "            print(f'input: {inputs[0].cpu().numpy()}')\n",
        "            print(f'output: {outputs[0].cpu().numpy()}')\n",
        "            all_cells_vals = [name, artist] + inputs.tolist() + outputs.tolist()\n",
        "            test_table.add_data(*all_cells_vals)\n",
        "\n",
        "        test_loss /= len(test_loader.dataset)\n",
        "        wandb.log({\"test loss\": test_loss})\n",
        "        wandb.log({\"prediction examples\": test_table})\n",
        "        print(f'test loss: {test_loss:.4f}')\n",
        "\n",
        "        return test_loss\n",
        "\n",
        "# Build and train a model\n",
        "def pipeline(config=None, train_loader: torch.utils.data.DataLoader=train_loader) -> nn.Module:\n",
        "    # Initialize a new wandb run for this hyperparameter configuration\n",
        "    # config will be set by Sweep Controller\n",
        "    with wandb.init(project=\"Music Mood Prediction\", name=\"MLP Regressor\", config=config):\n",
        "        config = wandb.config\n",
        "\n",
        "        # build the model\n",
        "        model = NeuralNetwork(config[\"input_size\"], config[\"hidden_size1\"], config[\"hidden_size2\"], config[\"output_size\"], config[\"dropout_p\"]).to(device)\n",
        "\n",
        "        # define the loss function and the optimizer\n",
        "        criterion = nn.MSELoss()\n",
        "        optimizer = optim.Adam(model.parameters(), lr=config[\"learning_rate\"])\n",
        "\n",
        "        wandb.watch(model, criterion, log=\"all\", log_freq=10)\n",
        "\n",
        "        num_epochs = config[\"epochs\"]\n",
        "        avg_loss = 0.0\n",
        "        for epoch in range(num_epochs):\n",
        "            avg_loss = train_epoch(train_loader, model, optimizer, criterion)\n",
        "            wandb.log({\"epoch\": epoch, \"train loss\": avg_loss})\n",
        "\n",
        "        test_loss = test(test_loader, model, criterion)\n",
        "        wandb.log({\"test loss\": test_loss})\n",
        "\n",
        "        return model\n",
        "\n",
        "wandb.agent(sweep_id, function=pipeline, count=6)"
      ]
    },
    {
      "cell_type": "code",
      "execution_count": null,
      "metadata": {
        "id": "Id6lViL_jmRo"
      },
      "outputs": [],
      "source": [
        "# sweep_id = wandb.sweep(sweep_config, project=\"Music Mood Prediction\")\n",
        "# wandb.agent(sweep_id, function=pipeline)"
      ]
    },
    {
      "cell_type": "code",
      "execution_count": null,
      "metadata": {
        "id": "NMxr1690jmRo"
      },
      "outputs": [],
      "source": [
        "wandb.finish()"
      ]
    },
    {
      "cell_type": "markdown",
      "metadata": {
        "id": "FWg9vkc-L-wN"
      },
      "source": [
        "## Histogram-Based Gradient Boosted Tree\n",
        "- [scikit-learn tutorial](https://scikit-learn.org/stable/modules/ensemble.html#histogram-based-gradient-boosting)\n",
        "- [regressor API reference](https://scikit-learn.org/stable/modules/generated/sklearn.ensemble.HistGradientBoostingRegressor.html#sklearn.ensemble.HistGradientBoostingRegressor)"
      ]
    },
    {
      "cell_type": "code",
      "execution_count": null,
      "metadata": {
        "id": "DwzCXtZNjmRp"
      },
      "outputs": [],
      "source": [
        "wandb.init(\n",
        "    project=\"Music Mood Prediction\",\n",
        "    name=\"Histogram-based Gradient Boosting Regressor\"\n",
        "    )"
      ]
    },
    {
      "cell_type": "code",
      "execution_count": null,
      "metadata": {
        "id": "FTzHZBk3jmRp"
      },
      "outputs": [],
      "source": [
        "from sklearn.ensemble import HistGradientBoostingRegressor\n",
        "from sklearn.multioutput import MultiOutputRegressor\n",
        "from sklearn.model_selection import cross_validate\n",
        "\n",
        "hgbt = MultiOutputRegressor(HistGradientBoostingRegressor(random_state=0))\n",
        "regression = hgbt.fit(X_train, y_train)"
      ]
    },
    {
      "cell_type": "code",
      "execution_count": null,
      "metadata": {
        "id": "btylepqzjmRp"
      },
      "outputs": [],
      "source": [
        "r2 = regression.score(X_test, y_test)\n",
        "wandb.log({\"Coefficient of Correlation (R^2)\": r2})\n",
        "# The outliers chart only supports univariate (i.e. 1D output) regression\n",
        "# wandb.sklearn.plot_regressor(regression,\n",
        "#                             X_train, X_test,\n",
        "#                             y_train, y_test,\n",
        "#                             model_name=\"hist_gradient_boosting_regressor\")\n",
        "wandb.sklearn.plot_learning_curve(regression, X_train, y_train)\n",
        "wandb.sklearn.plot_summary_metrics(regression, X_train, y_train, X_test, y_test)"
      ]
    },
    {
      "cell_type": "code",
      "execution_count": null,
      "metadata": {
        "id": "unVoS6-BjmRq"
      },
      "outputs": [],
      "source": [
        "from sklearn.model_selection import cross_val_score, GridSearchCV, KFold\n",
        "\n",
        "param_grid = {\n",
        "    \"estimator__learning_rate\": [0.1, 0.01, 0.001],\n",
        "    # \"estimator__n_estimators\": [100, 200, 300],\n",
        "    \"estimator__max_depth\": [3, 5, 7],\n",
        "    # \"estimator__min_samples_split\": [20, 35, 50],\n",
        "    \"estimator__min_samples_leaf\": list(range(1,6))\n",
        "}\n",
        "\n",
        "cv_fold = KFold(n_splits=5, shuffle=True, random_state=42)\n",
        "grid_search = GridSearchCV(hgbt, param_grid, cv=cv_fold, n_jobs=-1, scoring=\"neg_mean_squared_error\")\n",
        "param_search_results = grid_search.fit(X_train, y_train)\n",
        "\n",
        "best_model = param_search_results.best_estimator_\n",
        "best_params = param_search_results.best_params_\n",
        "wandb.log({\"Coefficient of Correlation (R^2)\": best_model.score(X_test, y_test)})"
      ]
    },
    {
      "cell_type": "code",
      "execution_count": null,
      "metadata": {
        "id": "trERCg5NjmRq"
      },
      "outputs": [],
      "source": [
        "wandb.sklearn.plot_learning_curve(best_model, X_train, y_train)\n",
        "wandb.sklearn.plot_summary_metrics(best_model, X_train, y_train, X_test, y_test)"
      ]
    },
    {
      "cell_type": "code",
      "execution_count": null,
      "metadata": {
        "id": "a_cjW2qDjmRq"
      },
      "outputs": [],
      "source": [
        "wandb.finish()"
      ]
    },
    {
      "cell_type": "code",
      "execution_count": null,
      "metadata": {
        "id": "x2rHNCIzALuO"
      },
      "outputs": [],
      "source": []
    }
  ],
  "metadata": {
    "colab": {
      "provenance": [],
      "gpuType": "V28",
      "include_colab_link": true
    },
    "kernelspec": {
      "display_name": "Python 3",
      "name": "python3"
    },
    "language_info": {
      "codemirror_mode": {
        "name": "ipython",
        "version": 3
      },
      "file_extension": ".py",
      "mimetype": "text/x-python",
      "name": "python",
      "nbconvert_exporter": "python",
      "pygments_lexer": "ipython3",
      "version": "3.12.2"
    },
    "accelerator": "TPU"
  },
  "nbformat": 4,
  "nbformat_minor": 0
}