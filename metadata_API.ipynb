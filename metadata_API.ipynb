{
  "nbformat": 4,
  "nbformat_minor": 0,
  "metadata": {
    "colab": {
      "provenance": []
    },
    "kernelspec": {
      "name": "python3",
      "display_name": "Python 3"
    },
    "language_info": {
      "name": "python"
    }
  },
  "cells": [
    {
      "cell_type": "code",
      "execution_count": null,
      "metadata": {
        "id": "xnEJdOYZCeYE"
      },
      "outputs": [],
      "source": []
    },
    {
      "cell_type": "markdown",
      "source": [
        "Write function"
      ],
      "metadata": {
        "id": "1ozrTHQCCgOw"
      }
    },
    {
      "cell_type": "code",
      "source": [],
      "metadata": {
        "id": "X8-4BMHRCfup"
      },
      "execution_count": null,
      "outputs": []
    },
    {
      "cell_type": "code",
      "source": [
        "# import requests\n",
        "import requests\n",
        "\n",
        "def get_audio_features(track_uri):\n",
        "    access_token = #?????????????????????????????????\n",
        "\n",
        "    # spotify API endpoint for audio features\n",
        "    track_id = track_uri.split(\":\")[-1]\n",
        "    endpoint = f'https://api.spotify.com/v1/audio-features/{track_id}'\n",
        "\n",
        "    # headers with authorization\n",
        "    headers = {\n",
        "        'Authorization': f'Bearer {access_token}'\n",
        "    }\n",
        "\n",
        "    # make the API request\n",
        "    response = requests.get(endpoint, headers=headers)\n",
        "\n",
        "    # check if the request was successful (status code 200)\n",
        "    if response.status_code == 200:\n",
        "        # parse the JSON response\n",
        "        data = response.json()\n",
        "\n",
        "        # extract relevant metadata fields\n",
        "        metadata = {\n",
        "            \"tempo\": data[\"tempo\"],\n",
        "            \"key\": data[\"key\"],\n",
        "            \"time_signature\": data[\"time_signature\"]\n",
        "        }\n",
        "\n",
        "        return metadata\n",
        "\n",
        "    else:\n",
        "        # fuck\n",
        "        print(f\"error: {response.status_code} - {response.text}\")\n",
        "        return None\n",
        "\n",
        "# put the track_uri here:\n",
        "track_uri = \"spotify:track:4InLm5a9Qtkru6YxEjM4Qc\"\n",
        "result = get_audio_features(track_uri)\n",
        "\n",
        "# prit the result if it works lol\n",
        "if result:\n",
        "    print(result)"
      ],
      "metadata": {
        "colab": {
          "base_uri": "https://localhost:8080/"
        },
        "id": "x39s-BrQCfol",
        "outputId": "64bd79ec-81b2-48f6-eb2e-c99ddb906356"
      },
      "execution_count": 1,
      "outputs": [
        {
          "output_type": "stream",
          "name": "stdout",
          "text": [
            "Error: 401 - {\n",
            "  \"error\": {\n",
            "    \"status\": 401,\n",
            "    \"message\": \"Invalid access token\"\n",
            "  }\n",
            "}\n"
          ]
        }
      ]
    }
  ]
}