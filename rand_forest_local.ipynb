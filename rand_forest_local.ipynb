{
 "cells": [
  {
   "cell_type": "markdown",
   "metadata": {},
   "source": [
    "# Load data\n",
    "_Note_: tempo = bpm"
   ]
  },
  {
   "cell_type": "markdown",
   "metadata": {},
   "source": [
    "Load the V, A, D dimension values from the original MuSe dataset"
   ]
  },
  {
   "cell_type": "code",
   "execution_count": null,
   "metadata": {},
   "outputs": [],
   "source": [
    "import pandas as pd\n",
    "\n",
    "orig_dataset = pd.read_csv(\"datasets/muse_v3.csv\", nrows=5)\n",
    "orig_dataset.columns"
   ]
  },
  {
   "cell_type": "code",
   "execution_count": null,
   "metadata": {},
   "outputs": [],
   "source": [
    "import pandas as pd\n",
    "\n",
    "KEEP_COLS_MASTER = [\"name\", \"album\", \"artist\", \"release_date\", \"length\",\n",
    "             \"tempo\", \"key\", \"time_signature\",\n",
    "             \"mood\"]\n",
    "\n",
    "KEEP_COLS_MODEL = [\"name\", \"release_date\", \"length\", \"tempo\",\n",
    "                   \"key\", \"time_signature\", \"mood\"]\n",
    "\n",
    "# songs_df = pd.read_csv(\"data_moods.csv\", usecols=KEEP_COLS_MASTER)\n",
    "# make names the indices\n",
    "songs_df = pd.read_csv(\"data_moods.csv\", usecols=KEEP_COLS_MODEL, parse_dates=True, infer_datetime_format=True)\n",
    "songs_df.set_index(\"name\", inplace=True)\n",
    "songs_df"
   ]
  },
  {
   "cell_type": "markdown",
   "metadata": {},
   "source": [
    "Convert dates to numbers, specfically seconds.\n",
    "\n",
    "_Note_: This goddamn dataset only gives the year for some songs."
   ]
  },
  {
   "cell_type": "code",
   "execution_count": null,
   "metadata": {},
   "outputs": [],
   "source": [
    "print(songs_df[songs_df[\"release_date\"]==\"1993\"])\n",
    "# credit https://stackoverflow.com/a/54312941\n",
    "songs_df[\"release_date\"] = pd.to_datetime(songs_df[\"release_date\"], format=\"mixed\").astype(int)/ 10**9\n",
    "songs_df[\"release_date\"]"
   ]
  },
  {
   "cell_type": "markdown",
   "metadata": {},
   "source": [
    "Model will take data as (`X_train`,`y_train`)\n",
    "- `X_train` is a 2D NumPy array of shape `n_samples` x `n_features`, i.e. one song per row, one metadata feature per column\n",
    "- `y_train` is just convert the \"mood\" column into a 1D NumPy array"
   ]
  },
  {
   "cell_type": "code",
   "execution_count": 36,
   "metadata": {},
   "outputs": [
    {
     "data": {
      "text/plain": [
       "480.2"
      ]
     },
     "execution_count": 36,
     "metadata": {},
     "output_type": "execute_result"
    }
   ],
   "source": [
    "# How much should we take for training, testing?\n",
    "songs_df.index.size\n",
    "\n",
    "0.7 * songs_df.index.size"
   ]
  },
  {
   "cell_type": "code",
   "execution_count": 37,
   "metadata": {},
   "outputs": [],
   "source": [
    "import numpy as np\n",
    "from sklearn.model_selection import train_test_split\n",
    "\n",
    "# use a constant random state for reproducibility\n",
    "X_train, X_test, y_train, y_test = train_test_split(songs_df.drop(columns=[\"mood\"]), songs_df[[\"mood\"]],\n",
    "                                                    test_size=0.33, random_state=42)"
   ]
  },
  {
   "cell_type": "markdown",
   "metadata": {},
   "source": [
    "Make the model\n",
    "Use [a i[stogram-Based Gradient Boosted Tree Classifier.\n",
    "](https://scikit-learn.org/stable/modules/generated/sklearn.ensemble.HistGradientBoostingClassifier.html#sklearn.ensemble.HistGradientBoostingClassifier.fit)"
   ]
  },
  {
   "cell_type": "code",
   "execution_count": 61,
   "metadata": {},
   "outputs": [
    {
     "name": "stderr",
     "output_type": "stream",
     "text": [
      "/home/tom/miniconda3/envs/cmpt353/lib/python3.10/site-packages/sklearn/utils/validation.py:1229: DataConversionWarning: A column-vector y was passed when a 1d array was expected. Please change the shape of y to (n_samples, ), for example using ravel().\n",
      "  y = column_or_1d(y, warn=True)\n"
     ]
    }
   ],
   "source": [
    "from sklearn.ensemble import HistGradientBoostingClassifier\n",
    "\n",
    "hgbt = HistGradientBoostingClassifier(max_iter=90, max_bins=30)\n",
    "classification = hgbt.fit(X_train, y_train)"
   ]
  },
  {
   "cell_type": "code",
   "execution_count": 62,
   "metadata": {},
   "outputs": [
    {
     "data": {
      "text/plain": [
       "0.6519823788546255"
      ]
     },
     "execution_count": 62,
     "metadata": {},
     "output_type": "execute_result"
    }
   ],
   "source": [
    "classification.score(X_test, y_test) "
   ]
  },
  {
   "cell_type": "code",
   "execution_count": null,
   "metadata": {},
   "outputs": [],
   "source": []
  }
 ],
 "metadata": {
  "kernelspec": {
   "display_name": "cmpt353",
   "language": "python",
   "name": "python3"
  },
  "language_info": {
   "codemirror_mode": {
    "name": "ipython",
    "version": 3
   },
   "file_extension": ".py",
   "mimetype": "text/x-python",
   "name": "python",
   "nbconvert_exporter": "python",
   "pygments_lexer": "ipython3",
   "version": "3.10.13"
  }
 },
 "nbformat": 4,
 "nbformat_minor": 2
}
