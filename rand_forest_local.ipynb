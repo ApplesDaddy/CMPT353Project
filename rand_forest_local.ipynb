{
 "cells": [
  {
   "cell_type": "markdown",
   "metadata": {},
   "source": [
    "# Load data\n",
    "_Note_: tempo = bpm"
   ]
  },
  {
   "cell_type": "code",
   "execution_count": 34,
   "metadata": {},
   "outputs": [
    {
     "name": "stderr",
     "output_type": "stream",
     "text": [
      "/tmp/ipykernel_332132/3311514064.py:12: FutureWarning: The argument 'infer_datetime_format' is deprecated and will be removed in a future version. A strict version of it is now the default, see https://pandas.pydata.org/pdeps/0004-consistent-to-datetime-parsing.html. You can safely remove this argument.\n",
      "  songs_df = pd.read_csv(\"data_moods.csv\", usecols=KEEP_COLS_MODEL, parse_dates=True, infer_datetime_format=True)\n"
     ]
    },
    {
     "data": {
      "text/html": [
       "<div>\n",
       "<style scoped>\n",
       "    .dataframe tbody tr th:only-of-type {\n",
       "        vertical-align: middle;\n",
       "    }\n",
       "\n",
       "    .dataframe tbody tr th {\n",
       "        vertical-align: top;\n",
       "    }\n",
       "\n",
       "    .dataframe thead th {\n",
       "        text-align: right;\n",
       "    }\n",
       "</style>\n",
       "<table border=\"1\" class=\"dataframe\">\n",
       "  <thead>\n",
       "    <tr style=\"text-align: right;\">\n",
       "      <th></th>\n",
       "      <th>release_date</th>\n",
       "      <th>length</th>\n",
       "      <th>tempo</th>\n",
       "      <th>key</th>\n",
       "      <th>time_signature</th>\n",
       "      <th>mood</th>\n",
       "    </tr>\n",
       "    <tr>\n",
       "      <th>name</th>\n",
       "      <th></th>\n",
       "      <th></th>\n",
       "      <th></th>\n",
       "      <th></th>\n",
       "      <th></th>\n",
       "      <th></th>\n",
       "    </tr>\n",
       "  </thead>\n",
       "  <tbody>\n",
       "    <tr>\n",
       "      <th>1999</th>\n",
       "      <td>1982-10-27</td>\n",
       "      <td>379266</td>\n",
       "      <td>118.523</td>\n",
       "      <td>5</td>\n",
       "      <td>4</td>\n",
       "      <td>Happy</td>\n",
       "    </tr>\n",
       "    <tr>\n",
       "      <th>23</th>\n",
       "      <td>2007-04-16</td>\n",
       "      <td>318800</td>\n",
       "      <td>120.255</td>\n",
       "      <td>8</td>\n",
       "      <td>4</td>\n",
       "      <td>Sad</td>\n",
       "    </tr>\n",
       "    <tr>\n",
       "      <th>9 Crimes</th>\n",
       "      <td>2006-11-06</td>\n",
       "      <td>217946</td>\n",
       "      <td>136.168</td>\n",
       "      <td>0</td>\n",
       "      <td>4</td>\n",
       "      <td>Sad</td>\n",
       "    </tr>\n",
       "    <tr>\n",
       "      <th>99 Luftballons</th>\n",
       "      <td>1984-08-21</td>\n",
       "      <td>233000</td>\n",
       "      <td>193.100</td>\n",
       "      <td>4</td>\n",
       "      <td>4</td>\n",
       "      <td>Happy</td>\n",
       "    </tr>\n",
       "    <tr>\n",
       "      <th>A Boy Brushed Red Living In Black And White</th>\n",
       "      <td>2004-01-01</td>\n",
       "      <td>268000</td>\n",
       "      <td>169.881</td>\n",
       "      <td>1</td>\n",
       "      <td>4</td>\n",
       "      <td>Energetic</td>\n",
       "    </tr>\n",
       "    <tr>\n",
       "      <th>...</th>\n",
       "      <td>...</td>\n",
       "      <td>...</td>\n",
       "      <td>...</td>\n",
       "      <td>...</td>\n",
       "      <td>...</td>\n",
       "      <td>...</td>\n",
       "    </tr>\n",
       "    <tr>\n",
       "      <th>windcatcher</th>\n",
       "      <td>2020-06-19</td>\n",
       "      <td>123066</td>\n",
       "      <td>129.736</td>\n",
       "      <td>0</td>\n",
       "      <td>3</td>\n",
       "      <td>Calm</td>\n",
       "    </tr>\n",
       "    <tr>\n",
       "      <th>yellow is the color of her eyes</th>\n",
       "      <td>2019-11-19</td>\n",
       "      <td>435080</td>\n",
       "      <td>80.537</td>\n",
       "      <td>11</td>\n",
       "      <td>4</td>\n",
       "      <td>Sad</td>\n",
       "    </tr>\n",
       "    <tr>\n",
       "      <th>you broke me first</th>\n",
       "      <td>2020-04-17</td>\n",
       "      <td>169265</td>\n",
       "      <td>124.099</td>\n",
       "      <td>4</td>\n",
       "      <td>4</td>\n",
       "      <td>Sad</td>\n",
       "    </tr>\n",
       "    <tr>\n",
       "      <th>you were good to me</th>\n",
       "      <td>2019-05-03</td>\n",
       "      <td>219146</td>\n",
       "      <td>102.128</td>\n",
       "      <td>2</td>\n",
       "      <td>4</td>\n",
       "      <td>Sad</td>\n",
       "    </tr>\n",
       "    <tr>\n",
       "      <th>æfre</th>\n",
       "      <td>2020-07-17</td>\n",
       "      <td>186331</td>\n",
       "      <td>140.179</td>\n",
       "      <td>0</td>\n",
       "      <td>4</td>\n",
       "      <td>Calm</td>\n",
       "    </tr>\n",
       "  </tbody>\n",
       "</table>\n",
       "<p>686 rows × 6 columns</p>\n",
       "</div>"
      ],
      "text/plain": [
       "                                            release_date  length    tempo  \\\n",
       "name                                                                        \n",
       "1999                                          1982-10-27  379266  118.523   \n",
       "23                                            2007-04-16  318800  120.255   \n",
       "9 Crimes                                      2006-11-06  217946  136.168   \n",
       "99 Luftballons                                1984-08-21  233000  193.100   \n",
       "A Boy Brushed Red Living In Black And White   2004-01-01  268000  169.881   \n",
       "...                                                  ...     ...      ...   \n",
       "windcatcher                                   2020-06-19  123066  129.736   \n",
       "yellow is the color of her eyes               2019-11-19  435080   80.537   \n",
       "you broke me first                            2020-04-17  169265  124.099   \n",
       "you were good to me                           2019-05-03  219146  102.128   \n",
       "æfre                                          2020-07-17  186331  140.179   \n",
       "\n",
       "                                             key  time_signature       mood  \n",
       "name                                                                         \n",
       "1999                                           5               4      Happy  \n",
       "23                                             8               4        Sad  \n",
       "9 Crimes                                       0               4        Sad  \n",
       "99 Luftballons                                 4               4      Happy  \n",
       "A Boy Brushed Red Living In Black And White    1               4  Energetic  \n",
       "...                                          ...             ...        ...  \n",
       "windcatcher                                    0               3       Calm  \n",
       "yellow is the color of her eyes               11               4        Sad  \n",
       "you broke me first                             4               4        Sad  \n",
       "you were good to me                            2               4        Sad  \n",
       "æfre                                           0               4       Calm  \n",
       "\n",
       "[686 rows x 6 columns]"
      ]
     },
     "execution_count": 34,
     "metadata": {},
     "output_type": "execute_result"
    }
   ],
   "source": [
    "import pandas as pd\n",
    "\n",
    "KEEP_COLS_MASTER = [\"name\", \"album\", \"artist\", \"release_date\", \"length\",\n",
    "             \"tempo\", \"key\", \"time_signature\",\n",
    "             \"mood\"]\n",
    "\n",
    "KEEP_COLS_MODEL = [\"name\", \"release_date\", \"length\", \"tempo\",\n",
    "                   \"key\", \"time_signature\", \"mood\"]\n",
    "\n",
    "# songs_df = pd.read_csv(\"data_moods.csv\", usecols=KEEP_COLS_MASTER)\n",
    "# make names the indices\n",
    "songs_df = pd.read_csv(\"data_moods.csv\", usecols=KEEP_COLS_MODEL, parse_dates=True, infer_datetime_format=True)\n",
    "songs_df.set_index(\"name\", inplace=True)\n",
    "songs_df"
   ]
  },
  {
   "cell_type": "markdown",
   "metadata": {},
   "source": [
    "Convert dates to numbers, specfically seconds.\n",
    "\n",
    "_Note_: This goddamn dataset only gives the year for some songs."
   ]
  },
  {
   "cell_type": "code",
   "execution_count": 35,
   "metadata": {},
   "outputs": [
    {
     "name": "stdout",
     "output_type": "stream",
     "text": [
      "       release_date  length    tempo  key  time_signature mood\n",
      "name                                                          \n",
      "Alison         1993  231893  101.571    4               4  Sad\n"
     ]
    },
    {
     "data": {
      "text/plain": [
       "name\n",
       "1999                                           4.045248e+08\n",
       "23                                             1.176682e+09\n",
       "9 Crimes                                       1.162771e+09\n",
       "99 Luftballons                                 4.618944e+08\n",
       "A Boy Brushed Red Living In Black And White    1.072915e+09\n",
       "                                                   ...     \n",
       "windcatcher                                    1.592525e+09\n",
       "yellow is the color of her eyes                1.574122e+09\n",
       "you broke me first                             1.587082e+09\n",
       "you were good to me                            1.556842e+09\n",
       "æfre                                           1.594944e+09\n",
       "Name: release_date, Length: 686, dtype: float64"
      ]
     },
     "execution_count": 35,
     "metadata": {},
     "output_type": "execute_result"
    }
   ],
   "source": [
    "print(songs_df[songs_df[\"release_date\"]==\"1993\"])\n",
    "# credit https://stackoverflow.com/a/54312941\n",
    "songs_df[\"release_date\"] = pd.to_datetime(songs_df[\"release_date\"], format=\"mixed\").astype(int)/ 10**9\n",
    "songs_df[\"release_date\"]"
   ]
  },
  {
   "cell_type": "markdown",
   "metadata": {},
   "source": [
    "Model will take data as (`X_train`,`y_train`)\n",
    "- `X_train` is a 2D NumPy array of shape `n_samples` x `n_features`, i.e. one song per row, one metadata feature per column\n",
    "- `y_train` is just convert the \"mood\" column into a 1D NumPy array"
   ]
  },
  {
   "cell_type": "code",
   "execution_count": 36,
   "metadata": {},
   "outputs": [
    {
     "data": {
      "text/plain": [
       "480.2"
      ]
     },
     "execution_count": 36,
     "metadata": {},
     "output_type": "execute_result"
    }
   ],
   "source": [
    "# How much should we take for training, testing?\n",
    "songs_df.index.size\n",
    "\n",
    "0.7 * songs_df.index.size"
   ]
  },
  {
   "cell_type": "code",
   "execution_count": 37,
   "metadata": {},
   "outputs": [],
   "source": [
    "import numpy as np\n",
    "from sklearn.model_selection import train_test_split\n",
    "\n",
    "# use a constant random state for reproducibility\n",
    "X_train, X_test, y_train, y_test = train_test_split(songs_df.drop(columns=[\"mood\"]), songs_df[[\"mood\"]],\n",
    "                                                    test_size=0.33, random_state=42)"
   ]
  },
  {
   "cell_type": "markdown",
   "metadata": {},
   "source": [
    "Make the model\n",
    "Use [a i[stogram-Based Gradient Boosted Tree Classifier.\n",
    "](https://scikit-learn.org/stable/modules/generated/sklearn.ensemble.HistGradientBoostingClassifier.html#sklearn.ensemble.HistGradientBoostingClassifier.fit)"
   ]
  },
  {
   "cell_type": "code",
   "execution_count": 61,
   "metadata": {},
   "outputs": [
    {
     "name": "stderr",
     "output_type": "stream",
     "text": [
      "/home/tom/miniconda3/envs/cmpt353/lib/python3.10/site-packages/sklearn/utils/validation.py:1229: DataConversionWarning: A column-vector y was passed when a 1d array was expected. Please change the shape of y to (n_samples, ), for example using ravel().\n",
      "  y = column_or_1d(y, warn=True)\n"
     ]
    }
   ],
   "source": [
    "from sklearn.ensemble import HistGradientBoostingClassifier\n",
    "\n",
    "hgbt = HistGradientBoostingClassifier(max_iter=90, max_bins=30)\n",
    "classification = hgbt.fit(X_train, y_train)"
   ]
  },
  {
   "cell_type": "code",
   "execution_count": 62,
   "metadata": {},
   "outputs": [
    {
     "data": {
      "text/plain": [
       "0.6519823788546255"
      ]
     },
     "execution_count": 62,
     "metadata": {},
     "output_type": "execute_result"
    }
   ],
   "source": [
    "classification.score(X_test, y_test) "
   ]
  },
  {
   "cell_type": "code",
   "execution_count": null,
   "metadata": {},
   "outputs": [],
   "source": []
  }
 ],
 "metadata": {
  "kernelspec": {
   "display_name": "cmpt353",
   "language": "python",
   "name": "python3"
  },
  "language_info": {
   "codemirror_mode": {
    "name": "ipython",
    "version": 3
   },
   "file_extension": ".py",
   "mimetype": "text/x-python",
   "name": "python",
   "nbconvert_exporter": "python",
   "pygments_lexer": "ipython3",
   "version": "3.10.13"
  }
 },
 "nbformat": 4,
 "nbformat_minor": 2
}
