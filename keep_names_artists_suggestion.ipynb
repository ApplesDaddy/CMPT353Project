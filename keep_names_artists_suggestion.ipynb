{
 "cells": [
  {
   "cell_type": "markdown",
   "metadata": {},
   "source": [
    "\\\\/ _Credit_: GitHub Copilot \\\\/\n",
    "---"
   ]
  },
  {
   "cell_type": "markdown",
   "metadata": {},
   "source": [
    "To use DataLoader while being able to identify examples by non-training features like \"name\", you can modify your Dataset to include these identifying attributes. \n",
    "\n",
    "Here's the pseudocode:\n",
    "\n",
    "1. Convert your data (features, labels, and identifying attributes) into PyTorch tensors (or lists, in the case of non-numeric identifying attributes).\n",
    "2. Create a custom Dataset that returns a tuple (features, label, identifying attributes) for each example.\n",
    "3. Create a DataLoader from your custom Dataset.\n",
    "\n",
    "Here's how you can do it in Python:\n",
    "\n"
   ]
  },
  {
   "cell_type": "code",
   "execution_count": null,
   "metadata": {},
   "outputs": [],
   "source": [
    "from torch.utils.data import Dataset, DataLoader\n",
    "\n",
    "class CustomDataset(Dataset):\n",
    "    def __init__(self, features, labels, names):\n",
    "        self.features = features\n",
    "        self.labels = labels\n",
    "        self.names = names\n",
    "\n",
    "    def __len__(self):\n",
    "        return len(self.labels)\n",
    "\n",
    "    def __getitem__(self, idx):\n",
    "        return self.features[idx], self.labels[idx], self.names[idx]\n",
    "\n",
    "# Assuming X_train, y_train, names_train are your training data and names\n",
    "# Convert your data into PyTorch tensors\n",
    "X_train_tensor = torch.tensor(X_train.values, dtype=torch.float32)\n",
    "y_train_tensor = torch.tensor(y_train.values, dtype=torch.float32)\n",
    "\n",
    "# Create a custom Dataset from your tensors\n",
    "train_dataset = CustomDataset(X_train_tensor, y_train_tensor, names_train)\n",
    "\n",
    "# Create a DataLoader from your custom Dataset\n",
    "batch_size = 32\n",
    "train_dataloader = DataLoader(train_dataset, batch_size=batch_size, shuffle=True)"
   ]
  },
  {
   "cell_type": "markdown",
   "metadata": {},
   "source": [
    "\n",
    "\n",
    "Now, in your training loop, you can get the identifying attributes for each batch like this:\n",
    "\n"
   ]
  },
  {
   "cell_type": "code",
   "execution_count": null,
   "metadata": {},
   "outputs": [],
   "source": [
    "for batch in train_dataloader:\n",
    "    features, labels, names = batch\n",
    "    # Now you can use features and labels for training, and names for identification"
   ]
  },
  {
   "cell_type": "markdown",
   "metadata": {},
   "source": [
    "\n",
    "\n",
    "Please note that this approach assumes that `names_train` is a list of strings. If your identifying attributes are numeric and you want to convert them to tensors, you can do so in the same way as `X_train` and `y_train`."
   ]
  }
 ],
 "metadata": {
  "language_info": {
   "name": "python"
  }
 },
 "nbformat": 4,
 "nbformat_minor": 2
}
